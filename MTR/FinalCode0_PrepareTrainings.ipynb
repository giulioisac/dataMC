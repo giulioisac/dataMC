{
 "cells": [
  {
   "cell_type": "code",
   "execution_count": 1,
   "metadata": {
    "collapsed": false
   },
   "outputs": [
    {
     "data": {
      "application/javascript": [
       "require(['codemirror/mode/clike/clike'], function(Clike) { console.log('ROOTaaS - C++ CodeMirror module loaded'); });"
      ]
     },
     "metadata": {},
     "output_type": "display_data"
    },
    {
     "data": {
      "application/javascript": [
       "IPython.CodeCell.config_defaults.highlight_modes['magic_text/x-c++src'] = {'reg':[/^%%cpp/]};"
      ]
     },
     "metadata": {},
     "output_type": "display_data"
    },
    {
     "name": "stdout",
     "output_type": "stream",
     "text": [
      "Welcome to ROOTaaS 6.06/08\n"
     ]
    }
   ],
   "source": [
    "from quantileRegression import quantileRegression\n",
    "import numpy as np\n",
    "import runNumbers as rn\n",
    "import Plotting as plot\n",
    "import matplotlib.pyplot as plt\n",
    "%matplotlib inline\n",
    "# %matplotlib notebook\n",
    "plt.style.use('ggplot')"
   ]
  },
  {
   "cell_type": "code",
   "execution_count": null,
   "metadata": {
    "collapsed": true
   },
   "outputs": [],
   "source": [
    "\n",
    "#---------------------------------------------------------------------\n",
    "#Prepare dataframes for the training.\n",
    "#---------------------------------------------------------------------\n"
   ]
  },
  {
   "cell_type": "code",
   "execution_count": null,
   "metadata": {
    "collapsed": false
   },
   "outputs": [
    {
     "name": "stdout",
     "output_type": "stream",
     "text": [
      "Load the mc dataframe\n",
      "Load the mc dataframe\n",
      "NT branches: \n",
      "Adding trees into a DataFrame\n",
      "  adding  cicNoSigmaIetaIeta/trees/DYJetsToLL_13TeV_EBHighR9\n",
      "  adding  cicNoSigmaIetaIeta/trees/DYJetsToLL_13TeV_EBLowR9\n",
      "  adding  cicNoSigmaIetaIeta/trees/DYJetsToLL_13TeV_EEHighR9\n",
      "  adding  cicNoSigmaIetaIeta/trees/DYJetsToLL_13TeV_EELowR9\n"
     ]
    }
   ],
   "source": [
    "# Upload Dataframes:\n",
    "qr_mc= quantileRegression(\"mc\")\n",
    "print \"Load the mc dataframe\"\n",
    "startEvtmc = 0\n",
    "stopEvtmc   = 2000000\n",
    "print \"Load the mc dataframe\"\n",
    "qr_mc.loadDF(\"/mnt/t3nfs01/data01/shome/mdonega/lxplus/work/CMSSW_8_0_26_patch1/src/diphotons/Analysis/macros/double_ele_v9_moriond17_mc/\",\n",
    "             \"cicNoSigmaIetaIeta/trees/\",\n",
    "             [\"DYJetsToLL_13TeV_EBHighR9\", \"DYJetsToLL_13TeV_EBLowR9\", \"DYJetsToLL_13TeV_EEHighR9\", \"DYJetsToLL_13TeV_EELowR9\" ],\n",
    "             startEvtmc, stopEvtmc, 12345)\n",
    "#-------------------------------------------------------------\n",
    "qr_data = quantileRegression(\"data\")\n",
    "startEvtdata = 0\n",
    "stopEvtdata   = 2000000\n",
    "print \"Load the data dataframe\"\n",
    "qr_data.loadDF(\" /mnt/t3nfs01/data01/shome/mdonega/lxplus/work/CMSSW_8_0_26_patch1/src/diphotons/Analysis/macros/double_ele_v9_moriond17_data/\",\n",
    "               \"cicNoSigmaIetaIeta/trees/\",\n",
    "               [\"Data_13TeV_EBHighR9\", \"Data_13TeV_EBLowR9\", \"Data_13TeV_EEHighR9\", \"Data_13TeV_EELowR9\" ],\n",
    "               startEvtdata, stopEvtdata, rn.run2016G[0],rn.run2016G[1])\n",
    "dfdata = qr_data.getDF()\n",
    "dfmc = qr_mc.getDF()"
   ]
  },
  {
   "cell_type": "code",
   "execution_count": null,
   "metadata": {
    "collapsed": false
   },
   "outputs": [],
   "source": [
    "rv=np.arange(0,40,0.5)\n",
    "fig = plt.figure()\n",
    "ax = fig.add_subplot(111)\n",
    "ax.set_xlabel(\"Rho\")\n",
    "#plot histograms\n",
    "plot.plotHistErr(dfdata.loc[:,\"rho\"], rv,Color=\"g\")\n",
    "plot.plotHistErr(dfmc.loc[:,\"rho\"], rv,Color=\"b\",Weight=dfmc[\"weight\"])\n",
    "ax.set_title(\"Rho\")"
   ]
  },
  {
   "cell_type": "code",
   "execution_count": null,
   "metadata": {
    "collapsed": false
   },
   "outputs": [],
   "source": [
    "#so the pileup is different for every run, let's do the ratio first:\n",
    "fig = plt.figure()\n",
    "ax = fig.add_subplot(111)\n",
    "ax.set_xlabel(\"Ratio_rho\")\n",
    "\n",
    "#Do the Ratio wrt the last \n",
    "plot.plotHistRatio(dfdata.loc[:,\"rho\"],dfmc.loc[:,\"rho\"],rv, Color=\"r\",Weight2=dfmc[\"weight\"])\n",
    "ratiomc,edge,ratiomcErr= plot.getHistRatio(dfdata.loc[:,\"rho\"], dfmc.loc[:,\"rho\"],rv, Weight2=dfmc[\"weight\"])\n",
    "\n",
    "#ax.set_ylim([0,5])\n",
    "\n",
    "ax.set_title('ratio')"
   ]
  },
  {
   "cell_type": "code",
   "execution_count": null,
   "metadata": {
    "collapsed": false
   },
   "outputs": [],
   "source": [
    "import pandas as pd\n",
    "#find corrected value of correction:\n",
    "dfmc['bin'] = np.digitize(dfmc['rho'],edge)\n",
    "dfmc[\"corr\"]= ratiomc[dfmc['bin'].values-1]\n",
    "dfmc[\"weight\"]=dfmc[\"weight\"]*dfmc[\"corr\"]"
   ]
  },
  {
   "cell_type": "code",
   "execution_count": null,
   "metadata": {
    "collapsed": false
   },
   "outputs": [],
   "source": [
    "#Check if now Rho Match\n",
    "rv=np.arange(0,40,0.5)\n",
    "fig = plt.figure()\n",
    "ax = fig.add_subplot(111)\n",
    "ax.set_xlabel(\"Rho\")\n",
    "plot.plotHistErr(dfmc.loc[:,\"rho\"], rv,Color=\"b\", Weight=dfmc[\"weight\"])\n",
    "\n",
    "plot.plotHistErr(dfdata.loc[:,\"rho\"], rv,Color=\"g\",Weight=dfdata[\"weight\"])\n",
    "ax.set_title(\"Rho\")"
   ]
  },
  {
   "cell_type": "code",
   "execution_count": null,
   "metadata": {
    "collapsed": false,
    "scrolled": false
   },
   "outputs": [],
   "source": [
    "#Check That R9 is still different\n",
    "rv2 = np.arange(0.9,1.0,0.001)\n",
    "fig = plt.figure()\n",
    "ax = fig.add_subplot(111)\n",
    "ax.set_xlabel(\"R9\")\n",
    "plot.plotHistErr(dfdata.loc[:,\"R9\"], rv2,Color=\"r\",Weight=dfdata[\"weight\"])\n",
    "plot.plotHistErr(dfmc.loc[:,\"R9\"], rv2,Color=\"b\",Weight=dfmc[\"weight\"])\n",
    "ax.set_title('R9')"
   ]
  },
  {
   "cell_type": "code",
   "execution_count": null,
   "metadata": {
    "collapsed": true
   },
   "outputs": [],
   "source": [
    "#set run_period on data given \n",
    "dfdata[\"runperiod\"]=np.ones(len(dfdata.index))*4\n",
    "dfmc[\"runperiod\"]=np.ones(len(dfmc.index))*4"
   ]
  },
  {
   "cell_type": "code",
   "execution_count": null,
   "metadata": {
    "collapsed": false
   },
   "outputs": [],
   "source": [
    "import pandas as pd\n",
    "#save the new montecarlo and the data in a h5 file:\n",
    "dfname =  'df_mc_4.h5'\n",
    "hdf = pd.HDFStore(dfname)\n",
    "hdf.put('df', dfmc)\n",
    "hdf.close()\n",
    "\n",
    "dfname =  'df_data_4.h5'\n",
    "hdf = pd.HDFStore(dfname)\n",
    "hdf.put('df', dfdata)\n",
    "hdf.close()\n"
   ]
  },
  {
   "cell_type": "code",
   "execution_count": null,
   "metadata": {
    "collapsed": true
   },
   "outputs": [],
   "source": []
  }
 ],
 "metadata": {
  "anaconda-cloud": {},
  "kernelspec": {
   "display_name": "Python [default]",
   "language": "python",
   "name": "python2"
  },
  "language_info": {
   "codemirror_mode": {
    "name": "ipython",
    "version": 2
   },
   "file_extension": ".py",
   "mimetype": "text/x-python",
   "name": "python",
   "nbconvert_exporter": "python",
   "pygments_lexer": "ipython2",
   "version": "2.7.12"
  }
 },
 "nbformat": 4,
 "nbformat_minor": 0
}
