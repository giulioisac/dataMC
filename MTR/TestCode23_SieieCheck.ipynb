{
 "cells": [
  {
   "cell_type": "code",
   "execution_count": 1,
   "metadata": {
    "collapsed": false
   },
   "outputs": [
    {
     "data": {
      "application/javascript": [
       "require(['codemirror/mode/clike/clike'], function(Clike) { console.log('ROOTaaS - C++ CodeMirror module loaded'); });"
      ]
     },
     "metadata": {},
     "output_type": "display_data"
    },
    {
     "data": {
      "application/javascript": [
       "IPython.CodeCell.config_defaults.highlight_modes['magic_text/x-c++src'] = {'reg':[/^%%cpp/]};"
      ]
     },
     "metadata": {},
     "output_type": "display_data"
    },
    {
     "name": "stdout",
     "output_type": "stream",
     "text": [
      "Welcome to ROOTaaS 6.06/08\n"
     ]
    }
   ],
   "source": [
    "from quantileRegression import quantileRegression\n",
    "import numpy as np\n",
    "import runNumbers as rn\n",
    "import Plotting as plot\n",
    "import matplotlib.pyplot as plt\n",
    "%matplotlib inline\n",
    "import pandas as pd\n",
    "from pandas import Series, DataFrame\n",
    "# %matplotlib notebook\n",
    "plt.style.use('ggplot')"
   ]
  },
  {
   "cell_type": "code",
   "execution_count": 2,
   "metadata": {
    "collapsed": true
   },
   "outputs": [],
   "source": [
    "\n",
    "#---------------------------------------------------------------------\n",
    "#TEST USING QUANTILE REGRESSION ON EB/EE DATA SEPARATELY AND UNIFIED AFTERWARDS, WITH AND WITHOUT WEIGHTS\n",
    "#---------------------------------------------------------------------\n"
   ]
  },
  {
   "cell_type": "code",
   "execution_count": 3,
   "metadata": {
    "collapsed": false
   },
   "outputs": [],
   "source": [
    "# Variable you want to correct\n",
    "ylist = [\"R9\", \"S4\", \"SigmaIeIe\"]#, \"EtaWidth\", \"PhiWidth\", \"CovarianceIphiIphi\",'CovarianceIetaIphi']#, \"SigmaRR\", 'PhoIso03', 'ChIso03', 'ChIso03worst']\n",
    "# Input variables used for the regression\n",
    "X = ['Pt', 'ScEta', 'Phi', 'rho']  # <<-- list\n",
    "# Set the quantiles \n",
    "quantiles = [ 0.1, 0.2, 0.3, 0.4, 0.5, 0.6, 0.7, 0.8, 0.9 ]"
   ]
  },
  {
   "cell_type": "code",
   "execution_count": 4,
   "metadata": {
    "collapsed": false
   },
   "outputs": [
    {
     "name": "stdout",
     "output_type": "stream",
     "text": [
      "Loading dataframe from :  /mnt/t3nfs01/data01/shome/giulioisac/dataMC/MTR/df_mc_v2.h5\n"
     ]
    },
    {
     "ename": "KeyboardInterrupt",
     "evalue": "",
     "output_type": "error",
     "traceback": [
      "\u001b[0;31m\u001b[0m",
      "\u001b[0;31mKeyboardInterrupt\u001b[0mTraceback (most recent call last)",
      "\u001b[0;32m<ipython-input-4-962526ba172f>\u001b[0m in \u001b[0;36m<module>\u001b[0;34m()\u001b[0m\n\u001b[1;32m      4\u001b[0m \u001b[0mqr_mc2\u001b[0m\u001b[0;34m=\u001b[0m \u001b[0mquantileRegression\u001b[0m\u001b[0;34m(\u001b[0m\u001b[0;34m\"mc\"\u001b[0m\u001b[0;34m)\u001b[0m\u001b[0;34m\u001b[0m\u001b[0m\n\u001b[1;32m      5\u001b[0m \u001b[0mqr_data\u001b[0m\u001b[0;34m=\u001b[0m \u001b[0mquantileRegression\u001b[0m\u001b[0;34m(\u001b[0m\u001b[0;34m\"data\"\u001b[0m\u001b[0;34m)\u001b[0m\u001b[0;34m\u001b[0m\u001b[0m\n\u001b[0;32m----> 6\u001b[0;31m \u001b[0mqr_mc1\u001b[0m\u001b[0;34m.\u001b[0m\u001b[0mloadDFh5\u001b[0m\u001b[0;34m(\u001b[0m\u001b[0;34m\"/mnt/t3nfs01/data01/shome/giulioisac/dataMC/MTR/df_mc_v2.h5\"\u001b[0m\u001b[0;34m,\u001b[0m \u001b[0;36m0\u001b[0m\u001b[0;34m,\u001b[0m \u001b[0;34m-\u001b[0m\u001b[0;36m1\u001b[0m\u001b[0;34m)\u001b[0m\u001b[0;34m\u001b[0m\u001b[0m\n\u001b[0m\u001b[1;32m      7\u001b[0m \u001b[0mqr_mc2\u001b[0m\u001b[0;34m.\u001b[0m\u001b[0mloadDFh5\u001b[0m\u001b[0;34m(\u001b[0m\u001b[0;34m\"/mnt/t3nfs01/data01/shome/giulioisac/dataMC/MTR/df_mc_v2.h5\"\u001b[0m\u001b[0;34m,\u001b[0m \u001b[0;36m0\u001b[0m\u001b[0;34m,\u001b[0m \u001b[0;34m-\u001b[0m\u001b[0;36m1\u001b[0m\u001b[0;34m)\u001b[0m\u001b[0;34m\u001b[0m\u001b[0m\n\u001b[1;32m      8\u001b[0m \u001b[0mqr_data\u001b[0m\u001b[0;34m.\u001b[0m\u001b[0mloadDFh5\u001b[0m\u001b[0;34m(\u001b[0m\u001b[0;34m\"/mnt/t3nfs01/data01/shome/giulioisac/dataMC/MTR/df_data_v2.h5\"\u001b[0m\u001b[0;34m,\u001b[0m \u001b[0;36m0\u001b[0m\u001b[0;34m,\u001b[0m \u001b[0;34m-\u001b[0m\u001b[0;36m1\u001b[0m\u001b[0;34m)\u001b[0m\u001b[0;34m\u001b[0m\u001b[0m\n",
      "\u001b[0;32m/mnt/t3nfs01/data01/shome/giulioisac/dataMC/MTR/quantileRegression.pyc\u001b[0m in \u001b[0;36mloadDFh5\u001b[0;34m(self, h5name, start, stop)\u001b[0m\n\u001b[1;32m    623\u001b[0m       \u001b[0;32mif\u001b[0m \u001b[0mos\u001b[0m\u001b[0;34m.\u001b[0m\u001b[0mpath\u001b[0m\u001b[0;34m.\u001b[0m\u001b[0mexists\u001b[0m\u001b[0;34m(\u001b[0m\u001b[0mh5name\u001b[0m\u001b[0;34m)\u001b[0m\u001b[0;34m:\u001b[0m\u001b[0;34m\u001b[0m\u001b[0m\n\u001b[1;32m    624\u001b[0m          \u001b[0;32mprint\u001b[0m \u001b[0;34m'Loading dataframe from : '\u001b[0m\u001b[0;34m,\u001b[0m \u001b[0mh5name\u001b[0m\u001b[0;34m\u001b[0m\u001b[0m\n\u001b[0;32m--> 625\u001b[0;31m          \u001b[0mdf\u001b[0m \u001b[0;34m=\u001b[0m \u001b[0mpd\u001b[0m\u001b[0;34m.\u001b[0m\u001b[0mread_hdf\u001b[0m\u001b[0;34m(\u001b[0m\u001b[0mh5name\u001b[0m\u001b[0;34m,\u001b[0m \u001b[0;34m'df'\u001b[0m\u001b[0;34m)\u001b[0m\u001b[0;34m\u001b[0m\u001b[0m\n\u001b[0m\u001b[1;32m    626\u001b[0m       \u001b[0;32melse\u001b[0m\u001b[0;34m:\u001b[0m\u001b[0;34m\u001b[0m\u001b[0m\n\u001b[1;32m    627\u001b[0m          \u001b[0;32mprint\u001b[0m \u001b[0;34m\"The h5 file \"\u001b[0m\u001b[0;34m,\u001b[0m \u001b[0mh5name\u001b[0m\u001b[0;34m,\u001b[0m \u001b[0;34m\" does not exist\"\u001b[0m\u001b[0;34m\u001b[0m\u001b[0m\n",
      "\u001b[0;32m/swshare/anaconda/lib/python2.7/site-packages/pandas/io/pytables.py\u001b[0m in \u001b[0;36mread_hdf\u001b[0;34m(path_or_buf, key, **kwargs)\u001b[0m\n\u001b[1;32m    328\u001b[0m                                  'multiple datasets.')\n\u001b[1;32m    329\u001b[0m             \u001b[0mkey\u001b[0m \u001b[0;34m=\u001b[0m \u001b[0mkeys\u001b[0m\u001b[0;34m[\u001b[0m\u001b[0;36m0\u001b[0m\u001b[0;34m]\u001b[0m\u001b[0;34m\u001b[0m\u001b[0m\n\u001b[0;32m--> 330\u001b[0;31m         \u001b[0;32mreturn\u001b[0m \u001b[0mstore\u001b[0m\u001b[0;34m.\u001b[0m\u001b[0mselect\u001b[0m\u001b[0;34m(\u001b[0m\u001b[0mkey\u001b[0m\u001b[0;34m,\u001b[0m \u001b[0mauto_close\u001b[0m\u001b[0;34m=\u001b[0m\u001b[0mauto_close\u001b[0m\u001b[0;34m,\u001b[0m \u001b[0;34m**\u001b[0m\u001b[0mkwargs\u001b[0m\u001b[0;34m)\u001b[0m\u001b[0;34m\u001b[0m\u001b[0m\n\u001b[0m\u001b[1;32m    331\u001b[0m     \u001b[0;32mexcept\u001b[0m\u001b[0;34m:\u001b[0m\u001b[0;34m\u001b[0m\u001b[0m\n\u001b[1;32m    332\u001b[0m         \u001b[0;31m# if there is an error, close the store\u001b[0m\u001b[0;34m\u001b[0m\u001b[0;34m\u001b[0m\u001b[0m\n",
      "\u001b[0;32m/swshare/anaconda/lib/python2.7/site-packages/pandas/io/pytables.py\u001b[0m in \u001b[0;36mselect\u001b[0;34m(self, key, where, start, stop, columns, iterator, chunksize, auto_close, **kwargs)\u001b[0m\n\u001b[1;32m    678\u001b[0m                            chunksize=chunksize, auto_close=auto_close)\n\u001b[1;32m    679\u001b[0m \u001b[0;34m\u001b[0m\u001b[0m\n\u001b[0;32m--> 680\u001b[0;31m         \u001b[0;32mreturn\u001b[0m \u001b[0mit\u001b[0m\u001b[0;34m.\u001b[0m\u001b[0mget_result\u001b[0m\u001b[0;34m(\u001b[0m\u001b[0;34m)\u001b[0m\u001b[0;34m\u001b[0m\u001b[0m\n\u001b[0m\u001b[1;32m    681\u001b[0m \u001b[0;34m\u001b[0m\u001b[0m\n\u001b[1;32m    682\u001b[0m     def select_as_coordinates(\n",
      "\u001b[0;32m/swshare/anaconda/lib/python2.7/site-packages/pandas/io/pytables.py\u001b[0m in \u001b[0;36mget_result\u001b[0;34m(self, coordinates)\u001b[0m\n\u001b[1;32m   1362\u001b[0m \u001b[0;34m\u001b[0m\u001b[0m\n\u001b[1;32m   1363\u001b[0m         \u001b[0;31m# directly return the result\u001b[0m\u001b[0;34m\u001b[0m\u001b[0;34m\u001b[0m\u001b[0m\n\u001b[0;32m-> 1364\u001b[0;31m         \u001b[0mresults\u001b[0m \u001b[0;34m=\u001b[0m \u001b[0mself\u001b[0m\u001b[0;34m.\u001b[0m\u001b[0mfunc\u001b[0m\u001b[0;34m(\u001b[0m\u001b[0mself\u001b[0m\u001b[0;34m.\u001b[0m\u001b[0mstart\u001b[0m\u001b[0;34m,\u001b[0m \u001b[0mself\u001b[0m\u001b[0;34m.\u001b[0m\u001b[0mstop\u001b[0m\u001b[0;34m,\u001b[0m \u001b[0mwhere\u001b[0m\u001b[0;34m)\u001b[0m\u001b[0;34m\u001b[0m\u001b[0m\n\u001b[0m\u001b[1;32m   1365\u001b[0m         \u001b[0mself\u001b[0m\u001b[0;34m.\u001b[0m\u001b[0mclose\u001b[0m\u001b[0;34m(\u001b[0m\u001b[0;34m)\u001b[0m\u001b[0;34m\u001b[0m\u001b[0m\n\u001b[1;32m   1366\u001b[0m         \u001b[0;32mreturn\u001b[0m \u001b[0mresults\u001b[0m\u001b[0;34m\u001b[0m\u001b[0m\n",
      "\u001b[0;32m/swshare/anaconda/lib/python2.7/site-packages/pandas/io/pytables.py\u001b[0m in \u001b[0;36mfunc\u001b[0;34m(_start, _stop, _where)\u001b[0m\n\u001b[1;32m    671\u001b[0m             return s.read(start=_start, stop=_stop,\n\u001b[1;32m    672\u001b[0m                           \u001b[0mwhere\u001b[0m\u001b[0;34m=\u001b[0m\u001b[0m_where\u001b[0m\u001b[0;34m,\u001b[0m\u001b[0;34m\u001b[0m\u001b[0m\n\u001b[0;32m--> 673\u001b[0;31m                           columns=columns, **kwargs)\n\u001b[0m\u001b[1;32m    674\u001b[0m \u001b[0;34m\u001b[0m\u001b[0m\n\u001b[1;32m    675\u001b[0m         \u001b[0;31m# create the iterator\u001b[0m\u001b[0;34m\u001b[0m\u001b[0;34m\u001b[0m\u001b[0m\n",
      "\u001b[0;32m/swshare/anaconda/lib/python2.7/site-packages/pandas/io/pytables.py\u001b[0m in \u001b[0;36mread\u001b[0;34m(self, **kwargs)\u001b[0m\n\u001b[1;32m   2777\u001b[0m         \u001b[0maxes\u001b[0m \u001b[0;34m=\u001b[0m \u001b[0;34m[\u001b[0m\u001b[0;34m]\u001b[0m\u001b[0;34m\u001b[0m\u001b[0m\n\u001b[1;32m   2778\u001b[0m         \u001b[0;32mfor\u001b[0m \u001b[0mi\u001b[0m \u001b[0;32min\u001b[0m \u001b[0mrange\u001b[0m\u001b[0;34m(\u001b[0m\u001b[0mself\u001b[0m\u001b[0;34m.\u001b[0m\u001b[0mndim\u001b[0m\u001b[0;34m)\u001b[0m\u001b[0;34m:\u001b[0m\u001b[0;34m\u001b[0m\u001b[0m\n\u001b[0;32m-> 2779\u001b[0;31m             \u001b[0max\u001b[0m \u001b[0;34m=\u001b[0m \u001b[0mself\u001b[0m\u001b[0;34m.\u001b[0m\u001b[0mread_index\u001b[0m\u001b[0;34m(\u001b[0m\u001b[0;34m'axis%d'\u001b[0m \u001b[0;34m%\u001b[0m \u001b[0mi\u001b[0m\u001b[0;34m)\u001b[0m\u001b[0;34m\u001b[0m\u001b[0m\n\u001b[0m\u001b[1;32m   2780\u001b[0m             \u001b[0maxes\u001b[0m\u001b[0;34m.\u001b[0m\u001b[0mappend\u001b[0m\u001b[0;34m(\u001b[0m\u001b[0max\u001b[0m\u001b[0;34m)\u001b[0m\u001b[0;34m\u001b[0m\u001b[0m\n\u001b[1;32m   2781\u001b[0m \u001b[0;34m\u001b[0m\u001b[0m\n",
      "\u001b[0;32m/swshare/anaconda/lib/python2.7/site-packages/pandas/io/pytables.py\u001b[0m in \u001b[0;36mread_index\u001b[0;34m(self, key)\u001b[0m\n\u001b[1;32m   2365\u001b[0m             \u001b[0;32mreturn\u001b[0m \u001b[0mself\u001b[0m\u001b[0;34m.\u001b[0m\u001b[0mread_sparse_intindex\u001b[0m\u001b[0;34m(\u001b[0m\u001b[0mkey\u001b[0m\u001b[0;34m)\u001b[0m\u001b[0;34m\u001b[0m\u001b[0m\n\u001b[1;32m   2366\u001b[0m         \u001b[0;32melif\u001b[0m \u001b[0mvariety\u001b[0m \u001b[0;34m==\u001b[0m \u001b[0mu\u001b[0m\u001b[0;34m(\u001b[0m\u001b[0;34m'regular'\u001b[0m\u001b[0;34m)\u001b[0m\u001b[0;34m:\u001b[0m\u001b[0;34m\u001b[0m\u001b[0m\n\u001b[0;32m-> 2367\u001b[0;31m             \u001b[0m_\u001b[0m\u001b[0;34m,\u001b[0m \u001b[0mindex\u001b[0m \u001b[0;34m=\u001b[0m \u001b[0mself\u001b[0m\u001b[0;34m.\u001b[0m\u001b[0mread_index_node\u001b[0m\u001b[0;34m(\u001b[0m\u001b[0mgetattr\u001b[0m\u001b[0;34m(\u001b[0m\u001b[0mself\u001b[0m\u001b[0;34m.\u001b[0m\u001b[0mgroup\u001b[0m\u001b[0;34m,\u001b[0m \u001b[0mkey\u001b[0m\u001b[0;34m)\u001b[0m\u001b[0;34m)\u001b[0m\u001b[0;34m\u001b[0m\u001b[0m\n\u001b[0m\u001b[1;32m   2368\u001b[0m             \u001b[0;32mreturn\u001b[0m \u001b[0mindex\u001b[0m\u001b[0;34m\u001b[0m\u001b[0m\n\u001b[1;32m   2369\u001b[0m         \u001b[0;32melse\u001b[0m\u001b[0;34m:\u001b[0m  \u001b[0;31m# pragma: no cover\u001b[0m\u001b[0;34m\u001b[0m\u001b[0m\n",
      "\u001b[0;32m/swshare/anaconda/lib/python2.7/site-packages/pandas/io/pytables.py\u001b[0m in \u001b[0;36mread_index_node\u001b[0;34m(self, node)\u001b[0m\n\u001b[1;32m   2460\u001b[0m \u001b[0;34m\u001b[0m\u001b[0m\n\u001b[1;32m   2461\u001b[0m     \u001b[0;32mdef\u001b[0m \u001b[0mread_index_node\u001b[0m\u001b[0;34m(\u001b[0m\u001b[0mself\u001b[0m\u001b[0;34m,\u001b[0m \u001b[0mnode\u001b[0m\u001b[0;34m)\u001b[0m\u001b[0;34m:\u001b[0m\u001b[0;34m\u001b[0m\u001b[0m\n\u001b[0;32m-> 2462\u001b[0;31m         \u001b[0mdata\u001b[0m \u001b[0;34m=\u001b[0m \u001b[0mnode\u001b[0m\u001b[0;34m[\u001b[0m\u001b[0;34m:\u001b[0m\u001b[0;34m]\u001b[0m\u001b[0;34m\u001b[0m\u001b[0m\n\u001b[0m\u001b[1;32m   2463\u001b[0m         \u001b[0;31m# If the index was an empty array write_array_empty() will\u001b[0m\u001b[0;34m\u001b[0m\u001b[0;34m\u001b[0m\u001b[0m\n\u001b[1;32m   2464\u001b[0m         \u001b[0;31m# have written a sentinel. Here we relace it with the original.\u001b[0m\u001b[0;34m\u001b[0m\u001b[0;34m\u001b[0m\u001b[0m\n",
      "\u001b[0;32m/swshare/anaconda/lib/python2.7/site-packages/tables/array.pyc\u001b[0m in \u001b[0;36m__getitem__\u001b[0;34m(self, key)\u001b[0m\n\u001b[1;32m    657\u001b[0m             \u001b[0;31m# First, try with a regular selection\u001b[0m\u001b[0;34m\u001b[0m\u001b[0;34m\u001b[0m\u001b[0m\n\u001b[1;32m    658\u001b[0m             \u001b[0mstartl\u001b[0m\u001b[0;34m,\u001b[0m \u001b[0mstopl\u001b[0m\u001b[0;34m,\u001b[0m \u001b[0mstepl\u001b[0m\u001b[0;34m,\u001b[0m \u001b[0mshape\u001b[0m \u001b[0;34m=\u001b[0m \u001b[0mself\u001b[0m\u001b[0;34m.\u001b[0m\u001b[0m_interpret_indexing\u001b[0m\u001b[0;34m(\u001b[0m\u001b[0mkey\u001b[0m\u001b[0;34m)\u001b[0m\u001b[0;34m\u001b[0m\u001b[0m\n\u001b[0;32m--> 659\u001b[0;31m             \u001b[0marr\u001b[0m \u001b[0;34m=\u001b[0m \u001b[0mself\u001b[0m\u001b[0;34m.\u001b[0m\u001b[0m_read_slice\u001b[0m\u001b[0;34m(\u001b[0m\u001b[0mstartl\u001b[0m\u001b[0;34m,\u001b[0m \u001b[0mstopl\u001b[0m\u001b[0;34m,\u001b[0m \u001b[0mstepl\u001b[0m\u001b[0;34m,\u001b[0m \u001b[0mshape\u001b[0m\u001b[0;34m)\u001b[0m\u001b[0;34m\u001b[0m\u001b[0m\n\u001b[0m\u001b[1;32m    660\u001b[0m         \u001b[0;32mexcept\u001b[0m \u001b[0mTypeError\u001b[0m\u001b[0;34m:\u001b[0m\u001b[0;34m\u001b[0m\u001b[0m\n\u001b[1;32m    661\u001b[0m             \u001b[0;31m# Then, try with a point-wise selection\u001b[0m\u001b[0;34m\u001b[0m\u001b[0;34m\u001b[0m\u001b[0m\n",
      "\u001b[0;32m/swshare/anaconda/lib/python2.7/site-packages/tables/array.pyc\u001b[0m in \u001b[0;36m_read_slice\u001b[0;34m(self, startl, stopl, stepl, shape)\u001b[0m\n\u001b[1;32m    763\u001b[0m         \u001b[0;32mif\u001b[0m \u001b[0;36m0\u001b[0m \u001b[0;32mnot\u001b[0m \u001b[0;32min\u001b[0m \u001b[0mshape\u001b[0m\u001b[0;34m:\u001b[0m\u001b[0;34m\u001b[0m\u001b[0m\n\u001b[1;32m    764\u001b[0m             \u001b[0;31m# Arrays that have non-zero dimensionality\u001b[0m\u001b[0;34m\u001b[0m\u001b[0;34m\u001b[0m\u001b[0m\n\u001b[0;32m--> 765\u001b[0;31m             \u001b[0mself\u001b[0m\u001b[0;34m.\u001b[0m\u001b[0m_g_read_slice\u001b[0m\u001b[0;34m(\u001b[0m\u001b[0mstartl\u001b[0m\u001b[0;34m,\u001b[0m \u001b[0mstopl\u001b[0m\u001b[0;34m,\u001b[0m \u001b[0mstepl\u001b[0m\u001b[0;34m,\u001b[0m \u001b[0mnparr\u001b[0m\u001b[0;34m)\u001b[0m\u001b[0;34m\u001b[0m\u001b[0m\n\u001b[0m\u001b[1;32m    766\u001b[0m         \u001b[0;31m# For zero-shaped arrays, return the scalar\u001b[0m\u001b[0;34m\u001b[0m\u001b[0;34m\u001b[0m\u001b[0m\n\u001b[1;32m    767\u001b[0m         \u001b[0;32mif\u001b[0m \u001b[0mnparr\u001b[0m\u001b[0;34m.\u001b[0m\u001b[0mshape\u001b[0m \u001b[0;34m==\u001b[0m \u001b[0;34m(\u001b[0m\u001b[0;34m)\u001b[0m\u001b[0;34m:\u001b[0m\u001b[0;34m\u001b[0m\u001b[0m\n",
      "\u001b[0;31mKeyboardInterrupt\u001b[0m: "
     ]
    }
   ],
   "source": [
    "# Upload Dataframes:\n",
    "periods=[1,2,3,4,5]\n",
    "qr_mc1= quantileRegression(\"mc\")\n",
    "qr_mc2= quantileRegression(\"mc\")\n",
    "qr_data= quantileRegression(\"data\")\n",
    "qr_mc1.loadDFh5(\"/mnt/t3nfs01/data01/shome/giulioisac/dataMC/MTR/df_mc_v2.h5\", 0, -1)\n",
    "qr_mc2.loadDFh5(\"/mnt/t3nfs01/data01/shome/giulioisac/dataMC/MTR/df_mc_v2.h5\", 0, -1)\n",
    "qr_data.loadDFh5(\"/mnt/t3nfs01/data01/shome/giulioisac/dataMC/MTR/df_data_v2.h5\", 0, -1)\n",
    "dfdata= qr_data.getDF() "
   ]
  },
  {
   "cell_type": "code",
   "execution_count": 5,
   "metadata": {
    "collapsed": false,
    "scrolled": true
   },
   "outputs": [
    {
     "name": "stdout",
     "output_type": "stream",
     "text": [
      "Corrected variables file (e.g.  correctedTargetsweights_v2_EB.h5  ) does not exists. This will take a while...\n",
      "Correct EB :\n",
      "-1.4442  <  ScEta  and  ScEta  <  1.4442\n"
     ]
    },
    {
     "ename": "AttributeError",
     "evalue": "'int' object has no attribute 'query'",
     "output_type": "error",
     "traceback": [
      "\u001b[0;31m\u001b[0m",
      "\u001b[0;31mAttributeError\u001b[0mTraceback (most recent call last)",
      "\u001b[0;32m<ipython-input-5-f19cbef45c44>\u001b[0m in \u001b[0;36m<module>\u001b[0;34m()\u001b[0m\n\u001b[0;32m----> 1\u001b[0;31m \u001b[0mqr_mc1\u001b[0m\u001b[0;34m.\u001b[0m\u001b[0mcorrectAllY\u001b[0m\u001b[0;34m(\u001b[0m\u001b[0mX\u001b[0m\u001b[0;34m,\u001b[0m \u001b[0mylist\u001b[0m\u001b[0;34m,\u001b[0m \u001b[0mquantiles\u001b[0m\u001b[0;34m,\u001b[0m\u001b[0mEBEE\u001b[0m\u001b[0;34m=\u001b[0m\u001b[0;34m\"EB\"\u001b[0m\u001b[0;34m,\u001b[0m \u001b[0mrelativePath\u001b[0m\u001b[0;34m=\u001b[0m \u001b[0;34m\"weights_v2\"\u001b[0m\u001b[0;34m)\u001b[0m\u001b[0;34m\u001b[0m\u001b[0m\n\u001b[0m\u001b[1;32m      2\u001b[0m \u001b[0mqr_mc2\u001b[0m\u001b[0;34m.\u001b[0m\u001b[0mcorrectAllY\u001b[0m\u001b[0;34m(\u001b[0m\u001b[0mX\u001b[0m\u001b[0;34m,\u001b[0m \u001b[0mylist\u001b[0m\u001b[0;34m,\u001b[0m \u001b[0mquantiles\u001b[0m\u001b[0;34m,\u001b[0m\u001b[0mEBEE\u001b[0m\u001b[0;34m=\u001b[0m\u001b[0;34m\"EE\"\u001b[0m\u001b[0;34m,\u001b[0m \u001b[0mrelativePath\u001b[0m\u001b[0;34m=\u001b[0m \u001b[0;34m\"weights_v2\"\u001b[0m\u001b[0;34m)\u001b[0m\u001b[0;34m\u001b[0m\u001b[0m\n\u001b[1;32m      3\u001b[0m \u001b[0mdfmc1\u001b[0m\u001b[0;34m=\u001b[0m \u001b[0mqr_mc1\u001b[0m\u001b[0;34m.\u001b[0m\u001b[0mgetDF\u001b[0m\u001b[0;34m(\u001b[0m\u001b[0;34m)\u001b[0m\u001b[0;34m\u001b[0m\u001b[0m\n\u001b[1;32m      4\u001b[0m \u001b[0mdfmc2\u001b[0m\u001b[0;34m=\u001b[0m \u001b[0mqr_mc2\u001b[0m\u001b[0;34m.\u001b[0m\u001b[0mgetDF\u001b[0m\u001b[0;34m(\u001b[0m\u001b[0;34m)\u001b[0m\u001b[0;34m\u001b[0m\u001b[0m\n\u001b[1;32m      5\u001b[0m \u001b[0mframe2\u001b[0m \u001b[0;34m=\u001b[0m \u001b[0;34m[\u001b[0m\u001b[0mdfmc1\u001b[0m\u001b[0;34m,\u001b[0m \u001b[0mdfmc2\u001b[0m\u001b[0;34m]\u001b[0m\u001b[0;34m\u001b[0m\u001b[0m\n",
      "\u001b[0;32m/mnt/t3nfs01/data01/shome/giulioisac/dataMC/MTR/quantileRegression.pyc\u001b[0m in \u001b[0;36mcorrectAllY\u001b[0;34m(self, x, ylist, quantiles, n_jobs, forceComputeCorrections, EBEE, relativePath)\u001b[0m\n\u001b[1;32m   1220\u001b[0m          \u001b[0;32mif\u001b[0m   \u001b[0mEBEE\u001b[0m \u001b[0;34m==\u001b[0m \u001b[0;34m'EB'\u001b[0m\u001b[0;34m:\u001b[0m\u001b[0;34m\u001b[0m\u001b[0m\n\u001b[1;32m   1221\u001b[0m             \u001b[0;32mprint\u001b[0m \u001b[0;34m\"Correct EB :\"\u001b[0m\u001b[0;34m\u001b[0m\u001b[0m\n\u001b[0;32m-> 1222\u001b[0;31m             \u001b[0mself\u001b[0m\u001b[0;34m.\u001b[0m\u001b[0mapplyCutsToDF\u001b[0m\u001b[0;34m(\u001b[0m\u001b[0;34m'ScEta'\u001b[0m\u001b[0;34m,\u001b[0m \u001b[0;34m-\u001b[0m\u001b[0;36m1.4442\u001b[0m\u001b[0;34m,\u001b[0m \u001b[0;36m1.4442\u001b[0m\u001b[0;34m,\u001b[0m \u001b[0;34m'inside'\u001b[0m\u001b[0;34m)\u001b[0m\u001b[0;34m\u001b[0m\u001b[0m\n\u001b[0m\u001b[1;32m   1223\u001b[0m          \u001b[0;32melif\u001b[0m \u001b[0mEBEE\u001b[0m \u001b[0;34m==\u001b[0m \u001b[0;34m'EE'\u001b[0m\u001b[0;34m:\u001b[0m\u001b[0;34m\u001b[0m\u001b[0m\n\u001b[1;32m   1224\u001b[0m             \u001b[0;32mprint\u001b[0m \u001b[0;34m\"Correct EE :\"\u001b[0m\u001b[0;34m\u001b[0m\u001b[0m\n",
      "\u001b[0;32m/mnt/t3nfs01/data01/shome/giulioisac/dataMC/MTR/quantileRegression.pyc\u001b[0m in \u001b[0;36mapplyCutsToDF\u001b[0;34m(self, var, min, max, inout)\u001b[0m\n\u001b[1;32m    703\u001b[0m          \u001b[0;32mprint\u001b[0m \u001b[0mvar\u001b[0m\u001b[0;34m,\u001b[0m \u001b[0;34m' < '\u001b[0m\u001b[0;34m,\u001b[0m \u001b[0mmin\u001b[0m\u001b[0;34m,\u001b[0m \u001b[0;34m' or '\u001b[0m\u001b[0;34m,\u001b[0m \u001b[0mmax\u001b[0m\u001b[0;34m,\u001b[0m \u001b[0;34m' < '\u001b[0m\u001b[0;34m,\u001b[0m \u001b[0mvar\u001b[0m\u001b[0;34m\u001b[0m\u001b[0m\n\u001b[1;32m    704\u001b[0m \u001b[0;34m\u001b[0m\u001b[0m\n\u001b[0;32m--> 705\u001b[0;31m       \u001b[0mdf\u001b[0m \u001b[0;34m=\u001b[0m \u001b[0mdf\u001b[0m\u001b[0;34m.\u001b[0m\u001b[0mquery\u001b[0m\u001b[0;34m(\u001b[0m\u001b[0mquerystr\u001b[0m\u001b[0;34m)\u001b[0m\u001b[0;34m\u001b[0m\u001b[0m\n\u001b[0m\u001b[1;32m    706\u001b[0m       \u001b[0;31m#print df\u001b[0m\u001b[0;34m\u001b[0m\u001b[0;34m\u001b[0m\u001b[0m\n\u001b[1;32m    707\u001b[0m \u001b[0;34m\u001b[0m\u001b[0m\n",
      "\u001b[0;31mAttributeError\u001b[0m: 'int' object has no attribute 'query'"
     ]
    }
   ],
   "source": [
    "qr_mc1.correctAllY(X, ylist, quantiles,EBEE=\"EB\", relativePath= \"weights_v2\") \n",
    "qr_mc2.correctAllY(X, ylist, quantiles,EBEE=\"EE\", relativePath= \"weights_v2\") \n",
    "dfmc1= qr_mc1.getDF() \n",
    "dfmc2= qr_mc2.getDF() \n",
    "frame2 = [dfmc1, dfmc2] \n",
    "data2 = pd.concat(frame2) \n",
    "dfmc = data2.reset_index() "
   ]
  },
  {
   "cell_type": "code",
   "execution_count": null,
   "metadata": {
    "collapsed": false,
    "scrolled": false
   },
   "outputs": [],
   "source": [
    "print ylist\n",
    "for yvar in ylist:\n",
    "    yvarcorr = yvar+\"_corr\"\n",
    "    print \"plotting \", yvar\n",
    "    if yvar == \"R9\":\n",
    "        rv  = np.arange(0.0,1.0,0.002)\n",
    "        rv2 = np.arange(0.8,1.0,0.002)\n",
    "    if yvar == \"S4\":\n",
    "        rv  = np.arange(0.0,1.0,0.002)\n",
    "        rv2 = np.arange(0.8,1.0,0.002)\n",
    "    if yvar == \"SigmaIeIe\":\n",
    "        rv = np.arange(0.004,0.012,0.0002)\n",
    "        rv2 = np.arange(0.015,0.030,0.0002)\n",
    "    if yvar == \"EtaWidth\":\n",
    "        rv = np.arange(0.0,0.05,0.0002)\n",
    "        rv2 = np.arange(0.005,0.025,0.0002)\n",
    "    if yvar == \"PhiWidth\":\n",
    "        rv = np.arange(0.0,0.2,0.002)\n",
    "        rv2 = np.arange(0.0,0.05,0.0006)\n",
    "    if yvar == \"CovarianceIphiIphi\":\n",
    "        rv  = np.arange(0.0, 0.02,0.0002)\n",
    "        rv2 = np.arange(0.02, 0.05,0.0004)\n",
    "    if yvar == \"CovarianceIetaIphi\":\n",
    "        rv = np.arange(-0.0002, 0.0002,0.000002) \n",
    "        rv2 = np.arange(-0.00004, 0.00004,0.000001)\n",
    "    fig = plt.figure()\n",
    "    ax = fig.add_subplot(111)\n",
    "    ax.set_xlabel(yvar)\n",
    "    plot.plotHistErr(dfmc[yvar+\"_corr\"], rv,Weight=dfmc[\"weight\"], Color=\"b\")\n",
    "    plot.plotHistErr(dfdata[yvar], rv, Color=\"r\", Weight=dfdata[\"weight\"])\n",
    "    plot.plotHistErr(dfmc[yvar], rv,Weight=dfmc[\"weight\"], Color=\"g\")  \n",
    "    ax.set_title(yvar)\n",
    "    fig = plt.figure()\n",
    "    ax = fig.add_subplot(111)\n",
    "    ax.set_xlabel(yvar)\n",
    "    plot.plotHistErr(dfmc[yvar+\"_corr\"], rv2,Weight=dfmc[\"weight\"], Color=\"b\")\n",
    "    plot.plotHistErr(dfdata[yvar], rv2, Color=\"r\", Weight=dfdata[\"weight\"])\n",
    "    plot.plotHistErr(dfmc[yvar], rv2,Weight=dfmc[\"weight\"], Color=\"g\")  \n",
    "    ax.set_title(yvar)"
   ]
  },
  {
   "cell_type": "code",
   "execution_count": null,
   "metadata": {
    "collapsed": true
   },
   "outputs": [],
   "source": [
    "dfmcEB   = dfmc  .query('-1.444 < ScEta & ScEta <1.444') # ('abs(ScEta)<1.444')\n",
    "dfmcEE   = dfmc  .query('ScEta < -1.57 | ScEta >1.57  ') # ('abs(ScEta)>1.57')\n",
    "dfdataEB = dfdata.query('-1.444 < ScEta & ScEta <1.444') # ('abs(ScEta)<1.444')\n",
    "dfdataEE = dfdata.query('ScEta < -1.57 | ScEta >1.57  ') # ('abs(ScEta)>1.57')"
   ]
  },
  {
   "cell_type": "code",
   "execution_count": null,
   "metadata": {
    "collapsed": false
   },
   "outputs": [],
   "source": [
    "# split profiles in EB/EE (profile meaningless when the values of the variable are very different in the two cases)\n",
    "for yvar in [\"SigmaIeIe\"]:\n",
    "    print \"hey!\"\n",
    "    yvarcorr = yvar+\"_corr\"\n",
    "    print \"plotting \", yvar\n",
    "    if yvar == \"R9\":\n",
    "        minEB, maxEB = 0.7, 0.9\n",
    "        minEE, maxEE = 0.7, 0.9\n",
    "    if yvar == \"S4\":\n",
    "        minEB, maxEB = 0.75, 0.9\n",
    "        minEE, maxEE = 0.75, 0.9\n",
    "    if yvar == \"SigmaIeIe\":\n",
    "        minEB, maxEB = 0.008, 0.0095\n",
    "        minEE, maxEE = 0.022, 0.028\n",
    "    if yvar == \"EtaWidth\":\n",
    "        minEB, maxEB = 0.006, 0.012\n",
    "        minEE, maxEE = 0.005, 0.030\n",
    "    if yvar == \"PhiWidth\":\n",
    "        minEB, maxEB = 0.01, 0.06\n",
    "        minEE, maxEE = 0.02, 0.06\n",
    "    if yvar == \"CovarianceIphiIphi\":\n",
    "        minEB, maxEB = 0.010, 0.016\n",
    "        minEE, maxEE = 0.025, 0.040\n",
    "    if yvar == \"CovarianceIetaIphi\":\n",
    "        minEB, maxEB = -0.0002, 0.0002\n",
    "        minEE, maxEE = -0.0002, 0.0002\n",
    "    fig = plt.figure(figsize=(8, 6))\n",
    "    ax = fig.add_subplot(111)\n",
    "    ax.set_ylim(minEB,maxEB)\n",
    "    ax.set_xlabel('ScEta')\n",
    "    ax.set_ylabel(yvar)\n",
    "    plot.Profile(dfmcEB['ScEta']  , dfmcEB[yvar]        ,100,-2.5,2.5,ax,'green',dfmcEB[\"weight\"])\n",
    "    plot.Profile(dfdataEB['ScEta'], dfdataEB[yvar]      ,100,-2.5,2.5,ax, 'red',dfdataEB[\"weight\"])\n",
    "    plot.Profile(dfmcEB['ScEta']  , dfmcEB[yvar+'_corr'],100,-2.5,2.5,ax, 'blue',dfmcEB[\"weight\"])\n",
    "\n",
    "    fig = plt.figure(figsize=(8, 6))\n",
    "    ax = fig.add_subplot(111)\n",
    "    ax.set_ylim(minEE, maxEE)\n",
    "    ax.set_xlabel('ScEta')\n",
    "    ax.set_ylabel(yvar)\n",
    "    plot.Profile(dfmcEE['ScEta']  , dfmcEE[yvar]        ,100,-2.5,2.5,ax,'green',dfmcEE[\"weight\"])\n",
    "    plot.Profile(dfdataEE['ScEta'], dfdataEE[yvar]      ,100,-2.5,2.5,ax, 'red',dfdataEE[\"weight\"])\n",
    "    plot.Profile(dfmcEE['ScEta']  , dfmcEE[yvar+'_corr'],100,-2.5,2.5,ax, 'blue',dfmcEE[\"weight\"])\n",
    "\n",
    "    fig = plt.figure(figsize=(8, 6))\n",
    "    ax = fig.add_subplot(111)\n",
    "    ax.set_ylim(minEB,maxEB)\n",
    "    ax.set_xlabel('Pt')\n",
    "    ax.set_ylabel(yvar)\n",
    "    plot.Profile(dfmcEB['Pt']  , dfmcEB[yvar]        ,100,20.,80.,ax, 'green',dfmcEB[\"weight\"])\n",
    "    plot.Profile(dfdataEB['Pt'], dfdataEB[yvar]      ,100,20.,80.,ax, 'red',dfdataEB[\"weight\"])\n",
    "    plot.Profile(dfmcEB['Pt']  , dfmcEB[yvar+'_corr'],100,20.,80.,ax, 'blue',dfmcEB[\"weight\"])\n",
    "\n",
    "    fig = plt.figure(figsize=(8, 6))\n",
    "    ax = fig.add_subplot(111)\n",
    "    ax.set_ylim(minEE, maxEE)\n",
    "    ax.set_xlabel('Pt')\n",
    "    ax.set_ylabel(yvar)\n",
    "    plot.Profile(dfmcEE['Pt']  , dfmcEE[yvar]        ,100,20.,80.,ax, 'green',dfmcEE[\"weight\"])\n",
    "    plot.Profile(dfdataEE['Pt'], dfdataEE[yvar]      ,100,20.,80.,ax, 'red',dfdataEE[\"weight\"])\n",
    "    plot.Profile(dfmcEE['Pt']  , dfmcEE[yvar+'_corr'],100,20.,80.,ax, 'blue',dfmcEE[\"weight\"])\n",
    "\n",
    "    fig = plt.figure(figsize=(8, 6))\n",
    "    ax = fig.add_subplot(111)\n",
    "    ax.set_ylim(minEB,maxEB)\n",
    "    ax.set_xlabel('rho')\n",
    "    ax.set_ylabel(yvar)\n",
    "    plot.Profile(dfmcEB['rho']  , dfmcEB[yvar]        ,100,0.,40.,ax, 'green',dfmcEB[\"weight\"])\n",
    "    plot.Profile(dfdataEB['rho'], dfdataEB[yvar]      ,100,0.,40.,ax, 'red',dfdataEB[\"weight\"])\n",
    "    plot.Profile(dfmcEB['rho']  , dfmcEB[yvar+'_corr'],100,0.,40.,ax, 'blue',dfmcEB[\"weight\"])\n",
    "\n",
    "    fig = plt.figure(figsize=(8, 6))\n",
    "    ax = fig.add_subplot(111)\n",
    "    ax.set_ylim(minEE, maxEE)\n",
    "    ax.set_xlabel('rho')\n",
    "    ax.set_ylabel(yvar)\n",
    "    plot.Profile(dfmcEE['rho']  , dfmcEE[yvar]        ,100,0.,40.,ax, 'green',dfmcEE[\"weight\"])\n",
    "    plot.Profile(dfdataEE['rho'], dfdataEE[yvar]      ,100,0.,40.,ax, 'red',dfdataEE[\"weight\"])\n",
    "    plot.Profile(dfmcEE['rho']  , dfmcEE[yvar+'_corr'],100,0.,40.,ax, 'blue',dfmcEE[\"weight\"])\n",
    "\n",
    "    fig = plt.figure(figsize=(8, 6))\n",
    "    ax = fig.add_subplot(111)\n",
    "    ax.set_ylim(minEB,maxEB)\n",
    "    ax.set_xlabel('ntvx')\n",
    "    ax.set_ylabel(yvar)\n",
    "    plot.Profile(dfmcEB['nvtx']  , dfmcEB[yvar]        ,41,0.,40.,ax, 'green',dfmcEB[\"weight\"])\n",
    "    plot.Profile(dfdataEB['nvtx'], dfdataEB[yvar]      ,41,0.,40.,ax, 'red',dfdataEB[\"weight\"])\n",
    "    plot.Profile(dfmcEB['nvtx']  , dfmcEB[yvar+'_corr'],41,0.,40.,ax, 'blue',dfmcEB[\"weight\"])\n",
    "\n",
    "    fig = plt.figure(figsize=(8, 6))\n",
    "    ax = fig.add_subplot(111)\n",
    "    ax.set_ylim(minEE, maxEE)\n",
    "    ax.set_xlabel('ntvx')\n",
    "    ax.set_ylabel(yvar)\n",
    "    plot.Profile(dfmcEE['nvtx']  , dfmcEE[yvar]        ,41,0.,40.,ax, 'green',dfmcEE[\"weight\"])\n",
    "    plot.Profile(dfdataEE['nvtx'], dfdataEE[yvar]      ,41,0.,40.,ax, 'red',dfdataEE[\"weight\"])\n",
    "    plot.Profile(dfmcEE['nvtx']  , dfmcEE[yvar+'_corr'],41,0.,40.,ax, 'blue',dfmcEE[\"weight\"])\n",
    "\n",
    "    fig = plt.figure(figsize=(8, 6))\n",
    "    ax = fig.add_subplot(111)\n",
    "    ax.set_ylim(minEB,maxEB)\n",
    "    ax.set_xlabel('Phi')\n",
    "    ax.set_ylabel(yvar)\n",
    "    plot.Profile(dfmcEB['Phi']  , dfmcEB[yvar]        ,100,-3.14,3.14,ax, 'green',dfmcEB[\"weight\"])\n",
    "    plot.Profile(dfdataEB['Phi'], dfdataEB[yvar]      ,100,-3.14,3.14,ax, 'red',dfdataEB[\"weight\"])\n",
    "    plot.Profile(dfmcEB['Phi']  , dfmcEB[yvar+'_corr'],100,-3.14,3.14,ax, 'blue',dfmcEB[\"weight\"])\n",
    "\n",
    "    fig = plt.figure(figsize=(8, 6))\n",
    "    ax = fig.add_subplot(111)\n",
    "    ax.set_ylim(minEE, maxEE)\n",
    "    ax.set_xlabel('Phi')\n",
    "    ax.set_ylabel(yvar)\n",
    "    plot.Profile(dfmcEE['Phi']  , dfmcEE[yvar]        ,100,-3.14,3.14,ax, 'green',dfmcEE[\"weight\"])\n",
    "    plot.Profile(dfdataEE['Phi'], dfdataEE[yvar]      ,100,-3.14,3.14,ax, 'red',dfdataEE[\"weight\"])\n",
    "    plot.Profile(dfmcEE['Phi']  , dfmcEE[yvar+'_corr'],100,-3.14,3.14,ax, 'blue',dfmcEE[\"weight\"])"
   ]
  },
  {
   "cell_type": "code",
   "execution_count": null,
   "metadata": {
    "collapsed": true
   },
   "outputs": [],
   "source": []
  }
 ],
 "metadata": {
  "anaconda-cloud": {},
  "kernelspec": {
   "display_name": "Python [default]",
   "language": "python",
   "name": "python2"
  },
  "language_info": {
   "codemirror_mode": {
    "name": "ipython",
    "version": 2
   },
   "file_extension": ".py",
   "mimetype": "text/x-python",
   "name": "python",
   "nbconvert_exporter": "python",
   "pygments_lexer": "ipython2",
   "version": "2.7.12"
  }
 },
 "nbformat": 4,
 "nbformat_minor": 0
}
