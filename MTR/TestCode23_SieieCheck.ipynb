{
 "cells": [
  {
   "cell_type": "code",
   "execution_count": 1,
   "metadata": {
    "collapsed": false
   },
   "outputs": [
    {
     "data": {
      "application/javascript": [
       "require(['codemirror/mode/clike/clike'], function(Clike) { console.log('ROOTaaS - C++ CodeMirror module loaded'); });"
      ]
     },
     "metadata": {},
     "output_type": "display_data"
    },
    {
     "data": {
      "application/javascript": [
       "IPython.CodeCell.config_defaults.highlight_modes['magic_text/x-c++src'] = {'reg':[/^%%cpp/]};"
      ]
     },
     "metadata": {},
     "output_type": "display_data"
    },
    {
     "name": "stdout",
     "output_type": "stream",
     "text": [
      "Welcome to ROOTaaS 6.06/08\n"
     ]
    }
   ],
   "source": [
    "from quantileRegression import quantileRegression\n",
    "import numpy as np\n",
    "import runNumbers as rn\n",
    "import Plotting as plot\n",
    "import matplotlib.pyplot as plt\n",
    "%matplotlib inline\n",
    "import pandas as pd\n",
    "from pandas import Series, DataFrame\n",
    "# %matplotlib notebook\n",
    "plt.style.use('ggplot')"
   ]
  },
  {
   "cell_type": "code",
   "execution_count": 2,
   "metadata": {
    "collapsed": true
   },
   "outputs": [],
   "source": [
    "\n",
    "#---------------------------------------------------------------------\n",
    "#TEST USING QUANTILE REGRESSION ON EB/EE DATA SEPARATELY AND UNIFIED AFTERWARDS, WITH AND WITHOUT WEIGHTS\n",
    "#---------------------------------------------------------------------\n"
   ]
  },
  {
   "cell_type": "code",
   "execution_count": 3,
   "metadata": {
    "collapsed": false
   },
   "outputs": [],
   "source": [
    "# Variable you want to correct\n",
    "ylist = [\"R9\", \"S4\", \"SigmaIeIe\"]#, \"EtaWidth\", \"PhiWidth\", \"CovarianceIphiIphi\",'CovarianceIetaIphi']#, \"SigmaRR\", 'PhoIso03', 'ChIso03', 'ChIso03worst']\n",
    "# Input variables used for the regression\n",
    "X = ['Pt', 'ScEta', 'Phi', 'rho']  # <<-- list\n",
    "# Set the quantiles \n",
    "quantiles = [ 0.1, 0.2, 0.3, 0.4, 0.5, 0.6, 0.7, 0.8, 0.9 ]"
   ]
  },
  {
   "cell_type": "code",
   "execution_count": null,
   "metadata": {
    "collapsed": false
   },
   "outputs": [
    {
     "name": "stdout",
     "output_type": "stream",
     "text": [
      "Loading dataframe from :  /mnt/t3nfs01/data01/shome/giulioisac/dataMC/MTR/df_mc_v2.h5\n",
      "\u001b[92mSelecting events \u001b[0m  [ 0 ,  2000000 ]  out of  2000000\n",
      "number of events: 2000000\n",
      "Loading dataframe from :  /mnt/t3nfs01/data01/shome/giulioisac/dataMC/MTR/df_mc_v2.h5\n",
      "\u001b[92mSelecting events \u001b[0m  [ 0 ,  2000000 ]  out of  2000000\n",
      "number of events: 2000000\n",
      "Loading dataframe from :  /mnt/t3nfs01/data01/shome/giulioisac/dataMC/MTR/df_data_v2.h5\n",
      "\u001b[92mSelecting events \u001b[0m  [ 0 ,  4000000 ]  out of  4000000\n",
      "number of events: 4000000\n"
     ]
    }
   ],
   "source": [
    "# Upload Dataframes:\n",
    "periods=[1,2,3,4,5]\n",
    "qr_mc1= quantileRegression(\"mc\")\n",
    "qr_mc2= quantileRegression(\"mc\")\n",
    "qr_data= quantileRegression(\"data\")\n",
    "qr_mc1.loadDFh5(\"/mnt/t3nfs01/data01/shome/giulioisac/dataMC/MTR/df_mc_v2.h5\", 0, -1)\n",
    "qr_mc2.loadDFh5(\"/mnt/t3nfs01/data01/shome/giulioisac/dataMC/MTR/df_mc_v2.h5\", 0, -1)\n",
    "qr_data.loadDFh5(\"/mnt/t3nfs01/data01/shome/giulioisac/dataMC/MTR/df_data_v2.h5\", 0, -1)\n",
    "dfdata= qr_data.getDF() "
   ]
  },
  {
   "cell_type": "code",
   "execution_count": null,
   "metadata": {
    "collapsed": false,
    "scrolled": true
   },
   "outputs": [
    {
     "name": "stdout",
     "output_type": "stream",
     "text": [
      "Corrected variables file (e.g.  correctedTargetsweights_v2_EB.h5  ) does not exists. This will take a while...\n",
      "Correct EB :\n",
      "-1.4442  <  ScEta  and  ScEta  <  1.4442\n",
      "Loading mc weights for  R9  : \n",
      "    ./weights/weights_v2/mc_weights_EB\n",
      "Loading data weights for  R9\n",
      "    ./weights/weights_v2/data_weights_EB\n",
      "Get corrections for  R9  with quantiles  [0.1, 0.2, 0.3, 0.4, 0.5, 0.6, 0.7, 0.8, 0.9]\n",
      "Features: X =  ['Pt', 'ScEta', 'Phi', 'rho']  target y =  R9\n"
     ]
    }
   ],
   "source": [
    "qr_mc1.correctAllY(X, ylist, quantiles,EBEE=\"EB\", relativePath= \"weights_v2\") \n",
    "qr_mc2.correctAllY(X, ylist, quantiles,EBEE=\"EE\", relativePath= \"weights_v2\") \n",
    "dfmc1= qr_mc1.getDF() \n",
    "dfmc2= qr_mc2.getDF() \n",
    "frame2 = [dfmc1, dfmc2] \n",
    "data2 = pd.concat(frame2) \n",
    "dfmc = data2.reset_index() "
   ]
  },
  {
   "cell_type": "code",
   "execution_count": null,
   "metadata": {
    "collapsed": false,
    "scrolled": false
   },
   "outputs": [],
   "source": [
    "print ylist\n",
    "for yvar in ylist:\n",
    "    yvarcorr = yvar+\"_corr\"\n",
    "    print \"plotting \", yvar\n",
    "    if yvar == \"R9\":\n",
    "        rv  = np.arange(0.0,1.0,0.002)\n",
    "        rv2 = np.arange(0.8,1.0,0.002)\n",
    "    if yvar == \"S4\":\n",
    "        rv  = np.arange(0.0,1.0,0.002)\n",
    "        rv2 = np.arange(0.8,1.0,0.002)\n",
    "    if yvar == \"SigmaIeIe\":\n",
    "        rv = np.arange(0.004,0.012,0.0002)\n",
    "        rv2 = np.arange(0.015,0.030,0.0002)\n",
    "    if yvar == \"EtaWidth\":\n",
    "        rv = np.arange(0.0,0.05,0.0002)\n",
    "        rv2 = np.arange(0.005,0.025,0.0002)\n",
    "    if yvar == \"PhiWidth\":\n",
    "        rv = np.arange(0.0,0.2,0.002)\n",
    "        rv2 = np.arange(0.0,0.05,0.0006)\n",
    "    if yvar == \"CovarianceIphiIphi\":\n",
    "        rv  = np.arange(0.0, 0.02,0.0002)\n",
    "        rv2 = np.arange(0.02, 0.05,0.0004)\n",
    "    if yvar == \"CovarianceIetaIphi\":\n",
    "        rv = np.arange(-0.0002, 0.0002,0.000002) \n",
    "        rv2 = np.arange(-0.00004, 0.00004,0.000001)\n",
    "    fig = plt.figure()\n",
    "    ax = fig.add_subplot(111)\n",
    "    ax.set_xlabel(yvar)\n",
    "    plot.plotHistErr(dfmc[yvar+\"_corr\"], rv,Weight=dfmc[\"weight\"], Color=\"b\")\n",
    "    plot.plotHistErr(dfdata[yvar], rv, Color=\"r\", Weight=dfdata[\"weight\"])\n",
    "    plot.plotHistErr(dfmc[yvar], rv,Weight=dfmc[\"weight\"], Color=\"g\")  \n",
    "    ax.set_title(yvar)\n",
    "    fig = plt.figure()\n",
    "    ax = fig.add_subplot(111)\n",
    "    ax.set_xlabel(yvar)\n",
    "    plot.plotHistErr(dfmc[yvar+\"_corr\"], rv2,Weight=dfmc[\"weight\"], Color=\"b\")\n",
    "    plot.plotHistErr(dfdata[yvar], rv2, Color=\"r\", Weight=dfdata[\"weight\"])\n",
    "    plot.plotHistErr(dfmc[yvar], rv2,Weight=dfmc[\"weight\"], Color=\"g\")  \n",
    "    ax.set_title(yvar)"
   ]
  },
  {
   "cell_type": "code",
   "execution_count": null,
   "metadata": {
    "collapsed": false
   },
   "outputs": [],
   "source": [
    "#Plots per period\n",
    "yvar=\"SigmaIeIe\"\n",
    "if yvar == \"R9\":\n",
    "    rv  = np.arange(0.0,1.0,0.002)\n",
    "    rv2 = np.arange(0.8,1.0,0.002)\n",
    "if yvar == \"S4\":\n",
    "    rv  = np.arange(0.0,1.0,0.002)\n",
    "    rv2 = np.arange(0.8,1.0,0.002)\n",
    "if yvar == \"SigmaIeIe\":\n",
    "    rv = np.arange(0.0,0.015,0.0002)\n",
    "    rv2 = np.arange(0.015,0.030,0.0002)\n",
    "if yvar == \"EtaWidth\":\n",
    "    rv = np.arange(0.0,0.05,0.0002)\n",
    "    rv2 = np.arange(0.005,0.025,0.0002)\n",
    "if yvar == \"PhiWidth\":\n",
    "    rv = np.arange(0.0,0.2,0.002)\n",
    "    rv2 = np.arange(0.0,0.05,0.0006)\n",
    "if yvar == \"CovarianceIphiIphi\":\n",
    "    rv  = np.arange(0.0, 0.02,0.0002)\n",
    "    rv2 = np.arange(0.02, 0.05,0.001)\n",
    "if yvar == \"CovarianceIetaIphi\":\n",
    "    rv = np.arange(-0.0002, 0.0002,0.000002) \n",
    "    rv2 = np.arange(-0.00005, 0.00005,0.000001)\n",
    "\n",
    "fig = plt.figure()\n",
    "ax = fig.add_subplot(111)\n",
    "ax.set_xlabel(\"R9\")\n",
    "  \n",
    "plot.plotHistErr(dfmc.query(\"runperiod==1\")[yvar+\"_corr\"], rv2, Weight=dfmc.query(\"runperiod==1\")[\"weight\"], Color=\"b\")\n",
    "plot.plotHistErr(dfdata.query(\"runperiod==1\")[yvar], rv2, Color=\"r\", Weight=dfdata.query(\"runperiod==1\")[\"weight\"])\n",
    "plot.plotHistErr(dfmc.query(\"runperiod==1\")[yvar], rv2, Weight=dfmc.query(\"runperiod==1\")[\"weight\"], Color=\"g\")  \n",
    "\n",
    "ax.set_title('BD')\n",
    "fig = plt.figure()\n",
    "ax = fig.add_subplot(111)\n",
    "ax.set_xlabel(\"R9\")\n",
    "  \n",
    "plot.plotHistErr(dfmc.query(\"runperiod==2\")[yvar+\"_corr\"], rv2, Weight=dfmc.query(\"runperiod==2\")[\"weight\"], Color=\"b\")\n",
    "plot.plotHistErr(dfdata.query(\"runperiod==2\")[yvar], rv2, Color=\"r\", Weight=dfdata.query(\"runperiod==2\")[\"weight\"])\n",
    "plot.plotHistErr(dfmc.query(\"runperiod==2\")[yvar], rv2, Weight=dfmc.query(\"runperiod==2\")[\"weight\"], Color=\"g\")  \n",
    "\n",
    "ax.set_title('E')\n",
    "fig = plt.figure()\n",
    "ax = fig.add_subplot(111)\n",
    "ax.set_xlabel(\"R9\")\n",
    "  \n",
    "plot.plotHistErr(dfmc.query(\"runperiod==3\")[yvar+\"_corr\"], rv2, Weight=dfmc.query(\"runperiod==3\")[\"weight\"], Color=\"b\")\n",
    "plot.plotHistErr(dfdata.query(\"runperiod==3\")[yvar], rv2, Color=\"r\", Weight=dfdata.query(\"runperiod==3\")[\"weight\"])\n",
    "plot.plotHistErr(dfmc.query(\"runperiod==3\")[yvar], rv2, Weight=dfmc.query(\"runperiod==3\")[\"weight\"], Color=\"g\")  \n",
    "\n",
    "ax.set_title('F')\n",
    "fig = plt.figure()\n",
    "ax = fig.add_subplot(111)\n",
    "ax.set_xlabel(\"R9\")\n",
    "  \n",
    "plot.plotHistErr(dfmc.query(\"runperiod==4\")[yvar+\"_corr\"], rv2, Weight=dfmc.query(\"runperiod==4\")[\"weight\"], Color=\"b\")\n",
    "plot.plotHistErr(dfdata.query(\"runperiod==4\")[yvar], rv2, Color=\"r\", Weight=dfdata.query(\"runperiod==4\")[\"weight\"])\n",
    "plot.plotHistErr(dfmc.query(\"runperiod==4\")[yvar], rv2, Weight=dfmc.query(\"runperiod==4\")[\"weight\"], Color=\"g\")  \n",
    "\n",
    "ax.set_title('G')\n",
    "fig = plt.figure()\n",
    "ax = fig.add_subplot(111)\n",
    "ax.set_xlabel(\"R9\")\n",
    "  \n",
    "plot.plotHistErr(dfmc.query(\"runperiod==5\")[yvar+\"_corr\"], rv2, Weight=dfmc.query(\"runperiod==5\")[\"weight\"], Color=\"b\")\n",
    "plot.plotHistErr(dfdata.query(\"runperiod==5\")[yvar], rv2, Color=\"r\", Weight=dfdata.query(\"runperiod==5\")[\"weight\"])\n",
    "plot.plotHistErr(dfmc.query(\"runperiod==5\")[yvar], rv2, Weight=dfmc.query(\"runperiod==5\")[\"weight\"], Color=\"g\")  \n",
    "\n",
    "ax.set_title('H')\n"
   ]
  },
  {
   "cell_type": "code",
   "execution_count": null,
   "metadata": {
    "collapsed": false
   },
   "outputs": [],
   "source": [
    "# split profiles in EB/EE (profile meaningless when the values of the variable are very different in the two cases)\n",
    "dfmcEB   = dfmc  .query('-1.444 < ScEta & ScEta <1.444') # ('abs(ScEta)<1.444')\n",
    "dfmcEE   = dfmc  .query('ScEta < -1.57 | ScEta >1.57  ') # ('abs(ScEta)>1.57')\n",
    "dfdataEB = dfdata.query('-1.444 < ScEta & ScEta <1.444') # ('abs(ScEta)<1.444')\n",
    "dfdataEE = dfdata.query('ScEta < -1.57 | ScEta >1.57  ') # ('abs(ScEta)>1.57')\n",
    "for yvar in ylist:\n",
    "    yvarcorr = yvar+\"_corr\"\n",
    "    print \"plotting \", yvar\n",
    "    if yvar == \"R9\":\n",
    "        minEB, maxEB = 0.7, 0.9\n",
    "        minEE, maxEE = 0.7, 0.9\n",
    "    if yvar == \"S4\":\n",
    "        minEB, maxEB = 0.75, 0.9\n",
    "        minEE, maxEE = 0.75, 0.9\n",
    "    if yvar == \"SigmaIeIe\":\n",
    "        minEB, maxEB = 0.008, 0.0095\n",
    "        minEE, maxEE = 0.022, 0.028\n",
    "    if yvar == \"EtaWidth\":\n",
    "        minEB, maxEB = 0.006, 0.012\n",
    "        minEE, maxEE = 0.005, 0.030\n",
    "    if yvar == \"PhiWidth\":\n",
    "        minEB, maxEB = 0.01, 0.06\n",
    "        minEE, maxEE = 0.02, 0.06\n",
    "    if yvar == \"CovarianceIphiIphi\":\n",
    "        minEB, maxEB = 0.010, 0.016\n",
    "        minEE, maxEE = 0.025, 0.040\n",
    "    if yvar == \"CovarianceIetaIphi\":\n",
    "        minEB, maxEB = -0.0002, 0.0002\n",
    "        minEE, maxEE = -0.0002, 0.0002\n",
    "    fig = plt.figure(figsize=(8, 6))\n",
    "    ax = fig.add_subplot(111)\n",
    "    ax.set_ylim(minEB,maxEB)\n",
    "    ax.set_xlabel('ScEta')\n",
    "    ax.set_ylabel(yvar)\n",
    "    plot.Profile(dfmcEB['ScEta']  , dfmcEB[yvar]        ,100,-2.5,2.5,ax,'green',dfmcEB[\"weight\"])\n",
    "    plot.Profile(dfdataEB['ScEta'], dfdataEB[yvar]      ,100,-2.5,2.5,ax, 'red',dfdataEB[\"weight\"])\n",
    "    plot.Profile(dfmcEB['ScEta']  , dfmcEB[yvar+'_corr'],100,-2.5,2.5,ax, 'blue',dfmcEB[\"weight\"])\n",
    "\n",
    "    fig = plt.figure(figsize=(8, 6))\n",
    "    ax = fig.add_subplot(111)\n",
    "    ax.set_ylim(minEE, maxEE)\n",
    "    ax.set_xlabel('ScEta')\n",
    "    ax.set_ylabel(yvar)\n",
    "    plot.Profile(dfmcEE['ScEta']  , dfmcEE[yvar]        ,100,-2.5,2.5,ax,'green',dfmcEE[\"weight\"])\n",
    "    plot.Profile(dfdataEE['ScEta'], dfdataEE[yvar]      ,100,-2.5,2.5,ax, 'red',dfdataEE[\"weight\"])\n",
    "    plot.Profile(dfmcEE['ScEta']  , dfmcEE[yvar+'_corr'],100,-2.5,2.5,ax, 'blue',dfmcEE[\"weight\"])\n",
    "\n",
    "    fig = plt.figure(figsize=(8, 6))\n",
    "    ax = fig.add_subplot(111)\n",
    "    ax.set_ylim(minEB,maxEB)\n",
    "    ax.set_xlabel('Pt')\n",
    "    ax.set_ylabel(yvar)\n",
    "    plot.Profile(dfmcEB['Pt']  , dfmcEB[yvar]        ,100,20.,80.,ax, 'green',dfmcEB[\"weight\"])\n",
    "    plot.Profile(dfdataEB['Pt'], dfdataEB[yvar]      ,100,20.,80.,ax, 'red',dfdataEB[\"weight\"])\n",
    "    plot.Profile(dfmcEB['Pt']  , dfmcEB[yvar+'_corr'],100,20.,80.,ax, 'blue',dfmcEB[\"weight\"])\n",
    "\n",
    "    fig = plt.figure(figsize=(8, 6))\n",
    "    ax = fig.add_subplot(111)\n",
    "    ax.set_ylim(minEE, maxEE)\n",
    "    ax.set_xlabel('Pt')\n",
    "    ax.set_ylabel(yvar)\n",
    "    plot.Profile(dfmcEE['Pt']  , dfmcEE[yvar]        ,100,20.,80.,ax, 'green',dfmcEE[\"weight\"])\n",
    "    plot.Profile(dfdataEE['Pt'], dfdataEE[yvar]      ,100,20.,80.,ax, 'red',dfdataEE[\"weight\"])\n",
    "    plot.Profile(dfmcEE['Pt']  , dfmcEE[yvar+'_corr'],100,20.,80.,ax, 'blue',dfmcEE[\"weight\"])\n",
    "\n",
    "    fig = plt.figure(figsize=(8, 6))\n",
    "    ax = fig.add_subplot(111)\n",
    "    ax.set_ylim(minEB,maxEB)\n",
    "    ax.set_xlabel('rho')\n",
    "    ax.set_ylabel(yvar)\n",
    "    plot.Profile(dfmcEB['rho']  , dfmcEB[yvar]        ,100,0.,40.,ax, 'green',dfmcEB[\"weight\"])\n",
    "    plot.Profile(dfdataEB['rho'], dfdataEB[yvar]      ,100,0.,40.,ax, 'red',dfdataEB[\"weight\"])\n",
    "    plot.Profile(dfmcEB['rho']  , dfmcEB[yvar+'_corr'],100,0.,40.,ax, 'blue',dfmcEB[\"weight\"])\n",
    "\n",
    "    fig = plt.figure(figsize=(8, 6))\n",
    "    ax = fig.add_subplot(111)\n",
    "    ax.set_ylim(minEE, maxEE)\n",
    "    ax.set_xlabel('rho')\n",
    "    ax.set_ylabel(yvar)\n",
    "    plot.Profile(dfmcEE['rho']  , dfmcEE[yvar]        ,100,0.,40.,ax, 'green',dfmcEE[\"weight\"])\n",
    "    plot.Profile(dfdataEE['rho'], dfdataEE[yvar]      ,100,0.,40.,ax, 'red',dfdataEE[\"weight\"])\n",
    "    plot.Profile(dfmcEE['rho']  , dfmcEE[yvar+'_corr'],100,0.,40.,ax, 'blue',dfmcEE[\"weight\"])\n",
    "\n",
    "    fig = plt.figure(figsize=(8, 6))\n",
    "    ax = fig.add_subplot(111)\n",
    "    ax.set_ylim(minEB,maxEB)\n",
    "    ax.set_xlabel('ntvx')\n",
    "    ax.set_ylabel(yvar)\n",
    "    plot.Profile(dfmcEB['nvtx']  , dfmcEB[yvar]        ,41,0.,40.,ax, 'green',dfmcEB[\"weight\"])\n",
    "    plot.Profile(dfdataEB['nvtx'], dfdataEB[yvar]      ,41,0.,40.,ax, 'red',dfdataEB[\"weight\"])\n",
    "    plot.Profile(dfmcEB['nvtx']  , dfmcEB[yvar+'_corr'],41,0.,40.,ax, 'blue',dfmcEB[\"weight\"])\n",
    "\n",
    "    fig = plt.figure(figsize=(8, 6))\n",
    "    ax = fig.add_subplot(111)\n",
    "    ax.set_ylim(minEE, maxEE)\n",
    "    ax.set_xlabel('ntvx')\n",
    "    ax.set_ylabel(yvar)\n",
    "    plot.Profile(dfmcEE['nvtx']  , dfmcEE[yvar]        ,41,0.,40.,ax, 'green',dfmcEE[\"weight\"])\n",
    "    plot.Profile(dfdataEE['nvtx'], dfdataEE[yvar]      ,41,0.,40.,ax, 'red',dfdataEE[\"weight\"])\n",
    "    plot.Profile(dfmcEE['nvtx']  , dfmcEE[yvar+'_corr'],41,0.,40.,ax, 'blue',dfmcEE[\"weight\"])\n",
    "\n",
    "    fig = plt.figure(figsize=(8, 6))\n",
    "    ax = fig.add_subplot(111)\n",
    "    ax.set_ylim(minEB,maxEB)\n",
    "    ax.set_xlabel('Phi')\n",
    "    ax.set_ylabel(yvar)\n",
    "    plot.Profile(dfmcEB['Phi']  , dfmcEB[yvar]        ,100,-3.14,3.14,ax, 'green',dfmcEB[\"weight\"])\n",
    "    plot.Profile(dfdataEB['Phi'], dfdataEB[yvar]      ,100,-3.14,3.14,ax, 'red',dfdataEB[\"weight\"])\n",
    "    plot.Profile(dfmcEB['Phi']  , dfmcEB[yvar+'_corr'],100,-3.14,3.14,ax, 'blue',dfmcEB[\"weight\"])\n",
    "\n",
    "    fig = plt.figure(figsize=(8, 6))\n",
    "    ax = fig.add_subplot(111)\n",
    "    ax.set_ylim(minEE, maxEE)\n",
    "    ax.set_xlabel('Phi')\n",
    "    ax.set_ylabel(yvar)\n",
    "    plot.Profile(dfmcEE['Phi']  , dfmcEE[yvar]        ,100,-3.14,3.14,ax, 'green',dfmcEE[\"weight\"])\n",
    "    plot.Profile(dfdataEE['Phi'], dfdataEE[yvar]      ,100,-3.14,3.14,ax, 'red',dfdataEE[\"weight\"])\n",
    "    plot.Profile(dfmcEE['Phi']  , dfmcEE[yvar+'_corr'],100,-3.14,3.14,ax, 'blue',dfmcEE[\"weight\"])"
   ]
  },
  {
   "cell_type": "code",
   "execution_count": null,
   "metadata": {
    "collapsed": true
   },
   "outputs": [],
   "source": []
  }
 ],
 "metadata": {
  "anaconda-cloud": {},
  "kernelspec": {
   "display_name": "Python [default]",
   "language": "python",
   "name": "python2"
  },
  "language_info": {
   "codemirror_mode": {
    "name": "ipython",
    "version": 2
   },
   "file_extension": ".py",
   "mimetype": "text/x-python",
   "name": "python",
   "nbconvert_exporter": "python",
   "pygments_lexer": "ipython2",
   "version": "2.7.12"
  }
 },
 "nbformat": 4,
 "nbformat_minor": 0
}
