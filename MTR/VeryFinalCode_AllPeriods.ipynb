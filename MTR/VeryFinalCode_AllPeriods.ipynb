{
 "cells": [
  {
   "cell_type": "code",
   "execution_count": 1,
   "metadata": {
    "collapsed": false
   },
   "outputs": [
    {
     "data": {
      "application/javascript": [
       "require(['codemirror/mode/clike/clike'], function(Clike) { console.log('ROOTaaS - C++ CodeMirror module loaded'); });"
      ]
     },
     "metadata": {},
     "output_type": "display_data"
    },
    {
     "data": {
      "application/javascript": [
       "IPython.CodeCell.config_defaults.highlight_modes['magic_text/x-c++src'] = {'reg':[/^%%cpp/]};"
      ]
     },
     "metadata": {},
     "output_type": "display_data"
    },
    {
     "name": "stdout",
     "output_type": "stream",
     "text": [
      "Welcome to ROOTaaS 6.06/08\n"
     ]
    }
   ],
   "source": [
    "from quantileRegression import quantileRegression\n",
    "import numpy as np\n",
    "import runNumbers as rn\n",
    "import Plotting as plot\n",
    "import matplotlib.pyplot as plt\n",
    "%matplotlib inline\n",
    "import pandas as pd\n",
    "from pandas import Series, DataFrame\n",
    "# %matplotlib notebook\n",
    "plt.style.use('ggplot')"
   ]
  },
  {
   "cell_type": "code",
   "execution_count": 2,
   "metadata": {
    "collapsed": true
   },
   "outputs": [],
   "source": [
    "\n",
    "#---------------------------------------------------------------------\n",
    "#TEST USING QUANTILE REGRESSION ON EB/EE DATA SEPARATELY AND UNIFIED AFTERWARDS, WITH AND WITHOUT WEIGHTS\n",
    "#---------------------------------------------------------------------\n"
   ]
  },
  {
   "cell_type": "code",
   "execution_count": 3,
   "metadata": {
    "collapsed": false
   },
   "outputs": [],
   "source": [
    "ylist = [\"R9\", \"S4\", \"SigmaIeIe\", \"EtaWidth\", \"PhiWidth\", \"CovarianceIphiIphi\",'CovarianceIetaIphi']\n",
    "X = ['Pt', 'ScEta', 'Phi', 'rho']  # <<-- list\n",
    "quantiles = [ 0.1, 0.2, 0.3, 0.4, 0.5, 0.6, 0.7, 0.8, 0.9 ]"
   ]
  },
  {
   "cell_type": "code",
   "execution_count": null,
   "metadata": {
    "collapsed": false
   },
   "outputs": [
    {
     "name": "stdout",
     "output_type": "stream",
     "text": [
      "Loading dataframe from :  /mnt/t3nfs01/data01/shome/giulioisac/dataMC/MTR/df_mc_Last_Test.h5\n",
      "\u001b[92mSelecting events \u001b[0m  [ 0 ,  11093908 ]  out of  11093908\n",
      "number of events: 11093908\n",
      "Loading dataframe from :  /mnt/t3nfs01/data01/shome/giulioisac/dataMC/MTR/df_mc_Last_Test.h5\n",
      "\u001b[92mSelecting events \u001b[0m  [ 0 ,  11093908 ]  out of  11093908\n",
      "number of events: 11093908\n",
      "Loading dataframe from :  /mnt/t3nfs01/data01/shome/giulioisac/dataMC/MTR/df_data_Last_Test.h5\n",
      "\u001b[92mSelecting events \u001b[0m  [ 0 ,  19686714 ]  out of  19686714\n",
      "number of events: 19686714\n"
     ]
    }
   ],
   "source": [
    "# Upload Dataframes- mc have already a fake run period\n",
    "qr_mc1= quantileRegression(\"mc\")\n",
    "qr_mc2= quantileRegression(\"mc\")\n",
    "qr_data= quantileRegression(\"data\")\n",
    "qr_mc1.loadDFh5(\"/mnt/t3nfs01/data01/shome/giulioisac/dataMC/MTR/df_mc_Last_Test.h5\", 0, -1)\n",
    "qr_mc2.loadDFh5(\"/mnt/t3nfs01/data01/shome/giulioisac/dataMC/MTR/df_mc_Last_Test.h5\", 0, -1)\n",
    "qr_data.loadDFh5(\"/mnt/t3nfs01/data01/shome/giulioisac/dataMC/MTR/df_data_Last_Test.h5\", 0, -1)\n",
    "dfdata= qr_data.getDF() "
   ]
  },
  {
   "cell_type": "code",
   "execution_count": null,
   "metadata": {
    "collapsed": false,
    "scrolled": true
   },
   "outputs": [
    {
     "name": "stdout",
     "output_type": "stream",
     "text": [
      "Corrected variables file (e.g.  correctedTargetsweights_Period_1_EB.h5  ) does not exists. This will take a while...\n",
      "Correct EB :\n",
      "-1.4442  <  ScEta  and  ScEta  <  1.4442\n",
      "Loading mc weights for  R9  : \n",
      "    ./weights/weights_Period_1/mc_weights_EB\n",
      "Loading data weights for  R9\n",
      "    ./weights/weights_Period_1/data_weights_EB\n",
      "Get corrections for  R9  with quantiles  [0.1, 0.2, 0.3, 0.4, 0.5, 0.6, 0.7, 0.8, 0.9]\n",
      "Features: X =  ['Pt', 'ScEta', 'Phi', 'rho']  target y =  R9\n"
     ]
    },
    {
     "name": "stderr",
     "output_type": "stream",
     "text": [
      "[Parallel(n_jobs=30)]: Done   1 tasks      | elapsed:    6.9s\n",
      "[Parallel(n_jobs=30)]: Done   3 out of  30 | elapsed:    7.4s remaining:  1.1min\n",
      "[Parallel(n_jobs=30)]: Done   5 out of  30 | elapsed:    7.8s remaining:   39.1s\n",
      "[Parallel(n_jobs=30)]: Done   7 out of  30 | elapsed:    8.2s remaining:   26.9s\n",
      "[Parallel(n_jobs=30)]: Done   9 out of  30 | elapsed:    8.6s remaining:   20.0s\n",
      "[Parallel(n_jobs=30)]: Done  11 out of  30 | elapsed:    9.0s remaining:   15.6s\n",
      "[Parallel(n_jobs=30)]: Done  13 out of  30 | elapsed:    9.3s remaining:   12.2s\n",
      "[Parallel(n_jobs=30)]: Done  15 out of  30 | elapsed:    9.7s remaining:    9.7s\n",
      "[Parallel(n_jobs=30)]: Done  17 out of  30 | elapsed:   10.1s remaining:    7.7s\n",
      "[Parallel(n_jobs=30)]: Done  19 out of  30 | elapsed:   10.5s remaining:    6.1s\n",
      "[Parallel(n_jobs=30)]: Done  21 out of  30 | elapsed:   10.9s remaining:    4.7s\n",
      "[Parallel(n_jobs=30)]: Done  23 out of  30 | elapsed:   11.3s remaining:    3.4s\n",
      "[Parallel(n_jobs=30)]: Done  25 out of  30 | elapsed:   11.7s remaining:    2.3s\n",
      "[Parallel(n_jobs=30)]: Done  27 out of  30 | elapsed:   12.1s remaining:    1.3s\n",
      "[Parallel(n_jobs=30)]: Done  30 out of  30 | elapsed:   12.5s finished\n"
     ]
    },
    {
     "name": "stdout",
     "output_type": "stream",
     "text": [
      "Loading mc weights for  S4  : \n",
      "    ./weights/weights_Period_1/mc_weights_EB\n",
      "Loading data weights for  S4\n",
      "    ./weights/weights_Period_1/data_weights_EB\n",
      "Get corrections for  S4  with quantiles  [0.1, 0.2, 0.3, 0.4, 0.5, 0.6, 0.7, 0.8, 0.9]\n",
      "Features: X =  ['Pt', 'ScEta', 'Phi', 'rho']  target y =  S4\n"
     ]
    },
    {
     "name": "stderr",
     "output_type": "stream",
     "text": [
      "[Parallel(n_jobs=30)]: Done   1 tasks      | elapsed:    6.8s\n",
      "[Parallel(n_jobs=30)]: Done   3 out of  30 | elapsed:    7.2s remaining:  1.1min\n",
      "[Parallel(n_jobs=30)]: Done   5 out of  30 | elapsed:    7.7s remaining:   38.3s\n",
      "[Parallel(n_jobs=30)]: Done   7 out of  30 | elapsed:    8.0s remaining:   26.2s\n",
      "[Parallel(n_jobs=30)]: Done   9 out of  30 | elapsed:    8.5s remaining:   19.7s\n",
      "[Parallel(n_jobs=30)]: Done  11 out of  30 | elapsed:    8.8s remaining:   15.2s\n",
      "[Parallel(n_jobs=30)]: Done  13 out of  30 | elapsed:    9.2s remaining:   12.0s\n",
      "[Parallel(n_jobs=30)]: Done  15 out of  30 | elapsed:    9.6s remaining:    9.6s\n",
      "[Parallel(n_jobs=30)]: Done  17 out of  30 | elapsed:    9.9s remaining:    7.6s\n",
      "[Parallel(n_jobs=30)]: Done  19 out of  30 | elapsed:   10.4s remaining:    6.0s\n",
      "[Parallel(n_jobs=30)]: Done  21 out of  30 | elapsed:   10.8s remaining:    4.6s\n",
      "[Parallel(n_jobs=30)]: Done  23 out of  30 | elapsed:   11.1s remaining:    3.4s\n",
      "[Parallel(n_jobs=30)]: Done  25 out of  30 | elapsed:   11.6s remaining:    2.3s\n",
      "[Parallel(n_jobs=30)]: Done  27 out of  30 | elapsed:   12.0s remaining:    1.3s\n",
      "[Parallel(n_jobs=30)]: Done  30 out of  30 | elapsed:   12.5s finished\n"
     ]
    },
    {
     "name": "stdout",
     "output_type": "stream",
     "text": [
      "Loading mc weights for  SigmaIeIe  : \n",
      "    ./weights/weights_Period_1/mc_weights_EB\n"
     ]
    }
   ],
   "source": [
    "qr_mc1.correctAllParallel(X, ylist, quantiles,EBEE=\"EB\", relativePath= \"weights_Period_\",n_jobs=30) \n",
    "qr_mc2.correctAllParallel(X, ylist, quantiles,EBEE=\"EE\", relativePath= \"weights_Period_\",n_jobs=30) "
   ]
  },
  {
   "cell_type": "code",
   "execution_count": null,
   "metadata": {
    "collapsed": false
   },
   "outputs": [],
   "source": [
    "dfmcEB= qr_mc1.df\n",
    "dfmcEE= qr_mc2.df \n",
    "dfdataEB = dfdata.query('-1.444 < ScEta & ScEta <1.444') # ('abs(ScEta)<1.444')\n",
    "dfdataEE = dfdata.query('ScEta < -1.57 | ScEta >1.57  ') # ('abs(ScEta)>1.57')"
   ]
  },
  {
   "cell_type": "code",
   "execution_count": null,
   "metadata": {
    "collapsed": false,
    "scrolled": false
   },
   "outputs": [],
   "source": [
    "# All periods + integrated + EB\n",
    "dfm=dfmcEB\n",
    "dfd=dfdataEB\n",
    "sec= \"EB\"\n",
    "name0=\"AllPeriods_Integrated_\"+sec\n",
    "section= \"section1\"\n",
    "f = open('Plots/'+section+'.tex', \"w\")\n",
    "f.write('\\part{All Periods Integrated '+sec+\"}\")\n",
    "f.close()\n",
    "print ylist\n",
    "for yvar in ylist:\n",
    "    yvarcorr = yvar+\"_corr\"\n",
    "    print \"plotting \", yvar\n",
    "    if yvar == \"R9\":\n",
    "        if sec==\"EB\":\n",
    "            rv  = np.arange(0.0,1.0,0.0015)\n",
    "            rv2 = np.arange(0.8,1.0,0.0015)\n",
    "        else:\n",
    "            rv  = np.arange(0.0,1.0,0.003)\n",
    "            rv2 = np.arange(0.8,1.0,0.002)\n",
    "    if yvar == \"S4\":\n",
    "        if sec==\"EB\":\n",
    "            rv = np.arange(0.0,1.0,0.002)\n",
    "            rv2 = np.arange(0.8,1.0,0.002)\n",
    "        else:\n",
    "            rv  = np.arange(0.0,1.0,0.003)\n",
    "            rv2 = np.arange(0.8,1.0,0.002)\n",
    "    if yvar == \"SigmaIeIe\":\n",
    "        if sec==\"EB\":\n",
    "            rv = np.arange(0.004,0.03,0.0002)\n",
    "            rv2 = np.arange(0.015,0.030,0.0002)\n",
    "        else:\n",
    "            rv = np.arange(0.014,0.020,0.0002)\n",
    "            rv2 = np.arange(0.015,0.030,0.0002)\n",
    "    if yvar == \"EtaWidth\":\n",
    "        if sec==\"EB\":\n",
    "            rv = np.arange(0.0,0.05,0.0002)\n",
    "            rv2 = np.arange(0.005,0.025,0.0001)\n",
    "        else:\n",
    "            rv = np.arange(0.0,0.05,0.0005)\n",
    "            rv2 = np.arange(0.005,0.025,0.0002)\n",
    "    if yvar == \"PhiWidth\":\n",
    "        if sec==\"EB\":\n",
    "            rv = np.arange(0.0,0.2,0.001)\n",
    "            rv2 = np.arange(0.0,0.05,0.0003)\n",
    "        else:\n",
    "            rv = np.arange(0.0,0.2,0.002)\n",
    "            rv2 = np.arange(0.0,0.05,0.0006)\n",
    "    if yvar == \"CovarianceIphiIphi\":\n",
    "        if sec==\"EB\":\n",
    "            rv  = np.arange(0.0, 0.02,0.0001)\n",
    "            rv2 = np.arange(0.02, 0.05,0.0002)\n",
    "        else:\n",
    "            rv  = np.arange(0.0, 0.02,0.0002)\n",
    "            rv2 = np.arange(0.02, 0.05,0.0004)\n",
    "    if yvar == \"CovarianceIetaIphi\":\n",
    "        if sec==\"EB\":\n",
    "            rv = np.arange(-0.0002, 0.0002,0.000001) \n",
    "            rv2 = np.arange(-0.00004, 0.00004,0.000001)\n",
    "        else:\n",
    "            rv = np.arange(-0.0002, 0.0002,0.00001) \n",
    "            rv2 = np.arange(-0.00004, 0.00004,0.000002)\n",
    "    fig = plt.figure(dpi=400)\n",
    "    ax = fig.add_subplot(111)\n",
    "    ax.set_xlabel(yvar)\n",
    "    plot.plotHistErr(dfd[yvar], rv, Color=\"r\", Weight=dfd[\"weight\"])\n",
    "    plot.plotHistErr(dfm[yvar], rv,Weight=dfm[\"weight\"], Color=\"g\")  \n",
    "    plot.plotHistErr(dfm[yvar+\"_corr\"], rv,Weight=dfm[\"weight\"], Color=\"b\")\n",
    "    fig = plt.figure(dpi=400)\n",
    "    ax.ticklabel_format(axis='x', style='sci', scilimits=(-2,2))\n",
    "    name= name0+yvar\n",
    "    fig.savefig('Plots/'+name+'.png', dpi=fig.dpi)\n",
    "    plot.exportToPdf(name,section)\n",
    "    fig = plt.figure(dpi=400)\n",
    "    ax = fig.add_subplot(111)\n",
    "    ax.set_xlabel(yvar)\n",
    "    ax.ticklabel_format(axis='x', style='sci', scilimits=(-2,2))\n",
    "    plot.plotHistErr(dfd[yvar], rv2, Color=\"r\", Weight=dfd[\"weight\"])\n",
    "    plot.plotHistErr(dfm[yvar], rv2,Weight=dfm[\"weight\"], Color=\"g\") \n",
    "    plot.plotHistErr(dfm[yvar+\"_corr\"], rv2,Weight=dfm[\"weight\"], Color=\"b\")\n",
    "    name= name0+\"Zoom\"+yvar\n",
    "    fig.savefig('Plots/'+name+'.png', dpi=fig.dpi)\n",
    "    plot.exportToPdf(name,section)"
   ]
  },
  {
   "cell_type": "code",
   "execution_count": null,
   "metadata": {
    "collapsed": false
   },
   "outputs": [],
   "source": [
    "# All periods + integrated + EE\n",
    "dfm=dfmcEE\n",
    "dfd=dfdataEE\n",
    "sec= \"EE\"\n",
    "name0=\"AllPeriods_Integrated_\"+sec\n",
    "section= \"section2\"\n",
    "f = open('Plots/'+section+'.tex', \"w\")\n",
    "f.write('\\part{All Periods Integrated '+sec+\"}\")\n",
    "f.close()\n",
    "print ylist\n",
    "for yvar in ylist:\n",
    "    yvarcorr = yvar+\"_corr\"\n",
    "    print \"plotting \", yvar\n",
    "    if yvar == \"R9\":\n",
    "        if sec==\"EB\":\n",
    "            rv  = np.arange(0.0,1.0,0.0015)\n",
    "            rv2 = np.arange(0.8,1.0,0.0015)\n",
    "        else:\n",
    "            rv  = np.arange(0.0,1.0,0.003)\n",
    "            rv2 = np.arange(0.8,1.0,0.002)\n",
    "    if yvar == \"S4\":\n",
    "        if sec==\"EB\":\n",
    "            rv = np.arange(0.0,1.0,0.002)\n",
    "            rv2 = np.arange(0.8,1.0,0.002)\n",
    "        else:\n",
    "            rv  = np.arange(0.0,1.0,0.003)\n",
    "            rv2 = np.arange(0.8,1.0,0.002)\n",
    "    if yvar == \"SigmaIeIe\":\n",
    "        if sec==\"EB\":\n",
    "            rv = np.arange(0.004,0.03,0.0002)\n",
    "            rv2 = np.arange(0.015,0.030,0.0002)\n",
    "        else:\n",
    "            rv = np.arange(0.014,0.020,0.0002)\n",
    "            rv2 = np.arange(0.015,0.030,0.0002)\n",
    "    if yvar == \"EtaWidth\":\n",
    "        if sec==\"EB\":\n",
    "            rv = np.arange(0.0,0.05,0.0002)\n",
    "            rv2 = np.arange(0.005,0.025,0.0001)\n",
    "        else:\n",
    "            rv = np.arange(0.0,0.05,0.0005)\n",
    "            rv2 = np.arange(0.005,0.025,0.0002)\n",
    "    if yvar == \"PhiWidth\":\n",
    "        if sec==\"EB\":\n",
    "            rv = np.arange(0.0,0.2,0.001)\n",
    "            rv2 = np.arange(0.0,0.05,0.0003)\n",
    "        else:\n",
    "            rv = np.arange(0.0,0.2,0.002)\n",
    "            rv2 = np.arange(0.0,0.05,0.0006)\n",
    "    if yvar == \"CovarianceIphiIphi\":\n",
    "        if sec==\"EB\":\n",
    "            rv  = np.arange(0.0, 0.02,0.0001)\n",
    "            rv2 = np.arange(0.02, 0.05,0.0002)\n",
    "        else:\n",
    "            rv  = np.arange(0.0, 0.02,0.0002)\n",
    "            rv2 = np.arange(0.02, 0.05,0.0004)\n",
    "    if yvar == \"CovarianceIetaIphi\":\n",
    "        if sec==\"EB\":\n",
    "            rv = np.arange(-0.0002, 0.0002,0.000001) \n",
    "            rv2 = np.arange(-0.00004, 0.00004,0.000001)\n",
    "        else:\n",
    "            rv = np.arange(-0.0002, 0.0002,0.00001) \n",
    "            rv2 = np.arange(-0.00004, 0.00004,0.000002)\n",
    "    fig = plt.figure(dpi=400)\n",
    "    ax = fig.add_subplot(111)\n",
    "    ax.set_xlabel(yvar)\n",
    "    plot.plotHistErr(dfd[yvar], rv, Color=\"r\", Weight=dfd[\"weight\"])\n",
    "    plot.plotHistErr(dfm[yvar], rv,Weight=dfm[\"weight\"], Color=\"g\")  \n",
    "    plot.plotHistErr(dfm[yvar+\"_corr\"], rv,Weight=dfm[\"weight\"], Color=\"b\")\n",
    "    ax.ticklabel_format(axis='x', style='sci', scilimits=(-2,2))\n",
    "    name= name0+yvar\n",
    "    fig.savefig('Plots/'+name+'.png', dpi=fig.dpi)\n",
    "    plot.exportToPdf(name,section)\n",
    "    fig = plt.figure(dpi=400)\n",
    "    ax = fig.add_subplot(111)\n",
    "    ax.set_xlabel(yvar)\n",
    "    ax.ticklabel_format(axis='x', style='sci', scilimits=(-2,2))\n",
    "    plot.plotHistErr(dfd[yvar], rv2, Color=\"r\", Weight=dfd[\"weight\"])\n",
    "    plot.plotHistErr(dfm[yvar], rv2,Weight=dfm[\"weight\"], Color=\"g\") \n",
    "    plot.plotHistErr(dfm[yvar+\"_corr\"], rv2,Weight=dfm[\"weight\"], Color=\"b\")\n",
    "    name= name0+\"Zoom\"+yvar\n",
    "    fig.savefig('Plots/'+name+'.png', dpi=fig.dpi)\n",
    "    plot.exportToPdf(name,section)"
   ]
  },
  {
   "cell_type": "code",
   "execution_count": null,
   "metadata": {
    "collapsed": false
   },
   "outputs": [],
   "source": [
    "# split profiles in EB/EE (profile meaningless when the values of the variable are very different in the two cases)\n",
    "dfm=dfmcEB\n",
    "dfd=dfdataEB\n",
    "sec= \"EB\"\n",
    "name0=\"AllPeriods_Profiles_\"+sec\n",
    "section= \"section3\"\n",
    "f = open('Plots/'+section+'.tex', \"w\")\n",
    "f.write('\\part{All Periods Profiles '+sec+\"}\")\n",
    "f.close()\n",
    "\n",
    "for yvar in ylist:\n",
    "    yvarcorr = yvar+\"_corr\"\n",
    "    print \"plotting \", yvar\n",
    "    if yvar == \"R9\":\n",
    "        if sec==\"EB\":\n",
    "            minY, maxY = 0.7, 1.0\n",
    "            ymin,ymax=0.78,0.95\n",
    "        else: \n",
    "            minY, maxY = 0.7, 1.0\n",
    "            ymin,ymax=0.78,0.95\n",
    "    if yvar == \"S4\":\n",
    "        if sec==\"EB\":\n",
    "            minY, maxY = 0.75, 0.95\n",
    "            ymin,ymax=0.82,0.90\n",
    "        else: \n",
    "            minY, maxY = 0.75, 0.95\n",
    "            ymin,ymax=0.82,0.90\n",
    "    if yvar == \"SigmaIeIe\":\n",
    "        if sec==\"EB\":\n",
    "            minY, maxY = 0.007, 0.01\n",
    "            ymin,ymax=0.0083,0.0092\n",
    "        else: \n",
    "            minY, maxY = 0.022, 0.028\n",
    "            ymin,ymax=0.023,0.026\n",
    "    if yvar == \"EtaWidth\":\n",
    "        if sec==\"EB\":\n",
    "            minY, maxY = 0.006, 0.012\n",
    "            ymin,ymax=0.008,0.01\n",
    "        else: \n",
    "            minY, maxY = 0.005, 0.030\n",
    "            ymin,ymax=0.005,0.03\n",
    "    if yvar == \"PhiWidth\":\n",
    "        if sec==\"EB\": \n",
    "            minY, maxY = 0.001, 0.08\n",
    "            ymin,ymax=0.01,0.05\n",
    "        else: \n",
    "            minY, maxY = 0.001, 0.08\n",
    "            ymin,ymax=0.025,0.05\n",
    "    if yvar == \"CovarianceIphiIphi\":\n",
    "        if sec==\"EB\":\n",
    "            minY, maxY = 0.010, 0.016\n",
    "            ymin,ymax=0.0115,0.0135\n",
    "        else: \n",
    "            minY, maxY = 0.02, 0.040\n",
    "            ymin,ymax=0.028,0.036\n",
    "    if yvar == \"CovarianceIetaIphi\":\n",
    "        if sec==\"EB\":\n",
    "            minY, maxY = -0.00001, 0.00001\n",
    "            ymin,ymax=-0.000003,0.000003\n",
    "        else: \n",
    "            minY, maxY = -0.0002, 0.0002\n",
    "            ymin,ymax=-0.00003,0.00003\n",
    "    for xvar in X:\n",
    "        if xvar==\"ScEta\":\n",
    "            xmin,xmax= -2.5,2.5\n",
    "        if xvar==\"Pt\":\n",
    "            xmin,xmax=20.0,80.0\n",
    "        if xvar=='rho':\n",
    "            xmin,xmax=0.,40.\n",
    "        if xvar==\"Phi\":\n",
    "            xmin,xmax=-3.14,3.14\n",
    "            \n",
    "        fig = plt.figure(dpi=400)\n",
    "        ax = fig.add_subplot(111)\n",
    "        ax.ticklabel_format(axis='x', style='sci', scilimits=(-2,2))\n",
    "        ax.ticklabel_format(axis='y', style='sci', scilimits=(-2,2))\n",
    "        ax.set_xlabel(xvar)\n",
    "        ax.set_ylabel(yvar)\n",
    "        ax.set_xlim(xmin,xmax)\n",
    "        ax.set_ylim(minY,maxY)\n",
    "        plot.Profile(dfm[xvar]  , dfm[yvar]        ,100,xmin,xmax,minY,maxY,ax,'green',dfm[\"weight\"])\n",
    "        plot.Profile(dfd[xvar]  , dfd[yvar]        ,100,xmin,xmax,minY,maxY,ax,'red',dfd[\"weight\"])\n",
    "        plot.Profile(dfm[xvar]  , dfm[yvar+'_corr']        ,100,xmin,xmax,minY,maxY,ax,'blue',dfm[\"weight\"])\n",
    "        ax.ticklabel_format(axis='x', style='sci', scilimits=(-2,2))\n",
    "        ax.ticklabel_format(axis='y', style='sci', scilimits=(-2,2))\n",
    "        name= name0+yvar+\"vs\"+xvar\n",
    "        fig.savefig('Plots/'+name+'.png', dpi=fig.dpi)\n",
    "        plot.exportToPdf(name,section)"
   ]
  },
  {
   "cell_type": "code",
   "execution_count": null,
   "metadata": {
    "collapsed": false,
    "scrolled": false
   },
   "outputs": [],
   "source": [
    "# split profiles in EB/EE (profile meaningless when the values of the variable are very different in the two cases)\n",
    "dfm=dfmcEE\n",
    "dfd=dfdataEE\n",
    "sec= \"EE\"\n",
    "name0=\"AllPeriods_Profiles_\"+sec\n",
    "section= \"section4\"\n",
    "f = open('Plots/'+section+'.tex', \"w\")\n",
    "f.write('\\part{All Periods Profiles '+sec+\"}\")\n",
    "f.close()\n",
    "\n",
    "for yvar in ylist:\n",
    "    yvarcorr = yvar+\"_corr\"\n",
    "    print \"plotting \", yvar\n",
    "    if yvar == \"R9\":\n",
    "        if sec==\"EB\":\n",
    "            minY, maxY = 0.7, 1.0\n",
    "            ymin,ymax=0.78,0.95\n",
    "        else: \n",
    "            minY, maxY = 0.7, 1.0\n",
    "            ymin,ymax=0.78,0.95\n",
    "    if yvar == \"S4\":\n",
    "        if sec==\"EB\":\n",
    "            minY, maxY = 0.75, 0.95\n",
    "            ymin,ymax=0.82,0.90\n",
    "        else: \n",
    "            minY, maxY = 0.75, 0.95\n",
    "            ymin,ymax=0.82,0.90\n",
    "    if yvar == \"SigmaIeIe\":\n",
    "        if sec==\"EB\":\n",
    "            minY, maxY = 0.007, 0.015\n",
    "            ymin,ymax=0.0083,0.0092\n",
    "        else: \n",
    "            minY, maxY = 0.022, 0.028\n",
    "            ymin,ymax=0.023,0.026\n",
    "    if yvar == \"EtaWidth\":\n",
    "        if sec==\"EB\":\n",
    "            minY, maxY = 0.006, 0.012\n",
    "            ymin,ymax=0.008,0.01\n",
    "        else: \n",
    "            minY, maxY = 0.005, 0.030\n",
    "            ymin,ymax=0.005,0.03\n",
    "    if yvar == \"PhiWidth\":\n",
    "        if sec==\"EB\": \n",
    "            minY, maxY = 0.001, 0.08\n",
    "            ymin,ymax=0.01,0.05\n",
    "        else: \n",
    "            minY, maxY = 0.001, 0.08\n",
    "            ymin,ymax=0.025,0.05\n",
    "    if yvar == \"CovarianceIphiIphi\":\n",
    "        if sec==\"EB\":\n",
    "            minY, maxY = 0.010, 0.016\n",
    "            ymin,ymax=0.0115,0.0135\n",
    "        else: \n",
    "            minY, maxY = 0.02, 0.040\n",
    "            ymin,ymax=0.028,0.036\n",
    "    if yvar == \"CovarianceIetaIphi\":\n",
    "        if sec==\"EB\":\n",
    "            minY, maxY = -0.00001, 0.00001\n",
    "            ymin,ymax=-0.000003,0.000003\n",
    "        else: \n",
    "            minY, maxY = -0.0002, 0.0002\n",
    "            ymin,ymax=-0.00003,0.00003\n",
    "    for xvar in X:\n",
    "        if xvar==\"ScEta\":\n",
    "            xmin,xmax= -2.5,2.5\n",
    "        if xvar==\"Pt\":\n",
    "            xmin,xmax=20.0,80.0\n",
    "        if xvar=='rho':\n",
    "            xmin,xmax=0.,40.\n",
    "        if xvar==\"Phi\":\n",
    "            xmin,xmax=-3.14,3.14\n",
    "            \n",
    "        fig = plt.figure(dpi=400)\n",
    "        ax = fig.add_subplot(111)\n",
    "        ax.ticklabel_format(axis='x', style='sci', scilimits=(-2,2))\n",
    "        ax.ticklabel_format(axis='y', style='sci', scilimits=(-2,2))\n",
    "        ax.set_xlabel(xvar)\n",
    "        ax.set_ylabel(yvar)\n",
    "        ax.set_xlim(xmin,xmax)\n",
    "        ax.set_ylim(minY,maxY)\n",
    "        plot.Profile(dfm[xvar]  , dfm[yvar]        ,100,xmin,xmax,minY,maxY,ax,'green',dfm[\"weight\"])\n",
    "        plot.Profile(dfd[xvar]  , dfd[yvar]        ,100,xmin,xmax,minY,maxY,ax,'red',dfd[\"weight\"])\n",
    "        plot.Profile(dfm[xvar]  , dfm[yvar+'_corr']        ,100,xmin,xmax,minY,maxY,ax,'blue',dfm[\"weight\"])\n",
    "        ax.ticklabel_format(axis='x', style='sci', scilimits=(-2,2))\n",
    "        ax.ticklabel_format(axis='y', style='sci', scilimits=(-2,2))\n",
    "        name= name0+yvar+\"vs\"+xvar\n",
    "        fig.savefig('Plots/'+name+'.png', dpi=fig.dpi)\n",
    "        plot.exportToPdf(name,section)"
   ]
  },
  {
   "cell_type": "code",
   "execution_count": null,
   "metadata": {
    "collapsed": true
   },
   "outputs": [],
   "source": [
    "showerShapes = ['R9', 'SigmaIeIe', 'PhiWidth', 'EtaWidth', 'CovarianceIetaIphi', 'S4',\"CovarianceIphiIphi\"]\n",
    "\n",
    "mvas = [ (\"moriondPhoID\",dict(correct=[], rhoSubtraction=True) ), \n",
    "         (\"moriondPhoIDcorrShowerShapes\",dict(correct=showerShapes, rhoSubtraction=True) ) ]# ,\n",
    "##(\"moriondPhoIDcorrIso\",dict(correct=['PhoIso03'],rhoSubtraction=True)),\n",
    "#(\"moriondPhoIDcorrAll\",dict(correct=showerShapes+['PhoIso03'], rhoSubtraction=True))]\n",
    "\n",
    "weights = (\"./phoIDMVAweights/HggPhoId_barrel_Moriond2017_wRhoRew.weights.xml\",\"./phoIDMVAweights/HggPhoId_endcap_Moriond2017_wRhoRew.weights.xml\")"
   ]
  },
  {
   "cell_type": "code",
   "execution_count": null,
   "metadata": {
    "collapsed": false
   },
   "outputs": [],
   "source": [
    "n_jobs=30\n",
    "dfmc1= qr_mc1.getDF() \n",
    "dfmc2= qr_mc2.getDF() \n",
    "frame2 = [dfmc1, dfmc2] \n",
    "data2 = pd.concat(frame2)\n",
    "qr_mc= quantileRegression(\"mc\")\n",
    "qr_mc.df = data2.reset_index(drop=True)\n",
    "%time qr_data.computeIdMvas( mvas[:1],  weights, n_jobs=n_jobs )\n",
    "%time qr_mc.computeIdMvas( mvas, weights, n_jobs=n_jobs )\n",
    "dfmc = qr_mc.getDF()\n",
    "dfdata = qr_data.getDF()"
   ]
  },
  {
   "cell_type": "code",
   "execution_count": null,
   "metadata": {
    "collapsed": false
   },
   "outputs": [],
   "source": [
    "dfEB   = dfdata  .query('(-1.444 < ScEta and ScEta <1.444) and (mass > 70 and mass < 110)  and (ChIso03 < 5)') \n",
    "dfEE   = dfdata  .query('(ScEta < -1.57 or ScEta >1.57) and (mass > 70 and mass < 110)  and (ChIso03 < 5)')# and (R9>0.8)')\n",
    "dfmcEB   = dfmc  .query('(-1.444 < ScEta and ScEta <1.444)  and (mass > 70 and mass < 110) and (ChIso03 < 5)') \n",
    "dfmcEE   = dfmc  .query('(ScEta < -1.57 or ScEta >1.57) and (mass > 70 and mass < 110)  and (ChIso03 < 5)')# and (R9>0.8)')"
   ]
  },
  {
   "cell_type": "code",
   "execution_count": null,
   "metadata": {
    "collapsed": false
   },
   "outputs": [],
   "source": [
    "bins = np.linspace(-1,1,101)\n",
    "var = 'moriondPhoID'\n",
    "mclabels = [ '', 'corrShowerShapes']\n",
    "mcstyles = [ dict(label='MC no Corr ',color='orange'),\n",
    "             dict(label='MC Corr ',color='blue'), \n",
    "           ]\n",
    "\n",
    "for dfs in [ (dfEB,dfmcEB), (dfEE,dfmcEE) ]: \n",
    "    data, mc = plot.data_mc(dfs[0],dfs[1],var,bins,weight=\"weight\",mclabels=mclabels)\n",
    "    plot.draw_data_mc(bins, data, zip(mc,mcstyles), var='ID MVA', markersize=6, alpha=1, linewidth=2.5, ratio=True, figsize=(10,8))\n",
    "  "
   ]
  },
  {
   "cell_type": "code",
   "execution_count": null,
   "metadata": {
    "collapsed": true
   },
   "outputs": [],
   "source": [
    "import matplotlib as mpl\n",
    "from functools import reduce\n",
    "mpl.rcParams['figure.figsize'] = (8,8)\n",
    "\n",
    "mpl.rc('xtick', labelsize=40) \n",
    "mpl.rc('ytick', labelsize=20) \n",
    "mpl.rc('lines', linewidth=2)\n",
    "mpl.rc('axes', linewidth=2)\n",
    "\n",
    "def set_style(obj,color):\n",
    "    obj.set_color(color)\n",
    "    obj.set_linewidth(2)\n",
    "    \n",
    "def do_boxplot(df,column,by,color,ax):\n",
    "    objs = df.query('%s > -0.8' % column).boxplot(column=column,by=by, return_type='dict', ax=ax)\n",
    "    map(lambda x: set_style(x,color), reduce(lambda x,y: x+y, objs[column].values()))\n",
    "\n",
    "def do_var_boxplot(df,cut,column,by,color,ax):\n",
    "    objs = df.query(cut).boxplot(column=column,by=by, return_type='dict', ax=ax)\n",
    "    map(lambda x: set_style(x,color), reduce(lambda x,y: x+y, objs[column].values()))"
   ]
  },
  {
   "cell_type": "code",
   "execution_count": null,
   "metadata": {
    "collapsed": false
   },
   "outputs": [],
   "source": [
    "binsEta = np.linspace(-2.5,2.5, 21)\n",
    "\n",
    "dfmc['etaBin'] = pd.cut(dfmc.ScEta,binsEta)\n",
    "dfdata['etaBin'] = pd.cut(dfdata.ScEta,binsEta)\n",
    "\n",
    "binsPt = np.linspace(20,80,21)\n",
    "\n",
    "dfmcEB['ptBin'] = pd.cut(dfmcEB.Pt,binsPt)\n",
    "dfEB['ptBin'] = pd.cut(dfEB.Pt,binsPt)\n",
    "\n",
    "dfmcEE['ptBin'] = pd.cut(dfmcEE.Pt,binsPt)\n",
    "dfEE['ptBin'] = pd.cut(dfEE.Pt,binsPt)"
   ]
  },
  {
   "cell_type": "code",
   "execution_count": null,
   "metadata": {
    "collapsed": false
   },
   "outputs": [],
   "source": [
    "%matplotlib inline\n",
    "plt.style.use('seaborn-talk')\n",
    "\n",
    "fig = plt.figure(figsize=(20,10))\n",
    "ax = fig.add_subplot(111)\n",
    "\n",
    "do_boxplot(dfmc,'moriondPhoID', 'etaBin', 'green', ax)\n",
    "do_boxplot(dfdata,'moriondPhoID', 'etaBin', 'black', ax)\n",
    "\n",
    "fig = plt.figure(figsize=(20,10))\n",
    "ax = fig.add_subplot(111)\n",
    "\n",
    "do_boxplot(dfmc,'moriondPhoIDcorrShowerShapes', 'etaBin', 'blue', ax)\n",
    "do_boxplot(dfdata,'moriondPhoID', 'etaBin', 'black', ax)\n",
    "\n",
    "fig.show()"
   ]
  },
  {
   "cell_type": "code",
   "execution_count": null,
   "metadata": {
    "collapsed": false
   },
   "outputs": [],
   "source": [
    "fig = plt.figure(figsize=(20,10))\n",
    "ax = fig.add_subplot(111)\n",
    "\n",
    "do_boxplot(dfmcEB,'moriondPhoID', 'ptBin', 'green', ax)\n",
    "do_boxplot(dfEB,'moriondPhoID', 'ptBin', 'black', ax)\n",
    "\n",
    "fig = plt.figure(figsize=(20,10))\n",
    "ax = fig.add_subplot(111)\n",
    "\n",
    "do_boxplot(dfmcEB,'moriondPhoIDcorrShowerShapes', 'ptBin', 'blue', ax)\n",
    "do_boxplot(dfEB,'moriondPhoID', 'ptBin', 'black', ax)\n",
    "\n",
    "\n",
    "fig = plt.figure(figsize=(20,10))\n",
    "ax = fig.add_subplot(111)\n",
    "\n",
    "do_boxplot(dfmcEE,'moriondPhoID', 'ptBin', 'green', ax)\n",
    "do_boxplot(dfEE,'moriondPhoID', 'ptBin', 'black', ax)\n",
    "\n",
    "fig = plt.figure(figsize=(20,10))\n",
    "ax = fig.add_subplot(111)\n",
    "\n",
    "do_boxplot(dfmcEE,'moriondPhoIDcorrShowerShapes', 'ptBin', 'blue', ax)\n",
    "do_boxplot(dfEE,'moriondPhoID', 'ptBin', 'black', ax)\n",
    "\n",
    "# dfmc.boxplot(column='moriondPhoIDcorr',by='etaBin', return_type='dict', ax=ax, color='blue')"
   ]
  },
  {
   "cell_type": "code",
   "execution_count": null,
   "metadata": {
    "collapsed": false
   },
   "outputs": [],
   "source": [
    "dfm=dfmcEE\n",
    "dfd=dfEE\n",
    "xvar=\"Pt\"\n",
    "yvar=\"moriondPhoID\"\n",
    "xmin,xmax=20.0,80.0\n",
    "minY=-1\n",
    "maxY=1\n",
    "fig = plt.figure(dpi=400)\n",
    "ax = fig.add_subplot(111)\n",
    "ax.ticklabel_format(axis='x', style='sci', scilimits=(-2,2))\n",
    "ax.ticklabel_format(axis='y', style='sci', scilimits=(-2,2))\n",
    "ax.set_xlabel(xvar)\n",
    "ax.set_ylabel(yvar)\n",
    "ax.set_title(\"EE\")\n",
    "ax.set_xlim(xmin,xmax)\n",
    "ax.set_ylim(minY,maxY)\n",
    "plot.Profile(dfm[xvar]  , dfm[yvar]        ,100,xmin,xmax,minY,maxY,ax,'green',dfm[\"weight\"])\n",
    "plot.Profile(dfd[xvar]  , dfd[yvar]        ,100,xmin,xmax,minY,maxY,ax,'red',dfd[\"weight\"])\n",
    "plot.Profile(dfm[xvar]  , dfm[yvar+'corrShowerShapes']        ,100,xmin,xmax,minY,maxY,ax,'blue',dfm[\"weight\"])\n",
    "\n",
    "dfm=dfmcEB\n",
    "dfd=dfEB\n",
    "xvar=\"Pt\"\n",
    "yvar=\"moriondPhoID\"\n",
    "xmin,xmax=20.0,80.0\n",
    "minY=-1\n",
    "maxY=1\n",
    "fig = plt.figure(dpi=400)\n",
    "ax = fig.add_subplot(111)\n",
    "ax.ticklabel_format(axis='x', style='sci', scilimits=(-2,2))\n",
    "ax.ticklabel_format(axis='y', style='sci', scilimits=(-2,2))\n",
    "ax.set_xlabel(xvar)\n",
    "ax.set_ylabel(yvar)\n",
    "ax.set_title(\"EB\")\n",
    "ax.set_xlim(xmin,xmax)\n",
    "ax.set_ylim(minY,maxY)\n",
    "plot.Profile(dfm[xvar]  , dfm[yvar]        ,100,xmin,xmax,minY,maxY,ax,'green',dfm[\"weight\"])\n",
    "plot.Profile(dfd[xvar]  , dfd[yvar]        ,100,xmin,xmax,minY,maxY,ax,'red',dfd[\"weight\"])\n",
    "plot.Profile(dfm[xvar]  , dfm[yvar+'corrShowerShapes']        ,100,xmin,xmax,minY,maxY,ax,'blue',dfm[\"weight\"])"
   ]
  },
  {
   "cell_type": "code",
   "execution_count": null,
   "metadata": {
    "collapsed": true
   },
   "outputs": [],
   "source": []
  },
  {
   "cell_type": "code",
   "execution_count": null,
   "metadata": {
    "collapsed": true
   },
   "outputs": [],
   "source": []
  }
 ],
 "metadata": {
  "anaconda-cloud": {},
  "kernelspec": {
   "display_name": "Python [default]",
   "language": "python",
   "name": "python2"
  },
  "language_info": {
   "codemirror_mode": {
    "name": "ipython",
    "version": 2
   },
   "file_extension": ".py",
   "mimetype": "text/x-python",
   "name": "python",
   "nbconvert_exporter": "python",
   "pygments_lexer": "ipython2",
   "version": "2.7.12"
  }
 },
 "nbformat": 4,
 "nbformat_minor": 0
}
