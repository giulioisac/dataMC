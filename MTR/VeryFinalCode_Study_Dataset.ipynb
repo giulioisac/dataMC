{
 "cells": [
  {
   "cell_type": "code",
   "execution_count": 1,
   "metadata": {
    "collapsed": false
   },
   "outputs": [
    {
     "data": {
      "application/javascript": [
       "require(['codemirror/mode/clike/clike'], function(Clike) { console.log('ROOTaaS - C++ CodeMirror module loaded'); });"
      ]
     },
     "metadata": {},
     "output_type": "display_data"
    },
    {
     "data": {
      "application/javascript": [
       "IPython.CodeCell.config_defaults.highlight_modes['magic_text/x-c++src'] = {'reg':[/^%%cpp/]};"
      ]
     },
     "metadata": {},
     "output_type": "display_data"
    },
    {
     "name": "stdout",
     "output_type": "stream",
     "text": [
      "Welcome to ROOTaaS 6.06/08\n"
     ]
    }
   ],
   "source": [
    "from quantileRegression import quantileRegression\n",
    "import numpy as np\n",
    "import runNumbers as rn\n",
    "import Plotting as plot\n",
    "import matplotlib.pyplot as plt\n",
    "%matplotlib inline\n",
    "# %matplotlib notebook\n",
    "plt.style.use('ggplot')"
   ]
  },
  {
   "cell_type": "code",
   "execution_count": 2,
   "metadata": {
    "collapsed": true
   },
   "outputs": [],
   "source": [
    "\n",
    "#---------------------------------------------------------------------\n",
    "#Prepare dataframes for the testing.\n",
    "#---------------------------------------------------------------------\n"
   ]
  },
  {
   "cell_type": "code",
   "execution_count": 3,
   "metadata": {
    "collapsed": false,
    "scrolled": true
   },
   "outputs": [
    {
     "name": "stdout",
     "output_type": "stream",
     "text": [
      "NT branches: \n",
      "Adding trees into a DataFrame\n",
      "  adding  cicNoSigmaIetaIeta/trees/DYJetsToLL_13TeV_EBHighR9\n",
      "  adding  cicNoSigmaIetaIeta/trees/DYJetsToLL_13TeV_EBLowR9\n",
      "  adding  cicNoSigmaIetaIeta/trees/DYJetsToLL_13TeV_EEHighR9\n",
      "  adding  cicNoSigmaIetaIeta/trees/DYJetsToLL_13TeV_EELowR9\n",
      "number of events: 7073020\n",
      "# lead eleMatch    =  6081954\n",
      "# sublead eleMatch =  5528292\n",
      "MC Sublead\n",
      "lead size:  6081954\n",
      "MC Lead\n",
      "sublead size:  5528292\n",
      "Count final dataset\n",
      "11610246\n",
      "\u001b[92mApply basic selection\u001b[0m\n",
      " ptmin  =  25.0 \n",
      " ptmax  =  150.0  \n",
      " etamin =  -2.5  \n",
      " etamax =  2.5  \n",
      " phimin =  -3.14  \n",
      " phimax =  3.14\n",
      "\u001b[92mReshuffle events\u001b[0m rndm seed  =  12345\n",
      "\u001b[92mSelecting events \u001b[0m  [ 0 ,  2000000 ]  out of  11554791\n",
      "DataFrame size =  2000000\n",
      "NT branches: \n",
      "Adding trees into a DataFrame\n",
      "  adding  cicNoSigmaIetaIeta/trees/Data_13TeV_EBHighR9\n",
      "  adding  cicNoSigmaIetaIeta/trees/Data_13TeV_EBLowR9\n",
      "  adding  cicNoSigmaIetaIeta/trees/Data_13TeV_EEHighR9\n",
      "  adding  cicNoSigmaIetaIeta/trees/Data_13TeV_EELowR9\n",
      "number of events: 15355385\n",
      "Count df\n",
      "# lead eleMatch    =  13140104\n",
      "# sublead eleMatch =  11557446\n",
      "# lead trig   =  12641126\n",
      "# sublead trg =  10075953\n",
      "# lead trig and eleMatch    =  11975464\n",
      "# sublead trig and eleMatch =  9328325\n",
      "Data Sublead\n",
      "Index([u'run', u'rho', u'nvtx', u'mass', u'weight', u'puweight', u'subleadPt',\n",
      "       u'subleadScEta', u'subleadPhi', u'subleadScEnergy',\n",
      "       u'subleadScPreshowerEnergy', u'subleadSigmaRR', u'subleadPhoIso03',\n",
      "       u'subleadChIso03', u'subleadChIso03worst', u'subLeadPhoIDMVA',\n",
      "       u'subleadR9', u'subleadS4', u'subleadEtaWidth', u'subleadPhiWidth',\n",
      "       u'subleadSigmaIeIe', u'subleadCovarianceIetaIphi',\n",
      "       u'subleadCovarianceIphiIphi'],\n",
      "      dtype='object')\n",
      "lead size:  11975464\n",
      "Data Lead\n",
      "sublead size:  9328325\n",
      "Count final dataset\n",
      "21303789\n",
      "\u001b[92mApply basic selection\u001b[0m\n",
      " ptmin  =  25.0 \n",
      " ptmax  =  150.0  \n",
      " etamin =  -2.5  \n",
      " etamax =  2.5  \n",
      " phimin =  -3.14  \n",
      " phimax =  3.14\n",
      "\u001b[92mReshuffle events\u001b[0m rndm seed  =  12345\n",
      "\u001b[92mSelecting events \u001b[0m  [ 0 ,  2000000 ]  out of  21216526\n",
      "DataFrame size =  2000000\n"
     ]
    }
   ],
   "source": [
    "# Upload Dataframes:\n",
    "startEvtmc = 0\n",
    "stopEvtmc  = 2000000\n",
    "qr_mc= quantileRegression(\"mc\")\n",
    "qr_data= quantileRegression(\"data\")\n",
    "qr_mc.loadDF(\"/mnt/t3nfs01/data01/shome/mdonega/lxplus/work/CMSSW_8_0_26_patch1/src/diphotons/Analysis/macros/double_ele_v9_moriond17_mc/\",\n",
    "             \"cicNoSigmaIetaIeta/trees/\",\n",
    "             [\"DYJetsToLL_13TeV_EBHighR9\", \"DYJetsToLL_13TeV_EBLowR9\", \"DYJetsToLL_13TeV_EEHighR9\", \"DYJetsToLL_13TeV_EELowR9\" ],\n",
    "             startEvtmc, stopEvtmc, 12345)\n",
    "startEvtdata = 0\n",
    "stopEvtdata  = 2000000\n",
    "qr_data.loadDF(\" /mnt/t3nfs01/data01/shome/mdonega/lxplus/work/CMSSW_8_0_26_patch1/src/diphotons/Analysis/macros/double_ele_v9_moriond17_data/\",\n",
    "               \"cicNoSigmaIetaIeta/trees/\",\n",
    "               [\"Data_13TeV_EBHighR9\", \"Data_13TeV_EBLowR9\", \"Data_13TeV_EEHighR9\", \"Data_13TeV_EELowR9\" ],\n",
    "               startEvtdata, stopEvtdata, rn.run2016B[0],rn.run2016H[1])\n",
    "dfmc= qr_mc.getDF()\n",
    "dfdata=qr_data.getDF()"
   ]
  },
  {
   "cell_type": "code",
   "execution_count": 4,
   "metadata": {
    "collapsed": false
   },
   "outputs": [
    {
     "name": "stdout",
     "output_type": "stream",
     "text": [
      "1920498 1855493\n"
     ]
    }
   ],
   "source": [
    "dfmc   = dfmc  .query('(mass > 70 and mass < 110)  and (ChIso03 < 5)') \n",
    "dfdata   = dfdata  .query('(mass > 70 and mass < 110)  and (ChIso03 < 5)')\n",
    "dfmcEB= dfmc.query('-1.444 < ScEta & ScEta <1.444 & R9> 0.8 & R9 <1.0 ')\n",
    "dfmcEE= dfmc.query('ScEta < -1.57 | ScEta >1.57 & R9> 0.8 & R9 <1.0 ')\n",
    "dfdataEB = dfdata.query('-1.444 < ScEta & ScEta <1.444 & R9> 0.8 & R9 <1.0 ') # ('abs(ScEta)<1.444')\n",
    "dfdataEE = dfdata.query('ScEta < -1.57 | ScEta >1.57 & R9> 0.8 & R9 <1.0 ') # ('abs(ScEta)>1.57')\n",
    "print len(dfmc.index),len(dfdata.index)"
   ]
  },
  {
   "cell_type": "code",
   "execution_count": 5,
   "metadata": {
    "collapsed": false
   },
   "outputs": [
    {
     "data": {
      "image/png": "[encoded data removed]",
      "text/plain": [
       "<matplotlib.figure.Figure at 0x7fefbdefd310>"
      ]
     },
     "metadata": {},
     "output_type": "display_data"
    },
    {
     "data": {
      "image/png": "[encoded data removed]",
      "text/plain": [
       "<matplotlib.figure.Figure at 0x7fefbdefd790>"
      ]
     },
     "metadata": {},
     "output_type": "display_data"
    }
   ],
   "source": [
    "h = dfdataEE.hist('R9', bins=100, alpha = 1, color='g')\n",
    "h = dfmcEE.hist('R9', bins=100, alpha = 1, color='g')"
   ]
  },
  {
   "cell_type": "code",
   "execution_count": null,
   "metadata": {
    "collapsed": true
   },
   "outputs": [],
   "source": []
  }
 ],
 "metadata": {
  "anaconda-cloud": {},
  "kernelspec": {
   "display_name": "Python [default]",
   "language": "python",
   "name": "python2"
  },
  "language_info": {
   "codemirror_mode": {
    "name": "ipython",
    "version": 2
   },
   "file_extension": ".py",
   "mimetype": "text/x-python",
   "name": "python",
   "nbconvert_exporter": "python",
   "pygments_lexer": "ipython2",
   "version": "2.7.12"
  }
 },
 "nbformat": 4,
 "nbformat_minor": 0
}
