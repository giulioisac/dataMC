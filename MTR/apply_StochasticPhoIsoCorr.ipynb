{
 "cells": [
  {
   "cell_type": "code",
   "execution_count": 1,
   "metadata": {
    "collapsed": false
   },
   "outputs": [
    {
     "data": {
      "application/javascript": [
       "require(['codemirror/mode/clike/clike'], function(Clike) { console.log('ROOTaaS - C++ CodeMirror module loaded'); });"
      ]
     },
     "metadata": {},
     "output_type": "display_data"
    },
    {
     "data": {
      "application/javascript": [
       "IPython.CodeCell.config_defaults.highlight_modes['magic_text/x-c++src'] = {'reg':[/^%%cpp/]};"
      ]
     },
     "metadata": {},
     "output_type": "display_data"
    },
    {
     "name": "stdout",
     "output_type": "stream",
     "text": [
      "Welcome to ROOTaaS 6.06/08\n"
     ]
    }
   ],
   "source": [
    "from quantileRegression import quantileRegression\n",
    "\n",
    "import numpy as np\n",
    "import matplotlib.pyplot as plt\n",
    "%matplotlib inline\n",
    "\n",
    "import tables"
   ]
  },
  {
   "cell_type": "code",
   "execution_count": 2,
   "metadata": {
    "collapsed": false
   },
   "outputs": [
    {
     "name": "stdout",
     "output_type": "stream",
     "text": [
      "Load the mc dataframe\n",
      "NT branches: \n",
      "['rho', 'nvtx', 'leadEleMatch', 'subleadEleMatch', 'leadPt', 'leadScEta', 'leadPhi', 'leadR9', 'leadS4', 'leadSigmaIeIe', 'leadEtaWidth', 'leadPhiWidth', 'leadCovarianceIphiIphi', 'leadSigmaRR', 'leadScEnergy', 'leadCovarianceIetaIphi', 'leadPhoIso03', 'leadChIso03', 'leadChIso03worst', 'leadScPreshowerEnergy', 'leadPhoIDMVA', 'subleadPt', 'subleadScEta', 'subleadPhi', 'subleadR9', 'subleadS4', 'subleadSigmaIeIe', 'subleadEtaWidth', 'subleadPhiWidth', 'subleadCovarianceIphiIphi', 'subleadSigmaRR', 'subleadScEnergy', 'subleadCovarianceIetaIphi', 'subleadPhoIso03', 'subleadChIso03', 'subleadChIso03worst', 'leadScPreshowerEnergy', 'subLeadPhoIDMVA']\n",
      "['cicNoSigmaIetaIeta/trees/DYToEE_powheg_13TeV_EBHighR9', 'cicNoSigmaIetaIeta/trees/DYToEE_powheg_13TeV_EBLowR9', 'cicNoSigmaIetaIeta/trees/DYToEE_powheg_13TeV_EEHighR9', 'cicNoSigmaIetaIeta/trees/DYToEE_powheg_13TeV_EELowR9']\n",
      "Adding trees into a DataFrame\n",
      "  adding  cicNoSigmaIetaIeta/trees/DYToEE_powheg_13TeV_EBHighR9\n",
      "  adding  cicNoSigmaIetaIeta/trees/DYToEE_powheg_13TeV_EBLowR9\n",
      "  adding  cicNoSigmaIetaIeta/trees/DYToEE_powheg_13TeV_EEHighR9\n",
      "  adding  cicNoSigmaIetaIeta/trees/DYToEE_powheg_13TeV_EELowR9\n",
      "Number of events  \n",
      "rho                          10740305\n",
      "nvtx                         10740305\n",
      "leadEleMatch                 10740305\n",
      "subleadEleMatch              10740305\n",
      "leadPt                       10740305\n",
      "leadScEta                    10740305\n",
      "leadPhi                      10740305\n",
      "leadR9                       10740305\n",
      "leadS4                       10740305\n",
      "leadSigmaIeIe                10740305\n",
      "leadEtaWidth                 10740305\n",
      "leadPhiWidth                 10740305\n",
      "leadCovarianceIphiIphi       10740305\n",
      "leadSigmaRR                  10740305\n",
      "leadScEnergy                 10740305\n",
      "leadCovarianceIetaIphi       10740305\n",
      "leadPhoIso03                 10740305\n",
      "leadChIso03                  10740305\n",
      "leadChIso03worst             10740305\n",
      "leadScPreshowerEnergy        10740305\n",
      "leadPhoIDMVA                 10740305\n",
      "subleadPt                    10740305\n",
      "subleadScEta                 10740305\n",
      "subleadPhi                   10740305\n",
      "subleadR9                    10740305\n",
      "subleadS4                    10740305\n",
      "subleadSigmaIeIe             10740305\n",
      "subleadEtaWidth              10740305\n",
      "subleadPhiWidth              10740305\n",
      "subleadCovarianceIphiIphi    10740305\n",
      "subleadSigmaRR               10740305\n",
      "subleadScEnergy              10740305\n",
      "subleadCovarianceIetaIphi    10740305\n",
      "subleadPhoIso03              10740305\n",
      "subleadChIso03               10740305\n",
      "subleadChIso03worst          10740305\n",
      "subLeadPhoIDMVA              10740305\n",
      "dtype: int64\n",
      "# lead eleMatch    =  9295055\n",
      "# sublead eleMatch =  8585138\n",
      "MC Sublead\n",
      "rho                   9295055\n",
      "nvtx                  9295055\n",
      "Pt                    9295055\n",
      "ScEta                 9295055\n",
      "Phi                   9295055\n",
      "R9                    9295055\n",
      "S4                    9295055\n",
      "SigmaIeIe             9295055\n",
      "EtaWidth              9295055\n",
      "PhiWidth              9295055\n",
      "CovarianceIphiIphi    9295055\n",
      "SigmaRR               9295055\n",
      "ScEnergy              9295055\n",
      "CovarianceIetaIphi    9295055\n",
      "PhoIso03              9295055\n",
      "ChIso03               9295055\n",
      "ChIso03worst          9295055\n",
      "ScPreshowerEnergy     9295055\n",
      "PhoIDMVA              9295055\n",
      "dtype: int64\n",
      "MC Lead\n",
      "rho                   8585138\n",
      "nvtx                  8585138\n",
      "Pt                    8585138\n",
      "ScEta                 8585138\n",
      "Phi                   8585138\n",
      "R9                    8585138\n",
      "S4                    8585138\n",
      "SigmaIeIe             8585138\n",
      "EtaWidth              8585138\n",
      "PhiWidth              8585138\n",
      "CovarianceIphiIphi    8585138\n",
      "SigmaRR               8585138\n",
      "ScEnergy              8585138\n",
      "CovarianceIetaIphi    8585138\n",
      "PhoIso03              8585138\n",
      "ChIso03               8585138\n",
      "ChIso03worst          8585138\n",
      "ScPreshowerEnergy     8585138\n",
      "PhoIDMVA              8585138\n",
      "dtype: int64\n",
      "Count final dataset\n",
      "index                 17880193\n",
      "rho                   17880193\n",
      "nvtx                  17880193\n",
      "Pt                    17880193\n",
      "ScEta                 17880193\n",
      "Phi                   17880193\n",
      "R9                    17880193\n",
      "S4                    17880193\n",
      "SigmaIeIe             17880193\n",
      "EtaWidth              17880193\n",
      "PhiWidth              17880193\n",
      "CovarianceIphiIphi    17880193\n",
      "SigmaRR               17880193\n",
      "ScEnergy              17880193\n",
      "CovarianceIetaIphi    17880193\n",
      "PhoIso03              17880193\n",
      "ChIso03               17880193\n",
      "ChIso03worst          17880193\n",
      "ScPreshowerEnergy     17880193\n",
      "PhoIDMVA              17880193\n",
      "dtype: int64\n",
      "\u001b[92mApply basic selection\u001b[0m\n",
      " ptmin  =  25.0 \n",
      " ptmax  =  150.0  \n",
      " etamin =  -2.5  \n",
      " etamax =  2.5  \n",
      " phimin =  -3.14  \n",
      " phimax =  3.14\n",
      "\u001b[92mReshuffle events\u001b[0m rndm seed  =  12345\n",
      "\u001b[92mSelecting events \u001b[0m  [ 0 ,  2000000 ]  out of  17832999\n",
      "DataFrame size =  2000000\n"
     ]
    }
   ],
   "source": [
    "qr_mc = quantileRegression(\"mc\")\n",
    "\n",
    "# This is what you want to correct\n",
    "print \"Load the mc dataframe\"\n",
    "startEvtmc = 0 \n",
    "stopEvtmc  = 2000000\n",
    "qr_mc.loadDF(\"/afs/cern.ch/user/m/mdonega/public/forPasquale/ntNoIso/mc/\",\n",
    "             \"cicNoSigmaIetaIeta/trees/\",\n",
    "             [\"DYToEE_powheg_13TeV_EBHighR9\", \"DYToEE_powheg_13TeV_EBLowR9\", \"DYToEE_powheg_13TeV_EEHighR9\", \"DYToEE_powheg_13TeV_EELowR9\" ],\n",
    "             startEvtmc, stopEvtmc, 12345)"
   ]
  },
  {
   "cell_type": "code",
   "execution_count": 3,
   "metadata": {
    "collapsed": false
   },
   "outputs": [],
   "source": [
    "import ROOT as RT"
   ]
  },
  {
   "cell_type": "code",
   "execution_count": 4,
   "metadata": {
    "collapsed": false
   },
   "outputs": [
    {
     "data": {
      "text/plain": [
       "0"
      ]
     },
     "execution_count": 4,
     "metadata": {},
     "output_type": "execute_result"
    },
    {
     "name": "stderr",
     "output_type": "stream",
     "text": [
      "Info in <TUnixSystem::ACLiC>: creating shared library /mnt/t3nfs01/data01/shome/musella/Analysis/jupyter/dataMC/MTR/./../phoIsoStoch/IsolationCorrection_C.so\r\n"
     ]
    }
   ],
   "source": [
    "RT.gROOT.LoadMacro(\"../phoIsoStoch/IsolationCorrection.C++\")"
   ]
  },
  {
   "cell_type": "code",
   "execution_count": 5,
   "metadata": {
    "collapsed": false
   },
   "outputs": [],
   "source": [
    "isoCorr = RT.IsolationCorrection(\"../phoIsoStoch/corrections.root\")"
   ]
  },
  {
   "cell_type": "code",
   "execution_count": 6,
   "metadata": {
    "collapsed": false
   },
   "outputs": [],
   "source": [
    "def applyCorr(row):\n",
    "    rho,eta,iso = row['rho'],np.abs(row['ScEta']),row['PhoIso03']\n",
    "    return iso+isoCorr.getExtra(eta,rho)\n",
    "\n",
    "def applySample(row):\n",
    "    rho,eta,iso = row['rho'],np.abs(row['ScEta']),row['PhoIso03']\n",
    "    return isoCorr.getExtra(eta,rho,1)\n",
    "\n",
    "qr_mc.df['PhoIso03_corr'] = qr_mc.df[['rho','ScEta','PhoIso03']].apply(applyCorr,axis=1)\n",
    "qr_mc.df['PhoIso03_smpl'] = qr_mc.df[['rho','ScEta','PhoIso03']].apply(applySample,axis=1)"
   ]
  },
  {
   "cell_type": "code",
   "execution_count": 7,
   "metadata": {
    "collapsed": false
   },
   "outputs": [],
   "source": [
    "def applySample1p3(row):\n",
    "    rho,eta,iso = row['rho'],np.abs(row['ScEta']),row['PhoIso03']\n",
    "    return isoCorr.getExtra(eta,rho,1.3)\n",
    "\n",
    "qr_mc.df['PhoIso03_smpl1p3'] = qr_mc.df[['rho','ScEta','PhoIso03']].apply(applySample1p3,axis=1)"
   ]
  },
  {
   "cell_type": "code",
   "execution_count": 8,
   "metadata": {
    "collapsed": false
   },
   "outputs": [],
   "source": [
    "df = qr_mc.df"
   ]
  },
  {
   "cell_type": "code",
   "execution_count": 9,
   "metadata": {
    "collapsed": false
   },
   "outputs": [],
   "source": [
    "df['isEB'] = df[['ScEta']].apply(lambda x: (np.abs(x['ScEta']) < 1.5),axis=1).astype(np.bool)"
   ]
  },
  {
   "cell_type": "code",
   "execution_count": 10,
   "metadata": {
    "collapsed": false
   },
   "outputs": [
    {
     "data": {
      "text/plain": [
       "count     2000000\n",
       "unique          2\n",
       "top          True\n",
       "freq      1665214\n",
       "Name: isEB, dtype: object"
      ]
     },
     "execution_count": 10,
     "metadata": {},
     "output_type": "execute_result"
    }
   ],
   "source": [
    "df['isEB'].describe()"
   ]
  },
  {
   "cell_type": "code",
   "execution_count": null,
   "metadata": {
    "collapsed": false
   },
   "outputs": [],
   "source": []
  },
  {
   "cell_type": "code",
   "execution_count": 11,
   "metadata": {
    "collapsed": false
   },
   "outputs": [
    {
     "data": {
      "image/png": "[encoded data removed]",
      "text/plain": [
       "<matplotlib.figure.Figure at 0x7fadd6c51710>"
      ]
     },
     "metadata": {},
     "output_type": "display_data"
    }
   ],
   "source": [
    "axEB = df[ df['isEB'] > 0 ][['PhoIso03','PhoIso03_corr','PhoIso03_smpl','PhoIso03_smpl1p3']].plot(kind='hist', xlim=(0,10),alpha=0.5,logy=True,bins=np.linspace(0,10,100))"
   ]
  },
  {
   "cell_type": "code",
   "execution_count": 12,
   "metadata": {
    "collapsed": false
   },
   "outputs": [
    {
     "data": {
      "text/plain": [
       "<matplotlib.axes._subplots.AxesSubplot at 0x7fae64359a10>"
      ]
     },
     "execution_count": 12,
     "metadata": {},
     "output_type": "execute_result"
    },
    {
     "data": {
      "image/png": "[encoded data removed]",
      "text/plain": [
       "<matplotlib.figure.Figure at 0x7fae643d5510>"
      ]
     },
     "metadata": {},
     "output_type": "display_data"
    }
   ],
   "source": [
    "df[ df['isEB'] <= 0  ][['PhoIso03','PhoIso03_corr']].plot(kind='hist', xlim=(0,10),alpha=0.5,logy=True,bins=np.linspace(0,10,100))"
   ]
  },
  {
   "cell_type": "code",
   "execution_count": 13,
   "metadata": {
    "collapsed": false
   },
   "outputs": [
    {
     "name": "stdout",
     "output_type": "stream",
     "text": [
      "Load the data dataframe\n",
      "NT branches: \n",
      "['rho', 'nvtx', 'leadHLT_Ele27_WPTight_Gsf_vMatch', 'subleadHLT_Ele27_WPTight_Gsf_vMatch', 'leadEleMatch', 'subleadEleMatch', 'leadPt', 'leadScEta', 'leadPhi', 'leadR9', 'leadS4', 'leadSigmaIeIe', 'leadEtaWidth', 'leadPhiWidth', 'leadCovarianceIphiIphi', 'leadSigmaRR', 'leadScEnergy', 'leadCovarianceIetaIphi', 'leadPhoIso03', 'leadChIso03', 'leadChIso03worst', 'leadScPreshowerEnergy', 'leadPhoIDMVA', 'subleadPt', 'subleadScEta', 'subleadPhi', 'subleadR9', 'subleadS4', 'subleadSigmaIeIe', 'subleadEtaWidth', 'subleadPhiWidth', 'subleadCovarianceIphiIphi', 'subleadSigmaRR', 'subleadScEnergy', 'subleadCovarianceIetaIphi', 'subleadPhoIso03', 'subleadChIso03', 'subleadChIso03worst', 'leadScPreshowerEnergy', 'subLeadPhoIDMVA']\n",
      "['cicNoSigmaIetaIeta/trees/Data_13TeV_EBHighR9', 'cicNoSigmaIetaIeta/trees/Data_13TeV_EBLowR9', 'cicNoSigmaIetaIeta/trees/Data_13TeV_EEHighR9', 'cicNoSigmaIetaIeta/trees/Data_13TeV_EELowR9']\n",
      "Adding trees into a DataFrame\n",
      "  adding  cicNoSigmaIetaIeta/trees/Data_13TeV_EBHighR9\n",
      "  adding  cicNoSigmaIetaIeta/trees/Data_13TeV_EBLowR9\n",
      "  adding  cicNoSigmaIetaIeta/trees/Data_13TeV_EEHighR9\n",
      "  adding  cicNoSigmaIetaIeta/trees/Data_13TeV_EELowR9\n",
      "Number of events  \n",
      "rho                                    5031713\n",
      "nvtx                                   5031713\n",
      "leadHLT_Ele27_WPTight_Gsf_vMatch       5031713\n",
      "subleadHLT_Ele27_WPTight_Gsf_vMatch    5031713\n",
      "leadEleMatch                           5031713\n",
      "subleadEleMatch                        5031713\n",
      "leadPt                                 5031713\n",
      "leadScEta                              5031713\n",
      "leadPhi                                5031713\n",
      "leadR9                                 5031713\n",
      "leadS4                                 5031713\n",
      "leadSigmaIeIe                          5031713\n",
      "leadEtaWidth                           5031713\n",
      "leadPhiWidth                           5031713\n",
      "leadCovarianceIphiIphi                 5031713\n",
      "leadSigmaRR                            5031713\n",
      "leadScEnergy                           5031713\n",
      "leadCovarianceIetaIphi                 5031713\n",
      "leadPhoIso03                           5031713\n",
      "leadChIso03                            5031713\n",
      "leadChIso03worst                       5031713\n",
      "leadScPreshowerEnergy                  5031713\n",
      "leadPhoIDMVA                           5031713\n",
      "subleadPt                              5031713\n",
      "subleadScEta                           5031713\n",
      "subleadPhi                             5031713\n",
      "subleadR9                              5031713\n",
      "subleadS4                              5031713\n",
      "subleadSigmaIeIe                       5031713\n",
      "subleadEtaWidth                        5031713\n",
      "subleadPhiWidth                        5031713\n",
      "subleadCovarianceIphiIphi              5031713\n",
      "subleadSigmaRR                         5031713\n",
      "subleadScEnergy                        5031713\n",
      "subleadCovarianceIetaIphi              5031713\n",
      "subleadPhoIso03                        5031713\n",
      "subleadChIso03                         5031713\n",
      "subleadChIso03worst                    5031713\n",
      "subLeadPhoIDMVA                        5031713\n",
      "dtype: int64\n",
      "Count df\n",
      "# lead eleMatch    =  4293835\n",
      "# sublead eleMatch =  3864784\n",
      "# lead trig   =  4216887\n",
      "# sublead trg =  3429550\n",
      "# lead trig and eleMatch    =  3963192\n",
      "# sublead trig and eleMatch =  3152365\n",
      "Data Sublead\n",
      "rho                   3963192\n",
      "nvtx                  3963192\n",
      "Pt                    3963192\n",
      "ScEta                 3963192\n",
      "Phi                   3963192\n",
      "R9                    3963192\n",
      "S4                    3963192\n",
      "SigmaIeIe             3963192\n",
      "EtaWidth              3963192\n",
      "PhiWidth              3963192\n",
      "CovarianceIphiIphi    3963192\n",
      "SigmaRR               3963192\n",
      "ScEnergy              3963192\n",
      "CovarianceIetaIphi    3963192\n",
      "PhoIso03              3963192\n",
      "ChIso03               3963192\n",
      "ChIso03worst          3963192\n",
      "ScPreshowerEnergy     3963192\n",
      "PhoIDMVA              3963192\n",
      "dtype: int64\n",
      "Data Lead\n",
      "rho                   3152365\n",
      "nvtx                  3152365\n",
      "Pt                    3152365\n",
      "ScEta                 3152365\n",
      "Phi                   3152365\n",
      "R9                    3152365\n",
      "S4                    3152365\n",
      "SigmaIeIe             3152365\n",
      "EtaWidth              3152365\n",
      "PhiWidth              3152365\n",
      "CovarianceIphiIphi    3152365\n",
      "SigmaRR               3152365\n",
      "ScEnergy              3152365\n",
      "CovarianceIetaIphi    3152365\n",
      "PhoIso03              3152365\n",
      "ChIso03               3152365\n",
      "ChIso03worst          3152365\n",
      "ScPreshowerEnergy     3152365\n",
      "PhoIDMVA              3152365\n",
      "dtype: int64\n",
      "Count final dataset\n",
      "index                 7115557\n",
      "rho                   7115557\n",
      "nvtx                  7115557\n",
      "Pt                    7115557\n",
      "ScEta                 7115557\n",
      "Phi                   7115557\n",
      "R9                    7115557\n",
      "S4                    7115557\n",
      "SigmaIeIe             7115557\n",
      "EtaWidth              7115557\n",
      "PhiWidth              7115557\n",
      "CovarianceIphiIphi    7115557\n",
      "SigmaRR               7115557\n",
      "ScEnergy              7115557\n",
      "CovarianceIetaIphi    7115557\n",
      "PhoIso03              7115557\n",
      "ChIso03               7115557\n",
      "ChIso03worst          7115557\n",
      "ScPreshowerEnergy     7115557\n",
      "PhoIDMVA              7115557\n",
      "dtype: int64\n",
      "\u001b[92mApply basic selection\u001b[0m\n",
      " ptmin  =  25.0 \n",
      " ptmax  =  150.0  \n",
      " etamin =  -2.5  \n",
      " etamax =  2.5  \n",
      " phimin =  -3.14  \n",
      " phimax =  3.14\n",
      "\u001b[92mReshuffle events\u001b[0m rndm seed  =  12345\n",
      "\u001b[92mSelecting events \u001b[0m  [ 0 ,  7089619 ]  out of  7089619\n",
      "DataFrame size =  7089619\n"
     ]
    }
   ],
   "source": [
    "# Plot data, mc, mc_corrr\n",
    "# just need to load the data for plotting \n",
    "qr_data = quantileRegression(\"data\")\n",
    "startEvtdata = 0\n",
    "stopEvtdata   = -1\n",
    "print \"Load the data dataframe\"\n",
    "qr_data.loadDF(\"/afs/cern.ch/user/m/mdonega/public/forPasquale/ntNoIso/ichep/\",\n",
    "               \"cicNoSigmaIetaIeta/trees/\",\n",
    "               [\"Data_13TeV_EBHighR9\", \"Data_13TeV_EBLowR9\", \"Data_13TeV_EEHighR9\", \"Data_13TeV_EELowR9\" ],\n",
    "               startEvtdata, stopEvtdata )\n",
    "df_data = qr_data.getDF()"
   ]
  },
  {
   "cell_type": "code",
   "execution_count": null,
   "metadata": {
    "collapsed": false
   },
   "outputs": [],
   "source": []
  },
  {
   "cell_type": "code",
   "execution_count": 14,
   "metadata": {
    "collapsed": false
   },
   "outputs": [],
   "source": [
    "df_data['isEB'] = df_data[['ScEta']].apply(lambda x: (np.abs(x['ScEta']) < 1.5),axis=1).astype(np.bool)"
   ]
  },
  {
   "cell_type": "code",
   "execution_count": null,
   "metadata": {
    "collapsed": false
   },
   "outputs": [],
   "source": []
  },
  {
   "cell_type": "code",
   "execution_count": 28,
   "metadata": {
    "collapsed": false
   },
   "outputs": [],
   "source": [
    "def data_mc(df_mc,df_data,bins):\n",
    "    \n",
    "    hist_mc_uncorr,_ = np.histogram(df_mc['PhoIso03'].values, density=True, bins=bins)\n",
    "    hist_mc_corr,_ = np.histogram(df_mc['PhoIso03_corr'].values, density=True, bins=bins)\n",
    "\n",
    "    hist_data,_ =  np.histogram(df_data['PhoIso03'].values, density=False, bins=bins)\n",
    "\n",
    "    hist_mc_uncorr *= hist_data.sum()/hist_mc_uncorr.sum()\n",
    "    hist_mc_corr *= hist_data.sum()/hist_mc_corr.sum()\n",
    "    \n",
    "    \n",
    "    return hist_mc_uncorr,hist_mc_corr,hist_data\n",
    "\n",
    "\n",
    "        "
   ]
  },
  {
   "cell_type": "code",
   "execution_count": 36,
   "metadata": {
    "collapsed": false
   },
   "outputs": [],
   "source": [
    "bins=np.linspace(0,10,100)\n",
    "\n",
    "binw=0.1\n",
    "\n",
    "uncorr,corr,data = data_mc( df[ (df['isEB']>0)], \n",
    "                           df_data[(df_data['isEB']>0)], bins  )"
   ]
  },
  {
   "cell_type": "code",
   "execution_count": 37,
   "metadata": {
    "collapsed": false
   },
   "outputs": [
    {
     "data": {
      "text/plain": [
       "<Container object of 3 artists>"
      ]
     },
     "execution_count": 37,
     "metadata": {},
     "output_type": "execute_result"
    },
    {
     "data": {
      "image/png": "[encoded data removed]",
      "text/plain": [
       "<matplotlib.figure.Figure at 0x7fae3f94e650>"
      ]
     },
     "metadata": {},
     "output_type": "display_data"
    }
   ],
   "source": [
    "fig = plt.figure()\n",
    "\n",
    "xc = bins[1:]-binw*0.5\n",
    "\n",
    "plt.bar(xc,uncorr,width=binw,label='uncorr',alpha=0.5,color='red',linewidth=0.)\n",
    "plt.bar(xc,corr,width=binw,label='corr',alpha=0.5,color='blue',linewidth=0.)\n",
    "plt.errorbar( xc, data,ls='None', xerr=np.ones_like(data)*binw*0.5, yerr=np.sqrt(data), color='black' )\n",
    "#fig.axes[0].set_yscale('log')"
   ]
  },
  {
   "cell_type": "code",
   "execution_count": 39,
   "metadata": {
    "collapsed": false
   },
   "outputs": [
    {
     "data": {
      "image/png": "[encoded data removed]",
      "text/plain": [
       "<matplotlib.figure.Figure at 0x7fae3f417450>"
      ]
     },
     "metadata": {},
     "output_type": "display_data"
    }
   ],
   "source": [
    "fig = plt.figure()\n",
    "\n",
    "xc = bins[1:]-binw*0.5\n",
    "\n",
    "plt.bar(xc,uncorr,width=binw,label='uncorr',alpha=0.5,color='red',linewidth=0.)\n",
    "plt.bar(xc,corr,width=binw,label='corr',alpha=0.5,color='blue',linewidth=0.)\n",
    "plt.errorbar( xc, data,ls='None', xerr=np.ones_like(data)*binw*0.5, yerr=np.sqrt(data), color='black' )\n",
    "fig.axes[0].set_yscale('log')"
   ]
  },
  {
   "cell_type": "code",
   "execution_count": 41,
   "metadata": {
    "collapsed": true
   },
   "outputs": [],
   "source": [
    "bins=np.linspace(0,10,100)\n",
    "\n",
    "binw=0.1\n",
    "\n",
    "uncorr,corr,data = data_mc( df[ (df['isEB']==0)], \n",
    "                           df_data[(df_data['isEB']==0)], bins  )"
   ]
  },
  {
   "cell_type": "code",
   "execution_count": 42,
   "metadata": {
    "collapsed": false
   },
   "outputs": [
    {
     "data": {
      "text/plain": [
       "<Container object of 3 artists>"
      ]
     },
     "execution_count": 42,
     "metadata": {},
     "output_type": "execute_result"
    },
    {
     "data": {
      "image/png": "[encoded data removed]",
      "text/plain": [
       "<matplotlib.figure.Figure at 0x7fae3f2e8a50>"
      ]
     },
     "metadata": {},
     "output_type": "display_data"
    }
   ],
   "source": [
    "fig = plt.figure()\n",
    "\n",
    "xc = bins[1:]-binw*0.5\n",
    "\n",
    "plt.bar(xc,uncorr,width=binw,label='uncorr',alpha=0.5,color='red',linewidth=0.)\n",
    "plt.bar(xc,corr,width=binw,label='corr',alpha=0.5,color='blue',linewidth=0.)\n",
    "plt.errorbar( xc, data,ls='None', xerr=np.ones_like(data)*binw*0.5, yerr=np.sqrt(data), color='black' )\n",
    "#fig.axes[0].set_yscale('log')"
   ]
  },
  {
   "cell_type": "code",
   "execution_count": 43,
   "metadata": {
    "collapsed": false
   },
   "outputs": [
    {
     "data": {
      "image/png": "[encoded data removed]",
      "text/plain": [
       "<matplotlib.figure.Figure at 0x7fae3f7f0b50>"
      ]
     },
     "metadata": {},
     "output_type": "display_data"
    }
   ],
   "source": [
    "fig = plt.figure()\n",
    "\n",
    "xc = bins[1:]-binw*0.5\n",
    "\n",
    "plt.bar(xc,uncorr,width=binw,label='uncorr',alpha=0.5,color='red',linewidth=0.)\n",
    "plt.bar(xc,corr,width=binw,label='corr',alpha=0.5,color='blue',linewidth=0.)\n",
    "plt.errorbar( xc, data,ls='None', xerr=np.ones_like(data)*binw*0.5, yerr=np.sqrt(data), color='black' )\n",
    "fig.axes[0].set_yscale('log')"
   ]
  },
  {
   "cell_type": "code",
   "execution_count": null,
   "metadata": {
    "collapsed": true
   },
   "outputs": [],
   "source": []
  }
 ],
 "metadata": {
  "kernelspec": {
   "display_name": "Python 2",
   "language": "python",
   "name": "python2"
  },
  "language_info": {
   "codemirror_mode": {
    "name": "ipython",
    "version": 2
   },
   "file_extension": ".py",
   "mimetype": "text/x-python",
   "name": "python",
   "nbconvert_exporter": "python",
   "pygments_lexer": "ipython2",
   "version": "2.7.12"
  }
 },
 "nbformat": 4,
 "nbformat_minor": 1
}
