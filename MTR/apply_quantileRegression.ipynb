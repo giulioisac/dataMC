{
 "cells": [
  {
   "cell_type": "code",
   "execution_count": 1,
   "metadata": {
    "collapsed": false
   },
   "outputs": [
    {
     "data": {
      "application/javascript": [
       "require(['codemirror/mode/clike/clike'], function(Clike) { console.log('ROOTaaS - C++ CodeMirror module loaded'); });"
      ]
     },
     "metadata": {},
     "output_type": "display_data"
    },
    {
     "data": {
      "application/javascript": [
       "IPython.CodeCell.config_defaults.highlight_modes['magic_text/x-c++src'] = {'reg':[/^%%cpp/]};"
      ]
     },
     "metadata": {},
     "output_type": "display_data"
    },
    {
     "name": "stdout",
     "output_type": "stream",
     "text": [
      "Welcome to ROOTaaS 6.06/02\n"
     ]
    }
   ],
   "source": [
    "from quantileRegression import quantileRegression\n",
    "import numpy as np"
   ]
  },
  {
   "cell_type": "code",
   "execution_count": 2,
   "metadata": {
    "collapsed": false
   },
   "outputs": [],
   "source": [
    "# Variable you want to correct\n",
    "# \"R9\", \"S4\", \"SigmaIeIe\", \"EtaWidth\", \"PhiWidth\", \"CovarianceIphiIphi\", \"SigmaRR\"\n",
    "\n",
    "y = \"R9\"                    # <<-- just a simple string\n",
    "rv = np.arange(0.0,1.0,0.01)        # binning for final plots\n",
    "\n",
    "#y = \"SigmaIeIe\"                    # <<-- just a simple string\n",
    "#rv = np.arange(0.0,0.04,0.0001)        # binning for final plots\n",
    "\n",
    "#y = \"S4\"                    # <<-- just a simple string\n",
    "#rv = np.arange(0.0,1.0,0.01)        # binning for final plots\n",
    "\n",
    "#y = \"EtaWidth\"                    # <<-- just a simple string\n",
    "#rv = np.arange(0.0,0.05,0.0001)        # binning for final plots\n",
    "\n",
    "#y = \"PhiWidth\"                    # <<-- just a simple string\n",
    "#rv = np.arange(0.0,0.2,0.001)        # binning for final plots\n",
    "\n",
    "#y = \"CovarianceIphiIphi\"                    # <<-- just a simple string\n",
    "#rv = np.arange(0.008, 0.02,0.0001)        # binning for final plots\n",
    "\n",
    "# y = \"SigmaRR\"                    # <<-- just a simple string\n",
    "# rv = np.arange(1, 12.0,0.01)        # binning for final plots\n",
    "\n",
    "# Input variables used for the regression\n",
    "X = ['Pt', 'ScEta', 'Phi', 'rho']  # <<-- list"
   ]
  },
  {
   "cell_type": "code",
   "execution_count": 3,
   "metadata": {
    "collapsed": false
   },
   "outputs": [
    {
     "name": "stdout",
     "output_type": "stream",
     "text": [
      "Number of quantiles  9\n"
     ]
    }
   ],
   "source": [
    "# Set the quantiles \n",
    "quantiles = [ 0.1, 0.2, 0.3, 0.4, 0.5, 0.6, 0.7, 0.8, 0.9 ]\n",
    "# quantiles = [ 0.05,  0.1 ,  0.15,  0.2 ,  0.25,  0.3 ,  0.35,  0.4 , 0.45,  0.5 ,  0.55,  0.6 ,  0.65,  0.7 ,  0.75,  0.8 ,  0.85, 0.9 ,  0.95]\n",
    "# quantiles = [ 0.025,  0.05 ,  0.075,  0.1  ,  0.125,  0.15 ,  0.175,  0.2  ,\n",
    "#              0.225,  0.25 ,  0.275,  0.3  ,  0.325,  0.35 ,  0.375,  0.4  ,\n",
    "#              0.425,  0.45 ,  0.475,  0.5  ,  0.525,  0.55 ,  0.575,  0.6  ,\n",
    "#              0.625,  0.65 ,  0.675,  0.7  ,  0.725,  0.75 ,  0.775,  0.8  ,\n",
    "#              0.825,  0.85 ,  0.875,  0.9  ,  0.925,  0.95 ,  0.975, \n",
    "#              0.98, 0.985, 0.99, 0.995 ]\n",
    "print \"Number of quantiles \", len(quantiles)"
   ]
  },
  {
   "cell_type": "code",
   "execution_count": 4,
   "metadata": {
    "collapsed": true
   },
   "outputs": [],
   "source": [
    "# Initialize the quantile regression object for mc\n",
    "qr_mc = quantileRegression(\"mc\")"
   ]
  },
  {
   "cell_type": "code",
   "execution_count": 5,
   "metadata": {
    "collapsed": false
   },
   "outputs": [
    {
     "name": "stdout",
     "output_type": "stream",
     "text": [
      "Load the mc dataframe\n",
      "NT branches: \n",
      "['rho', 'nvtx', 'leadPt', 'leadScEta', 'leadPhi', 'leadR9', 'leadS4', 'leadSigmaIeIe', 'leadEtaWidth', 'leadPhiWidth', 'leadCovarianceIphiIphi', 'leadSigmaRR', 'subleadPt', 'subleadScEta', 'subleadPhi', 'subleadR9', 'subleadS4', 'subleadSigmaIeIe', 'subleadEtaWidth', 'subleadPhiWidth', 'subleadCovarianceIphiIphi', 'subleadSigmaRR']\n",
      "Reading trees\n",
      "Number of events  \n",
      "rho                          2393830\n",
      "nvtx                         2393830\n",
      "leadPt                       2393830\n",
      "leadScEta                    2393830\n",
      "leadPhi                      2393830\n",
      "leadR9                       2393830\n",
      "leadS4                       2393830\n",
      "leadSigmaIeIe                2393830\n",
      "leadEtaWidth                 2393830\n",
      "leadPhiWidth                 2393830\n",
      "leadCovarianceIphiIphi       2393830\n",
      "leadSigmaRR                  2393830\n",
      "subleadPt                    2393830\n",
      "subleadScEta                 2393830\n",
      "subleadPhi                   2393830\n",
      "subleadR9                    2393830\n",
      "subleadS4                    2393830\n",
      "subleadSigmaIeIe             2393830\n",
      "subleadEtaWidth              2393830\n",
      "subleadPhiWidth              2393830\n",
      "subleadCovarianceIphiIphi    2393830\n",
      "subleadSigmaRR               2393830\n",
      "dtype: int64\n",
      "\u001b[92mApply basic selection\u001b[0m\n",
      " ptmin  =  20.0 \n",
      " ptmax  =  60.0  \n",
      " etamin =  -2.5  \n",
      " etamax =  2.5  \n",
      " phimin =  -3.14  \n",
      " phimax =  3.14\n",
      "\u001b[92mReshuffle events\u001b[0m rndm seed  =  12345\n",
      "\u001b[92mSelecting events \u001b[0m  [ 2000001 ,  3000000 ]  out of  4545316\n",
      "DataFrame size =  999999\n"
     ]
    }
   ],
   "source": [
    "# This is what you want to correct\n",
    "print \"Load the mc dataframe\"\n",
    "startEvtmc = 2000001 \n",
    "stopEvtmc  = 3000000 \n",
    "qr_mc.loadDF(\"/Users/mauro/CMS/Physics/dataMC/nt/double_ele_spring16v2_sync_v1_mc/\",\n",
    "             \"cicNoSigmaIetaIeta/trees/\",\n",
    "             [\"DYToEE_powheg_13TeV_EBHighR9\", \"DYToEE_powheg_13TeV_EBLowR9\", \"DYToEE_powheg_13TeV_EEHighR9\", \"DYToEE_powheg_13TeV_EELowR9\" ],\n",
    "             startEvtmc, stopEvtmc, 12345)"
   ]
  },
  {
   "cell_type": "code",
   "execution_count": 6,
   "metadata": {
    "collapsed": false
   },
   "outputs": [
    {
     "name": "stdout",
     "output_type": "stream",
     "text": [
      "Loading mc weights\n"
     ]
    }
   ],
   "source": [
    "print \"Loading mc weights\"\n",
    "filename = \"./weights/mc_weights\"\n",
    "qr_mc.loadMcWeights(filename, y, quantiles)"
   ]
  },
  {
   "cell_type": "code",
   "execution_count": 7,
   "metadata": {
    "collapsed": false
   },
   "outputs": [
    {
     "name": "stdout",
     "output_type": "stream",
     "text": [
      "Loading data weights\n"
     ]
    }
   ],
   "source": [
    "print \"Loading data weights\"\n",
    "filename = \"./weights/data_weights\"\n",
    "qr_mc.loadDataWeights(filename, y, quantiles)"
   ]
  },
  {
   "cell_type": "code",
   "execution_count": 8,
   "metadata": {
    "collapsed": false
   },
   "outputs": [
    {
     "name": "stdout",
     "output_type": "stream",
     "text": [
      "Get corrections for  R9  with quantiles  [0.1, 0.2, 0.3, 0.4, 0.5, 0.6, 0.7, 0.8, 0.9]\n",
      "Features: X =  ['Pt', 'ScEta', 'Phi', 'rho']  target y =  R9\n"
     ]
    }
   ],
   "source": [
    "#print \"Get the corrected data-mc values\"\n",
    "qr_mc.correctY(X, y, quantiles )"
   ]
  },
  {
   "cell_type": "code",
   "execution_count": 9,
   "metadata": {
    "collapsed": false
   },
   "outputs": [
    {
     "name": "stdout",
     "output_type": "stream",
     "text": [
      "Y =  R9\n",
      "Corrected Y =  R9_corr\n"
     ]
    }
   ],
   "source": [
    "y_mc   = qr_mc.getY(y)\n",
    "y_mccorr = qr_mc.getCorrectedY(y)\n",
    "#print y_mc\n",
    "#print y_mccorr"
   ]
  },
  {
   "cell_type": "code",
   "execution_count": 10,
   "metadata": {
    "collapsed": false
   },
   "outputs": [
    {
     "name": "stdout",
     "output_type": "stream",
     "text": [
      "Load the data dataframe\n",
      "NT branches: \n",
      "['rho', 'nvtx', 'leadHLT_Ele27_WPTight_Gsf_vMatch', 'subleadHLT_Ele27_WPTight_Gsf_vMatch', 'leadPt', 'leadScEta', 'leadPhi', 'leadR9', 'leadS4', 'leadSigmaIeIe', 'leadEtaWidth', 'leadPhiWidth', 'leadCovarianceIphiIphi', 'leadSigmaRR', 'subleadPt', 'subleadScEta', 'subleadPhi', 'subleadR9', 'subleadS4', 'subleadSigmaIeIe', 'subleadEtaWidth', 'subleadPhiWidth', 'subleadCovarianceIphiIphi', 'subleadSigmaRR']\n",
      "Reading trees\n",
      "Number of events  \n",
      "rho                                    1037409\n",
      "nvtx                                   1037409\n",
      "leadHLT_Ele27_WPTight_Gsf_vMatch       1037409\n",
      "subleadHLT_Ele27_WPTight_Gsf_vMatch    1037409\n",
      "leadPt                                 1037409\n",
      "leadScEta                              1037409\n",
      "leadPhi                                1037409\n",
      "leadR9                                 1037409\n",
      "leadS4                                 1037409\n",
      "leadSigmaIeIe                          1037409\n",
      "leadEtaWidth                           1037409\n",
      "leadPhiWidth                           1037409\n",
      "leadCovarianceIphiIphi                 1037409\n",
      "leadSigmaRR                            1037409\n",
      "subleadPt                              1037409\n",
      "subleadScEta                           1037409\n",
      "subleadPhi                             1037409\n",
      "subleadR9                              1037409\n",
      "subleadS4                              1037409\n",
      "subleadSigmaIeIe                       1037409\n",
      "subleadEtaWidth                        1037409\n",
      "subleadPhiWidth                        1037409\n",
      "subleadCovarianceIphiIphi              1037409\n",
      "subleadSigmaRR                         1037409\n",
      "dtype: int64\n",
      "# lead trig   =  847027\n",
      "# sublead trg =  672609\n",
      "\u001b[92mApply basic selection\u001b[0m\n",
      " ptmin  =  20.0 \n",
      " ptmax  =  60.0  \n",
      " etamin =  -2.5  \n",
      " etamax =  2.5  \n",
      " phimin =  -3.14  \n",
      " phimax =  3.14\n",
      "\u001b[92mReshuffle events\u001b[0m rndm seed  =  12345\n",
      "\u001b[92mSelecting events \u001b[0m  [ 0 ,  1441902 ]  out of  1441902\n",
      "DataFrame size =  1441902\n"
     ]
    }
   ],
   "source": [
    "# Plot data, mc, mc_corrr\n",
    "# just need to load the data for plotting \n",
    "qr_data = quantileRegression(\"data\")\n",
    "startEvtdata = 0\n",
    "stopEvtdata   = -1\n",
    "print \"Load the data dataframe\"\n",
    "qr_data.loadDF(\"/Users/mauro/CMS/Physics/dataMC/nt/double_ele_spring16v2_sync_v1_ichep/\",\n",
    "               \"cicNoSigmaIetaIeta/trees/\",\n",
    "               [\"Data_13TeV_EBHighR9\", \"Data_13TeV_EBLowR9\", \"Data_13TeV_EEHighR9\", \"Data_13TeV_EELowR9\" ],\n",
    "               startEvtdata, stopEvtdata)"
   ]
  },
  {
   "cell_type": "code",
   "execution_count": 11,
   "metadata": {
    "collapsed": false
   },
   "outputs": [
    {
     "name": "stdout",
     "output_type": "stream",
     "text": [
      "Y =  R9\n"
     ]
    }
   ],
   "source": [
    "y_data   = qr_data.getY(y)"
   ]
  },
  {
   "cell_type": "code",
   "execution_count": 12,
   "metadata": {
    "collapsed": false
   },
   "outputs": [],
   "source": [
    "# Some basic plots\n",
    "import matplotlib.pyplot as plt\n",
    "%matplotlib inline\n",
    "plt.style.use('ggplot')"
   ]
  },
  {
   "cell_type": "code",
   "execution_count": 13,
   "metadata": {
    "collapsed": false,
    "scrolled": false
   },
   "outputs": [],
   "source": [
    "# Diagnostic plots  --> scatter plot super heavy !\n",
    "#plotQ = qr_mc.plotQuantilesR9(quantiles)\n",
    "# Pt, ScEta, Phi, rho\n",
    "# plotQpt  = qr_mc.plotQuantiles(quantiles, 'Pt',    10, 20, 60,      'R9', '$pt$',  'R$_9$', \"./meanR9_pt.pdf\")\n",
    "# plotQpt.plot()\n",
    "# plotQeta = qr_mc.plotQuantiles(quantiles, 'ScEta', 10, -2.5, 2.5,   'R9', '$eta$', 'R$_9$', \"./meanR9_eta.pdf\")\n",
    "# plotQeta.plot()\n",
    "# plotQphi = qr_mc.plotQuantiles(quantiles, 'Phi',   10, -3.14, 3.14, 'R9', '$phi$', 'R$_9$', \"./meanR9_phi.pdf\")\n",
    "# plotQphi.plot()\n",
    "# plotQrho = qr_mc.plotQuantiles(quantiles, 'rho',   10, 0, 50,       'R9', '$rho$', 'R$_9$', \"./meanR9_rho.pdf\")\n",
    "# plotQrho.plot()"
   ]
  },
  {
   "cell_type": "code",
   "execution_count": 14,
   "metadata": {
    "collapsed": false
   },
   "outputs": [
    {
     "name": "stdout",
     "output_type": "stream",
     "text": [
      "mc     999999\n",
      "data   1441902\n",
      "mccorr 999999\n"
     ]
    },
    {
     "data": {
      "image/png": "[encoded data removed]",
      "text/plain": [
       "<matplotlib.figure.Figure at 0x139a82d90>"
      ]
     },
     "metadata": {},
     "output_type": "display_data"
    }
   ],
   "source": [
    "fig = plt.figure()\n",
    "ax1 = fig.add_subplot(2, 2, 1)\n",
    "h_mc     = y_mc    .hist(bins=100, alpha = 1, color='g')\n",
    "ax2 = fig.add_subplot(2, 2, 2)\n",
    "h_mccorr = y_mccorr.hist(bins=100, alpha = 1, color='b')\n",
    "ax3 = fig.add_subplot(2, 2, 3)\n",
    "h_data   = y_data  .hist(bins=100, alpha = 1, color='r')\n",
    "print \"mc    \", y_mc.count()\n",
    "print \"data  \", y_data.count()\n",
    "print \"mccorr\", y_mccorr.count()"
   ]
  },
  {
   "cell_type": "code",
   "execution_count": 15,
   "metadata": {
    "collapsed": false
   },
   "outputs": [
    {
     "data": {
      "image/png": "[encoded data removed]",
      "text/plain": [
       "<matplotlib.figure.Figure at 0x139a82950>"
      ]
     },
     "metadata": {},
     "output_type": "display_data"
    }
   ],
   "source": [
    "fig2 = plt.figure()\n",
    "h_data    = y_data  .hist(bins=100, alpha = 1.0, color='r', normed = 1)\n",
    "h_mc      = y_mc    .hist(bins=100, alpha = 0.5, color='g', normed = 1)\n",
    "h_mccorr2 = y_mccorr.hist(bins=100, alpha = 0.5, color='b', normed = 1)\n",
    "fig2.savefig(\"test.pdf\")"
   ]
  },
  {
   "cell_type": "code",
   "execution_count": 16,
   "metadata": {
    "collapsed": false,
    "scrolled": true
   },
   "outputs": [
    {
     "data": {
      "text/plain": [
       "[<matplotlib.lines.Line2D at 0x132cbafd0>]"
      ]
     },
     "execution_count": 16,
     "metadata": {},
     "output_type": "execute_result"
    },
    {
     "data": {
      "image/png": "[encoded data removed]",
      "text/plain": [
       "<matplotlib.figure.Figure at 0x1326cd5d0>"
      ]
     },
     "metadata": {},
     "output_type": "display_data"
    }
   ],
   "source": [
    "mc_bins, _edges = np.histogram(y_mc, rv, normed = 1)\n",
    "edges = _edges[:len(_edges)-1]\n",
    "plt.plot(edges,mc_bins,\"g\")\n",
    "mccorr_bins, _edges = np.histogram(y_mccorr, rv, normed = 1)\n",
    "edges = _edges[:len(_edges)-1]\n",
    "plt.plot(edges,mccorr_bins,\"b\")\n",
    "data_bins, _edges = np.histogram(y_data, rv, normed = 1)\n",
    "edges = _edges[:len(_edges)-1]\n",
    "plt.plot(edges  ,data_bins,\"r\")"
   ]
  },
  {
   "cell_type": "code",
   "execution_count": 17,
   "metadata": {
    "collapsed": false
   },
   "outputs": [
    {
     "data": {
      "text/plain": [
       "[<matplotlib.lines.Line2D at 0x132d8add0>]"
      ]
     },
     "execution_count": 17,
     "metadata": {},
     "output_type": "execute_result"
    },
    {
     "data": {
      "image/png": "[encoded data removed]",
      "text/plain": [
       "<matplotlib.figure.Figure at 0x1326c1f10>"
      ]
     },
     "metadata": {},
     "output_type": "display_data"
    }
   ],
   "source": [
    "rv2 = np.arange(0.8, 1.0, 0.001)        # binning for final plots\n",
    "mc_bins, _edges = np.histogram(y_mc, rv2, normed = 1)\n",
    "edges = _edges[:len(_edges)-1]\n",
    "plt.plot(edges,mc_bins,\"g\")\n",
    "mccorr_bins, _edges = np.histogram(y_mccorr, rv2, normed = 1)\n",
    "edges = _edges[:len(_edges)-1]\n",
    "plt.plot(edges,mccorr_bins,\"b\")\n",
    "data_bins, _edges = np.histogram(y_data, rv2, normed = 1)\n",
    "edges = _edges[:len(_edges)-1]\n",
    "plt.plot(edges  ,data_bins,\"r\")"
   ]
  },
  {
   "cell_type": "code",
   "execution_count": null,
   "metadata": {
    "collapsed": true
   },
   "outputs": [],
   "source": []
  }
 ],
 "metadata": {
  "kernelspec": {
   "display_name": "Python 2",
   "language": "python",
   "name": "python2"
  },
  "language_info": {
   "codemirror_mode": {
    "name": "ipython",
    "version": 2
   },
   "file_extension": ".py",
   "mimetype": "text/x-python",
   "name": "python",
   "nbconvert_exporter": "python",
   "pygments_lexer": "ipython2",
   "version": "2.7.12"
  }
 },
 "nbformat": 4,
 "nbformat_minor": 0
}
