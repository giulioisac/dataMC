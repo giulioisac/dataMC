{
 "cells": [
  {
   "cell_type": "code",
   "execution_count": 1,
   "metadata": {
    "collapsed": false
   },
   "outputs": [
    {
     "data": {
      "application/javascript": [
       "require(['codemirror/mode/clike/clike'], function(Clike) { console.log('ROOTaaS - C++ CodeMirror module loaded'); });"
      ]
     },
     "metadata": {},
     "output_type": "display_data"
    },
    {
     "data": {
      "application/javascript": [
       "IPython.CodeCell.config_defaults.highlight_modes['magic_text/x-c++src'] = {'reg':[/^%%cpp/]};"
      ]
     },
     "metadata": {},
     "output_type": "display_data"
    },
    {
     "name": "stdout",
     "output_type": "stream",
     "text": [
      "Welcome to ROOTaaS 6.06/02\n"
     ]
    }
   ],
   "source": [
    "from quantileRegression import quantileRegression\n",
    "import numpy as np"
   ]
  },
  {
   "cell_type": "code",
   "execution_count": 2,
   "metadata": {
    "collapsed": false
   },
   "outputs": [],
   "source": [
    "# Variable you want to correct\n",
    "ylist = [\"R9\", \"S4\", \"SigmaIeIe\", \"EtaWidth\", \"PhiWidth\", \"CovarianceIphiIphi\", \"SigmaRR\"]\n",
    "# ylist = [\"SigmaIeIe\"] \n",
    "\n",
    "# Input variables used for the regression\n",
    "X = ['Pt', 'ScEta', 'Phi', 'rho']  # <<-- list"
   ]
  },
  {
   "cell_type": "code",
   "execution_count": 3,
   "metadata": {
    "collapsed": false
   },
   "outputs": [
    {
     "name": "stdout",
     "output_type": "stream",
     "text": [
      "Number of quantiles  9\n"
     ]
    }
   ],
   "source": [
    "# Set the quantiles \n",
    "quantiles = [ 0.1, 0.2, 0.3, 0.4, 0.5, 0.6, 0.7, 0.8, 0.9 ]\n",
    "print \"Number of quantiles \", len(quantiles)"
   ]
  },
  {
   "cell_type": "code",
   "execution_count": 4,
   "metadata": {
    "collapsed": true
   },
   "outputs": [],
   "source": [
    "# Initialize the quantile regression object for mc\n",
    "qr_mc = quantileRegression(\"mc\")"
   ]
  },
  {
   "cell_type": "code",
   "execution_count": null,
   "metadata": {
    "collapsed": false
   },
   "outputs": [
    {
     "name": "stdout",
     "output_type": "stream",
     "text": [
      "Load the mc dataframe\n",
      "NT branches: \n",
      "['rho', 'nvtx', 'leadPt', 'leadScEta', 'leadPhi', 'leadR9', 'leadS4', 'leadSigmaIeIe', 'leadEtaWidth', 'leadPhiWidth', 'leadCovarianceIphiIphi', 'leadSigmaRR', 'subleadPt', 'subleadScEta', 'subleadPhi', 'subleadR9', 'subleadS4', 'subleadSigmaIeIe', 'subleadEtaWidth', 'subleadPhiWidth', 'subleadCovarianceIphiIphi', 'subleadSigmaRR']\n",
      "['cicNoSigmaIetaIeta/trees/DYToEE_powheg_13TeV_EBHighR9', 'cicNoSigmaIetaIeta/trees/DYToEE_powheg_13TeV_EBLowR9', 'cicNoSigmaIetaIeta/trees/DYToEE_powheg_13TeV_EEHighR9', 'cicNoSigmaIetaIeta/trees/DYToEE_powheg_13TeV_EELowR9']\n",
      "Adding trees into a DataFrame\n",
      "  adding  cicNoSigmaIetaIeta/trees/DYToEE_powheg_13TeV_EBHighR9\n",
      "rho                          969508\n",
      "nvtx                         969508\n",
      "leadPt                       969508\n",
      "leadScEta                    969508\n",
      "leadPhi                      969508\n",
      "leadR9                       969508\n",
      "leadS4                       969508\n",
      "leadSigmaIeIe                969508\n",
      "leadEtaWidth                 969508\n",
      "leadPhiWidth                 969508\n",
      "leadCovarianceIphiIphi       969508\n",
      "leadSigmaRR                  969508\n",
      "subleadPt                    969508\n",
      "subleadScEta                 969508\n",
      "subleadPhi                   969508\n",
      "subleadR9                    969508\n",
      "subleadS4                    969508\n",
      "subleadSigmaIeIe             969508\n",
      "subleadEtaWidth              969508\n",
      "subleadPhiWidth              969508\n",
      "subleadCovarianceIphiIphi    969508\n",
      "subleadSigmaRR               969508\n",
      "dtype: int64\n",
      "  adding  cicNoSigmaIetaIeta/trees/DYToEE_powheg_13TeV_EBLowR9\n",
      "rho                          6096487\n",
      "nvtx                         6096487\n",
      "leadPt                       6096487\n",
      "leadScEta                    6096487\n",
      "leadPhi                      6096487\n",
      "leadR9                       6096487\n",
      "leadS4                       6096487\n",
      "leadSigmaIeIe                6096487\n",
      "leadEtaWidth                 6096487\n",
      "leadPhiWidth                 6096487\n",
      "leadCovarianceIphiIphi       6096487\n",
      "leadSigmaRR                  6096487\n",
      "subleadPt                    6096487\n",
      "subleadScEta                 6096487\n",
      "subleadPhi                   6096487\n",
      "subleadR9                    6096487\n",
      "subleadS4                    6096487\n",
      "subleadSigmaIeIe             6096487\n",
      "subleadEtaWidth              6096487\n",
      "subleadPhiWidth              6096487\n",
      "subleadCovarianceIphiIphi    6096487\n",
      "subleadSigmaRR               6096487\n",
      "dtype: int64\n",
      "  adding  cicNoSigmaIetaIeta/trees/DYToEE_powheg_13TeV_EEHighR9\n",
      "rho                          6347913\n",
      "nvtx                         6347913\n",
      "leadPt                       6347913\n",
      "leadScEta                    6347913\n",
      "leadPhi                      6347913\n",
      "leadR9                       6347913\n",
      "leadS4                       6347913\n",
      "leadSigmaIeIe                6347913\n",
      "leadEtaWidth                 6347913\n",
      "leadPhiWidth                 6347913\n",
      "leadCovarianceIphiIphi       6347913\n",
      "leadSigmaRR                  6347913\n",
      "subleadPt                    6347913\n",
      "subleadScEta                 6347913\n",
      "subleadPhi                   6347913\n",
      "subleadR9                    6347913\n",
      "subleadS4                    6347913\n",
      "subleadSigmaIeIe             6347913\n",
      "subleadEtaWidth              6347913\n",
      "subleadPhiWidth              6347913\n",
      "subleadCovarianceIphiIphi    6347913\n",
      "subleadSigmaRR               6347913\n",
      "dtype: int64\n",
      "  adding  cicNoSigmaIetaIeta/trees/DYToEE_powheg_13TeV_EELowR9\n",
      "rho                          8741743\n",
      "nvtx                         8741743\n",
      "leadPt                       8741743\n",
      "leadScEta                    8741743\n",
      "leadPhi                      8741743\n",
      "leadR9                       8741743\n",
      "leadS4                       8741743\n",
      "leadSigmaIeIe                8741743\n",
      "leadEtaWidth                 8741743\n",
      "leadPhiWidth                 8741743\n",
      "leadCovarianceIphiIphi       8741743\n",
      "leadSigmaRR                  8741743\n",
      "subleadPt                    8741743\n",
      "subleadScEta                 8741743\n",
      "subleadPhi                   8741743\n",
      "subleadR9                    8741743\n",
      "subleadS4                    8741743\n",
      "subleadSigmaIeIe             8741743\n",
      "subleadEtaWidth              8741743\n",
      "subleadPhiWidth              8741743\n",
      "subleadCovarianceIphiIphi    8741743\n",
      "subleadSigmaRR               8741743\n",
      "dtype: int64\n",
      "Number of events  \n",
      "rho                          8741743\n",
      "nvtx                         8741743\n",
      "leadPt                       8741743\n",
      "leadScEta                    8741743\n",
      "leadPhi                      8741743\n",
      "leadR9                       8741743\n",
      "leadS4                       8741743\n",
      "leadSigmaIeIe                8741743\n",
      "leadEtaWidth                 8741743\n",
      "leadPhiWidth                 8741743\n",
      "leadCovarianceIphiIphi       8741743\n",
      "leadSigmaRR                  8741743\n",
      "subleadPt                    8741743\n",
      "subleadScEta                 8741743\n",
      "subleadPhi                   8741743\n",
      "subleadR9                    8741743\n",
      "subleadS4                    8741743\n",
      "subleadSigmaIeIe             8741743\n",
      "subleadEtaWidth              8741743\n",
      "subleadPhiWidth              8741743\n",
      "subleadCovarianceIphiIphi    8741743\n",
      "subleadSigmaRR               8741743\n",
      "dtype: int64\n",
      "SubLead \n",
      "rho                   8741743\n",
      "nvtx                  8741743\n",
      "Pt                    8741743\n",
      "ScEta                 8741743\n",
      "Phi                   8741743\n",
      "R9                    8741743\n",
      "S4                    8741743\n",
      "SigmaIeIe             8741743\n",
      "EtaWidth              8741743\n",
      "PhiWidth              8741743\n",
      "CovarianceIphiIphi    8741743\n",
      "SigmaRR               8741743\n",
      "dtype: int64\n",
      "Lead \n",
      "rho                   8741743\n",
      "nvtx                  8741743\n",
      "Pt                    8741743\n",
      "ScEta                 8741743\n",
      "Phi                   8741743\n",
      "R9                    8741743\n",
      "S4                    8741743\n",
      "SigmaIeIe             8741743\n",
      "EtaWidth              8741743\n",
      "PhiWidth              8741743\n",
      "CovarianceIphiIphi    8741743\n",
      "SigmaRR               8741743\n",
      "dtype: int64\n",
      "rho                   17483486\n",
      "nvtx                  17483486\n",
      "Pt                    17483486\n",
      "ScEta                 17483486\n",
      "Phi                   17483486\n",
      "R9                    17483486\n",
      "S4                    17483486\n",
      "SigmaIeIe             17483486\n",
      "EtaWidth              17483486\n",
      "PhiWidth              17483486\n",
      "CovarianceIphiIphi    17483486\n",
      "SigmaRR               17483486\n",
      "dtype: int64\n",
      "rho                   17483486\n",
      "nvtx                  17483486\n",
      "Pt                    17483486\n",
      "ScEta                 17483486\n",
      "Phi                   17483486\n",
      "R9                    17483486\n",
      "S4                    17483486\n",
      "SigmaIeIe             17483486\n",
      "EtaWidth              17483486\n",
      "PhiWidth              17483486\n",
      "CovarianceIphiIphi    17483486\n",
      "SigmaRR               17483486\n",
      "dtype: int64\n",
      "Count final dataset\n",
      "index                 17483486\n",
      "rho                   17483486\n",
      "nvtx                  17483486\n",
      "Pt                    17483486\n",
      "ScEta                 17483486\n",
      "Phi                   17483486\n",
      "R9                    17483486\n",
      "S4                    17483486\n",
      "SigmaIeIe             17483486\n",
      "EtaWidth              17483486\n",
      "PhiWidth              17483486\n",
      "CovarianceIphiIphi    17483486\n",
      "SigmaRR               17483486\n",
      "dtype: int64\n",
      "\u001b[92mApply basic selection\u001b[0m\n",
      " ptmin  =  20.0 \n",
      " ptmax  =  60.0  \n",
      " etamin =  -2.5  \n",
      " etamax =  2.5  \n",
      " phimin =  -3.14  \n",
      " phimax =  3.14\n",
      "\u001b[92mReshuffle events\u001b[0m rndm seed  =  12345\n",
      "\u001b[92mSelecting events \u001b[0m  [ 2000001 ,  3000000 ]  out of  16259283\n",
      "DataFrame size =  999999\n"
     ]
    }
   ],
   "source": [
    "# This is what you want to correct\n",
    "print \"Load the mc dataframe\"\n",
    "startEvtmc = 2000001 \n",
    "stopEvtmc  = 3000000 \n",
    "qr_mc.loadDF(\"/Users/mauro/CMS/Physics/dataMC/nt/double_ele_spring16v2_sync_v1_mc/\",\n",
    "             \"cicNoSigmaIetaIeta/trees/\",\n",
    "             [\"DYToEE_powheg_13TeV_EBHighR9\", \"DYToEE_powheg_13TeV_EBLowR9\", \"DYToEE_powheg_13TeV_EEHighR9\", \"DYToEE_powheg_13TeV_EELowR9\" ],\n",
    "             startEvtmc, stopEvtmc, 12345)"
   ]
  },
  {
   "cell_type": "code",
   "execution_count": null,
   "metadata": {
    "collapsed": false
   },
   "outputs": [],
   "source": [
    "print \"Get the corrected data-mc values\"\n",
    "# qr_mc.correctY(X, y, quantiles )\n",
    "qr_mc.correctAllY(X, ylist, quantiles )"
   ]
  },
  {
   "cell_type": "code",
   "execution_count": null,
   "metadata": {
    "collapsed": false
   },
   "outputs": [],
   "source": [
    "#y_mc   = qr_mc.getY(y)\n",
    "#y_mccorr = qr_mc.getCorrectedY(y)\n",
    "#print y_mc\n",
    "#print y_mccorr\n",
    "dfmc = qr_mc.getDF()"
   ]
  },
  {
   "cell_type": "code",
   "execution_count": null,
   "metadata": {
    "collapsed": false
   },
   "outputs": [],
   "source": [
    "# Plot data, mc, mc_corrr\n",
    "# just need to load the data for plotting \n",
    "qr_data = quantileRegression(\"data\")\n",
    "startEvtdata = 0\n",
    "stopEvtdata   = -1\n",
    "print \"Load the data dataframe\"\n",
    "qr_data.loadDF(\"/Users/mauro/CMS/Physics/dataMC/nt/double_ele_spring16v2_sync_v1_ichep/\",\n",
    "               \"cicNoSigmaIetaIeta/trees/\",\n",
    "               [\"Data_13TeV_EBHighR9\", \"Data_13TeV_EBLowR9\", \"Data_13TeV_EEHighR9\", \"Data_13TeV_EELowR9\" ],\n",
    "               startEvtdata, stopEvtdata)"
   ]
  },
  {
   "cell_type": "code",
   "execution_count": null,
   "metadata": {
    "collapsed": false
   },
   "outputs": [],
   "source": [
    "#y_data   = qr_data.getY(y)\n",
    "dfdata = qr_data.getDF()"
   ]
  },
  {
   "cell_type": "code",
   "execution_count": null,
   "metadata": {
    "collapsed": false
   },
   "outputs": [],
   "source": [
    "# Some basic plots\n",
    "import matplotlib.pyplot as plt\n",
    "%matplotlib inline\n",
    "plt.style.use('ggplot')"
   ]
  },
  {
   "cell_type": "code",
   "execution_count": null,
   "metadata": {
    "collapsed": false,
    "scrolled": false
   },
   "outputs": [],
   "source": [
    "# Diagnostic plots  --> scatter plot super heavy !\n",
    "#plotQ = qr_mc.plotQuantilesR9(quantiles)\n",
    "# Pt, ScEta, Phi, rho\n",
    "# plotQpt  = qr_mc.plotQuantiles(quantiles, 'Pt',    10, 20, 60,      'R9', '$pt$',  'R$_9$', \"./meanR9_pt.pdf\")\n",
    "# plotQpt.plot()\n",
    "# plotQeta = qr_mc.plotQuantiles(quantiles, 'ScEta', 10, -2.5, 2.5,   'R9', '$eta$', 'R$_9$', \"./meanR9_eta.pdf\")\n",
    "# plotQeta.plot()\n",
    "# plotQphi = qr_mc.plotQuantiles(quantiles, 'Phi',   10, -3.14, 3.14, 'R9', '$phi$', 'R$_9$', \"./meanR9_phi.pdf\")\n",
    "# plotQphi.plot()\n",
    "# plotQrho = qr_mc.plotQuantiles(quantiles, 'rho',   10, 0, 50,       'R9', '$rho$', 'R$_9$', \"./meanR9_rho.pdf\")\n",
    "# plotQrho.plot()"
   ]
  },
  {
   "cell_type": "code",
   "execution_count": null,
   "metadata": {
    "collapsed": false
   },
   "outputs": [],
   "source": [
    "# fig = plt.figure()\n",
    "# ax1 = fig.add_subplot(2, 2, 1)\n",
    "# h_mc     = y_mc    .hist(bins=100, alpha = 1, color='g')\n",
    "# ax2 = fig.add_subplot(2, 2, 2)\n",
    "# h_mccorr = y_mccorr.hist(bins=100, alpha = 1, color='b')\n",
    "# ax3 = fig.add_subplot(2, 2, 3)\n",
    "# h_data   = y_data  .hist(bins=100, alpha = 1, color='r')\n",
    "# print \"mc    \", y_mc.count()\n",
    "# print \"data  \", y_data.count()\n",
    "# print \"mccorr\", y_mccorr.count()"
   ]
  },
  {
   "cell_type": "code",
   "execution_count": null,
   "metadata": {
    "collapsed": false
   },
   "outputs": [],
   "source": [
    "# fig2 = plt.figure()\n",
    "# h_data    = y_data  .hist(bins=100, alpha = 1.0, color='r', normed = 1)\n",
    "# h_mc      = y_mc    .hist(bins=100, alpha = 0.5, color='g', normed = 1)\n",
    "# h_mccorr2 = y_mccorr.hist(bins=100, alpha = 0.5, color='b', normed = 1)\n",
    "# fig2.savefig(\"test.pdf\")"
   ]
  },
  {
   "cell_type": "code",
   "execution_count": null,
   "metadata": {
    "collapsed": false,
    "scrolled": true
   },
   "outputs": [],
   "source": [
    "print ylist\n",
    "for yvar in ylist:\n",
    "    yvarcorr = yvar+\"_corr\"\n",
    "    print \"plotting \", yvar\n",
    "\n",
    "    rv = []\n",
    "    if yvar == \"R9\":\n",
    "        rv  = np.arange(0.0,1.0,0.001)\n",
    "        rv2 = np.arange(0.8,1.0,0.001)\n",
    "    if yvar == \"S4\":\n",
    "        rv  = np.arange(0.0,1.0,0.001)\n",
    "        rv2 = np.arange(0.8,1.0,0.001)\n",
    "    if yvar == \"SigmaIeIe\":\n",
    "        rv = np.arange(0.0,0.04,0.0001)\n",
    "        rv2 = np.arange(0.015,0.030,0.0001)\n",
    "    if yvar == \"EtaWidth\":\n",
    "        rv = np.arange(0.0,0.05,0.0001)\n",
    "        rv2 = np.arange(0.005,0.025,0.0001)\n",
    "    if yvar == \"PhiWidth\":\n",
    "        rv = np.arange(0.0,0.2,0.001)\n",
    "        rv2 = np.arange(0.0,0.05,0.0003)\n",
    "    if yvar == \"CovarianceIphiIphi\":\n",
    "        rv  = np.arange(0.0, 0.02,0.0001)\n",
    "        rv2 = np.arange(0.02, 0.05,0.0003)\n",
    "    if yvar == \"SigmaRR\":\n",
    "        rv = np.arange(1, 12.0,0.1) \n",
    "        rv2 = np.arange(1, 12.0,0.1)\n",
    "     \n",
    "    fig = plt.figure()\n",
    "    ax = fig.add_subplot(111)\n",
    "    ax.set_xlabel(yvar)\n",
    "    mc_bins, _edges = np.histogram(dfmc[yvar], rv, normed = 1)\n",
    "    edges = _edges[:len(_edges)-1]\n",
    "    plt.plot(edges,mc_bins,\"g\")\n",
    "    mccorr_bins, _edges = np.histogram(dfmc[yvarcorr], rv, normed = 1)\n",
    "    edges = _edges[:len(_edges)-1]\n",
    "    plt.plot(edges,mccorr_bins,\"b\")\n",
    "    data_bins, _edges = np.histogram(dfdata[yvar], rv, normed = 1)\n",
    "    edges = _edges[:len(_edges)-1]\n",
    "    plt.plot(edges  ,data_bins,\"r\")\n",
    "\n",
    "    fig = plt.figure()\n",
    "    ax = fig.add_subplot(111)\n",
    "    ax.set_xlabel(yvar)\n",
    "    mc_bins, _edges = np.histogram(dfmc[yvar], rv2, normed = 1)\n",
    "    edges = _edges[:len(_edges)-1]\n",
    "    plt.plot(edges,mc_bins,\"g\")\n",
    "    mccorr_bins, _edges = np.histogram(dfmc[yvarcorr], rv2, normed = 1)\n",
    "    edges = _edges[:len(_edges)-1]\n",
    "    plt.plot(edges,mccorr_bins,\"b\")\n",
    "    data_bins, _edges = np.histogram(dfdata[yvar], rv2, normed = 1)\n",
    "    edges = _edges[:len(_edges)-1]\n",
    "    plt.plot(edges  ,data_bins,\"r\")\n",
    "\n",
    "    \n",
    "    \n",
    "# mc_bins, _edges = np.histogram(y_mc, rv, normed = 1)\n",
    "# edges = _edges[:len(_edges)-1]\n",
    "# plt.plot(edges,mc_bins,\"g\")\n",
    "# mccorr_bins, _edges = np.histogram(y_mccorr, rv, normed = 1)\n",
    "# edges = _edges[:len(_edges)-1]\n",
    "# plt.plot(edges,mccorr_bins,\"b\")\n",
    "# data_bins, _edges = np.histogram(y_data, rv, normed = 1)b\n",
    "\n",
    "# edges = _edges[:len(_edges)-1]\n",
    "# plt.plot(edges  ,data_bins,\"r\")"
   ]
  },
  {
   "cell_type": "code",
   "execution_count": null,
   "metadata": {
    "collapsed": false
   },
   "outputs": [],
   "source": []
  }
 ],
 "metadata": {
  "kernelspec": {
   "display_name": "Python 2",
   "language": "python",
   "name": "python2"
  },
  "language_info": {
   "codemirror_mode": {
    "name": "ipython",
    "version": 2
   },
   "file_extension": ".py",
   "mimetype": "text/x-python",
   "name": "python",
   "nbconvert_exporter": "python",
   "pygments_lexer": "ipython2",
   "version": "2.7.12"
  }
 },
 "nbformat": 4,
 "nbformat_minor": 0
}
