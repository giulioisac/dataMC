{
 "cells": [
  {
   "cell_type": "code",
   "execution_count": 1,
   "metadata": {
    "collapsed": false
   },
   "outputs": [
    {
     "data": {
      "application/javascript": [
       "require(['codemirror/mode/clike/clike'], function(Clike) { console.log('ROOTaaS - C++ CodeMirror module loaded'); });"
      ]
     },
     "metadata": {},
     "output_type": "display_data"
    },
    {
     "data": {
      "application/javascript": [
       "IPython.CodeCell.config_defaults.highlight_modes['magic_text/x-c++src'] = {'reg':[/^%%cpp/]};"
      ]
     },
     "metadata": {},
     "output_type": "display_data"
    },
    {
     "name": "stdout",
     "output_type": "stream",
     "text": [
      "Welcome to ROOTaaS 6.06/02\n"
     ]
    }
   ],
   "source": [
    "from quantileRegression import quantileRegression\n",
    "import numpy as np"
   ]
  },
  {
   "cell_type": "code",
   "execution_count": 2,
   "metadata": {
    "collapsed": false
   },
   "outputs": [],
   "source": [
    "# Variable you want to correct\n",
    "ylist = [\"R9\", \"S4\", \"SigmaIeIe\", \"EtaWidth\", \"PhiWidth\", \"CovarianceIphiIphi\", \"SigmaRR\",\n",
    "         'CovarianceIetaIphi', 'PhoIso03', 'ChIso03', 'ChIso03worst']\n",
    "\n",
    "# ylist = [\"SigmaIeIe\"] \n",
    "\n",
    "# Input variables used for the regression\n",
    "X = ['Pt', 'ScEta', 'Phi', 'rho']  # <<-- list"
   ]
  },
  {
   "cell_type": "code",
   "execution_count": 3,
   "metadata": {
    "collapsed": false
   },
   "outputs": [
    {
     "name": "stdout",
     "output_type": "stream",
     "text": [
      "Number of quantiles  9\n"
     ]
    }
   ],
   "source": [
    "# Set the quantiles \n",
    "quantiles = [ 0.1, 0.2, 0.3, 0.4, 0.5, 0.6, 0.7, 0.8, 0.9 ]\n",
    "print \"Number of quantiles \", len(quantiles)"
   ]
  },
  {
   "cell_type": "code",
   "execution_count": 4,
   "metadata": {
    "collapsed": true
   },
   "outputs": [],
   "source": [
    "# Initialize the quantile regression object for mc\n",
    "qr_mc = quantileRegression(\"mc\")"
   ]
  },
  {
   "cell_type": "code",
   "execution_count": 5,
   "metadata": {
    "collapsed": false
   },
   "outputs": [
    {
     "name": "stdout",
     "output_type": "stream",
     "text": [
      "Load the mc dataframe\n",
      "NT branches: \n",
      "['rho', 'nvtx', 'leadEleMatch', 'subleadEleMatch', 'leadPt', 'leadScEta', 'leadPhi', 'leadR9', 'leadS4', 'leadSigmaIeIe', 'leadEtaWidth', 'leadPhiWidth', 'leadCovarianceIphiIphi', 'leadSigmaRR', 'leadScEnergy', 'leadCovarianceIetaIphi', 'leadPhoIso03', 'leadChIso03', 'leadChIso03worst', 'leadScPreshowerEnergy', 'subleadPt', 'subleadScEta', 'subleadPhi', 'subleadR9', 'subleadS4', 'subleadSigmaIeIe', 'subleadEtaWidth', 'subleadPhiWidth', 'subleadCovarianceIphiIphi', 'subleadSigmaRR', 'subleadScEnergy', 'subleadCovarianceIetaIphi', 'subleadPhoIso03', 'subleadChIso03', 'subleadChIso03worst', 'leadScPreshowerEnergy']\n",
      "['cicNoSigmaIetaIeta/trees/DYToEE_powheg_13TeV_EBHighR9', 'cicNoSigmaIetaIeta/trees/DYToEE_powheg_13TeV_EBLowR9', 'cicNoSigmaIetaIeta/trees/DYToEE_powheg_13TeV_EEHighR9', 'cicNoSigmaIetaIeta/trees/DYToEE_powheg_13TeV_EELowR9']\n",
      "Adding trees into a DataFrame\n",
      "  adding  cicNoSigmaIetaIeta/trees/DYToEE_powheg_13TeV_EBHighR9\n",
      "  adding  cicNoSigmaIetaIeta/trees/DYToEE_powheg_13TeV_EBLowR9\n",
      "  adding  cicNoSigmaIetaIeta/trees/DYToEE_powheg_13TeV_EEHighR9\n",
      "  adding  cicNoSigmaIetaIeta/trees/DYToEE_powheg_13TeV_EELowR9\n",
      "Number of events  \n",
      "rho                          8741743\n",
      "nvtx                         8741743\n",
      "leadEleMatch                 8741743\n",
      "subleadEleMatch              8741743\n",
      "leadPt                       8741743\n",
      "leadScEta                    8741743\n",
      "leadPhi                      8741743\n",
      "leadR9                       8741743\n",
      "leadS4                       8741743\n",
      "leadSigmaIeIe                8741743\n",
      "leadEtaWidth                 8741743\n",
      "leadPhiWidth                 8741743\n",
      "leadCovarianceIphiIphi       8741743\n",
      "leadSigmaRR                  8741743\n",
      "leadScEnergy                 8741743\n",
      "leadCovarianceIetaIphi       8741743\n",
      "leadPhoIso03                 8741743\n",
      "leadChIso03                  8741743\n",
      "leadChIso03worst             8741743\n",
      "leadScPreshowerEnergy        8741743\n",
      "subleadPt                    8741743\n",
      "subleadScEta                 8741743\n",
      "subleadPhi                   8741743\n",
      "subleadR9                    8741743\n",
      "subleadS4                    8741743\n",
      "subleadSigmaIeIe             8741743\n",
      "subleadEtaWidth              8741743\n",
      "subleadPhiWidth              8741743\n",
      "subleadCovarianceIphiIphi    8741743\n",
      "subleadSigmaRR               8741743\n",
      "subleadScEnergy              8741743\n",
      "subleadCovarianceIetaIphi    8741743\n",
      "subleadPhoIso03              8741743\n",
      "subleadChIso03               8741743\n",
      "subleadChIso03worst          8741743\n",
      "dtype: int64\n",
      "# lead eleMatch    =  7617405\n",
      "# sublead eleMatch =  7137144\n",
      "MC Sublead\n",
      "rho                   7617405\n",
      "nvtx                  7617405\n",
      "Pt                    7617405\n",
      "ScEta                 7617405\n",
      "Phi                   7617405\n",
      "R9                    7617405\n",
      "S4                    7617405\n",
      "SigmaIeIe             7617405\n",
      "EtaWidth              7617405\n",
      "PhiWidth              7617405\n",
      "CovarianceIphiIphi    7617405\n",
      "SigmaRR               7617405\n",
      "ScEnergy              7617405\n",
      "CovarianceIetaIphi    7617405\n",
      "PhoIso03              7617405\n",
      "ChIso03               7617405\n",
      "ChIso03worst          7617405\n",
      "ScPreshowerEnergy     7617405\n",
      "dtype: int64\n",
      "MC Lead\n",
      "rho                   7137144\n",
      "nvtx                  7137144\n",
      "Pt                    7137144\n",
      "ScEta                 7137144\n",
      "Phi                   7137144\n",
      "R9                    7137144\n",
      "S4                    7137144\n",
      "SigmaIeIe             7137144\n",
      "EtaWidth              7137144\n",
      "PhiWidth              7137144\n",
      "CovarianceIphiIphi    7137144\n",
      "SigmaRR               7137144\n",
      "ScEnergy              7137144\n",
      "CovarianceIetaIphi    7137144\n",
      "PhoIso03              7137144\n",
      "ChIso03               7137144\n",
      "ChIso03worst          7137144\n",
      "ScPreshowerEnergy     7137144\n",
      "dtype: int64\n",
      "Count final dataset\n",
      "index                 14754549\n",
      "rho                   14754549\n",
      "nvtx                  14754549\n",
      "Pt                    14754549\n",
      "ScEta                 14754549\n",
      "Phi                   14754549\n",
      "R9                    14754549\n",
      "S4                    14754549\n",
      "SigmaIeIe             14754549\n",
      "EtaWidth              14754549\n",
      "PhiWidth              14754549\n",
      "CovarianceIphiIphi    14754549\n",
      "SigmaRR               14754549\n",
      "ScEnergy              14754549\n",
      "CovarianceIetaIphi    14754549\n",
      "PhoIso03              14754549\n",
      "ChIso03               14754549\n",
      "ChIso03worst          14754549\n",
      "ScPreshowerEnergy     14754549\n",
      "dtype: int64\n",
      "\u001b[92mApply basic selection\u001b[0m\n",
      " ptmin  =  25.0 \n",
      " ptmax  =  150.0  \n",
      " etamin =  -2.5  \n",
      " etamax =  2.5  \n",
      " phimin =  -3.14  \n",
      " phimax =  3.14\n",
      "\u001b[92mReshuffle events\u001b[0m rndm seed  =  12345\n",
      "\u001b[92mSelecting events \u001b[0m  [ 2000001 ,  3000000 ]  out of  14714149\n",
      "DataFrame size =  999999\n"
     ]
    }
   ],
   "source": [
    "# This is what you want to correct\n",
    "print \"Load the mc dataframe\"\n",
    "startEvtmc = 2000001 \n",
    "stopEvtmc  = 3000000 \n",
    "qr_mc.loadDF(\"/Users/mauro/CMS/Physics/dataMC/nt/double_ele_spring16v2_sync_v2_mc/\",\n",
    "             \"cicNoSigmaIetaIeta/trees/\",\n",
    "             [\"DYToEE_powheg_13TeV_EBHighR9\", \"DYToEE_powheg_13TeV_EBLowR9\", \"DYToEE_powheg_13TeV_EEHighR9\", \"DYToEE_powheg_13TeV_EELowR9\" ],\n",
    "             startEvtmc, stopEvtmc, 12345)"
   ]
  },
  {
   "cell_type": "code",
   "execution_count": 6,
   "metadata": {
    "collapsed": false
   },
   "outputs": [
    {
     "name": "stdout",
     "output_type": "stream",
     "text": [
      "Get the corrected data-mc values\n",
      "Corrected variables file (e.g.  correctedTargets.h5  ) does not exists. This will take a while...\n",
      "Correct both EB and EE together\n",
      "Loading mc weights for  R9  : \n",
      "    ./weights/mc_weights\n",
      "Loading data weights for  R9\n",
      "    ./weights/data_weights\n",
      "Get corrections for  R9  with quantiles  [0.1, 0.2, 0.3, 0.4, 0.5, 0.6, 0.7, 0.8, 0.9]\n",
      "Features: X =  ['Pt', 'ScEta', 'Phi', 'rho']  target y =  R9\n",
      "Loading mc weights for  S4  : \n",
      "    ./weights/mc_weights\n",
      "Loading data weights for  S4\n",
      "    ./weights/data_weights\n",
      "Get corrections for  S4  with quantiles  [0.1, 0.2, 0.3, 0.4, 0.5, 0.6, 0.7, 0.8, 0.9]\n",
      "Features: X =  ['Pt', 'ScEta', 'Phi', 'rho']  target y =  S4\n",
      "Loading mc weights for  SigmaIeIe  : \n",
      "    ./weights/mc_weights\n",
      "Loading data weights for  SigmaIeIe\n",
      "    ./weights/data_weights\n",
      "Get corrections for  SigmaIeIe  with quantiles  [0.1, 0.2, 0.3, 0.4, 0.5, 0.6, 0.7, 0.8, 0.9]\n",
      "Features: X =  ['Pt', 'ScEta', 'Phi', 'rho']  target y =  SigmaIeIe\n",
      "Loading mc weights for  EtaWidth  : \n",
      "    ./weights/mc_weights\n",
      "Loading data weights for  EtaWidth\n",
      "    ./weights/data_weights\n",
      "Get corrections for  EtaWidth  with quantiles  [0.1, 0.2, 0.3, 0.4, 0.5, 0.6, 0.7, 0.8, 0.9]\n",
      "Features: X =  ['Pt', 'ScEta', 'Phi', 'rho']  target y =  EtaWidth\n",
      "Loading mc weights for  PhiWidth  : \n",
      "    ./weights/mc_weights\n",
      "Loading data weights for  PhiWidth\n",
      "    ./weights/data_weights\n",
      "Get corrections for  PhiWidth  with quantiles  [0.1, 0.2, 0.3, 0.4, 0.5, 0.6, 0.7, 0.8, 0.9]\n",
      "Features: X =  ['Pt', 'ScEta', 'Phi', 'rho']  target y =  PhiWidth\n",
      "Loading mc weights for  CovarianceIphiIphi  : \n",
      "    ./weights/mc_weights\n",
      "Loading data weights for  CovarianceIphiIphi\n",
      "    ./weights/data_weights\n",
      "Get corrections for  CovarianceIphiIphi  with quantiles  [0.1, 0.2, 0.3, 0.4, 0.5, 0.6, 0.7, 0.8, 0.9]\n",
      "Features: X =  ['Pt', 'ScEta', 'Phi', 'rho']  target y =  CovarianceIphiIphi\n",
      "Loading mc weights for  SigmaRR  : \n",
      "    ./weights/mc_weights\n",
      "Loading data weights for  SigmaRR\n",
      "    ./weights/data_weights\n",
      "Get corrections for  SigmaRR  with quantiles  [0.1, 0.2, 0.3, 0.4, 0.5, 0.6, 0.7, 0.8, 0.9]\n",
      "Features: X =  ['Pt', 'ScEta', 'Phi', 'rho']  target y =  SigmaRR\n",
      "Loading mc weights for  CovarianceIetaIphi  : \n",
      "    ./weights/mc_weights\n"
     ]
    },
    {
     "ename": "IOError",
     "evalue": "[Errno 2] No such file or directory: './weights/mc_weights_CovarianceIetaIphi_0.1.pkl'",
     "output_type": "error",
     "traceback": [
      "\u001b[0;31m---------------------------------------------------------------------------\u001b[0m",
      "\u001b[0;31mIOError\u001b[0m                                   Traceback (most recent call last)",
      "\u001b[0;32m<ipython-input-6-8273c8b37835>\u001b[0m in \u001b[0;36m<module>\u001b[0;34m()\u001b[0m\n\u001b[1;32m      1\u001b[0m \u001b[0;32mprint\u001b[0m \u001b[0;34m\"Get the corrected data-mc values\"\u001b[0m\u001b[0;34m\u001b[0m\u001b[0m\n\u001b[1;32m      2\u001b[0m \u001b[0;31m# qr_mc.correctY(X, y, quantiles )\u001b[0m\u001b[0;34m\u001b[0m\u001b[0;34m\u001b[0m\u001b[0m\n\u001b[0;32m----> 3\u001b[0;31m \u001b[0mqr_mc\u001b[0m\u001b[0;34m.\u001b[0m\u001b[0mcorrectAllY\u001b[0m\u001b[0;34m(\u001b[0m\u001b[0mX\u001b[0m\u001b[0;34m,\u001b[0m \u001b[0mylist\u001b[0m\u001b[0;34m,\u001b[0m \u001b[0mquantiles\u001b[0m \u001b[0;34m)\u001b[0m\u001b[0;34m\u001b[0m\u001b[0m\n\u001b[0m",
      "\u001b[0;32m/Users/mauro/CMS/Physics/dataMC/MTR/quantileRegression.pyc\u001b[0m in \u001b[0;36mcorrectAllY\u001b[0;34m(self, x, ylist, quantiles, forceComputeCorrections, EBEE)\u001b[0m\n\u001b[1;32m    774\u001b[0m             \u001b[0;32mprint\u001b[0m \u001b[0;34m\"Loading mc weights for \"\u001b[0m\u001b[0;34m,\u001b[0m \u001b[0mY\u001b[0m\u001b[0;34m,\u001b[0m \u001b[0;34m\" : \"\u001b[0m\u001b[0;34m\u001b[0m\u001b[0m\n\u001b[1;32m    775\u001b[0m             \u001b[0;32mprint\u001b[0m \u001b[0;34m\"   \"\u001b[0m\u001b[0;34m,\u001b[0m \u001b[0mmcfilename\u001b[0m\u001b[0;34m\u001b[0m\u001b[0m\n\u001b[0;32m--> 776\u001b[0;31m             \u001b[0mself\u001b[0m\u001b[0;34m.\u001b[0m\u001b[0mloadMcWeights\u001b[0m\u001b[0;34m(\u001b[0m\u001b[0mmcfilename\u001b[0m\u001b[0;34m,\u001b[0m \u001b[0mY\u001b[0m\u001b[0;34m,\u001b[0m \u001b[0mquantiles\u001b[0m\u001b[0;34m)\u001b[0m\u001b[0;34m\u001b[0m\u001b[0m\n\u001b[0m\u001b[1;32m    777\u001b[0m \u001b[0;34m\u001b[0m\u001b[0m\n\u001b[1;32m    778\u001b[0m             \u001b[0;32mprint\u001b[0m \u001b[0;34m\"Loading data weights for \"\u001b[0m\u001b[0;34m,\u001b[0m \u001b[0mY\u001b[0m\u001b[0;34m\u001b[0m\u001b[0m\n",
      "\u001b[0;32m/Users/mauro/CMS/Physics/dataMC/MTR/quantileRegression.pyc\u001b[0m in \u001b[0;36mloadMcWeights\u001b[0;34m(self, filename, var, quantiles)\u001b[0m\n\u001b[1;32m    594\u001b[0m       \u001b[0;32mfor\u001b[0m \u001b[0mq\u001b[0m \u001b[0;32min\u001b[0m \u001b[0mquantiles\u001b[0m\u001b[0;34m:\u001b[0m\u001b[0;34m\u001b[0m\u001b[0m\n\u001b[1;32m    595\u001b[0m          \u001b[0mmcWeights\u001b[0m \u001b[0;34m=\u001b[0m \u001b[0mfilename\u001b[0m \u001b[0;34m+\u001b[0m \u001b[0;34m\"_\"\u001b[0m \u001b[0;34m+\u001b[0m \u001b[0mvar\u001b[0m \u001b[0;34m+\u001b[0m \u001b[0;34m'_'\u001b[0m \u001b[0;34m+\u001b[0m \u001b[0mstr\u001b[0m\u001b[0;34m(\u001b[0m\u001b[0mq\u001b[0m\u001b[0;34m)\u001b[0m \u001b[0;34m+\u001b[0m \u001b[0;34m\".pkl\"\u001b[0m\u001b[0;34m\u001b[0m\u001b[0m\n\u001b[0;32m--> 596\u001b[0;31m          \u001b[0mself\u001b[0m\u001b[0;34m.\u001b[0m\u001b[0mmcclf\u001b[0m    \u001b[0;34m.\u001b[0m\u001b[0mappend\u001b[0m\u001b[0;34m(\u001b[0m\u001b[0mpickle\u001b[0m\u001b[0;34m.\u001b[0m\u001b[0mload\u001b[0m\u001b[0;34m(\u001b[0m\u001b[0mgzip\u001b[0m\u001b[0;34m.\u001b[0m\u001b[0mopen\u001b[0m\u001b[0;34m(\u001b[0m\u001b[0mmcWeights\u001b[0m\u001b[0;34m)\u001b[0m\u001b[0;34m)\u001b[0m\u001b[0;34m)\u001b[0m\u001b[0;34m\u001b[0m\u001b[0m\n\u001b[0m\u001b[1;32m    597\u001b[0m       \u001b[0;32mif\u001b[0m \u001b[0mdbg\u001b[0m \u001b[0;34m:\u001b[0m \u001b[0;32mprint\u001b[0m \u001b[0;34m\"MC   weights : \"\u001b[0m\u001b[0;34m,\u001b[0m \u001b[0mmcclf\u001b[0m\u001b[0;34m\u001b[0m\u001b[0m\n\u001b[1;32m    598\u001b[0m \u001b[0;34m\u001b[0m\u001b[0m\n",
      "\u001b[0;32m/Applications/anaconda/lib/python2.7/gzip.pyc\u001b[0m in \u001b[0;36mopen\u001b[0;34m(filename, mode, compresslevel)\u001b[0m\n\u001b[1;32m     32\u001b[0m \u001b[0;34m\u001b[0m\u001b[0m\n\u001b[1;32m     33\u001b[0m     \"\"\"\n\u001b[0;32m---> 34\u001b[0;31m     \u001b[0;32mreturn\u001b[0m \u001b[0mGzipFile\u001b[0m\u001b[0;34m(\u001b[0m\u001b[0mfilename\u001b[0m\u001b[0;34m,\u001b[0m \u001b[0mmode\u001b[0m\u001b[0;34m,\u001b[0m \u001b[0mcompresslevel\u001b[0m\u001b[0;34m)\u001b[0m\u001b[0;34m\u001b[0m\u001b[0m\n\u001b[0m\u001b[1;32m     35\u001b[0m \u001b[0;34m\u001b[0m\u001b[0m\n\u001b[1;32m     36\u001b[0m \u001b[0;32mclass\u001b[0m \u001b[0mGzipFile\u001b[0m\u001b[0;34m(\u001b[0m\u001b[0mio\u001b[0m\u001b[0;34m.\u001b[0m\u001b[0mBufferedIOBase\u001b[0m\u001b[0;34m)\u001b[0m\u001b[0;34m:\u001b[0m\u001b[0;34m\u001b[0m\u001b[0m\n",
      "\u001b[0;32m/Applications/anaconda/lib/python2.7/gzip.pyc\u001b[0m in \u001b[0;36m__init__\u001b[0;34m(self, filename, mode, compresslevel, fileobj, mtime)\u001b[0m\n\u001b[1;32m     92\u001b[0m             \u001b[0mmode\u001b[0m \u001b[0;34m+=\u001b[0m \u001b[0;34m'b'\u001b[0m\u001b[0;34m\u001b[0m\u001b[0m\n\u001b[1;32m     93\u001b[0m         \u001b[0;32mif\u001b[0m \u001b[0mfileobj\u001b[0m \u001b[0;32mis\u001b[0m \u001b[0mNone\u001b[0m\u001b[0;34m:\u001b[0m\u001b[0;34m\u001b[0m\u001b[0m\n\u001b[0;32m---> 94\u001b[0;31m             \u001b[0mfileobj\u001b[0m \u001b[0;34m=\u001b[0m \u001b[0mself\u001b[0m\u001b[0;34m.\u001b[0m\u001b[0mmyfileobj\u001b[0m \u001b[0;34m=\u001b[0m \u001b[0m__builtin__\u001b[0m\u001b[0;34m.\u001b[0m\u001b[0mopen\u001b[0m\u001b[0;34m(\u001b[0m\u001b[0mfilename\u001b[0m\u001b[0;34m,\u001b[0m \u001b[0mmode\u001b[0m \u001b[0;32mor\u001b[0m \u001b[0;34m'rb'\u001b[0m\u001b[0;34m)\u001b[0m\u001b[0;34m\u001b[0m\u001b[0m\n\u001b[0m\u001b[1;32m     95\u001b[0m         \u001b[0;32mif\u001b[0m \u001b[0mfilename\u001b[0m \u001b[0;32mis\u001b[0m \u001b[0mNone\u001b[0m\u001b[0;34m:\u001b[0m\u001b[0;34m\u001b[0m\u001b[0m\n\u001b[1;32m     96\u001b[0m             \u001b[0;31m# Issue #13781: os.fdopen() creates a fileobj with a bogus name\u001b[0m\u001b[0;34m\u001b[0m\u001b[0;34m\u001b[0m\u001b[0m\n",
      "\u001b[0;31mIOError\u001b[0m: [Errno 2] No such file or directory: './weights/mc_weights_CovarianceIetaIphi_0.1.pkl'"
     ]
    }
   ],
   "source": [
    "print \"Get the corrected data-mc values\"\n",
    "# qr_mc.correctY(X, y, quantiles )\n",
    "qr_mc.correctAllY(X, ylist, quantiles )"
   ]
  },
  {
   "cell_type": "code",
   "execution_count": null,
   "metadata": {
    "collapsed": false
   },
   "outputs": [],
   "source": [
    "#y_mc   = qr_mc.getY(y)\n",
    "#y_mccorr = qr_mc.getCorrectedY(y)\n",
    "#print y_mc\n",
    "#print y_mccorr\n",
    "dfmc = qr_mc.getDF()"
   ]
  },
  {
   "cell_type": "code",
   "execution_count": null,
   "metadata": {
    "collapsed": false
   },
   "outputs": [],
   "source": [
    "# Plot data, mc, mc_corrr\n",
    "# just need to load the data for plotting \n",
    "qr_data = quantileRegression(\"data\")\n",
    "startEvtdata = 0\n",
    "stopEvtdata   = -1\n",
    "print \"Load the data dataframe\"\n",
    "qr_data.loadDF(\"/Users/mauro/CMS/Physics/dataMC/nt/double_ele_spring16v2_sync_v2_ichep/\",\n",
    "               \"cicNoSigmaIetaIeta/trees/\",\n",
    "               [\"Data_13TeV_EBHighR9\", \"Data_13TeV_EBLowR9\", \"Data_13TeV_EEHighR9\", \"Data_13TeV_EELowR9\" ],\n",
    "               startEvtdata, stopEvtdata)"
   ]
  },
  {
   "cell_type": "code",
   "execution_count": null,
   "metadata": {
    "collapsed": false
   },
   "outputs": [],
   "source": [
    "#y_data   = qr_data.getY(y)\n",
    "dfdata = qr_data.getDF()"
   ]
  },
  {
   "cell_type": "code",
   "execution_count": null,
   "metadata": {
    "collapsed": false
   },
   "outputs": [],
   "source": [
    "# Some basic plots\n",
    "import matplotlib.pyplot as plt\n",
    "%matplotlib inline\n",
    "plt.style.use('ggplot')"
   ]
  },
  {
   "cell_type": "code",
   "execution_count": null,
   "metadata": {
    "collapsed": false,
    "scrolled": false
   },
   "outputs": [],
   "source": [
    "# Diagnostic plots  --> scatter plot super heavy !\n",
    "#plotQ = qr_mc.plotQuantilesR9(quantiles)\n",
    "# Pt, ScEta, Phi, rho\n",
    "# plotQpt  = qr_mc.plotQuantiles(quantiles, 'Pt',    10, 20, 60,      'R9', '$pt$',  'R$_9$', \"./meanR9_pt.pdf\")\n",
    "# plotQpt.plot()\n",
    "# plotQeta = qr_mc.plotQuantiles(quantiles, 'ScEta', 10, -2.5, 2.5,   'R9', '$eta$', 'R$_9$', \"./meanR9_eta.pdf\")\n",
    "# plotQeta.plot()\n",
    "# plotQphi = qr_mc.plotQuantiles(quantiles, 'Phi',   10, -3.14, 3.14, 'R9', '$phi$', 'R$_9$', \"./meanR9_phi.pdf\")\n",
    "# plotQphi.plot()\n",
    "# plotQrho = qr_mc.plotQuantiles(quantiles, 'rho',   10, 0, 50,       'R9', '$rho$', 'R$_9$', \"./meanR9_rho.pdf\")\n",
    "# plotQrho.plot()"
   ]
  },
  {
   "cell_type": "code",
   "execution_count": null,
   "metadata": {
    "collapsed": false
   },
   "outputs": [],
   "source": [
    "# fig = plt.figure()\n",
    "# ax1 = fig.add_subplot(2, 2, 1)\n",
    "# h_mc     = y_mc    .hist(bins=100, alpha = 1, color='g')\n",
    "# ax2 = fig.add_subplot(2, 2, 2)\n",
    "# h_mccorr = y_mccorr.hist(bins=100, alpha = 1, color='b')\n",
    "# ax3 = fig.add_subplot(2, 2, 3)\n",
    "# h_data   = y_data  .hist(bins=100, alpha = 1, color='r')\n",
    "# print \"mc    \", y_mc.count()\n",
    "# print \"data  \", y_data.count()\n",
    "# print \"mccorr\", y_mccorr.count()"
   ]
  },
  {
   "cell_type": "code",
   "execution_count": null,
   "metadata": {
    "collapsed": false
   },
   "outputs": [],
   "source": [
    "# fig2 = plt.figure()\n",
    "# h_data    = y_data  .hist(bins=100, alpha = 1.0, color='r', normed = 1)\n",
    "# h_mc      = y_mc    .hist(bins=100, alpha = 0.5, color='g', normed = 1)\n",
    "# h_mccorr2 = y_mccorr.hist(bins=100, alpha = 0.5, color='b', normed = 1)\n",
    "# fig2.savefig(\"test.pdf\")"
   ]
  },
  {
   "cell_type": "code",
   "execution_count": null,
   "metadata": {
    "collapsed": false,
    "scrolled": true
   },
   "outputs": [],
   "source": [
    "print ylist\n",
    "for yvar in ylist:\n",
    "    yvarcorr = yvar+\"_corr\"\n",
    "    print \"plotting \", yvar\n",
    "\n",
    "    rv = []\n",
    "    if yvar == \"R9\":\n",
    "        rv  = np.arange(0.0,1.0,0.001)\n",
    "        rv2 = np.arange(0.8,1.0,0.001)\n",
    "    if yvar == \"S4\":\n",
    "        rv  = np.arange(0.0,1.0,0.001)\n",
    "        rv2 = np.arange(0.8,1.0,0.001)\n",
    "    if yvar == \"SigmaIeIe\":\n",
    "        rv = np.arange(0.0,0.04,0.0001)\n",
    "        rv2 = np.arange(0.015,0.030,0.0001)\n",
    "    if yvar == \"EtaWidth\":\n",
    "        rv = np.arange(0.0,0.05,0.0001)\n",
    "        rv2 = np.arange(0.005,0.025,0.0001)\n",
    "    if yvar == \"PhiWidth\":\n",
    "        rv = np.arange(0.0,0.2,0.001)\n",
    "        rv2 = np.arange(0.0,0.05,0.0003)\n",
    "    if yvar == \"CovarianceIphiIphi\":\n",
    "        rv  = np.arange(0.0, 0.02,0.0001)\n",
    "        rv2 = np.arange(0.02, 0.05,0.0003)\n",
    "    if yvar == \"SigmaRR\":\n",
    "        rv = np.arange(1, 12.0,0.1) \n",
    "        rv2 = np.arange(1, 12.0,0.1)\n",
    "     \n",
    "    fig = plt.figure()\n",
    "    ax = fig.add_subplot(111)\n",
    "    ax.set_xlabel(yvar)\n",
    "    mc_bins, _edges = np.histogram(dfmc[yvar], rv, normed = 1)\n",
    "    edges = _edges[:len(_edges)-1]\n",
    "    plt.plot(edges,mc_bins,\"g\")\n",
    "    mccorr_bins, _edges = np.histogram(dfmc[yvarcorr], rv, normed = 1)\n",
    "    edges = _edges[:len(_edges)-1]\n",
    "    plt.plot(edges,mccorr_bins,\"b\")\n",
    "    data_bins, _edges = np.histogram(dfdata[yvar], rv, normed = 1)\n",
    "    edges = _edges[:len(_edges)-1]\n",
    "    plt.plot(edges  ,data_bins,\"r\")\n",
    "\n",
    "    fig = plt.figure()\n",
    "    ax = fig.add_subplot(111)\n",
    "    ax.set_xlabel(yvar)\n",
    "    mc_bins, _edges = np.histogram(dfmc[yvar], rv2, normed = 1)\n",
    "    edges = _edges[:len(_edges)-1]\n",
    "    plt.plot(edges,mc_bins,\"g\")\n",
    "    mccorr_bins, _edges = np.histogram(dfmc[yvarcorr], rv2, normed = 1)\n",
    "    edges = _edges[:len(_edges)-1]\n",
    "    plt.plot(edges,mccorr_bins,\"b\")\n",
    "    data_bins, _edges = np.histogram(dfdata[yvar], rv2, normed = 1)\n",
    "    edges = _edges[:len(_edges)-1]\n",
    "    plt.plot(edges  ,data_bins,\"r\")\n",
    "\n",
    "    \n",
    "    \n",
    "# mc_bins, _edges = np.histogram(y_mc, rv, normed = 1)\n",
    "# edges = _edges[:len(_edges)-1]\n",
    "# plt.plot(edges,mc_bins,\"g\")\n",
    "# mccorr_bins, _edges = np.histogram(y_mccorr, rv, normed = 1)\n",
    "# edges = _edges[:len(_edges)-1]\n",
    "# plt.plot(edges,mccorr_bins,\"b\")\n",
    "# data_bins, _edges = np.histogram(y_data, rv, normed = 1)b\n",
    "\n",
    "# edges = _edges[:len(_edges)-1]\n",
    "# plt.plot(edges  ,data_bins,\"r\")"
   ]
  },
  {
   "cell_type": "code",
   "execution_count": null,
   "metadata": {
    "collapsed": false
   },
   "outputs": [],
   "source": []
  }
 ],
 "metadata": {
  "kernelspec": {
   "display_name": "Python 2",
   "language": "python",
   "name": "python2"
  },
  "language_info": {
   "codemirror_mode": {
    "name": "ipython",
    "version": 2
   },
   "file_extension": ".py",
   "mimetype": "text/x-python",
   "name": "python",
   "nbconvert_exporter": "python",
   "pygments_lexer": "ipython2",
   "version": "2.7.12"
  }
 },
 "nbformat": 4,
 "nbformat_minor": 0
}
