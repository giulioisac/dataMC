{
 "cells": [
  {
   "cell_type": "code",
   "execution_count": 1,
   "metadata": {
    "collapsed": false
   },
   "outputs": [
    {
     "data": {
      "application/javascript": [
       "require(['codemirror/mode/clike/clike'], function(Clike) { console.log('ROOTaaS - C++ CodeMirror module loaded'); });"
      ]
     },
     "metadata": {},
     "output_type": "display_data"
    },
    {
     "data": {
      "application/javascript": [
       "IPython.CodeCell.config_defaults.highlight_modes['magic_text/x-c++src'] = {'reg':[/^%%cpp/]};"
      ]
     },
     "metadata": {},
     "output_type": "display_data"
    },
    {
     "name": "stdout",
     "output_type": "stream",
     "text": [
      "Welcome to ROOTaaS 6.06/02\n"
     ]
    }
   ],
   "source": [
    "from quantileRegression import quantileRegression\n",
    "import numpy as np"
   ]
  },
  {
   "cell_type": "code",
   "execution_count": 2,
   "metadata": {
    "collapsed": false
   },
   "outputs": [],
   "source": [
    "# Variable you want to correct\n",
    "# ylist = [\"R9\", \"S4\", \"SigmaIeIe\", \"EtaWidth\", \"PhiWidth\", \"CovarianceIphiIphi\", \"SigmaRR\", 'CovarianceIetaIphi'] # , 'PhoIso03', 'ChIso03', 'ChIso03worst']\n",
    "ylist = [\"R9\", \"S4\", \"SigmaIeIe\", \"EtaWidth\", \"PhiWidth\", \"CovarianceIphiIphi\", 'CovarianceIetaIphi'] # , 'PhoIso03', 'ChIso03', 'ChIso03worst']\n",
    "\n",
    "\n",
    "# Input variables used for the regression\n",
    "X = ['Pt', 'ScEta', 'Phi', 'rho']  # <<-- list"
   ]
  },
  {
   "cell_type": "code",
   "execution_count": 3,
   "metadata": {
    "collapsed": false
   },
   "outputs": [
    {
     "name": "stdout",
     "output_type": "stream",
     "text": [
      "Number of quantiles  9\n"
     ]
    }
   ],
   "source": [
    "# Set the quantiles \n",
    "quantiles = [ 0.1, 0.2, 0.3, 0.4, 0.5, 0.6, 0.7, 0.8, 0.9 ]\n",
    "print \"Number of quantiles \", len(quantiles)"
   ]
  },
  {
   "cell_type": "code",
   "execution_count": 4,
   "metadata": {
    "collapsed": true
   },
   "outputs": [],
   "source": [
    "# Initialize the quantile regression object for mc\n",
    "qr_mc = quantileRegression(\"mc\")"
   ]
  },
  {
   "cell_type": "code",
   "execution_count": 5,
   "metadata": {
    "collapsed": false
   },
   "outputs": [
    {
     "name": "stdout",
     "output_type": "stream",
     "text": [
      "Load the mc dataframe\n",
      "NT branches: \n",
      "['rho', 'nvtx', 'leadEleMatch', 'subleadEleMatch', 'leadPt', 'leadScEta', 'leadPhi', 'leadR9', 'leadS4', 'leadSigmaIeIe', 'leadEtaWidth', 'leadPhiWidth', 'leadCovarianceIphiIphi', 'leadSigmaRR', 'leadScEnergy', 'leadCovarianceIetaIphi', 'leadPhoIso03', 'leadChIso03', 'leadChIso03worst', 'leadScPreshowerEnergy', 'leadPhoIDMVA', 'subleadPt', 'subleadScEta', 'subleadPhi', 'subleadR9', 'subleadS4', 'subleadSigmaIeIe', 'subleadEtaWidth', 'subleadPhiWidth', 'subleadCovarianceIphiIphi', 'subleadSigmaRR', 'subleadScEnergy', 'subleadCovarianceIetaIphi', 'subleadPhoIso03', 'subleadChIso03', 'subleadChIso03worst', 'leadScPreshowerEnergy', 'subLeadPhoIDMVA']\n",
      "['cicNoSigmaIetaIeta/trees/DYToEE_powheg_13TeV_EBHighR9', 'cicNoSigmaIetaIeta/trees/DYToEE_powheg_13TeV_EBLowR9', 'cicNoSigmaIetaIeta/trees/DYToEE_powheg_13TeV_EEHighR9', 'cicNoSigmaIetaIeta/trees/DYToEE_powheg_13TeV_EELowR9']\n",
      "Adding trees into a DataFrame\n",
      "  adding  cicNoSigmaIetaIeta/trees/DYToEE_powheg_13TeV_EBHighR9\n",
      "  adding  cicNoSigmaIetaIeta/trees/DYToEE_powheg_13TeV_EBLowR9\n",
      "  adding  cicNoSigmaIetaIeta/trees/DYToEE_powheg_13TeV_EEHighR9\n",
      "  adding  cicNoSigmaIetaIeta/trees/DYToEE_powheg_13TeV_EELowR9\n",
      "Number of events  \n",
      "rho                          8741743\n",
      "nvtx                         8741743\n",
      "leadEleMatch                 8741743\n",
      "subleadEleMatch              8741743\n",
      "leadPt                       8741743\n",
      "leadScEta                    8741743\n",
      "leadPhi                      8741743\n",
      "leadR9                       8741743\n",
      "leadS4                       8741743\n",
      "leadSigmaIeIe                8741743\n",
      "leadEtaWidth                 8741743\n",
      "leadPhiWidth                 8741743\n",
      "leadCovarianceIphiIphi       8741743\n",
      "leadSigmaRR                  8741743\n",
      "leadScEnergy                 8741743\n",
      "leadCovarianceIetaIphi       8741743\n",
      "leadPhoIso03                 8741743\n",
      "leadChIso03                  8741743\n",
      "leadChIso03worst             8741743\n",
      "leadScPreshowerEnergy        8741743\n",
      "leadPhoIDMVA                 8741743\n",
      "subleadPt                    8741743\n",
      "subleadScEta                 8741743\n",
      "subleadPhi                   8741743\n",
      "subleadR9                    8741743\n",
      "subleadS4                    8741743\n",
      "subleadSigmaIeIe             8741743\n",
      "subleadEtaWidth              8741743\n",
      "subleadPhiWidth              8741743\n",
      "subleadCovarianceIphiIphi    8741743\n",
      "subleadSigmaRR               8741743\n",
      "subleadScEnergy              8741743\n",
      "subleadCovarianceIetaIphi    8741743\n",
      "subleadPhoIso03              8741743\n",
      "subleadChIso03               8741743\n",
      "subleadChIso03worst          8741743\n",
      "subLeadPhoIDMVA              8741743\n",
      "dtype: int64\n",
      "# lead eleMatch    =  7617405\n",
      "# sublead eleMatch =  7137144\n",
      "MC Sublead\n",
      "rho                   7617405\n",
      "nvtx                  7617405\n",
      "Pt                    7617405\n",
      "ScEta                 7617405\n",
      "Phi                   7617405\n",
      "R9                    7617405\n",
      "S4                    7617405\n",
      "SigmaIeIe             7617405\n",
      "EtaWidth              7617405\n",
      "PhiWidth              7617405\n",
      "CovarianceIphiIphi    7617405\n",
      "SigmaRR               7617405\n",
      "ScEnergy              7617405\n",
      "CovarianceIetaIphi    7617405\n",
      "PhoIso03              7617405\n",
      "ChIso03               7617405\n",
      "ChIso03worst          7617405\n",
      "ScPreshowerEnergy     7617405\n",
      "PhoIDMVA              7617405\n",
      "dtype: int64\n",
      "MC Lead\n",
      "rho                   7137144\n",
      "nvtx                  7137144\n",
      "Pt                    7137144\n",
      "ScEta                 7137144\n",
      "Phi                   7137144\n",
      "R9                    7137144\n",
      "S4                    7137144\n",
      "SigmaIeIe             7137144\n",
      "EtaWidth              7137144\n",
      "PhiWidth              7137144\n",
      "CovarianceIphiIphi    7137144\n",
      "SigmaRR               7137144\n",
      "ScEnergy              7137144\n",
      "CovarianceIetaIphi    7137144\n",
      "PhoIso03              7137144\n",
      "ChIso03               7137144\n",
      "ChIso03worst          7137144\n",
      "ScPreshowerEnergy     7137144\n",
      "PhoIDMVA              7137144\n",
      "dtype: int64\n",
      "Count final dataset\n",
      "index                 14754549\n",
      "rho                   14754549\n",
      "nvtx                  14754549\n",
      "Pt                    14754549\n",
      "ScEta                 14754549\n",
      "Phi                   14754549\n",
      "R9                    14754549\n",
      "S4                    14754549\n",
      "SigmaIeIe             14754549\n",
      "EtaWidth              14754549\n",
      "PhiWidth              14754549\n",
      "CovarianceIphiIphi    14754549\n",
      "SigmaRR               14754549\n",
      "ScEnergy              14754549\n",
      "CovarianceIetaIphi    14754549\n",
      "PhoIso03              14754549\n",
      "ChIso03               14754549\n",
      "ChIso03worst          14754549\n",
      "ScPreshowerEnergy     14754549\n",
      "PhoIDMVA              14754549\n",
      "dtype: int64\n",
      "\u001b[92mApply basic selection\u001b[0m\n",
      " ptmin  =  25.0 \n",
      " ptmax  =  150.0  \n",
      " etamin =  -2.5  \n",
      " etamax =  2.5  \n",
      " phimin =  -3.14  \n",
      " phimax =  3.14\n",
      "\u001b[92mReshuffle events\u001b[0m rndm seed  =  12345\n",
      "\u001b[92mSelecting events \u001b[0m  [ 2000001 ,  3000000 ]  out of  14714149\n",
      "DataFrame size =  999999\n"
     ]
    }
   ],
   "source": [
    "# This is what you want to correct\n",
    "print \"Load the mc dataframe\"\n",
    "startEvtmc = 2000001 \n",
    "stopEvtmc  = 3000000\n",
    "qr_mc.loadDF(\"/Users/mauro/CMS/Physics/dataMC/nt/double_ele_spring16v2_sync_v2_mc/\",\n",
    "             \"cicNoSigmaIetaIeta/trees/\",\n",
    "             [\"DYToEE_powheg_13TeV_EBHighR9\", \"DYToEE_powheg_13TeV_EBLowR9\", \"DYToEE_powheg_13TeV_EEHighR9\", \"DYToEE_powheg_13TeV_EELowR9\" ],\n",
    "             startEvtmc, stopEvtmc, 12345)"
   ]
  },
  {
   "cell_type": "code",
   "execution_count": 6,
   "metadata": {
    "collapsed": false
   },
   "outputs": [
    {
     "name": "stdout",
     "output_type": "stream",
     "text": [
      "Loading corrected targets from :  correctedTargets.h5\n"
     ]
    }
   ],
   "source": [
    "#print \"Get the corrected data-mc values\"\n",
    "qr_mc.correctAllY(X, ylist, quantiles )"
   ]
  },
  {
   "cell_type": "code",
   "execution_count": 7,
   "metadata": {
    "collapsed": true
   },
   "outputs": [],
   "source": [
    "dfmc = qr_mc.getDF()\n",
    "#print dfmc"
   ]
  },
  {
   "cell_type": "code",
   "execution_count": 8,
   "metadata": {
    "collapsed": false
   },
   "outputs": [
    {
     "name": "stdout",
     "output_type": "stream",
     "text": [
      "Load the data dataframe\n",
      "NT branches: \n",
      "['rho', 'nvtx', 'leadHLT_Ele27_WPTight_Gsf_vMatch', 'subleadHLT_Ele27_WPTight_Gsf_vMatch', 'leadEleMatch', 'subleadEleMatch', 'leadPt', 'leadScEta', 'leadPhi', 'leadR9', 'leadS4', 'leadSigmaIeIe', 'leadEtaWidth', 'leadPhiWidth', 'leadCovarianceIphiIphi', 'leadSigmaRR', 'leadScEnergy', 'leadCovarianceIetaIphi', 'leadPhoIso03', 'leadChIso03', 'leadChIso03worst', 'leadScPreshowerEnergy', 'leadPhoIDMVA', 'subleadPt', 'subleadScEta', 'subleadPhi', 'subleadR9', 'subleadS4', 'subleadSigmaIeIe', 'subleadEtaWidth', 'subleadPhiWidth', 'subleadCovarianceIphiIphi', 'subleadSigmaRR', 'subleadScEnergy', 'subleadCovarianceIetaIphi', 'subleadPhoIso03', 'subleadChIso03', 'subleadChIso03worst', 'leadScPreshowerEnergy', 'subLeadPhoIDMVA']\n",
      "['cicNoSigmaIetaIeta/trees/Data_13TeV_EBHighR9', 'cicNoSigmaIetaIeta/trees/Data_13TeV_EBLowR9', 'cicNoSigmaIetaIeta/trees/Data_13TeV_EEHighR9', 'cicNoSigmaIetaIeta/trees/Data_13TeV_EELowR9']\n",
      "Adding trees into a DataFrame\n",
      "  adding  cicNoSigmaIetaIeta/trees/Data_13TeV_EBHighR9\n",
      "  adding  cicNoSigmaIetaIeta/trees/Data_13TeV_EBLowR9\n",
      "  adding  cicNoSigmaIetaIeta/trees/Data_13TeV_EEHighR9\n",
      "  adding  cicNoSigmaIetaIeta/trees/Data_13TeV_EELowR9\n",
      "Number of events  \n",
      "rho                                    3820704\n",
      "nvtx                                   3820704\n",
      "leadHLT_Ele27_WPTight_Gsf_vMatch       3820704\n",
      "subleadHLT_Ele27_WPTight_Gsf_vMatch    3820704\n",
      "leadEleMatch                           3820704\n",
      "subleadEleMatch                        3820704\n",
      "leadPt                                 3820704\n",
      "leadScEta                              3820704\n",
      "leadPhi                                3820704\n",
      "leadR9                                 3820704\n",
      "leadS4                                 3820704\n",
      "leadSigmaIeIe                          3820704\n",
      "leadEtaWidth                           3820704\n",
      "leadPhiWidth                           3820704\n",
      "leadCovarianceIphiIphi                 3820704\n",
      "leadSigmaRR                            3820704\n",
      "leadScEnergy                           3820704\n",
      "leadCovarianceIetaIphi                 3820704\n",
      "leadPhoIso03                           3820704\n",
      "leadChIso03                            3820704\n",
      "leadChIso03worst                       3820704\n",
      "leadScPreshowerEnergy                  3820704\n",
      "leadPhoIDMVA                           3820704\n",
      "subleadPt                              3820704\n",
      "subleadScEta                           3820704\n",
      "subleadPhi                             3820704\n",
      "subleadR9                              3820704\n",
      "subleadS4                              3820704\n",
      "subleadSigmaIeIe                       3820704\n",
      "subleadEtaWidth                        3820704\n",
      "subleadPhiWidth                        3820704\n",
      "subleadCovarianceIphiIphi              3820704\n",
      "subleadSigmaRR                         3820704\n",
      "subleadScEnergy                        3820704\n",
      "subleadCovarianceIetaIphi              3820704\n",
      "subleadPhoIso03                        3820704\n",
      "subleadChIso03                         3820704\n",
      "subleadChIso03worst                    3820704\n",
      "subLeadPhoIDMVA                        3820704\n",
      "dtype: int64\n",
      "Count df\n",
      "# lead eleMatch    =  3287538\n",
      "# sublead eleMatch =  3033216\n",
      "# lead trig   =  3217295\n",
      "# sublead trg =  2680942\n",
      "# lead trig and eleMatch    =  3031259\n",
      "# sublead trig and eleMatch =  2480064\n",
      "Data Sublead\n",
      "rho                   3031259\n",
      "nvtx                  3031259\n",
      "Pt                    3031259\n",
      "ScEta                 3031259\n",
      "Phi                   3031259\n",
      "R9                    3031259\n",
      "S4                    3031259\n",
      "SigmaIeIe             3031259\n",
      "EtaWidth              3031259\n",
      "PhiWidth              3031259\n",
      "CovarianceIphiIphi    3031259\n",
      "SigmaRR               3031259\n",
      "ScEnergy              3031259\n",
      "CovarianceIetaIphi    3031259\n",
      "PhoIso03              3031259\n",
      "ChIso03               3031259\n",
      "ChIso03worst          3031259\n",
      "ScPreshowerEnergy     3031259\n",
      "PhoIDMVA              3031259\n",
      "dtype: int64\n",
      "Data Lead\n",
      "rho                   2480064\n",
      "nvtx                  2480064\n",
      "Pt                    2480064\n",
      "ScEta                 2480064\n",
      "Phi                   2480064\n",
      "R9                    2480064\n",
      "S4                    2480064\n",
      "SigmaIeIe             2480064\n",
      "EtaWidth              2480064\n",
      "PhiWidth              2480064\n",
      "CovarianceIphiIphi    2480064\n",
      "SigmaRR               2480064\n",
      "ScEnergy              2480064\n",
      "CovarianceIetaIphi    2480064\n",
      "PhoIso03              2480064\n",
      "ChIso03               2480064\n",
      "ChIso03worst          2480064\n",
      "ScPreshowerEnergy     2480064\n",
      "PhoIDMVA              2480064\n",
      "dtype: int64\n",
      "Count final dataset\n",
      "index                 5511323\n",
      "rho                   5511323\n",
      "nvtx                  5511323\n",
      "Pt                    5511323\n",
      "ScEta                 5511323\n",
      "Phi                   5511323\n",
      "R9                    5511323\n",
      "S4                    5511323\n",
      "SigmaIeIe             5511323\n",
      "EtaWidth              5511323\n",
      "PhiWidth              5511323\n",
      "CovarianceIphiIphi    5511323\n",
      "SigmaRR               5511323\n",
      "ScEnergy              5511323\n",
      "CovarianceIetaIphi    5511323\n",
      "PhoIso03              5511323\n",
      "ChIso03               5511323\n",
      "ChIso03worst          5511323\n",
      "ScPreshowerEnergy     5511323\n",
      "PhoIDMVA              5511323\n",
      "dtype: int64\n",
      "\u001b[92mApply basic selection\u001b[0m\n",
      " ptmin  =  25.0 \n",
      " ptmax  =  150.0  \n",
      " etamin =  -2.5  \n",
      " etamax =  2.5  \n",
      " phimin =  -3.14  \n",
      " phimax =  3.14\n",
      "\u001b[92mReshuffle events\u001b[0m rndm seed  =  12345\n",
      "\u001b[92mSelecting events \u001b[0m  [ 0 ,  5491556 ]  out of  5491556\n",
      "DataFrame size =  5491556\n"
     ]
    }
   ],
   "source": [
    "# now get the data\n",
    "qr_data = quantileRegression(\"data\")\n",
    "startEvtdata = 0\n",
    "stopEvtdata   = -1\n",
    "print \"Load the data dataframe\"\n",
    "qr_data.loadDF(\"/Users/mauro/CMS/Physics/dataMC/nt/double_ele_spring16v2_sync_v2_ichep/\",\n",
    "               \"cicNoSigmaIetaIeta/trees/\",\n",
    "               [\"Data_13TeV_EBHighR9\", \"Data_13TeV_EBLowR9\", \"Data_13TeV_EEHighR9\", \"Data_13TeV_EELowR9\" ],\n",
    "               startEvtdata, stopEvtdata)"
   ]
  },
  {
   "cell_type": "code",
   "execution_count": 9,
   "metadata": {
    "collapsed": false
   },
   "outputs": [],
   "source": [
    "dfdata = qr_data.getDF()\n",
    "dfdata = dfdata[['index', 'rho', 'nvtx', 'Pt', 'ScEta', 'Phi', 'R9',      'S4',      'SigmaIeIe',      'EtaWidth',      'PhiWidth',      'CovarianceIphiIphi',      'CovarianceIetaIphi']] # ,      'PhoIso03',      'ChIso03',      'ChIso03worst']]\n",
    "# print dfdata"
   ]
  },
  {
   "cell_type": "code",
   "execution_count": 10,
   "metadata": {
    "collapsed": false
   },
   "outputs": [
    {
     "name": "stderr",
     "output_type": "stream",
     "text": [
      "/Applications/anaconda/lib/python2.7/site-packages/pandas/core/frame.py:2754: SettingWithCopyWarning: \n",
      "A value is trying to be set on a copy of a slice from a DataFrame\n",
      "\n",
      "See the caveats in the documentation: http://pandas.pydata.org/pandas-docs/stable/indexing.html#indexing-view-versus-copy\n",
      "  **kwargs)\n"
     ]
    }
   ],
   "source": [
    "dfmcNOcorr = dfmc[['index', 'rho', 'nvtx', 'Pt', 'ScEta', 'Phi', 'R9',      'S4',      'SigmaIeIe',      'EtaWidth',      'PhiWidth',      'CovarianceIphiIphi',      'CovarianceIetaIphi']] #,      'PhoIso03',      'ChIso03',      'ChIso03worst']]\n",
    "dfmccorr   = dfmc[['index', 'rho', 'nvtx', 'Pt', 'ScEta', 'Phi', 'R9_corr', 'S4_corr', 'SigmaIeIe_corr', 'EtaWidth_corr', 'PhiWidth_corr', 'CovarianceIphiIphi_corr', 'CovarianceIetaIphi_corr' ]]# , 'PhoIso03_corr', 'ChIso03_corr', 'ChIso03worst_corr']]\n",
    "\n",
    "# It needs the same column names to compute the difference between the correlation matrices\n",
    "dfmccorr.rename(columns={'R9_corr':'R9', 'S4_corr':'S4', 'SigmaIeIe_corr':'SigmaIeIe', 'EtaWidth_corr':'EtaWidth', 'PhiWidth_corr':'PhiWidth', 'CovarianceIphiIphi_corr':'CovarianceIphiIphi', 'CovarianceIetaIphi_corr':'CovarianceIetaIphi', 'PhoIso03_corr':'PhoIso03', 'ChIso03_corr':'ChIso03', 'ChIso03worst_corr':'ChIso03worst'}, inplace=True)\n",
    "# print dfmccorr"
   ]
  },
  {
   "cell_type": "code",
   "execution_count": 11,
   "metadata": {
    "collapsed": false
   },
   "outputs": [],
   "source": [
    "#print dfdata\n",
    "#print dfmcNOcorr\n",
    "#print dfmccorr"
   ]
  },
  {
   "cell_type": "code",
   "execution_count": 12,
   "metadata": {
    "collapsed": false
   },
   "outputs": [],
   "source": [
    "correldata     = dfdata.corr()\n",
    "correlmcNOcorr = dfmcNOcorr.corr()\n",
    "correlmccorr   = dfmccorr.corr()"
   ]
  },
  {
   "cell_type": "code",
   "execution_count": 13,
   "metadata": {
    "collapsed": true
   },
   "outputs": [],
   "source": [
    " # Some basic plots\n",
    "import matplotlib.pyplot as plt\n",
    "%matplotlib inline\n",
    "# %matplotlib notebook\n",
    "plt.style.use('ggplot')"
   ]
  },
  {
   "cell_type": "code",
   "execution_count": 14,
   "metadata": {
    "collapsed": false
   },
   "outputs": [
    {
     "data": {
      "text/plain": [
       "<matplotlib.colorbar.Colorbar at 0x10ce55750>"
      ]
     },
     "execution_count": 14,
     "metadata": {},
     "output_type": "execute_result"
    },
    {
     "data": {
      "image/png": "[encoded data removed]",
      "text/plain": [
       "<matplotlib.figure.Figure at 0x1363944d0>"
      ]
     },
     "metadata": {},
     "output_type": "display_data"
    }
   ],
   "source": [
    "#print correldata\n",
    "# 'index', 'rho', 'nvtx', 'Pt', 'ScEta', 'Phi', 'R9', 'S4', 'SigmaIeIe', 'EtaWidth', 'PhiWidth', 'CovarianceIphiIphi', 'SigmaRR'\n",
    "plt.matshow(correldata)\n",
    "plt.colorbar()"
   ]
  },
  {
   "cell_type": "code",
   "execution_count": 15,
   "metadata": {
    "collapsed": false
   },
   "outputs": [
    {
     "data": {
      "text/plain": [
       "<matplotlib.colorbar.Colorbar at 0x122073e90>"
      ]
     },
     "execution_count": 15,
     "metadata": {},
     "output_type": "execute_result"
    },
    {
     "data": {
      "image/png": "[encoded data removed]",
      "text/plain": [
       "<matplotlib.figure.Figure at 0x122073cd0>"
      ]
     },
     "metadata": {},
     "output_type": "display_data"
    }
   ],
   "source": [
    "#print correlmcNOcorr\n",
    "plt.matshow(correlmcNOcorr)\n",
    "plt.colorbar()"
   ]
  },
  {
   "cell_type": "code",
   "execution_count": 16,
   "metadata": {
    "collapsed": false
   },
   "outputs": [
    {
     "data": {
      "text/plain": [
       "<matplotlib.colorbar.Colorbar at 0x13552b190>"
      ]
     },
     "execution_count": 16,
     "metadata": {},
     "output_type": "execute_result"
    },
    {
     "data": {
      "image/png": "[encoded data removed]",
      "text/plain": [
       "<matplotlib.figure.Figure at 0x12f795fd0>"
      ]
     },
     "metadata": {},
     "output_type": "display_data"
    }
   ],
   "source": [
    "#print correlmccorr\n",
    "plt.matshow(correlmccorr)\n",
    "plt.colorbar()"
   ]
  },
  {
   "cell_type": "code",
   "execution_count": 17,
   "metadata": {
    "collapsed": false
   },
   "outputs": [
    {
     "data": {
      "text/plain": [
       "<matplotlib.colorbar.Colorbar at 0x1363949d0>"
      ]
     },
     "execution_count": 17,
     "metadata": {},
     "output_type": "execute_result"
    },
    {
     "data": {
      "image/png": "[encoded data removed]",
      "text/plain": [
       "<matplotlib.figure.Figure at 0x136394990>"
      ]
     },
     "metadata": {},
     "output_type": "display_data"
    }
   ],
   "source": [
    "diffCorrelMcNOCorrData = correldata - correlmcNOcorr\n",
    "#print diffCorrelMcNOCorrData\n",
    "plt.matshow(diffCorrelMcNOCorrData)\n",
    "plt.colorbar()"
   ]
  },
  {
   "cell_type": "code",
   "execution_count": 18,
   "metadata": {
    "collapsed": false
   },
   "outputs": [
    {
     "data": {
      "text/plain": [
       "<matplotlib.colorbar.Colorbar at 0x135740b10>"
      ]
     },
     "execution_count": 18,
     "metadata": {},
     "output_type": "execute_result"
    },
    {
     "data": {
      "image/png": "[encoded data removed]",
      "text/plain": [
       "<matplotlib.figure.Figure at 0x135740b50>"
      ]
     },
     "metadata": {},
     "output_type": "display_data"
    }
   ],
   "source": [
    "diffCorrelMcCorrData = correldata - correlmccorr\n",
    "#print diffCorrelMcCorrData\n",
    "plt.matshow(diffCorrelMcCorrData)\n",
    "plt.colorbar()"
   ]
  },
  {
   "cell_type": "code",
   "execution_count": 19,
   "metadata": {
    "collapsed": false
   },
   "outputs": [
    {
     "data": {
      "text/plain": [
       "<matplotlib.colorbar.Colorbar at 0x13709be50>"
      ]
     },
     "execution_count": 19,
     "metadata": {},
     "output_type": "execute_result"
    },
    {
     "data": {
      "image/png": "[encoded data removed]",
      "text/plain": [
       "<matplotlib.figure.Figure at 0x13709bdd0>"
      ]
     },
     "metadata": {},
     "output_type": "display_data"
    }
   ],
   "source": [
    "test = diffCorrelMcNOCorrData - diffCorrelMcCorrData\n",
    "plt.matshow(test)\n",
    "plt.colorbar()"
   ]
  },
  {
   "cell_type": "markdown",
   "metadata": {},
   "source": [
    "The effect of the corrections (...as expected) has a very small impact.\n",
    "Need to go more granular\n",
    "\n",
    "Remember there is no data/mc reweighting done ! ...maybe not needed because we train on pt/eta/phi/rho\n",
    "\n",
    "\n",
    "This is global. I need more local checks in pt/eta/phi/rho:\n",
    "- [corr(mccorr)-corr(data)] vs. pt/eta/phi/rho\n",
    "    With the dataframe mccorr created above and the one on data, \n",
    "    select within the dataframe a range in pt/eta/phi/rho and compute \n",
    "    [corr(mccorr)-corr(data)] "
   ]
  },
  {
   "cell_type": "code",
   "execution_count": null,
   "metadata": {
    "collapsed": true
   },
   "outputs": [],
   "source": []
  },
  {
   "cell_type": "code",
   "execution_count": null,
   "metadata": {
    "collapsed": true
   },
   "outputs": [],
   "source": []
  },
  {
   "cell_type": "code",
   "execution_count": null,
   "metadata": {
    "collapsed": true
   },
   "outputs": [],
   "source": []
  },
  {
   "cell_type": "code",
   "execution_count": null,
   "metadata": {
    "collapsed": true
   },
   "outputs": [],
   "source": []
  }
 ],
 "metadata": {
  "kernelspec": {
   "display_name": "Python 2",
   "language": "python",
   "name": "python2"
  },
  "language_info": {
   "codemirror_mode": {
    "name": "ipython",
    "version": 2
   },
   "file_extension": ".py",
   "mimetype": "text/x-python",
   "name": "python",
   "nbconvert_exporter": "python",
   "pygments_lexer": "ipython2",
   "version": "2.7.12"
  }
 },
 "nbformat": 4,
 "nbformat_minor": 0
}
