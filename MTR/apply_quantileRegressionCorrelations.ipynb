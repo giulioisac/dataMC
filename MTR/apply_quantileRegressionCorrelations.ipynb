{
 "cells": [
  {
   "cell_type": "code",
   "execution_count": 1,
   "metadata": {
    "collapsed": false
   },
   "outputs": [
    {
     "data": {
      "application/javascript": [
       "require(['codemirror/mode/clike/clike'], function(Clike) { console.log('ROOTaaS - C++ CodeMirror module loaded'); });"
      ]
     },
     "metadata": {},
     "output_type": "display_data"
    },
    {
     "data": {
      "application/javascript": [
       "IPython.CodeCell.config_defaults.highlight_modes['magic_text/x-c++src'] = {'reg':[/^%%cpp/]};"
      ]
     },
     "metadata": {},
     "output_type": "display_data"
    },
    {
     "name": "stdout",
     "output_type": "stream",
     "text": [
      "Welcome to ROOTaaS 6.06/02\n"
     ]
    }
   ],
   "source": [
    "from quantileRegression import quantileRegression\n",
    "import numpy as np"
   ]
  },
  {
   "cell_type": "code",
   "execution_count": 2,
   "metadata": {
    "collapsed": false
   },
   "outputs": [],
   "source": [
    "# Variable you want to correct\n",
    "ylist = [\"R9\", \"S4\", \"SigmaIeIe\", \"EtaWidth\", \"PhiWidth\", \"CovarianceIphiIphi\", \"SigmaRR\"]\n",
    "\n",
    "# Input variables used for the regression\n",
    "X = ['Pt', 'ScEta', 'Phi', 'rho']  # <<-- list"
   ]
  },
  {
   "cell_type": "code",
   "execution_count": 3,
   "metadata": {
    "collapsed": false
   },
   "outputs": [
    {
     "name": "stdout",
     "output_type": "stream",
     "text": [
      "Number of quantiles  9\n"
     ]
    }
   ],
   "source": [
    "# Set the quantiles \n",
    "quantiles = [ 0.1, 0.2, 0.3, 0.4, 0.5, 0.6, 0.7, 0.8, 0.9 ]\n",
    "print \"Number of quantiles \", len(quantiles)"
   ]
  },
  {
   "cell_type": "code",
   "execution_count": 4,
   "metadata": {
    "collapsed": true
   },
   "outputs": [],
   "source": [
    "# Initialize the quantile regression object for mc\n",
    "qr_mc = quantileRegression(\"mc\")"
   ]
  },
  {
   "cell_type": "code",
   "execution_count": 5,
   "metadata": {
    "collapsed": false
   },
   "outputs": [
    {
     "name": "stdout",
     "output_type": "stream",
     "text": [
      "Load the mc dataframe\n",
      "NT branches: \n",
      "['rho', 'nvtx', 'leadPt', 'leadScEta', 'leadPhi', 'leadR9', 'leadS4', 'leadSigmaIeIe', 'leadEtaWidth', 'leadPhiWidth', 'leadCovarianceIphiIphi', 'leadSigmaRR', 'subleadPt', 'subleadScEta', 'subleadPhi', 'subleadR9', 'subleadS4', 'subleadSigmaIeIe', 'subleadEtaWidth', 'subleadPhiWidth', 'subleadCovarianceIphiIphi', 'subleadSigmaRR']\n",
      "Reading trees\n",
      "Number of events  \n",
      "rho                          2393830\n",
      "nvtx                         2393830\n",
      "leadPt                       2393830\n",
      "leadScEta                    2393830\n",
      "leadPhi                      2393830\n",
      "leadR9                       2393830\n",
      "leadS4                       2393830\n",
      "leadSigmaIeIe                2393830\n",
      "leadEtaWidth                 2393830\n",
      "leadPhiWidth                 2393830\n",
      "leadCovarianceIphiIphi       2393830\n",
      "leadSigmaRR                  2393830\n",
      "subleadPt                    2393830\n",
      "subleadScEta                 2393830\n",
      "subleadPhi                   2393830\n",
      "subleadR9                    2393830\n",
      "subleadS4                    2393830\n",
      "subleadSigmaIeIe             2393830\n",
      "subleadEtaWidth              2393830\n",
      "subleadPhiWidth              2393830\n",
      "subleadCovarianceIphiIphi    2393830\n",
      "subleadSigmaRR               2393830\n",
      "dtype: int64\n",
      "\u001b[92mApply basic selection\u001b[0m\n",
      " ptmin  =  20.0 \n",
      " ptmax  =  60.0  \n",
      " etamin =  -2.5  \n",
      " etamax =  2.5  \n",
      " phimin =  -3.14  \n",
      " phimax =  3.14\n",
      "\u001b[92mReshuffle events\u001b[0m rndm seed  =  12345\n",
      "\u001b[92mSelecting events \u001b[0m  [ 2000001 ,  3000000 ]  out of  4545316\n",
      "DataFrame size =  999999\n"
     ]
    }
   ],
   "source": [
    "# This is what you want to correct\n",
    "print \"Load the mc dataframe\"\n",
    "startEvtmc = 2000001 \n",
    "stopEvtmc  = 3000000\n",
    "qr_mc.loadDF(\"/Users/mauro/CMS/Physics/dataMC/nt/double_ele_spring16v2_sync_v1_mc/\",\n",
    "             \"cicNoSigmaIetaIeta/trees/\",\n",
    "             [\"DYToEE_powheg_13TeV_EBHighR9\", \"DYToEE_powheg_13TeV_EBLowR9\", \"DYToEE_powheg_13TeV_EEHighR9\", \"DYToEE_powheg_13TeV_EELowR9\" ],\n",
    "             startEvtmc, stopEvtmc, 12345)"
   ]
  },
  {
   "cell_type": "code",
   "execution_count": 6,
   "metadata": {
    "collapsed": false
   },
   "outputs": [
    {
     "name": "stdout",
     "output_type": "stream",
     "text": [
      "This will take a while...\n",
      "Loading mc weights for  R9\n",
      "Loading data weights for  R9\n",
      "Correcting  R9\n",
      "Get corrections for  R9  with quantiles  [0.1, 0.2, 0.3, 0.4, 0.5, 0.6, 0.7, 0.8, 0.9]\n",
      "Features: X =  ['Pt', 'ScEta', 'Phi', 'rho']  target y =  R9\n",
      "Loading mc weights for  S4\n",
      "Loading data weights for  S4\n",
      "Correcting  S4\n",
      "Get corrections for  S4  with quantiles  [0.1, 0.2, 0.3, 0.4, 0.5, 0.6, 0.7, 0.8, 0.9]\n",
      "Features: X =  ['Pt', 'ScEta', 'Phi', 'rho']  target y =  S4\n",
      "Loading mc weights for  SigmaIeIe\n",
      "Loading data weights for  SigmaIeIe\n",
      "Correcting  SigmaIeIe\n",
      "Get corrections for  SigmaIeIe  with quantiles  [0.1, 0.2, 0.3, 0.4, 0.5, 0.6, 0.7, 0.8, 0.9]\n",
      "Features: X =  ['Pt', 'ScEta', 'Phi', 'rho']  target y =  SigmaIeIe\n",
      "Loading mc weights for  EtaWidth\n",
      "Loading data weights for  EtaWidth\n",
      "Correcting  EtaWidth\n",
      "Get corrections for  EtaWidth  with quantiles  [0.1, 0.2, 0.3, 0.4, 0.5, 0.6, 0.7, 0.8, 0.9]\n",
      "Features: X =  ['Pt', 'ScEta', 'Phi', 'rho']  target y =  EtaWidth\n",
      "Loading mc weights for  PhiWidth\n",
      "Loading data weights for  PhiWidth\n",
      "Correcting  PhiWidth\n",
      "Get corrections for  PhiWidth  with quantiles  [0.1, 0.2, 0.3, 0.4, 0.5, 0.6, 0.7, 0.8, 0.9]\n",
      "Features: X =  ['Pt', 'ScEta', 'Phi', 'rho']  target y =  PhiWidth\n",
      "Loading mc weights for  CovarianceIphiIphi\n",
      "Loading data weights for  CovarianceIphiIphi\n",
      "Correcting  CovarianceIphiIphi\n",
      "Get corrections for  CovarianceIphiIphi  with quantiles  [0.1, 0.2, 0.3, 0.4, 0.5, 0.6, 0.7, 0.8, 0.9]\n",
      "Features: X =  ['Pt', 'ScEta', 'Phi', 'rho']  target y =  CovarianceIphiIphi\n",
      "Loading mc weights for  SigmaRR\n",
      "Loading data weights for  SigmaRR\n",
      "Correcting  SigmaRR\n",
      "Get corrections for  SigmaRR  with quantiles  [0.1, 0.2, 0.3, 0.4, 0.5, 0.6, 0.7, 0.8, 0.9]\n",
      "Features: X =  ['Pt', 'ScEta', 'Phi', 'rho']  target y =  SigmaRR\n"
     ]
    }
   ],
   "source": [
    "#print \"Get the corrected data-mc values\"\n",
    "qr_mc.correctAllY(X, ylist, quantiles )"
   ]
  },
  {
   "cell_type": "code",
   "execution_count": 7,
   "metadata": {
    "collapsed": true
   },
   "outputs": [],
   "source": [
    "dfmc = qr_mc.getDF()\n",
    "#print dfmc"
   ]
  },
  {
   "cell_type": "code",
   "execution_count": 8,
   "metadata": {
    "collapsed": false
   },
   "outputs": [
    {
     "name": "stdout",
     "output_type": "stream",
     "text": [
      "Load the data dataframe\n",
      "NT branches: \n",
      "['rho', 'nvtx', 'leadHLT_Ele27_WPTight_Gsf_vMatch', 'subleadHLT_Ele27_WPTight_Gsf_vMatch', 'leadPt', 'leadScEta', 'leadPhi', 'leadR9', 'leadS4', 'leadSigmaIeIe', 'leadEtaWidth', 'leadPhiWidth', 'leadCovarianceIphiIphi', 'leadSigmaRR', 'subleadPt', 'subleadScEta', 'subleadPhi', 'subleadR9', 'subleadS4', 'subleadSigmaIeIe', 'subleadEtaWidth', 'subleadPhiWidth', 'subleadCovarianceIphiIphi', 'subleadSigmaRR']\n",
      "Reading trees\n",
      "Number of events  \n",
      "rho                                    1037409\n",
      "nvtx                                   1037409\n",
      "leadHLT_Ele27_WPTight_Gsf_vMatch       1037409\n",
      "subleadHLT_Ele27_WPTight_Gsf_vMatch    1037409\n",
      "leadPt                                 1037409\n",
      "leadScEta                              1037409\n",
      "leadPhi                                1037409\n",
      "leadR9                                 1037409\n",
      "leadS4                                 1037409\n",
      "leadSigmaIeIe                          1037409\n",
      "leadEtaWidth                           1037409\n",
      "leadPhiWidth                           1037409\n",
      "leadCovarianceIphiIphi                 1037409\n",
      "leadSigmaRR                            1037409\n",
      "subleadPt                              1037409\n",
      "subleadScEta                           1037409\n",
      "subleadPhi                             1037409\n",
      "subleadR9                              1037409\n",
      "subleadS4                              1037409\n",
      "subleadSigmaIeIe                       1037409\n",
      "subleadEtaWidth                        1037409\n",
      "subleadPhiWidth                        1037409\n",
      "subleadCovarianceIphiIphi              1037409\n",
      "subleadSigmaRR                         1037409\n",
      "dtype: int64\n",
      "# lead trig   =  847027\n",
      "# sublead trg =  672609\n",
      "\u001b[92mApply basic selection\u001b[0m\n",
      " ptmin  =  20.0 \n",
      " ptmax  =  60.0  \n",
      " etamin =  -2.5  \n",
      " etamax =  2.5  \n",
      " phimin =  -3.14  \n",
      " phimax =  3.14\n",
      "\u001b[92mReshuffle events\u001b[0m rndm seed  =  12345\n",
      "\u001b[92mSelecting events \u001b[0m  [ 0 ,  1441902 ]  out of  1441902\n",
      "DataFrame size =  1441902\n"
     ]
    }
   ],
   "source": [
    "# now get the data\n",
    "qr_data = quantileRegression(\"data\")\n",
    "startEvtdata = 0\n",
    "stopEvtdata   = -1\n",
    "print \"Load the data dataframe\"\n",
    "qr_data.loadDF(\"/Users/mauro/CMS/Physics/dataMC/nt/double_ele_spring16v2_sync_v1_ichep/\",\n",
    "               \"cicNoSigmaIetaIeta/trees/\",\n",
    "               [\"Data_13TeV_EBHighR9\", \"Data_13TeV_EBLowR9\", \"Data_13TeV_EEHighR9\", \"Data_13TeV_EELowR9\" ],\n",
    "               startEvtdata, stopEvtdata)"
   ]
  },
  {
   "cell_type": "code",
   "execution_count": 9,
   "metadata": {
    "collapsed": true
   },
   "outputs": [],
   "source": [
    "dfdata = qr_data.getDF()\n",
    "#print dfdata"
   ]
  },
  {
   "cell_type": "code",
   "execution_count": 10,
   "metadata": {
    "collapsed": false
   },
   "outputs": [
    {
     "name": "stderr",
     "output_type": "stream",
     "text": [
      "/Applications/anaconda/lib/python2.7/site-packages/pandas/core/frame.py:2754: SettingWithCopyWarning: \n",
      "A value is trying to be set on a copy of a slice from a DataFrame\n",
      "\n",
      "See the caveats in the documentation: http://pandas.pydata.org/pandas-docs/stable/indexing.html#indexing-view-versus-copy\n",
      "  **kwargs)\n"
     ]
    }
   ],
   "source": [
    "dfmcNOcorr = dfmc[['index', 'rho', 'nvtx', 'Pt', 'ScEta', 'Phi', 'R9', 'S4', 'SigmaIeIe', 'EtaWidth', 'PhiWidth', 'CovarianceIphiIphi', 'SigmaRR']]\n",
    "dfmccorr   = dfmc[['index', 'rho', 'nvtx', 'Pt', 'ScEta', 'Phi', 'R9_corr', 'S4_corr', 'SigmaIeIe_corr', 'EtaWidth_corr', 'PhiWidth_corr', 'CovarianceIphiIphi_corr', 'SigmaRR_corr']]\n",
    "\n",
    "# It needs the same column names to compute the difference between the correlation matrices\n",
    "dfmccorr.rename(columns={'R9_corr':'R9', 'S4_corr':'S4', 'SigmaIeIe_corr':'SigmaIeIe', 'EtaWidth_corr':'EtaWidth', 'PhiWidth_corr':'PhiWidth', 'CovarianceIphiIphi_corr':'CovarianceIphiIphi', 'SigmaRR_corr':'SigmaRR'}, inplace=True)\n",
    "# print dfmccorr"
   ]
  },
  {
   "cell_type": "code",
   "execution_count": 11,
   "metadata": {
    "collapsed": false
   },
   "outputs": [],
   "source": [
    "#print dfdata\n",
    "#print dfmcNOcorr\n",
    "#print dfmccorr"
   ]
  },
  {
   "cell_type": "code",
   "execution_count": 12,
   "metadata": {
    "collapsed": false
   },
   "outputs": [],
   "source": [
    "correldata     = dfdata.corr()\n",
    "correlmcNOcorr = dfmcNOcorr.corr()\n",
    "correlmccorr   = dfmccorr.corr()"
   ]
  },
  {
   "cell_type": "code",
   "execution_count": 13,
   "metadata": {
    "collapsed": true
   },
   "outputs": [],
   "source": [
    " "
   ]
  },
  {
   "cell_type": "code",
   "execution_count": 14,
   "metadata": {
    "collapsed": false
   },
   "outputs": [
    {
     "data": {
      "text/plain": [
       "<matplotlib.colorbar.Colorbar at 0x10c72c850>"
      ]
     },
     "execution_count": 14,
     "metadata": {},
     "output_type": "execute_result"
    },
    {
     "data": {
      "image/png": "[encoded data removed]",
      "text/plain": [
       "<matplotlib.figure.Figure at 0x10c72cd10>"
      ]
     },
     "metadata": {},
     "output_type": "display_data"
    }
   ],
   "source": [
    "#print correldata\n",
    "# 'index', 'rho', 'nvtx', 'Pt', 'ScEta', 'Phi', 'R9', 'S4', 'SigmaIeIe', 'EtaWidth', 'PhiWidth', 'CovarianceIphiIphi', 'SigmaRR'\n",
    "plt.matshow(correldata)\n",
    "plt.colorbar()"
   ]
  },
  {
   "cell_type": "code",
   "execution_count": 15,
   "metadata": {
    "collapsed": false
   },
   "outputs": [
    {
     "data": {
      "text/plain": [
       "<matplotlib.colorbar.Colorbar at 0x13096af90>"
      ]
     },
     "execution_count": 15,
     "metadata": {},
     "output_type": "execute_result"
    },
    {
     "data": {
      "image/png": "[encoded data removed]",
      "text/plain": [
       "<matplotlib.figure.Figure at 0x13096aa90>"
      ]
     },
     "metadata": {},
     "output_type": "display_data"
    }
   ],
   "source": [
    "#print correlmcNOcorr\n",
    "plt.matshow(correlmcNOcorr)\n",
    "plt.colorbar()"
   ]
  },
  {
   "cell_type": "code",
   "execution_count": 16,
   "metadata": {
    "collapsed": false
   },
   "outputs": [
    {
     "data": {
      "text/plain": [
       "<matplotlib.colorbar.Colorbar at 0x130bbeb50>"
      ]
     },
     "execution_count": 16,
     "metadata": {},
     "output_type": "execute_result"
    },
    {
     "data": {
      "image/png": "[encoded data removed]",
      "text/plain": [
       "<matplotlib.figure.Figure at 0x130bbe650>"
      ]
     },
     "metadata": {},
     "output_type": "display_data"
    }
   ],
   "source": [
    "#print correlmccorr\n",
    "plt.matshow(correlmcNOcorr)\n",
    "plt.colorbar()"
   ]
  },
  {
   "cell_type": "code",
   "execution_count": 17,
   "metadata": {
    "collapsed": false
   },
   "outputs": [
    {
     "data": {
      "text/plain": [
       "<matplotlib.colorbar.Colorbar at 0x1310a7150>"
      ]
     },
     "execution_count": 17,
     "metadata": {},
     "output_type": "execute_result"
    },
    {
     "data": {
      "image/png": "[encoded data removed]",
      "text/plain": [
       "<matplotlib.figure.Figure at 0x130df6590>"
      ]
     },
     "metadata": {},
     "output_type": "display_data"
    }
   ],
   "source": [
    "diffCorrelMcNOCorrData = correldata - correlmcNOcorr\n",
    "#print diffCorrelMcNOCorrData\n",
    "plt.matshow(diffCorrelMcNOCorrData)\n",
    "plt.colorbar()"
   ]
  },
  {
   "cell_type": "code",
   "execution_count": 18,
   "metadata": {
    "collapsed": false
   },
   "outputs": [
    {
     "data": {
      "text/plain": [
       "<matplotlib.colorbar.Colorbar at 0x131163750>"
      ]
     },
     "execution_count": 18,
     "metadata": {},
     "output_type": "execute_result"
    },
    {
     "data": {
      "image/png": "[encoded data removed]",
      "text/plain": [
       "<matplotlib.figure.Figure at 0x131163c50>"
      ]
     },
     "metadata": {},
     "output_type": "display_data"
    }
   ],
   "source": [
    "diffCorrelMcCorrData = correldata - correlmccorr\n",
    "#print diffCorrelMcCorrData\n",
    "plt.matshow(diffCorrelMcCorrData)\n",
    "plt.colorbar()"
   ]
  },
  {
   "cell_type": "code",
   "execution_count": 19,
   "metadata": {
    "collapsed": false
   },
   "outputs": [
    {
     "data": {
      "text/plain": [
       "<matplotlib.colorbar.Colorbar at 0x13139f9d0>"
      ]
     },
     "execution_count": 19,
     "metadata": {},
     "output_type": "execute_result"
    },
    {
     "data": {
      "image/png": "[encoded data removed]",
      "text/plain": [
       "<matplotlib.figure.Figure at 0x13139fb90>"
      ]
     },
     "metadata": {},
     "output_type": "display_data"
    }
   ],
   "source": [
    "test = diffCorrelMcNOCorrData - diffCorrelMcCorrData\n",
    "plt.matshow(test)\n",
    "plt.colorbar()"
   ]
  },
  {
   "cell_type": "markdown",
   "metadata": {},
   "source": [
    "The effect of the corrections (...as expected) has a very small impact.\n",
    "Need to go more granular\n",
    "\n",
    "Remember there is no data/mc reweighting done ! ...maybe not needed because we train on pt/eta/phi/rho\n",
    "\n",
    "\n",
    "This is global. I need more local checks in pt/eta/phi/rho:\n",
    "- [corr(mccorr)-corr(data)] vs. pt/eta/phi/rho\n",
    "    With the dataframe mccorr created above and the one on data, \n",
    "    select within the dataframe a range in pt/eta/phi/rho and compute \n",
    "    [corr(mccorr)-corr(data)] "
   ]
  }
 ],
 "metadata": {
  "kernelspec": {
   "display_name": "Python 2",
   "language": "python",
   "name": "python2"
  },
  "language_info": {
   "codemirror_mode": {
    "name": "ipython",
    "version": 2
   },
   "file_extension": ".py",
   "mimetype": "text/x-python",
   "name": "python",
   "nbconvert_exporter": "python",
   "pygments_lexer": "ipython2",
   "version": "2.7.12"
  }
 },
 "nbformat": 4,
 "nbformat_minor": 0
}
