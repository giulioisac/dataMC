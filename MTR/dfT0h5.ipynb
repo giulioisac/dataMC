{
 "cells": [
  {
   "cell_type": "code",
   "execution_count": 2,
   "metadata": {
    "collapsed": false
   },
   "outputs": [
    {
     "data": {
      "application/javascript": [
       "require(['codemirror/mode/clike/clike'], function(Clike) { console.log('ROOTaaS - C++ CodeMirror module loaded'); });"
      ]
     },
     "metadata": {},
     "output_type": "display_data"
    },
    {
     "data": {
      "application/javascript": [
       "IPython.CodeCell.config_defaults.highlight_modes['magic_text/x-c++src'] = {'reg':[/^%%cpp/]};"
      ]
     },
     "metadata": {},
     "output_type": "display_data"
    },
    {
     "name": "stdout",
     "output_type": "stream",
     "text": [
      "Welcome to ROOTaaS 6.06/08\n"
     ]
    }
   ],
   "source": [
    "from quantileRegression import quantileRegression\n",
    "import numpy as np\n",
    "import runNumbers as rn"
   ]
  },
  {
   "cell_type": "code",
   "execution_count": 3,
   "metadata": {
    "collapsed": false
   },
   "outputs": [],
   "source": [
    "# Initialize the quantile regression object for mc\n",
    "qr_mc = quantileRegression(\"mc\")"
   ]
  },
  {
   "cell_type": "code",
   "execution_count": 4,
   "metadata": {
    "collapsed": false,
    "scrolled": false
   },
   "outputs": [
    {
     "name": "stdout",
     "output_type": "stream",
     "text": [
      "Load the mc dataframe\n",
      "NT branches: \n",
      "['run', 'rho', 'nvtx', 'mass', 'weight', 'leadEleMatch', 'subleadEleMatch', 'leadPt', 'leadScEta', 'leadPhi', 'leadScEnergy', 'leadScPreshowerEnergy', 'leadSigmaRR', 'leadPhoIso03', 'leadChIso03', 'leadChIso03worst', 'leadPhoIDMVA', 'leadR9', 'leadS4', 'leadEtaWidth', 'leadPhiWidth', 'leadSigmaIeIe', 'leadCovarianceIetaIphi', 'leadCovarianceIphiIphi', 'subleadPt', 'subleadScEta', 'subleadPhi', 'subleadScEnergy', 'subleadScPreshowerEnergy', 'subleadSigmaRR', 'subleadPhoIso03', 'subleadChIso03', 'subleadChIso03worst', 'subLeadPhoIDMVA', 'subleadR9', 'subleadS4', 'subleadEtaWidth', 'subleadPhiWidth', 'subleadSigmaIeIe', 'subleadCovarianceIetaIphi', 'subleadCovarianceIphiIphi']\n",
      "trees:  ['cicNoSigmaIetaIeta/trees/DYJetsToLL_13TeV_EBHighR9', 'cicNoSigmaIetaIeta/trees/DYJetsToLL_13TeV_EBLowR9', 'cicNoSigmaIetaIeta/trees/DYJetsToLL_13TeV_EEHighR9', 'cicNoSigmaIetaIeta/trees/DYJetsToLL_13TeV_EELowR9']\n",
      "Adding trees into a DataFrame\n",
      "  adding  cicNoSigmaIetaIeta/trees/DYJetsToLL_13TeV_EBHighR9\n",
      "  adding  cicNoSigmaIetaIeta/trees/DYJetsToLL_13TeV_EBLowR9\n",
      "  adding  cicNoSigmaIetaIeta/trees/DYJetsToLL_13TeV_EEHighR9\n",
      "  adding  cicNoSigmaIetaIeta/trees/DYJetsToLL_13TeV_EELowR9\n",
      "number of events: 7073020\n",
      "# lead eleMatch    =  6081954\n",
      "# sublead eleMatch =  5528292\n",
      "MC Sublead\n",
      "sublead size:  6081954\n",
      "MC Lead\n",
      "lead size:  5528292\n",
      "Count final dataset\n",
      "11610246\n",
      "Index([u'index', u'run', u'rho', u'nvtx', u'mass', u'weight', u'Pt', u'ScEta',\n",
      "       u'Phi', u'ScEnergy', u'ScPreshowerEnergy', u'SigmaRR', u'PhoIso03',\n",
      "       u'ChIso03', u'ChIso03worst', u'PhoIDMVA', u'R9', u'S4', u'EtaWidth',\n",
      "       u'PhiWidth', u'SigmaIeIe', u'CovarianceIetaIphi',\n",
      "       u'CovarianceIphiIphi'],\n",
      "      dtype='object')\n",
      "\u001b[92mApply basic selection\u001b[0m\n",
      " ptmin  =  25.0 \n",
      " ptmax  =  150.0  \n",
      " etamin =  -2.5  \n",
      " etamax =  2.5  \n",
      " phimin =  -3.14  \n",
      " phimax =  3.14\n",
      "\u001b[92mReshuffle events\u001b[0m rndm seed  =  12345\n",
      "\u001b[92mSelecting events \u001b[0m  [ 0 ,  2000000 ]  out of  11554791\n",
      "DataFrame size =  2000000\n"
     ]
    }
   ],
   "source": [
    "# This is what you want to correct\n",
    "print \"Load the mc dataframe\"\n",
    "startEvtmc = 0\n",
    "stopEvtmc  = 2000000 \n",
    "qr_mc.loadDF(\"/mnt/t3nfs01/data01/shome/mdonega/lxplus/work/CMSSW_8_0_26_patch1/src/diphotons/Analysis/macros/double_ele_v9_moriond17_mc/\",\n",
    "             \"cicNoSigmaIetaIeta/trees/\",\n",
    "             [\"DYJetsToLL_13TeV_EBHighR9\", \"DYJetsToLL_13TeV_EBLowR9\", \"DYJetsToLL_13TeV_EEHighR9\", \"DYJetsToLL_13TeV_EELowR9\" ],\n",
    "             startEvtmc, stopEvtmc, 12345)"
   ]
  },
  {
   "cell_type": "code",
   "execution_count": 5,
   "metadata": {
    "collapsed": false
   },
   "outputs": [
    {
     "name": "stdout",
     "output_type": "stream",
     "text": [
      "Load the data dataframe\n",
      "NT branches: \n",
      "['run', 'rho', 'nvtx', 'mass', 'weight', 'leadHLT_Ele27_WPTight_Gsf_vMatch', 'subleadHLT_Ele27_WPTight_Gsf_vMatch', 'leadEleMatch', 'subleadEleMatch', 'leadPt', 'leadScEta', 'leadPhi', 'leadScEnergy', 'leadScPreshowerEnergy', 'leadSigmaRR', 'leadPhoIso03', 'leadChIso03', 'leadChIso03worst', 'leadPhoIDMVA', 'leadR9', 'leadS4', 'leadEtaWidth', 'leadPhiWidth', 'leadSigmaIeIe', 'leadCovarianceIetaIphi', 'leadCovarianceIphiIphi', 'subleadPt', 'subleadScEta', 'subleadPhi', 'subleadScEnergy', 'subleadScPreshowerEnergy', 'subleadSigmaRR', 'subleadPhoIso03', 'subleadChIso03', 'subleadChIso03worst', 'subLeadPhoIDMVA', 'subleadR9', 'subleadS4', 'subleadEtaWidth', 'subleadPhiWidth', 'subleadSigmaIeIe', 'subleadCovarianceIetaIphi', 'subleadCovarianceIphiIphi']\n",
      "trees:  ['cicNoSigmaIetaIeta/trees/Data_13TeV_EBHighR9', 'cicNoSigmaIetaIeta/trees/Data_13TeV_EBLowR9', 'cicNoSigmaIetaIeta/trees/Data_13TeV_EEHighR9', 'cicNoSigmaIetaIeta/trees/Data_13TeV_EELowR9']\n",
      "Adding trees into a DataFrame\n",
      "  adding  cicNoSigmaIetaIeta/trees/Data_13TeV_EBHighR9\n",
      "  adding  cicNoSigmaIetaIeta/trees/Data_13TeV_EBLowR9\n",
      "  adding  cicNoSigmaIetaIeta/trees/Data_13TeV_EEHighR9\n",
      "  adding  cicNoSigmaIetaIeta/trees/Data_13TeV_EELowR9\n",
      "number of events: 15355385\n",
      "Count df\n",
      "# lead eleMatch    =  4694664\n",
      "# sublead eleMatch =  4137321\n",
      "# lead trig   =  4572255\n",
      "# sublead trg =  3643861\n",
      "# lead trig and eleMatch    =  4328314\n",
      "# sublead trig and eleMatch =  3371474\n",
      "evtbranches ['run', 'rho', 'nvtx', 'mass', 'weight']\n",
      "unif ['run', 'rho', 'nvtx', 'mass', 'weight', 'Pt', 'ScEta', 'Phi', 'ScEnergy', 'ScPreshowerEnergy', 'SigmaRR', 'PhoIso03', 'ChIso03', 'ChIso03worst', 'PhoIDMVA', 'R9', 'S4', 'EtaWidth', 'PhiWidth', 'SigmaIeIe', 'CovarianceIetaIphi', 'CovarianceIphiIphi']\n",
      "Data Sublead\n",
      "Index([u'run', u'rho', u'nvtx', u'mass', u'weight', u'subleadPt',\n",
      "       u'subleadScEta', u'subleadPhi', u'subleadScEnergy',\n",
      "       u'subleadScPreshowerEnergy', u'subleadSigmaRR', u'subleadPhoIso03',\n",
      "       u'subleadChIso03', u'subleadChIso03worst', u'subLeadPhoIDMVA',\n",
      "       u'subleadR9', u'subleadS4', u'subleadEtaWidth', u'subleadPhiWidth',\n",
      "       u'subleadSigmaIeIe', u'subleadCovarianceIetaIphi',\n",
      "       u'subleadCovarianceIphiIphi'],\n",
      "      dtype='object')\n",
      "sublead size:  4328314\n",
      "Data Lead\n",
      "lead size:  3371474\n",
      "Count final dataset\n",
      "7699788\n",
      "Index([u'index', u'run', u'rho', u'nvtx', u'mass', u'weight', u'Pt', u'ScEta',\n",
      "       u'Phi', u'ScEnergy', u'ScPreshowerEnergy', u'SigmaRR', u'PhoIso03',\n",
      "       u'ChIso03', u'ChIso03worst', u'PhoIDMVA', u'R9', u'S4', u'EtaWidth',\n",
      "       u'PhiWidth', u'SigmaIeIe', u'CovarianceIetaIphi',\n",
      "       u'CovarianceIphiIphi'],\n",
      "      dtype='object')\n",
      "\u001b[92mApply basic selection\u001b[0m\n",
      " ptmin  =  25.0 \n",
      " ptmax  =  150.0  \n",
      " etamin =  -2.5  \n",
      " etamax =  2.5  \n",
      " phimin =  -3.14  \n",
      " phimax =  3.14\n",
      "\u001b[92mReshuffle events\u001b[0m rndm seed  =  12345\n",
      "\u001b[92mSelecting events \u001b[0m  [ 0 ,  2000000 ]  out of  7668122\n",
      "DataFrame size =  2000000\n"
     ]
    }
   ],
   "source": [
    "# Plot data, mc, mc_corrr\n",
    "# just need to load the data for plotting \n",
    "qr_data = quantileRegression(\"data\")\n",
    "startEvtdata = 0\n",
    "stopEvtdata   = 2000000\n",
    "print \"Load the data dataframe\"\n",
    "qr_data.loadDF(\" /mnt/t3nfs01/data01/shome/mdonega/lxplus/work/CMSSW_8_0_26_patch1/src/diphotons/Analysis/macros/double_ele_v9_moriond17_data/\",\n",
    "               \"cicNoSigmaIetaIeta/trees/\",\n",
    "               [\"Data_13TeV_EBHighR9\", \"Data_13TeV_EBLowR9\", \"Data_13TeV_EEHighR9\", \"Data_13TeV_EELowR9\" ],\n",
    "               startEvtdata, stopEvtdata, rn.run2016B[0],rn.run2016D[1])"
   ]
  }
 ],
 "metadata": {
  "anaconda-cloud": {},
  "kernelspec": {
   "display_name": "Python [default]",
   "language": "python",
   "name": "python2"
  },
  "language_info": {
   "codemirror_mode": {
    "name": "ipython",
    "version": 2
   },
   "file_extension": ".py",
   "mimetype": "text/x-python",
   "name": "python",
   "nbconvert_exporter": "python",
   "pygments_lexer": "ipython2",
   "version": "2.7.12"
  }
 },
 "nbformat": 4,
 "nbformat_minor": 0
}
