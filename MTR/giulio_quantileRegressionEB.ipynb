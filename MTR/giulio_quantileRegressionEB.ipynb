{
 "cells": [
  {
   "cell_type": "code",
   "execution_count": 1,
   "metadata": {
    "collapsed": false
   },
   "outputs": [
    {
     "data": {
      "application/javascript": [
       "require(['codemirror/mode/clike/clike'], function(Clike) { console.log('ROOTaaS - C++ CodeMirror module loaded'); });"
      ]
     },
     "metadata": {},
     "output_type": "display_data"
    },
    {
     "data": {
      "application/javascript": [
       "IPython.CodeCell.config_defaults.highlight_modes['magic_text/x-c++src'] = {'reg':[/^%%cpp/]};"
      ]
     },
     "metadata": {},
     "output_type": "display_data"
    },
    {
     "name": "stdout",
     "output_type": "stream",
     "text": [
      "Welcome to ROOTaaS 6.06/08\n"
     ]
    }
   ],
   "source": [
    "from quantileRegression import quantileRegression\n",
    "import numpy as np\n",
    "import runNumbers as rn"
   ]
  },
  {
   "cell_type": "code",
   "execution_count": 2,
   "metadata": {
    "collapsed": false
   },
   "outputs": [],
   "source": [
    "# Variable you want to correct\n",
    "ylist = [\"R9\"]#, \"S4\", \"SigmaIeIe\", \"EtaWidth\", \"PhiWidth\", \"CovarianceIphiIphi\", \"SigmaRR\", 'CovarianceIetaIphi', 'PhoIso03', 'ChIso03', 'ChIso03worst']\n",
    "# Input variables used for the regression\n",
    "X = ['Pt', 'ScEta', 'Phi', 'rho']  # <<-- list\n",
    "# Set the quantiles \n",
    "quantiles = [ 0.1, 0.2, 0.3, 0.4, 0.5, 0.6, 0.7, 0.8, 0.9 ]"
   ]
  },
  {
   "cell_type": "code",
   "execution_count": 3,
   "metadata": {
    "collapsed": false,
    "scrolled": false
   },
   "outputs": [
    {
     "name": "stdout",
     "output_type": "stream",
     "text": [
      "Load the mc dataframe\n",
      "Loading dataframe from :  /mnt/t3nfs01/data01/shome/giulioisac/dataMC/MTR/df_mc_2000000-4000000.h5\n",
      "\u001b[92mSelecting events \u001b[0m  [ 0 ,  2000000 ]  out of  2000000\n",
      "index                 2000000\n",
      "run                   2000000\n",
      "rho                   2000000\n",
      "nvtx                  2000000\n",
      "mass                  2000000\n",
      "weight                2000000\n",
      "Pt                    2000000\n",
      "ScEta                 2000000\n",
      "Phi                   2000000\n",
      "ScEnergy              2000000\n",
      "ScPreshowerEnergy     2000000\n",
      "SigmaRR               2000000\n",
      "PhoIso03              2000000\n",
      "ChIso03               2000000\n",
      "ChIso03worst          2000000\n",
      "PhoIDMVA              2000000\n",
      "R9                    2000000\n",
      "S4                    2000000\n",
      "EtaWidth              2000000\n",
      "PhiWidth              2000000\n",
      "SigmaIeIe             2000000\n",
      "CovarianceIetaIphi    2000000\n",
      "CovarianceIphiIphi    2000000\n",
      "dtype: int64\n"
     ]
    }
   ],
   "source": [
    "# Initialize the quantile regression object for mc\n",
    "qr_mc = quantileRegression(\"mc\")\n",
    "print \"Load the mc dataframe\"\n",
    "startEvt = 0\n",
    "stopEvt   = 2000000\n",
    "qr_mc.loadDFh5(\"/mnt/t3nfs01/data01/shome/giulioisac/dataMC/MTR/df_mc_2000000-4000000.h5\", startEvt, stopEvt)"
   ]
  },
  {
   "cell_type": "code",
   "execution_count": null,
   "metadata": {
    "collapsed": false
   },
   "outputs": [
    {
     "name": "stdout",
     "output_type": "stream",
     "text": [
      "Get the corrected data-mc values\n",
      "Loading corrected targets from :  correctedTargets_EB.h5\n"
     ]
    }
   ],
   "source": [
    "print \"Get the corrected data-mc values\"\n",
    "qr_mc.correctAllY(X, ylist, quantiles, EBEE=\"EB\" )\n",
    "dfmc = qr_mc.getDF()"
   ]
  },
  {
   "cell_type": "code",
   "execution_count": null,
   "metadata": {
    "collapsed": false
   },
   "outputs": [
    {
     "name": "stdout",
     "output_type": "stream",
     "text": [
      "Load the data dataframe\n",
      "Loading dataframe from :  /mnt/t3nfs01/data01/shome/giulioisac/dataMC/MTR/df_data_2000000-5000000.h5\n",
      "\u001b[92mSelecting events \u001b[0m  [ 0 ,  3000000 ]  out of  3000000\n"
     ]
    }
   ],
   "source": [
    "# just need to load the data for plotting \n",
    "qr_data = quantileRegression(\"data\")\n",
    "startEvt = 0\n",
    "stopEvt   = 3000000\n",
    "print \"Load the data dataframe\"\n",
    "qr_data.loadDFh5(\"/mnt/t3nfs01/data01/shome/giulioisac/dataMC/MTR/df_data_2000000-5000000.h5\", startEvt, stopEvt)\n",
    "dfdata = qr_data.getDF()\n",
    "dfdata   = dfdata  .query('-1.4442< ScEta & ScEta <1.4442') "
   ]
  },
  {
   "cell_type": "code",
   "execution_count": null,
   "metadata": {
    "collapsed": false
   },
   "outputs": [],
   "source": [
    "# Some basic plots\n",
    "import matplotlib.pyplot as plt\n",
    "%matplotlib inline\n",
    "# %matplotlib notebook\n",
    "plt.style.use('ggplot')"
   ]
  },
  {
   "cell_type": "code",
   "execution_count": null,
   "metadata": {
    "collapsed": false,
    "scrolled": false
   },
   "outputs": [],
   "source": [
    "print ylist\n",
    "for yvar in ylist:\n",
    "    yvarcorr = yvar+\"_corr\"\n",
    "    print \"plotting \", yvar\n",
    "\n",
    "    rv = []\n",
    "    if yvar == \"R9\":\n",
    "        rv  = np.arange(0.0,1.0,0.001)\n",
    "        rv2 = np.arange(0.8,1.0,0.001)\n",
    "        rv3 = np.arange(0.8,0.95,0.001)\n",
    "    if yvar == \"S4\":\n",
    "        rv  = np.arange(0.0,1.0,0.001)\n",
    "        rv2 = np.arange(0.8,1.0,0.001)\n",
    "    if yvar == \"SigmaIeIe\":\n",
    "        rv = np.arange(0.0,0.015,0.0001)\n",
    "        rv2 = np.arange(0.015,0.030,0.0001)\n",
    "    if yvar == \"EtaWidth\":\n",
    "        rv = np.arange(0.0,0.05,0.0001)\n",
    "        rv2 = np.arange(0.005,0.025,0.0001)\n",
    "    if yvar == \"PhiWidth\":\n",
    "        rv = np.arange(0.0,0.2,0.001)\n",
    "        rv2 = np.arange(0.0,0.05,0.0003)\n",
    "    if yvar == \"CovarianceIphiIphi\":\n",
    "        rv  = np.arange(0.0, 0.02,0.0001)\n",
    "        rv2 = np.arange(0.02, 0.05,0.0005)\n",
    "    if yvar == \"SigmaRR\":\n",
    "        rv = np.arange(1, 12.0,0.1) \n",
    "        rv2 = np.arange(1, 12.0,0.1)\n",
    "    if yvar == \"CovarianceIetaIphi\":\n",
    "        rv = np.arange(-0.0002, 0.0002,0.0000001) \n",
    "        rv2 = np.arange(-0.00005, 0.00005,0.0000001)\n",
    "    if yvar == \"PhoIso03\":\n",
    "        rv = np.arange(-0.05, 0.05,0.0005) \n",
    "        rv2 = np.arange(0.1, 5.0,0.05)\n",
    "    if yvar == \"ChIso03\":\n",
    "        rv = np.arange(-0.05, 0.05,0.0005) \n",
    "        rv2 = np.arange(0.1, 5.,0.05)\n",
    "    if yvar == \"ChIso03worst\":\n",
    "        rv = np.arange(-0.05, 0.05,0.0005) \n",
    "        rv2 = np.arange(0.1, 5.0, 0.05)\n",
    "    \n",
    "    fig = plt.figure()\n",
    "    ax = fig.add_subplot(111)\n",
    "    ax.set_xlabel(yvar)\n",
    "    mc_bins, _edges = np.histogram(dfmc[yvar], rv, normed = 1)\n",
    "    edges = _edges[:len(_edges)-1]\n",
    "    plt.plot(edges,mc_bins,\"g\")\n",
    "    mccorr_bins, _edges = np.histogram(dfmc[yvarcorr], rv, normed = 1)\n",
    "    edges = _edges[:len(_edges)-1]\n",
    "    plt.plot(edges,mccorr_bins,\"b\")\n",
    "    data_bins, _edges = np.histogram(dfdata[yvar], rv, normed = 1)\n",
    "    edges = _edges[:len(_edges)-1]\n",
    "    plt.plot(edges  ,data_bins,\"r\")\n",
    "\n",
    "    fig = plt.figure()\n",
    "    ax = fig.add_subplot(111)\n",
    "    ax.set_xlabel(yvar)\n",
    "    mc_bins, _edges = np.histogram(dfmc[yvar], rv2, normed = 1)\n",
    "    edges = _edges[:len(_edges)-1]\n",
    "    plt.plot(edges,mc_bins,\"g\")\n",
    "    mccorr_bins, _edges = np.histogram(dfmc[yvarcorr], rv2, normed = 1)\n",
    "    edges = _edges[:len(_edges)-1]\n",
    "    plt.plot(edges,mccorr_bins,\"b\")\n",
    "    data_bins, _edges = np.histogram(dfdata[yvar], rv2, normed = 1)\n",
    "    edges = _edges[:len(_edges)-1]\n",
    "    plt.plot(edges  ,data_bins,\"r\")\n",
    "    \n",
    "    \n",
    "    #ratio plot\n",
    "    fig = plt.figure()\n",
    "    ax = fig.add_subplot(111)\n",
    "    ax.set_xlabel(yvar)\n",
    "    mc_bins, _edges = np.histogram(dfmc[yvar], rv3, normed = 1)\n",
    "    edges = _edges[:len(_edges)-1]\n",
    "\n",
    "    mccorr_bins, _edges = np.histogram(dfmc[yvarcorr], rv3, normed = 1)\n",
    "    edges = _edges[:len(_edges)-1]\n",
    "\n",
    "    data_bins, _edges = np.histogram(dfdata[yvar], rv3, normed = 1)\n",
    "    edges = _edges[:len(_edges)-1]\n",
    "    \n",
    "    h1 = data_bins/mc_bins\n",
    "    h2 = data_bins/mccorr_bins\n",
    "    \n",
    "    plt.plot(edges,h1,\"b\")\n",
    "    plt.plot(edges,h2,\"r\")\n"
   ]
  },
  {
   "cell_type": "code",
   "execution_count": null,
   "metadata": {
    "collapsed": false
   },
   "outputs": [],
   "source": [
    "#our variables are dfmc and dfdata, let's work with them.\n",
    "#let's see how the profiles generally are.\n",
    "\n",
    "import pandas as pd\n",
    "from pandas import Series, DataFrame\n",
    "import numpy as np\n",
    "import matplotlib.pyplot as plt\n",
    "\n",
    "def Profile(x,y,nbins,xmin,xmax,ax, color):\n",
    "    df = DataFrame({'x' : x , 'y' : y})\n",
    "    \n",
    "    binedges = xmin + ((xmax-xmin)/nbins) * np.arange(nbins+1)\n",
    "    df['bin'] = np.digitize(df['x'],binedges)\n",
    "\n",
    "    # print df\n",
    "    \n",
    "    bincenters = xmin + ((xmax-xmin)/nbins)*np.arange(nbins) + ((xmax-xmin)/(2*nbins))\n",
    "    # print bincenters\n",
    "    \n",
    "    ProfileFrame = DataFrame({'bincenters' : bincenters, 'N' : df['bin'].value_counts(sort=False)},index=range(1,nbins+1))\n",
    "    # ProfileFrame['N'] = ProfileFrame['N'].fillna(1)\n",
    "    # print ProfileFrame['N']\n",
    "\n",
    "    bins = ProfileFrame.index.values\n",
    "    for bin in bins:\n",
    "        ProfileFrame.ix[bin,'ymean']      = df.ix[df['bin']==bin,'y'].mean()\n",
    "        ProfileFrame.ix[bin,'yStandDev']  = df.ix[df['bin']==bin,'y'].std()\n",
    "        ProfileFrame.ix[bin,'yMeanError'] = ProfileFrame.ix[bin,'yStandDev'] / np.sqrt(ProfileFrame.ix[bin,'N'])\n",
    "\n",
    "    ProfileFrame['ymean']      = ProfileFrame['ymean'].fillna(0)\n",
    "    ProfileFrame['yMeanError'] = ProfileFrame['yMeanError'].fillna(0)\n",
    "    ax.errorbar(ProfileFrame['bincenters'], ProfileFrame['ymean'], yerr=np.array(ProfileFrame['yMeanError']), c=color) #, xerr=(xmax-xmin)/(2*nbins), fmt=None) \n",
    "    #ax.errorbar(ProfileFrame['bincenters'], ProfileFrame['ymean'], c=color) \n",
    "    return ax\n",
    "\n"
   ]
  },
  {
   "cell_type": "code",
   "execution_count": null,
   "metadata": {
    "collapsed": false
   },
   "outputs": [],
   "source": [
    "import matplotlib.pyplot as plt\n",
    "%matplotlib inline\n",
    "# %matplotlib notebook\n",
    "plt.style.use('ggplot')\n",
    "\n",
    "\n",
    "# split profiles in 4 sections in scEta\n",
    "dfmcEB1   = dfmc  .query('-1< ScEta & ScEta <1') # ('abs(ScEta)<1')\n",
    "dfmcEB2   = dfmc  .query('(-1.5< ScEta & ScEta <-1) | (1 < ScEta & ScEta <1.5)') # ('1<abs(ScEta)<1.5')\n",
    "\n",
    "dfmcEE1   = dfmc  .query('(-2< ScEta & ScEta <-1.5) | (1.5 < ScEta & ScEta <2)') # ('1.5<abs(ScEta)<2')\n",
    "dfmcEE2   = dfmc  .query('(-2.5< ScEta & ScEta <-2) | (2 < ScEta & ScEta <2.5)') # ('2<abs(ScEta)<2.5')\n",
    "\n",
    "dfdataEB1   = dfdata  .query('-1< ScEta & ScEta <1') # ('abs(ScEta)<1')\n",
    "dfdataEB2   = dfdata  .query('(-1.5< ScEta & ScEta < -1) | (1 < ScEta & ScEta <1.5)') # ('1<abs(ScEta)<1.5')\n",
    "\n",
    "dfdataEE1   = dfdata  .query('(-2< ScEta & ScEta <-1.5) | (1.5 < ScEta & ScEta <2)') # ('1.5<abs(ScEta)<2')\n",
    "dfdataEE2   = dfdata  .query('(-2.5< ScEta & ScEta <-2) | (2< ScEta & ScEta <2.5)') # ('2<abs(ScEta)<2.5')\n",
    "\n",
    "# split profiles in 4 sections in Pt\n",
    "\n",
    "dfmcPt1   = dfmc  .query('25< Pt & Pt <40') \n",
    "dfmcPt2   = dfmc  .query('40< Pt & Pt <55') \n",
    "dfmcPt3   = dfmc  .query('55< Pt & Pt <70') \n",
    "dfmcPt4   = dfmc  .query('70< Pt & Pt <85') \n",
    "\n",
    "dfdataPt1   = dfdata  .query('25< Pt & Pt <40') \n",
    "dfdataPt2   = dfdata  .query('40< Pt & Pt <55') \n",
    "dfdataPt3   = dfdata  .query('55< Pt & Pt <70') \n",
    "dfdataPt4   = dfdata  .query('70< Pt & Pt <85') \n",
    "\n",
    "# split profiles in 4 sections in Rho\n",
    "dfmcRho1   = dfmc  .query('0< rho & rho <10')\n",
    "dfmcRho2   = dfmc  .query('10< rho & rho <20')\n",
    "dfmcRho3   = dfmc  .query('20< rho & rho <30')\n",
    "dfmcRho4   = dfmc  .query('30< rho & rho <40')\n",
    "\n",
    "dfdataRho1   = dfdata  .query('0< rho & rho <10')\n",
    "dfdataRho2   = dfdata  .query('10< rho & rho <20')\n",
    "dfdataRho3   = dfdata  .query('20< rho & rho <30')\n",
    "dfdataRho4   = dfdata  .query('30< rho & rho <40')\n",
    "\n",
    "\n",
    "for yvar in [\"R9\"]:#, \"S4\", \"SigmaIeIe\", \"EtaWidth\"]:\n",
    "    yvarcorr = yvar+\"_corr\"\n",
    "    print \"plotting \", yvar\n",
    "\n",
    "    if yvar == \"R9\":\n",
    "        minEB, maxEB = 0.7, 0.9\n",
    "        minEE, maxEE = 0.7, 0.9\n",
    "    \n",
    "\n",
    "    fig = plt.figure(figsize=(8, 6))\n",
    "    ax = fig.add_subplot(111)\n",
    "    ax.set_ylim(minEB,maxEB)\n",
    "    ax.set_xlabel('ScEta')\n",
    "    ax.set_ylabel(yvar)\n",
    "    \n",
    "   # ax.axvline(x=1)\n",
    "   # ax.axvline(x=-1)\n",
    "   # ax.axvline(x=1.5)\n",
    "   # ax.axvline(x=-1.5)\n",
    "   # ax.axvline(x=2)\n",
    "   # ax.axvline(x=-2)\n",
    "    \n",
    "    Profile(dfmcEB1['ScEta']  , dfmcEB1[yvar]        ,100,-2.5,2.5,ax,'green')\n",
    "    Profile(dfdataEB1['ScEta'], dfdataEB1[yvar]      ,100,-2.5,2.5,ax, 'red')\n",
    "    Profile(dfmcEB1['ScEta']  , dfmcEB1[yvar+'_corr'],100,-2.5,2.5,ax, 'blue')\n",
    "      \n",
    "    Profile(dfmcEB2['ScEta']  , dfmcEB2[yvar]        ,100,-2.5,2.5,ax,'green')\n",
    "    Profile(dfdataEB2['ScEta'], dfdataEB2[yvar]      ,100,-2.5,2.5,ax, 'red')\n",
    "    Profile(dfmcEB2['ScEta']  , dfmcEB2[yvar+'_corr'],100,-2.5,2.5,ax, 'blue')\n",
    "\n",
    "    Profile(dfmcEE1['ScEta']  , dfmcEE1[yvar]        ,100,-2.5,2.5,ax,'green')\n",
    "    Profile(dfdataEE1['ScEta'], dfdataEE1[yvar]      ,100,-2.5,2.5,ax, 'red')\n",
    "    Profile(dfmcEE1['ScEta']  , dfmcEE1[yvar+'_corr'],100,-2.5,2.5,ax, 'blue')\n",
    "    \n",
    "    Profile(dfmcEE2['ScEta']  , dfmcEE2[yvar]        ,100,-2.5,2.5,ax,'green')\n",
    "    Profile(dfdataEE2['ScEta'], dfdataEE2[yvar]      ,100,-2.5,2.5,ax, 'red')\n",
    "    Profile(dfmcEE2['ScEta']  , dfmcEE2[yvar+'_corr'],100,-2.5,2.5,ax, 'blue')\n",
    "\n",
    "   \n",
    "    fig = plt.figure(figsize=(8, 6))\n",
    "    ax = fig.add_subplot(111)\n",
    "    ax.set_ylim(minEB,maxEB)\n",
    "    ax.set_xlabel('Pt')\n",
    "    ax.set_ylabel(yvar)\n",
    "    \n",
    "    ax.axvline(x=40)\n",
    "    ax.axvline(x=55)\n",
    "    ax.axvline(x=70)\n",
    "    \n",
    "    Profile(dfmcPt1['Pt']  , dfmcPt1[yvar]        ,100,20.,90.,ax, 'green')\n",
    "    Profile(dfdataPt1['Pt'], dfdataPt1[yvar]      ,100,20.,90.,ax, 'red')\n",
    "    Profile(dfmcPt1['Pt']  , dfmcPt1[yvar+'_corr'],100,20.,90.,ax, 'blue')\n",
    "\n",
    "    Profile(dfmcPt2['Pt']  , dfmcPt2[yvar]        ,100,20.,90.,ax, 'green')\n",
    "    Profile(dfdataPt2['Pt'], dfdataPt2[yvar]      ,100,20.,90.,ax, 'red')\n",
    "    Profile(dfmcPt2['Pt']  , dfmcPt2[yvar+'_corr'],100,20.,90.,ax, 'blue')\n",
    "    \n",
    "    Profile(dfmcPt3['Pt']  , dfmcPt3[yvar]        ,100,20.,90.,ax, 'green')\n",
    "    Profile(dfdataPt3['Pt'], dfdataPt3[yvar]      ,100,20.,90.,ax, 'red')\n",
    "    Profile(dfmcPt3['Pt']  , dfmcPt3[yvar+'_corr'],100,20.,90.,ax, 'blue')\n",
    "    \n",
    "    Profile(dfmcPt4['Pt']  , dfmcPt4[yvar]        ,100,20.,90.,ax, 'green')\n",
    "    Profile(dfdataPt4['Pt'], dfdataPt4[yvar]      ,100,20.,90.,ax, 'red')\n",
    "    Profile(dfmcPt4['Pt']  , dfmcPt4[yvar+'_corr'],100,20.,90.,ax, 'blue')\n",
    "\n",
    "\n",
    "    fig = plt.figure(figsize=(8, 6))\n",
    "    ax = fig.add_subplot(111)\n",
    "    ax.set_ylim(minEB,maxEB)\n",
    "    ax.set_xlabel('rho')\n",
    "    ax.set_ylabel(yvar)\n",
    "    \n",
    "    ax.axvline(x=10)\n",
    "    ax.axvline(x=20)\n",
    "    ax.axvline(x=30)\n",
    "    \n",
    "    Profile(dfmcRho1['rho']  , dfmcRho1[yvar]        ,100,0.,40.,ax, 'green')\n",
    "    Profile(dfdataRho1['rho'], dfdataRho1[yvar]      ,100,0.,40.,ax, 'red')\n",
    "    Profile(dfmcRho1['rho']  , dfmcRho1[yvar+'_corr'],100,0.,40.,ax, 'blue')\n",
    "    \n",
    "    Profile(dfmcRho2['rho']  , dfmcRho2[yvar]        ,100,0.,40.,ax, 'green')\n",
    "    Profile(dfdataRho2['rho'], dfdataRho2[yvar]      ,100,0.,40.,ax, 'red')\n",
    "    Profile(dfmcRho2['rho']  , dfmcRho2[yvar+'_corr'],100,0.,40.,ax, 'blue')\n",
    "    \n",
    "    Profile(dfmcRho3['rho']  , dfmcRho3[yvar]        ,100,0.,40.,ax, 'green')\n",
    "    Profile(dfdataRho3['rho'], dfdataRho3[yvar]      ,100,0.,40.,ax, 'red')\n",
    "    Profile(dfmcRho3['rho']  , dfmcRho3[yvar+'_corr'],100,0.,40.,ax, 'blue')\n",
    "    \n",
    "    Profile(dfmcRho4['rho']  , dfmcRho4[yvar]        ,100,0.,40.,ax, 'green')\n",
    "    Profile(dfdataRho4['rho'], dfdataRho4[yvar]      ,100,0.,40.,ax, 'red')\n",
    "    Profile(dfmcRho4['rho']  , dfmcRho4[yvar+'_corr'],100,0.,40.,ax, 'blue')\n"
   ]
  },
  {
   "cell_type": "code",
   "execution_count": null,
   "metadata": {
    "collapsed": true
   },
   "outputs": [],
   "source": []
  }
 ],
 "metadata": {
  "anaconda-cloud": {},
  "kernelspec": {
   "display_name": "Python [default]",
   "language": "python",
   "name": "python2"
  },
  "language_info": {
   "codemirror_mode": {
    "name": "ipython",
    "version": 2
   },
   "file_extension": ".py",
   "mimetype": "text/x-python",
   "name": "python",
   "nbconvert_exporter": "python",
   "pygments_lexer": "ipython2",
   "version": "2.7.12"
  }
 },
 "nbformat": 4,
 "nbformat_minor": 0
}
