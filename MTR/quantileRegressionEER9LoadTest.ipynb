{
 "cells": [
  {
   "cell_type": "code",
   "execution_count": 1,
   "metadata": {
    "collapsed": false
   },
   "outputs": [
    {
     "data": {
      "application/javascript": [
       "require(['codemirror/mode/clike/clike'], function(Clike) { console.log('ROOTaaS - C++ CodeMirror module loaded'); });"
      ]
     },
     "metadata": {},
     "output_type": "display_data"
    },
    {
     "data": {
      "application/javascript": [
       "IPython.CodeCell.config_defaults.highlight_modes['magic_text/x-c++src'] = {'reg':[/^%%cpp/]};"
      ]
     },
     "metadata": {},
     "output_type": "display_data"
    },
    {
     "name": "stdout",
     "output_type": "stream",
     "text": [
      "Welcome to ROOTaaS 6.06/08\n"
     ]
    }
   ],
   "source": [
    "from quantileRegression import quantileRegression\n",
    "import numpy as np\n",
    "import runNumbers as rn"
   ]
  },
  {
   "cell_type": "code",
   "execution_count": 2,
   "metadata": {
    "collapsed": false
   },
   "outputs": [],
   "source": [
    "# Variable you want to correct\n",
    "ylist = [\"R9\"]#, \"S4\", \"SigmaIeIe\", \"EtaWidth\", \"PhiWidth\", \"CovarianceIphiIphi\", \"SigmaRR\", 'CovarianceIetaIphi', 'PhoIso03', 'ChIso03', 'ChIso03worst']\n",
    "# Input variables used for the regression\n",
    "X = ['Pt', 'ScEta', 'Phi', 'rho']  # <<-- list\n",
    "# Set the quantiles \n",
    "quantiles = [ 0.1, 0.2, 0.3, 0.4, 0.5, 0.6, 0.7, 0.8, 0.9 ]"
   ]
  },
  {
   "cell_type": "code",
   "execution_count": 3,
   "metadata": {
    "collapsed": false,
    "scrolled": false
   },
   "outputs": [
    {
     "name": "stdout",
     "output_type": "stream",
     "text": [
      "Load the mc dataframe\n",
      "Load the mc dataframe\n",
      "NT branches: \n",
      "['run', 'rho', 'nvtx', 'mass', 'weight', 'leadEleMatch', 'subleadEleMatch', 'leadPt', 'leadScEta', 'leadPhi', 'leadScEnergy', 'leadScPreshowerEnergy', 'leadSigmaRR', 'leadPhoIso03', 'leadChIso03', 'leadChIso03worst', 'leadPhoIDMVA', 'leadR9', 'leadS4', 'leadEtaWidth', 'leadPhiWidth', 'leadSigmaIeIe', 'leadCovarianceIetaIphi', 'leadCovarianceIphiIphi', 'subleadPt', 'subleadScEta', 'subleadPhi', 'subleadScEnergy', 'subleadScPreshowerEnergy', 'subleadSigmaRR', 'subleadPhoIso03', 'subleadChIso03', 'subleadChIso03worst', 'subLeadPhoIDMVA', 'subleadR9', 'subleadS4', 'subleadEtaWidth', 'subleadPhiWidth', 'subleadSigmaIeIe', 'subleadCovarianceIetaIphi', 'subleadCovarianceIphiIphi']\n",
      "trees:  ['cicNoSigmaIetaIeta/trees/DYJetsToLL_13TeV_EBHighR9', 'cicNoSigmaIetaIeta/trees/DYJetsToLL_13TeV_EBLowR9', 'cicNoSigmaIetaIeta/trees/DYJetsToLL_13TeV_EEHighR9', 'cicNoSigmaIetaIeta/trees/DYJetsToLL_13TeV_EELowR9']\n",
      "Adding trees into a DataFrame\n",
      "  adding  cicNoSigmaIetaIeta/trees/DYJetsToLL_13TeV_EBHighR9\n",
      "  adding  cicNoSigmaIetaIeta/trees/DYJetsToLL_13TeV_EBLowR9\n",
      "  adding  cicNoSigmaIetaIeta/trees/DYJetsToLL_13TeV_EEHighR9\n",
      "  adding  cicNoSigmaIetaIeta/trees/DYJetsToLL_13TeV_EELowR9\n",
      "number of events: 7073020\n",
      "# lead eleMatch    =  6081954\n",
      "# sublead eleMatch =  5528292\n",
      "MC Sublead\n",
      "lead size:  6081954\n",
      "MC Lead\n",
      "sublead size:  5528292\n",
      "Count final dataset\n",
      "11610246\n",
      "Index([u'index', u'run', u'rho', u'nvtx', u'mass', u'weight', u'Pt', u'ScEta',\n",
      "       u'Phi', u'ScEnergy', u'ScPreshowerEnergy', u'SigmaRR', u'PhoIso03',\n",
      "       u'ChIso03', u'ChIso03worst', u'PhoIDMVA', u'R9', u'S4', u'EtaWidth',\n",
      "       u'PhiWidth', u'SigmaIeIe', u'CovarianceIetaIphi',\n",
      "       u'CovarianceIphiIphi'],\n",
      "      dtype='object')\n",
      "\u001b[92mApply basic selection\u001b[0m\n",
      " ptmin  =  25.0 \n",
      " ptmax  =  150.0  \n",
      " etamin =  -2.5  \n",
      " etamax =  2.5  \n",
      " phimin =  -3.14  \n",
      " phimax =  3.14\n",
      "\u001b[92mReshuffle events\u001b[0m rndm seed  =  12345\n",
      "\u001b[92mSelecting events \u001b[0m  [ 0 ,  2000000 ]  out of  11554791\n",
      "DataFrame size =  2000000\n",
      "NT branches: \n",
      "['run', 'rho', 'nvtx', 'mass', 'weight', 'leadEleMatch', 'subleadEleMatch', 'leadPt', 'leadScEta', 'leadPhi', 'leadScEnergy', 'leadScPreshowerEnergy', 'leadSigmaRR', 'leadPhoIso03', 'leadChIso03', 'leadChIso03worst', 'leadPhoIDMVA', 'leadR9', 'leadS4', 'leadEtaWidth', 'leadPhiWidth', 'leadSigmaIeIe', 'leadCovarianceIetaIphi', 'leadCovarianceIphiIphi', 'subleadPt', 'subleadScEta', 'subleadPhi', 'subleadScEnergy', 'subleadScPreshowerEnergy', 'subleadSigmaRR', 'subleadPhoIso03', 'subleadChIso03', 'subleadChIso03worst', 'subLeadPhoIDMVA', 'subleadR9', 'subleadS4', 'subleadEtaWidth', 'subleadPhiWidth', 'subleadSigmaIeIe', 'subleadCovarianceIetaIphi', 'subleadCovarianceIphiIphi']\n",
      "trees:  ['cicNoSigmaIetaIeta/trees/DYJetsToLL_13TeV_EBHighR9', 'cicNoSigmaIetaIeta/trees/DYJetsToLL_13TeV_EBLowR9', 'cicNoSigmaIetaIeta/trees/DYJetsToLL_13TeV_EEHighR9', 'cicNoSigmaIetaIeta/trees/DYJetsToLL_13TeV_EELowR9']\n",
      "Adding trees into a DataFrame\n",
      "  adding  cicNoSigmaIetaIeta/trees/DYJetsToLL_13TeV_EBHighR9\n",
      "  adding  cicNoSigmaIetaIeta/trees/DYJetsToLL_13TeV_EBLowR9\n",
      "  adding  cicNoSigmaIetaIeta/trees/DYJetsToLL_13TeV_EEHighR9\n",
      "  adding  cicNoSigmaIetaIeta/trees/DYJetsToLL_13TeV_EELowR9\n",
      "number of events: 7073020\n",
      "# lead eleMatch    =  6081954\n",
      "# sublead eleMatch =  5528292\n",
      "MC Sublead\n",
      "lead size:  6081954\n",
      "MC Lead\n",
      "sublead size:  5528292\n",
      "Count final dataset\n",
      "11610246\n",
      "Index([u'index', u'run', u'rho', u'nvtx', u'mass', u'weight', u'Pt', u'ScEta',\n",
      "       u'Phi', u'ScEnergy', u'ScPreshowerEnergy', u'SigmaRR', u'PhoIso03',\n",
      "       u'ChIso03', u'ChIso03worst', u'PhoIDMVA', u'R9', u'S4', u'EtaWidth',\n",
      "       u'PhiWidth', u'SigmaIeIe', u'CovarianceIetaIphi',\n",
      "       u'CovarianceIphiIphi'],\n",
      "      dtype='object')\n",
      "\u001b[92mApply basic selection\u001b[0m\n",
      " ptmin  =  25.0 \n",
      " ptmax  =  150.0  \n",
      " etamin =  -2.5  \n",
      " etamax =  2.5  \n",
      " phimin =  -3.14  \n",
      " phimax =  3.14\n",
      "\u001b[92mReshuffle events\u001b[0m rndm seed  =  12345\n",
      "\u001b[92mSelecting events \u001b[0m  [ 0 ,  2000000 ]  out of  11554791\n",
      "DataFrame size =  2000000\n"
     ]
    }
   ],
   "source": [
    "# Initialize the quantile regression object for mc\n",
    "qr_mc_NoWeights= quantileRegression(\"mc\")\n",
    "qr_mc_AbsWeights= quantileRegression(\"mc\")\n",
    "qr_mc_ConWeights= quantileRegression(\"mc\")\n",
    "qr_mc_NoNegWeights= quantileRegression(\"mc\")\n",
    "\n",
    "print \"Load the mc dataframe\"\n",
    "startEvtmc = 0\n",
    "stopEvtmc   = 2000000\n",
    "print \"Load the mc dataframe\"\n",
    "qr_mc_NoWeights.loadDF(\"/mnt/t3nfs01/data01/shome/mdonega/lxplus/work/CMSSW_8_0_26_patch1/src/diphotons/Analysis/macros/double_ele_v9_moriond17_mc/\",\n",
    "             \"cicNoSigmaIetaIeta/trees/\",\n",
    "             [\"DYJetsToLL_13TeV_EBHighR9\", \"DYJetsToLL_13TeV_EBLowR9\", \"DYJetsToLL_13TeV_EEHighR9\", \"DYJetsToLL_13TeV_EELowR9\" ],\n",
    "             startEvtmc, stopEvtmc, 12345)\n",
    "qr_mc_ConWeights.loadDF(\"/mnt/t3nfs01/data01/shome/mdonega/lxplus/work/CMSSW_8_0_26_patch1/src/diphotons/Analysis/macros/double_ele_v9_moriond17_mc/\",\n",
    "             \"cicNoSigmaIetaIeta/trees/\",\n",
    "             [\"DYJetsToLL_13TeV_EBHighR9\", \"DYJetsToLL_13TeV_EBLowR9\", \"DYJetsToLL_13TeV_EEHighR9\", \"DYJetsToLL_13TeV_EELowR9\" ],\n",
    "             startEvtmc, stopEvtmc, 12345)"
   ]
  },
  {
   "cell_type": "code",
   "execution_count": 4,
   "metadata": {
    "collapsed": false
   },
   "outputs": [
    {
     "name": "stdout",
     "output_type": "stream",
     "text": [
      "Get the corrected data-mc values\n",
      "Corrected variables file (e.g.  correctedTargetsweights_NoWeights_EE.h5  ) does not exists. This will take a while...\n",
      "Correct EE :\n",
      "ScEta  <  -1.57  or  1.57  <  ScEta\n",
      "Loading mc weights for  R9  : \n",
      "    ./weights/weights_NoWeights/mc_weights_EE\n",
      "Loading data weights for  R9\n",
      "    ./weights/weights_NoWeights/data_weights_EE\n",
      "Get corrections for  R9  with quantiles  [0.1, 0.2, 0.3, 0.4, 0.5, 0.6, 0.7, 0.8, 0.9]\n",
      "Features: X =  ['Pt', 'ScEta', 'Phi', 'rho']  target y =  R9\n",
      "Writing correctedTargets_ EE .h5\n",
      "Corrected variables file (e.g.  correctedTargetsweights_ConWeights_EE.h5  ) does not exists. This will take a while...\n",
      "Correct EE :\n",
      "ScEta  <  -1.57  or  1.57  <  ScEta\n",
      "Loading mc weights for  R9  : \n",
      "    ./weights/weights_ConWeights/mc_weights_EE\n",
      "Loading data weights for  R9\n",
      "    ./weights/weights_ConWeights/data_weights_EE\n",
      "Get corrections for  R9  with quantiles  [0.1, 0.2, 0.3, 0.4, 0.5, 0.6, 0.7, 0.8, 0.9]\n",
      "Features: X =  ['Pt', 'ScEta', 'Phi', 'rho']  target y =  R9\n",
      "Writing correctedTargets_ EE .h5\n"
     ]
    }
   ],
   "source": [
    "print \"Get the corrected data-mc values\"\n",
    "\n",
    "qr_mc_NoWeights.correctAllY(X, ylist, quantiles, EBEE=\"EE\",relativePath= \"weights_NoWeights\")\n",
    "\n",
    "qr_mc_ConWeights.correctAllY(X, ylist, quantiles, EBEE=\"EE\",relativePath= \"weights_ConWeights\")\n",
    "\n",
    "\n",
    "dfmc_NoWeights= qr_mc_NoWeights.getDF()\n",
    "\n",
    "dfmc_ConWeights= qr_mc_ConWeights.getDF()\n",
    "\n"
   ]
  },
  {
   "cell_type": "code",
   "execution_count": null,
   "metadata": {
    "collapsed": false
   },
   "outputs": [
    {
     "name": "stdout",
     "output_type": "stream",
     "text": [
      "Load the data dataframe\n",
      "NT branches: \n",
      "['run', 'rho', 'nvtx', 'mass', 'weight', 'leadHLT_Ele27_WPTight_Gsf_vMatch', 'subleadHLT_Ele27_WPTight_Gsf_vMatch', 'leadEleMatch', 'subleadEleMatch', 'leadPt', 'leadScEta', 'leadPhi', 'leadScEnergy', 'leadScPreshowerEnergy', 'leadSigmaRR', 'leadPhoIso03', 'leadChIso03', 'leadChIso03worst', 'leadPhoIDMVA', 'leadR9', 'leadS4', 'leadEtaWidth', 'leadPhiWidth', 'leadSigmaIeIe', 'leadCovarianceIetaIphi', 'leadCovarianceIphiIphi', 'subleadPt', 'subleadScEta', 'subleadPhi', 'subleadScEnergy', 'subleadScPreshowerEnergy', 'subleadSigmaRR', 'subleadPhoIso03', 'subleadChIso03', 'subleadChIso03worst', 'subLeadPhoIDMVA', 'subleadR9', 'subleadS4', 'subleadEtaWidth', 'subleadPhiWidth', 'subleadSigmaIeIe', 'subleadCovarianceIetaIphi', 'subleadCovarianceIphiIphi']\n",
      "trees:  ['cicNoSigmaIetaIeta/trees/Data_13TeV_EBHighR9', 'cicNoSigmaIetaIeta/trees/Data_13TeV_EBLowR9', 'cicNoSigmaIetaIeta/trees/Data_13TeV_EEHighR9', 'cicNoSigmaIetaIeta/trees/Data_13TeV_EELowR9']\n",
      "Adding trees into a DataFrame\n",
      "  adding  cicNoSigmaIetaIeta/trees/Data_13TeV_EBHighR9\n",
      "  adding  cicNoSigmaIetaIeta/trees/Data_13TeV_EBLowR9\n",
      "  adding  cicNoSigmaIetaIeta/trees/Data_13TeV_EEHighR9\n",
      "  adding  cicNoSigmaIetaIeta/trees/Data_13TeV_EELowR9\n",
      "number of events: 15355385\n",
      "Count df\n",
      "# lead eleMatch    =  4694664\n",
      "# sublead eleMatch =  4137321\n",
      "# lead trig   =  4572255\n",
      "# sublead trg =  3643861\n",
      "# lead trig and eleMatch    =  4328314\n",
      "# sublead trig and eleMatch =  3371474\n",
      "evtbranches ['run', 'rho', 'nvtx', 'mass', 'weight']\n",
      "unif ['run', 'rho', 'nvtx', 'mass', 'weight', 'Pt', 'ScEta', 'Phi', 'ScEnergy', 'ScPreshowerEnergy', 'SigmaRR', 'PhoIso03', 'ChIso03', 'ChIso03worst', 'PhoIDMVA', 'R9', 'S4', 'EtaWidth', 'PhiWidth', 'SigmaIeIe', 'CovarianceIetaIphi', 'CovarianceIphiIphi']\n",
      "Data Sublead\n",
      "Index([u'run', u'rho', u'nvtx', u'mass', u'weight', u'subleadPt',\n",
      "       u'subleadScEta', u'subleadPhi', u'subleadScEnergy',\n",
      "       u'subleadScPreshowerEnergy', u'subleadSigmaRR', u'subleadPhoIso03',\n",
      "       u'subleadChIso03', u'subleadChIso03worst', u'subLeadPhoIDMVA',\n",
      "       u'subleadR9', u'subleadS4', u'subleadEtaWidth', u'subleadPhiWidth',\n",
      "       u'subleadSigmaIeIe', u'subleadCovarianceIetaIphi',\n",
      "       u'subleadCovarianceIphiIphi'],\n",
      "      dtype='object')\n",
      "lead size:  4328314\n",
      "Data Lead\n",
      "sublead size:  3371474\n",
      "Count final dataset\n",
      "7699788\n",
      "Index([u'index', u'run', u'rho', u'nvtx', u'mass', u'weight', u'Pt', u'ScEta',\n",
      "       u'Phi', u'ScEnergy', u'ScPreshowerEnergy', u'SigmaRR', u'PhoIso03',\n",
      "       u'ChIso03', u'ChIso03worst', u'PhoIDMVA', u'R9', u'S4', u'EtaWidth',\n",
      "       u'PhiWidth', u'SigmaIeIe', u'CovarianceIetaIphi',\n",
      "       u'CovarianceIphiIphi'],\n",
      "      dtype='object')\n"
     ]
    }
   ],
   "source": [
    "# just need to load the data for plotting \n",
    "qr_data = quantileRegression(\"data\")\n",
    "startEvtdata = 0\n",
    "stopEvtdata   = 2000000\n",
    "print \"Load the data dataframe\"\n",
    "qr_data.loadDF(\" /mnt/t3nfs01/data01/shome/mdonega/lxplus/work/CMSSW_8_0_26_patch1/src/diphotons/Analysis/macros/double_ele_v9_moriond17_data/\",\n",
    "               \"cicNoSigmaIetaIeta/trees/\",\n",
    "               [\"Data_13TeV_EBHighR9\", \"Data_13TeV_EBLowR9\", \"Data_13TeV_EEHighR9\", \"Data_13TeV_EELowR9\" ],\n",
    "               startEvtdata, stopEvtdata, rn.run2016B[0],rn.run2016D[1])\n",
    "#select only EE\n",
    "qr_data.applyCutsToDF('ScEta', -1.57, 1.57, 'outside')\n",
    "dfdata = qr_data.getDF()"
   ]
  },
  {
   "cell_type": "code",
   "execution_count": null,
   "metadata": {
    "collapsed": false
   },
   "outputs": [],
   "source": [
    "# Some basic plots\n",
    "import matplotlib.pyplot as plt\n",
    "%matplotlib inline\n",
    "# %matplotlib notebook\n",
    "plt.style.use('ggplot')"
   ]
  },
  {
   "cell_type": "code",
   "execution_count": null,
   "metadata": {
    "collapsed": false,
    "scrolled": false
   },
   "outputs": [],
   "source": [
    "print ylist\n",
    "for yvar in ylist:\n",
    "    yvarcorr = yvar+\"_corr\"\n",
    "    print \"plotting \", yvar\n",
    "\n",
    "    rv = []\n",
    "    if yvar == \"R9\":\n",
    "        rv  = np.arange(0.0,1.0,0.001)\n",
    "        rv2 = np.arange(0.7,1.0,0.002)\n",
    "        rv3 = np.arange(0.8,0.95,0.008)\n",
    "        \n",
    "    if yvar == \"S4\":\n",
    "        rv  = np.arange(0.0,1.0,0.001)\n",
    "        rv2 = np.arange(0.8,1.0,0.001)\n",
    "    if yvar == \"SigmaIeIe\":\n",
    "        rv = np.arange(0.0,0.015,0.0001)\n",
    "        rv2 = np.arange(0.015,0.030,0.0001)\n",
    "    if yvar == \"EtaWidth\":\n",
    "        rv = np.arange(0.0,0.05,0.0001)\n",
    "        rv2 = np.arange(0.005,0.025,0.0001)\n",
    "    if yvar == \"PhiWidth\":\n",
    "        rv = np.arange(0.0,0.2,0.001)\n",
    "        rv2 = np.arange(0.0,0.05,0.0003)\n",
    "    if yvar == \"CovarianceIphiIphi\":\n",
    "        rv  = np.arange(0.0, 0.02,0.0001)\n",
    "        rv2 = np.arange(0.02, 0.05,0.0005)\n",
    "    if yvar == \"SigmaRR\":\n",
    "        rv = np.arange(1, 12.0,0.1) \n",
    "        rv2 = np.arange(1, 12.0,0.1)\n",
    "    if yvar == \"CovarianceIetaIphi\":\n",
    "        rv = np.arange(-0.0002, 0.0002,0.0000001) \n",
    "        rv2 = np.arange(-0.00005, 0.00005,0.0000001)\n",
    "    if yvar == \"PhoIso03\":\n",
    "        rv = np.arange(-0.05, 0.05,0.0005) \n",
    "        rv2 = np.arange(0.1, 5.0,0.05)\n",
    "    if yvar == \"ChIso03\":\n",
    "        rv = np.arange(-0.05, 0.05,0.0005) \n",
    "        rv2 = np.arange(0.1, 5.,0.05)\n",
    "    if yvar == \"ChIso03worst\":\n",
    "        rv = np.arange(-0.05, 0.05,0.0005) \n",
    "        rv2 = np.arange(0.1, 5.0, 0.05)\n",
    "\n",
    "    fig = plt.figure()\n",
    "    ax = fig.add_subplot(111)\n",
    "    ax.set_xlabel(yvar)\n",
    "    mc_bins, _edges = np.histogram(dfmc_NoWeights[yvar], rv2, normed = 1)\n",
    "    edges = _edges[:len(_edges)-1]\n",
    "    plt.plot(edges,mc_bins,\"g\")\n",
    "    mccorr_bins, _edges = np.histogram(dfmc_NoWeights[yvarcorr], rv2, normed = 1)\n",
    "    edges = _edges[:len(_edges)-1]\n",
    "    plt.plot(edges  ,mccorr_bins,\"b\")\n",
    "    data_bins, _edges = np.histogram(dfdata[yvar], rv2, normed = 1)\n",
    "    edges = _edges[:len(_edges)-1]\n",
    "    plt.plot(edges  ,data_bins,\"r\")\n",
    "    ax.set_title('No Weights')\n",
    "    \n",
    "    fig = plt.figure()\n",
    "    ax = fig.add_subplot(111)\n",
    "    ax.set_xlabel(yvar)\n",
    "    mc_bins, _edges = np.histogram(dfmc_ConWeights[yvar], rv2, normed = 1, weights=dfmc_ConWeights[\"weight\"])\n",
    "    edges = _edges[:len(_edges)-1]\n",
    "    plt.plot(edges,mc_bins,\"g\")\n",
    "    mccorr_bins, _edges = np.histogram(dfmc_ConWeights[yvarcorr], rv2, normed = 1, weights=dfmc_ConWeights[\"weight\"])\n",
    "    edges = _edges[:len(_edges)-1]\n",
    "    plt.plot(edges  ,mccorr_bins,\"b\")\n",
    "    data_bins, _edges = np.histogram(dfdata[yvar], rv2, normed = 1,weights=dfdata[\"weight\"])\n",
    "    edges = _edges[:len(_edges)-1]\n",
    "    plt.plot(edges  ,data_bins,\"r\")\n",
    "    ax.set_title('Con Weights')"
   ]
  },
  {
   "cell_type": "code",
   "execution_count": null,
   "metadata": {
    "collapsed": false
   },
   "outputs": [],
   "source": [
    "#ratio plots\n",
    "print ylist\n",
    "for yvar in ylist:\n",
    "    yvarcorr = yvar+\"_corr\"\n",
    "    print \"plotting \", yvar\n",
    "\n",
    "    rv = []\n",
    "    if yvar == \"R9\":\n",
    "        rv  = np.arange(0.0,1.0,0.001)\n",
    "        rv2 = np.arange(0.7,1.0,0.002)\n",
    "        rv3 = np.arange(0.8,0.95,0.008)\n",
    "    fig = plt.figure()\n",
    "    ax = fig.add_subplot(111)\n",
    "    ax.set_xlabel(yvar)\n",
    "    mc_bins, _edges = np.histogram(dfmc_NoWeights[yvar], rv3, normed = 1)\n",
    "    edges = _edges[:len(_edges)-1]\n",
    "\n",
    "    mccorr_bins, _edges = np.histogram(dfmc_NoWeights[yvarcorr], rv3, normed = 1)\n",
    "    edges = _edges[:len(_edges)-1]\n",
    "\n",
    "    data_bins, _edges = np.histogram(dfdata[yvar], rv3, normed = 1)\n",
    "    edges = _edges[:len(_edges)-1]\n",
    "    \n",
    " \n",
    "    \n",
    "    h1 = data_bins/mc_bins\n",
    "    h2 = data_bins/mccorr_bins\n",
    "    \n",
    "    plt.plot(edges,h1,\"g\")# uncorrected\n",
    "    plt.plot(edges,h2,\"b\")#corrected\n",
    "    ax.set_title('No Weights')\n",
    "    \n",
    "    #ratio plot\n",
    "    fig = plt.figure()\n",
    "    ax = fig.add_subplot(111)\n",
    "    ax.set_xlabel(yvar)\n",
    "    mc_bins, _edges = np.histogram(dfmc_ConWeights[yvar], rv3, normed = 1, weights=dfmc_ConWeights[\"weight\"])\n",
    "    edges = _edges[:len(_edges)-1]\n",
    "\n",
    "    mccorr_bins, _edges = np.histogram(dfmc_ConWeights[yvarcorr], rv3, normed = 1, weights=dfmc_ConWeights[\"weight\"])\n",
    "    edges = _edges[:len(_edges)-1]\n",
    "\n",
    "    data_bins, _edges = np.histogram(dfdata[yvar], rv3, normed = 1, weights=dfdata[\"weight\"])\n",
    "    edges = _edges[:len(_edges)-1]\n",
    "    \n",
    " \n",
    "    \n",
    "    h1 = data_bins/mc_bins\n",
    "    h2 = data_bins/mccorr_bins\n",
    "    \n",
    "    plt.plot(edges,h1,\"g\")# uncorrected\n",
    "    plt.plot(edges,h2,\"b\")#corrected\n",
    "    ax.set_title('Con Weights')\n"
   ]
  }
 ],
 "metadata": {
  "anaconda-cloud": {},
  "kernelspec": {
   "display_name": "Python [default]",
   "language": "python",
   "name": "python2"
  },
  "language_info": {
   "codemirror_mode": {
    "name": "ipython",
    "version": 2
   },
   "file_extension": ".py",
   "mimetype": "text/x-python",
   "name": "python",
   "nbconvert_exporter": "python",
   "pygments_lexer": "ipython2",
   "version": "2.7.12"
  }
 },
 "nbformat": 4,
 "nbformat_minor": 0
}
