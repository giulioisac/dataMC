{
 "cells": [
  {
   "cell_type": "code",
   "execution_count": 1,
   "metadata": {
    "collapsed": false
   },
   "outputs": [
    {
     "data": {
      "application/javascript": [
       "require(['codemirror/mode/clike/clike'], function(Clike) { console.log('ROOTaaS - C++ CodeMirror module loaded'); });"
      ]
     },
     "metadata": {},
     "output_type": "display_data"
    },
    {
     "data": {
      "application/javascript": [
       "IPython.CodeCell.config_defaults.highlight_modes['magic_text/x-c++src'] = {'reg':[/^%%cpp/]};"
      ]
     },
     "metadata": {},
     "output_type": "display_data"
    },
    {
     "name": "stdout",
     "output_type": "stream",
     "text": [
      "Welcome to ROOTaaS 6.06/02\n"
     ]
    }
   ],
   "source": [
    "from quantileRegression import quantileRegression\n",
    "import pandas as pd\n",
    "import numpy as np\n",
    "import sys\n",
    "\n",
    "class mycolors:\n",
    "   red = '\\033[91m'\n",
    "   green = '\\033[92m'\n",
    "   blue = '\\033[94m'\n",
    "   yan = '\\033[96m'\n",
    "   cWhite = '\\033[97m'\n",
    "   yellow = '\\033[93m'\n",
    "   magenta = '\\033[95m'\n",
    "   grey = '\\033[90m'\n",
    "   black = '\\033[90m'\n",
    "   default = '\\033[0m'"
   ]
  },
  {
   "cell_type": "code",
   "execution_count": 2,
   "metadata": {
    "collapsed": false
   },
   "outputs": [
    {
     "name": "stdout",
     "output_type": "stream",
     "text": [
      "Number of quantiles  9\n"
     ]
    }
   ],
   "source": [
    "# corrections\n",
    "#--------------------------------------------------------------------------------\n",
    "#\n",
    "\n",
    "# Variable you want to correct\n",
    "ylist = [\"R9\", \"S4\", \"SigmaIeIe\", \"EtaWidth\", \"PhiWidth\", \"CovarianceIphiIphi\", \"SigmaRR\"]\n",
    "\n",
    "# Input variables used for the regression\n",
    "x = ['Pt', 'ScEta', 'Phi', 'rho']  # <<-- list\n",
    "\n",
    "# Set the quantiles\n",
    "quantiles = [ 0.1, 0.2, 0.3, 0.4, 0.5, 0.6, 0.7, 0.8, 0.9 ]\n",
    "print \"Number of quantiles \", len(quantiles)"
   ]
  },
  {
   "cell_type": "code",
   "execution_count": 3,
   "metadata": {
    "collapsed": false
   },
   "outputs": [
    {
     "name": "stdout",
     "output_type": "stream",
     "text": [
      "Load the mc dataframe\n",
      "NT branches: \n",
      "['rho', 'nvtx', 'leadEleMatch', 'subleadEleMatch', 'leadPt', 'leadScEta', 'leadPhi', 'leadR9', 'leadS4', 'leadSigmaIeIe', 'leadEtaWidth', 'leadPhiWidth', 'leadCovarianceIphiIphi', 'leadSigmaRR', 'subleadPt', 'subleadScEta', 'subleadPhi', 'subleadR9', 'subleadS4', 'subleadSigmaIeIe', 'subleadEtaWidth', 'subleadPhiWidth', 'subleadCovarianceIphiIphi', 'subleadSigmaRR']\n",
      "['cicNoSigmaIetaIeta/trees/DYToEE_powheg_13TeV_EBHighR9', 'cicNoSigmaIetaIeta/trees/DYToEE_powheg_13TeV_EBLowR9', 'cicNoSigmaIetaIeta/trees/DYToEE_powheg_13TeV_EEHighR9', 'cicNoSigmaIetaIeta/trees/DYToEE_powheg_13TeV_EELowR9']\n",
      "Adding trees into a DataFrame\n",
      "  adding  cicNoSigmaIetaIeta/trees/DYToEE_powheg_13TeV_EBHighR9\n",
      "  adding  cicNoSigmaIetaIeta/trees/DYToEE_powheg_13TeV_EBLowR9\n",
      "  adding  cicNoSigmaIetaIeta/trees/DYToEE_powheg_13TeV_EEHighR9\n",
      "  adding  cicNoSigmaIetaIeta/trees/DYToEE_powheg_13TeV_EELowR9\n",
      "Number of events  \n",
      "rho                          8741743\n",
      "nvtx                         8741743\n",
      "leadEleMatch                 8741743\n",
      "subleadEleMatch              8741743\n",
      "leadPt                       8741743\n",
      "leadScEta                    8741743\n",
      "leadPhi                      8741743\n",
      "leadR9                       8741743\n",
      "leadS4                       8741743\n",
      "leadSigmaIeIe                8741743\n",
      "leadEtaWidth                 8741743\n",
      "leadPhiWidth                 8741743\n",
      "leadCovarianceIphiIphi       8741743\n",
      "leadSigmaRR                  8741743\n",
      "subleadPt                    8741743\n",
      "subleadScEta                 8741743\n",
      "subleadPhi                   8741743\n",
      "subleadR9                    8741743\n",
      "subleadS4                    8741743\n",
      "subleadSigmaIeIe             8741743\n",
      "subleadEtaWidth              8741743\n",
      "subleadPhiWidth              8741743\n",
      "subleadCovarianceIphiIphi    8741743\n",
      "subleadSigmaRR               8741743\n",
      "dtype: int64\n",
      "# lead eleMatch    =  7617405\n",
      "# sublead eleMatch =  7137144\n",
      "MC Sublead\n",
      "rho                   7617405\n",
      "nvtx                  7617405\n",
      "Pt                    7617405\n",
      "ScEta                 7617405\n",
      "Phi                   7617405\n",
      "R9                    7617405\n",
      "S4                    7617405\n",
      "SigmaIeIe             7617405\n",
      "EtaWidth              7617405\n",
      "PhiWidth              7617405\n",
      "CovarianceIphiIphi    7617405\n",
      "SigmaRR               7617405\n",
      "dtype: int64\n",
      "MC Lead\n",
      "rho                   7137144\n",
      "nvtx                  7137144\n",
      "Pt                    7137144\n",
      "ScEta                 7137144\n",
      "Phi                   7137144\n",
      "R9                    7137144\n",
      "S4                    7137144\n",
      "SigmaIeIe             7137144\n",
      "EtaWidth              7137144\n",
      "PhiWidth              7137144\n",
      "CovarianceIphiIphi    7137144\n",
      "SigmaRR               7137144\n",
      "dtype: int64\n",
      "Count final dataset\n",
      "index                 14754549\n",
      "rho                   14754549\n",
      "nvtx                  14754549\n",
      "Pt                    14754549\n",
      "ScEta                 14754549\n",
      "Phi                   14754549\n",
      "R9                    14754549\n",
      "S4                    14754549\n",
      "SigmaIeIe             14754549\n",
      "EtaWidth              14754549\n",
      "PhiWidth              14754549\n",
      "CovarianceIphiIphi    14754549\n",
      "SigmaRR               14754549\n",
      "dtype: int64\n",
      "\u001b[92mApply basic selection\u001b[0m\n",
      " ptmin  =  25.0 \n",
      " ptmax  =  150.0  \n",
      " etamin =  -2.5  \n",
      " etamax =  2.5  \n",
      " phimin =  -3.14  \n",
      " phimax =  3.14\n",
      "\u001b[92mReshuffle events\u001b[0m rndm seed  =  12345\n",
      "\u001b[92mSelecting events \u001b[0m  [ 2000000 ,  2500000 ]  out of  14714149\n",
      "DataFrame size =  500000\n"
     ]
    }
   ],
   "source": [
    "# Initialize the quantile regression object for mc\n",
    "qr_mc = quantileRegression(\"mc\")\n",
    "\n",
    "# This is what you want to correct\n",
    "print \"Load the mc dataframe\"\n",
    "startEvtmc = 2000000\n",
    "stopEvtmc  = 2500000\n",
    "qr_mc.loadDF(\"/Users/mauro/CMS/Physics/dataMC/nt/double_ele_spring16v2_sync_v1_mc/\",\n",
    "             \"cicNoSigmaIetaIeta/trees/\",\n",
    "             [\"DYToEE_powheg_13TeV_EBHighR9\", \"DYToEE_powheg_13TeV_EBLowR9\", \"DYToEE_powheg_13TeV_EEHighR9\", \"DYToEE_powheg_13TeV_EELowR9\" ],\n",
    "             startEvtmc, stopEvtmc, 12345)"
   ]
  },
  {
   "cell_type": "code",
   "execution_count": 4,
   "metadata": {
    "collapsed": false
   },
   "outputs": [
    {
     "name": "stdout",
     "output_type": "stream",
     "text": [
      "Loading corrected targets from :  correctedTargets.h5\n"
     ]
    }
   ],
   "source": [
    "qr_mc.correctAllY(x, ylist, quantiles)"
   ]
  },
  {
   "cell_type": "code",
   "execution_count": 5,
   "metadata": {
    "collapsed": false
   },
   "outputs": [],
   "source": [
    "# to debug\n",
    "dfmc = qr_mc.getDF()\n",
    "#print dfmc\n",
    "X = dfmc.loc[:,['Pt', 'ScEta', 'Phi', 'rho']]\n",
    "# print X\n",
    "Y = dfmc[\"R9\"]\n",
    "# print Y\n",
    "YCORR = dfmc[\"R9_corr\"]\n",
    "# print YCORR"
   ]
  },
  {
   "cell_type": "code",
   "execution_count": 6,
   "metadata": {
    "collapsed": false
   },
   "outputs": [
    {
     "name": "stdout",
     "output_type": "stream",
     "text": [
      "Load the data dataframe\n",
      "NT branches: \n",
      "['rho', 'nvtx', 'leadHLT_Ele27_WPTight_Gsf_vMatch', 'subleadHLT_Ele27_WPTight_Gsf_vMatch', 'leadEleMatch', 'subleadEleMatch', 'leadPt', 'leadScEta', 'leadPhi', 'leadR9', 'leadS4', 'leadSigmaIeIe', 'leadEtaWidth', 'leadPhiWidth', 'leadCovarianceIphiIphi', 'leadSigmaRR', 'subleadPt', 'subleadScEta', 'subleadPhi', 'subleadR9', 'subleadS4', 'subleadSigmaIeIe', 'subleadEtaWidth', 'subleadPhiWidth', 'subleadCovarianceIphiIphi', 'subleadSigmaRR']\n",
      "['cicNoSigmaIetaIeta/trees/Data_13TeV_EBHighR9', 'cicNoSigmaIetaIeta/trees/Data_13TeV_EBLowR9', 'cicNoSigmaIetaIeta/trees/Data_13TeV_EEHighR9', 'cicNoSigmaIetaIeta/trees/Data_13TeV_EELowR9']\n",
      "Adding trees into a DataFrame\n",
      "  adding  cicNoSigmaIetaIeta/trees/Data_13TeV_EBHighR9\n",
      "  adding  cicNoSigmaIetaIeta/trees/Data_13TeV_EBLowR9\n",
      "  adding  cicNoSigmaIetaIeta/trees/Data_13TeV_EEHighR9\n",
      "  adding  cicNoSigmaIetaIeta/trees/Data_13TeV_EELowR9\n",
      "Number of events  \n",
      "rho                                    3820704\n",
      "nvtx                                   3820704\n",
      "leadHLT_Ele27_WPTight_Gsf_vMatch       3820704\n",
      "subleadHLT_Ele27_WPTight_Gsf_vMatch    3820704\n",
      "leadEleMatch                           3820704\n",
      "subleadEleMatch                        3820704\n",
      "leadPt                                 3820704\n",
      "leadScEta                              3820704\n",
      "leadPhi                                3820704\n",
      "leadR9                                 3820704\n",
      "leadS4                                 3820704\n",
      "leadSigmaIeIe                          3820704\n",
      "leadEtaWidth                           3820704\n",
      "leadPhiWidth                           3820704\n",
      "leadCovarianceIphiIphi                 3820704\n",
      "leadSigmaRR                            3820704\n",
      "subleadPt                              3820704\n",
      "subleadScEta                           3820704\n",
      "subleadPhi                             3820704\n",
      "subleadR9                              3820704\n",
      "subleadS4                              3820704\n",
      "subleadSigmaIeIe                       3820704\n",
      "subleadEtaWidth                        3820704\n",
      "subleadPhiWidth                        3820704\n",
      "subleadCovarianceIphiIphi              3820704\n",
      "subleadSigmaRR                         3820704\n",
      "dtype: int64\n",
      "Count df\n",
      "# lead eleMatch    =  3287538\n",
      "# sublead eleMatch =  3033216\n",
      "# lead trig   =  3217295\n",
      "# sublead trg =  2680942\n",
      "# lead trig and eleMatch    =  3031259\n",
      "# sublead trig and eleMatch =  2480064\n",
      "Data Sublead\n",
      "rho                   3031259\n",
      "nvtx                  3031259\n",
      "Pt                    3031259\n",
      "ScEta                 3031259\n",
      "Phi                   3031259\n",
      "R9                    3031259\n",
      "S4                    3031259\n",
      "SigmaIeIe             3031259\n",
      "EtaWidth              3031259\n",
      "PhiWidth              3031259\n",
      "CovarianceIphiIphi    3031259\n",
      "SigmaRR               3031259\n",
      "dtype: int64\n",
      "Data Lead\n",
      "rho                   2480064\n",
      "nvtx                  2480064\n",
      "Pt                    2480064\n",
      "ScEta                 2480064\n",
      "Phi                   2480064\n",
      "R9                    2480064\n",
      "S4                    2480064\n",
      "SigmaIeIe             2480064\n",
      "EtaWidth              2480064\n",
      "PhiWidth              2480064\n",
      "CovarianceIphiIphi    2480064\n",
      "SigmaRR               2480064\n",
      "dtype: int64\n",
      "Count final dataset\n",
      "index                 5511323\n",
      "rho                   5511323\n",
      "nvtx                  5511323\n",
      "Pt                    5511323\n",
      "ScEta                 5511323\n",
      "Phi                   5511323\n",
      "R9                    5511323\n",
      "S4                    5511323\n",
      "SigmaIeIe             5511323\n",
      "EtaWidth              5511323\n",
      "PhiWidth              5511323\n",
      "CovarianceIphiIphi    5511323\n",
      "SigmaRR               5511323\n",
      "dtype: int64\n",
      "\u001b[92mApply basic selection\u001b[0m\n",
      " ptmin  =  25.0 \n",
      " ptmax  =  150.0  \n",
      " etamin =  -2.5  \n",
      " etamax =  2.5  \n",
      " phimin =  -3.14  \n",
      " phimax =  3.14\n",
      "\u001b[92mReshuffle events\u001b[0m rndm seed  =  12345\n",
      "\u001b[92mSelecting events \u001b[0m  [ 0 ,  5491556 ]  out of  5491556\n",
      "DataFrame size =  5491556\n"
     ]
    }
   ],
   "source": [
    "# Plot data, mc, mc_corrr\n",
    "# just need to load the data for plotting \n",
    "qr_data = quantileRegression(\"data\")\n",
    "startEvtdata = 0\n",
    "stopEvtdata   = -1\n",
    "print \"Load the data dataframe\"\n",
    "qr_data.loadDF(\"/Users/mauro/CMS/Physics/dataMC/nt/double_ele_spring16v2_sync_v1_ichep/\",\n",
    "               \"cicNoSigmaIetaIeta/trees/\",\n",
    "               [\"Data_13TeV_EBHighR9\", \"Data_13TeV_EBLowR9\", \"Data_13TeV_EEHighR9\", \"Data_13TeV_EELowR9\" ],\n",
    "               startEvtdata, stopEvtdata)"
   ]
  },
  {
   "cell_type": "code",
   "execution_count": 7,
   "metadata": {
    "collapsed": true
   },
   "outputs": [],
   "source": [
    "#y_data   = qr_data.getY(y)\n",
    "dfdata = qr_data.getDF()"
   ]
  },
  {
   "cell_type": "code",
   "execution_count": 8,
   "metadata": {
    "collapsed": true
   },
   "outputs": [],
   "source": [
    "# Some basic plots\n",
    "import matplotlib.pyplot as plt\n",
    "%matplotlib inline\n",
    "plt.style.use('ggplot')"
   ]
  },
  {
   "cell_type": "code",
   "execution_count": 9,
   "metadata": {
    "collapsed": false
   },
   "outputs": [
    {
     "data": {
      "text/plain": [
       "[<matplotlib.lines.Line2D at 0x1ad934b10>]"
      ]
     },
     "execution_count": 9,
     "metadata": {},
     "output_type": "execute_result"
    },
    {
     "data": {
      "image/png": "[encoded data removed]",
      "text/plain": [
       "<matplotlib.figure.Figure at 0x1ad91de90>"
      ]
     },
     "metadata": {},
     "output_type": "display_data"
    }
   ],
   "source": [
    "rv  = np.arange(0.8,1.0,0.001)\n",
    "\n",
    "fig = plt.figure()\n",
    "ax = fig.add_subplot(111)\n",
    "\n",
    "mc_bins, _edges = np.histogram(Y, rv, normed = 1)\n",
    "edges = _edges[:len(_edges)-1]\n",
    "plt.plot(edges,mc_bins,\"g\")\n",
    "\n",
    "mccorr_bins, _edges = np.histogram(YCORR, rv, normed = 1)\n",
    "edges = _edges[:len(_edges)-1]\n",
    "plt.plot(edges,mccorr_bins,\"b\")\n",
    "\n",
    "data_bins, _edges = np.histogram(dfdata[\"R9\"], rv, normed = 1)\n",
    "edges = _edges[:len(_edges)-1]\n",
    "plt.plot(edges  ,data_bins,\"r\")"
   ]
  },
  {
   "cell_type": "markdown",
   "metadata": {},
   "source": [
    "# HERE I TRAIN ON THE CORRECTED DF"
   ]
  },
  {
   "cell_type": "code",
   "execution_count": 77,
   "metadata": {
    "collapsed": true
   },
   "outputs": [],
   "source": [
    "YCORR1 = dfmc[\"R9_corr\"]-dfmc[\"R9\"]\n",
    "X = dfmc.loc[:,['Pt', 'ScEta', 'Phi', 'rho', 'R9']]\n",
    "YCORR2 = dfmc[\"R9_corr\"]/dfmc[\"R9\"]\n",
    "X = dfmc.loc[:,['Pt', 'ScEta', 'Phi', 'rho', 'R9']]"
   ]
  },
  {
   "cell_type": "code",
   "execution_count": 78,
   "metadata": {
    "collapsed": false
   },
   "outputs": [
    {
     "data": {
      "text/plain": [
       "[<matplotlib.lines.Line2D at 0x1c55ecf90>]"
      ]
     },
     "execution_count": 78,
     "metadata": {},
     "output_type": "execute_result"
    },
    {
     "data": {
      "image/png": "[encoded data removed]",
      "text/plain": [
       "<matplotlib.figure.Figure at 0x1d49a6610>"
      ]
     },
     "metadata": {},
     "output_type": "display_data"
    },
    {
     "data": {
      "image/png": "[encoded data removed]",
      "text/plain": [
       "<matplotlib.figure.Figure at 0x1d49be590>"
      ]
     },
     "metadata": {},
     "output_type": "display_data"
    }
   ],
   "source": [
    "fig = plt.figure()\n",
    "ax = fig.add_subplot(111)\n",
    "\n",
    "rv  = np.arange(-0.1,0.1,0.001)\n",
    "mc_bins, _edges = np.histogram(YCORR1, rv, normed = 1)\n",
    "edges = _edges[:len(_edges)-1]\n",
    "plt.plot(edges,mc_bins,\"g\")\n",
    "\n",
    "fig = plt.figure()\n",
    "ax = fig.add_subplot(111)\n",
    "\n",
    "rv  = np.arange(0.9,1.1,0.001)\n",
    "mc_bins, _edges = np.histogram(YCORR2, rv, normed = 1)\n",
    "edges = _edges[:len(_edges)-1]\n",
    "plt.plot(edges,mc_bins,\"g\")"
   ]
  },
  {
   "cell_type": "code",
   "execution_count": 79,
   "metadata": {
    "collapsed": true
   },
   "outputs": [],
   "source": [
    "YCORR = dfmc[\"R9_corr\"]-dfmc[\"R9\"]\n",
    "X = dfmc.loc[:,['Pt', 'ScEta', 'Phi', 'rho', 'R9']]"
   ]
  },
  {
   "cell_type": "code",
   "execution_count": 80,
   "metadata": {
    "collapsed": false
   },
   "outputs": [],
   "source": [
    "from sklearn.ensemble import GradientBoostingRegressor\n",
    "clf = GradientBoostingRegressor(loss='ls',\n",
    "                                n_estimators=100, max_depth=3,                                       \n",
    "                                learning_rate=.1, min_samples_leaf=9,\n",
    "                                min_samples_split=9)"
   ]
  },
  {
   "cell_type": "code",
   "execution_count": 81,
   "metadata": {
    "collapsed": false
   },
   "outputs": [],
   "source": [
    "#print X"
   ]
  },
  {
   "cell_type": "code",
   "execution_count": 82,
   "metadata": {
    "collapsed": false
   },
   "outputs": [],
   "source": [
    "# print YCORR\n",
    "# YY = YCORR - Y\n",
    "# print YY"
   ]
  },
  {
   "cell_type": "code",
   "execution_count": 62,
   "metadata": {
    "collapsed": false
   },
   "outputs": [
    {
     "data": {
      "text/plain": [
       "GradientBoostingRegressor(alpha=0.9, init=None, learning_rate=0.1, loss='ls',\n",
       "             max_depth=3, max_features=None, max_leaf_nodes=None,\n",
       "             min_samples_leaf=9, min_samples_split=9,\n",
       "             min_weight_fraction_leaf=0.0, n_estimators=100,\n",
       "             presort='auto', random_state=None, subsample=1.0, verbose=0,\n",
       "             warm_start=False)"
      ]
     },
     "execution_count": 62,
     "metadata": {},
     "output_type": "execute_result"
    }
   ],
   "source": [
    "clf.fit(X,YCORR)"
   ]
  },
  {
   "cell_type": "code",
   "execution_count": 50,
   "metadata": {
    "collapsed": false
   },
   "outputs": [],
   "source": [
    "# XX = dfmc.loc[0:0,['Pt', 'ScEta', 'Phi', 'rho']]\n",
    "# print XX\n",
    "# YYPRED = clf.predict(XX)\n",
    "# print YYPRED"
   ]
  },
  {
   "cell_type": "code",
   "execution_count": 63,
   "metadata": {
    "collapsed": false
   },
   "outputs": [],
   "source": [
    "YPRED = clf.predict(X)"
   ]
  },
  {
   "cell_type": "code",
   "execution_count": 64,
   "metadata": {
    "collapsed": false
   },
   "outputs": [],
   "source": [
    "# from sklearn.metrics import mean_squared_error\n",
    "# mse = mean_squared_error(YCORR, clf.predict(X))\n",
    "# print(\"MSE: %.4f\" % mse)"
   ]
  },
  {
   "cell_type": "code",
   "execution_count": 83,
   "metadata": {
    "collapsed": false
   },
   "outputs": [],
   "source": [
    "# print Y"
   ]
  },
  {
   "cell_type": "code",
   "execution_count": 53,
   "metadata": {
    "collapsed": false
   },
   "outputs": [],
   "source": [
    "# #print YPRED\n",
    "# YY = YPRED - Y\n",
    "# print YY\n",
    "# print YPRED\n",
    "# print YCORR"
   ]
  },
  {
   "cell_type": "code",
   "execution_count": 66,
   "metadata": {
    "collapsed": false
   },
   "outputs": [
    {
     "data": {
      "text/plain": [
       "[<matplotlib.lines.Line2D at 0x1c4e84150>]"
      ]
     },
     "execution_count": 66,
     "metadata": {},
     "output_type": "execute_result"
    },
    {
     "data": {
      "image/png": "[encoded data removed]",
      "text/plain": [
       "<matplotlib.figure.Figure at 0x13b87c9d0>"
      ]
     },
     "metadata": {},
     "output_type": "display_data"
    }
   ],
   "source": [
    "rv  = np.arange(0.0,1.0,0.001)\n",
    "\n",
    "fig = plt.figure()\n",
    "ax = fig.add_subplot(111)\n",
    "\n",
    "mcpred_bins, _edges = np.histogram(YPRED+dfmc[\"R9\"], rv, normed = 1)\n",
    "edges = _edges[:len(_edges)-1]\n",
    "plt.plot(edges  ,mcpred_bins,\"r\")\n",
    "\n",
    "mccorr_bins, _edges = np.histogram(YCORR+dfmc[\"R9\"], rv, normed = 1)\n",
    "edges = _edges[:len(_edges)-1]\n",
    "plt.plot(edges,mccorr_bins,\"b\")"
   ]
  }
 ],
 "metadata": {
  "kernelspec": {
   "display_name": "Python 2",
   "language": "python",
   "name": "python2"
  },
  "language_info": {
   "codemirror_mode": {
    "name": "ipython",
    "version": 2
   },
   "file_extension": ".py",
   "mimetype": "text/x-python",
   "name": "python",
   "nbconvert_exporter": "python",
   "pygments_lexer": "ipython2",
   "version": "2.7.12"
  }
 },
 "nbformat": 4,
 "nbformat_minor": 0
}
