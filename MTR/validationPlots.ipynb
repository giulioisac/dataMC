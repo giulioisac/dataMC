{
 "cells": [
  {
   "cell_type": "code",
   "execution_count": 1,
   "metadata": {
    "collapsed": false
   },
   "outputs": [
    {
     "data": {
      "application/javascript": [
       "require(['codemirror/mode/clike/clike'], function(Clike) { console.log('ROOTaaS - C++ CodeMirror module loaded'); });"
      ]
     },
     "metadata": {},
     "output_type": "display_data"
    },
    {
     "data": {
      "application/javascript": [
       "IPython.CodeCell.config_defaults.highlight_modes['magic_text/x-c++src'] = {'reg':[/^%%cpp/]};"
      ]
     },
     "metadata": {},
     "output_type": "display_data"
    },
    {
     "name": "stdout",
     "output_type": "stream",
     "text": [
      "Welcome to ROOTaaS 6.06/02\n"
     ]
    }
   ],
   "source": [
    "from quantileRegression import quantileRegression\n",
    "import numpy as np"
   ]
  },
  {
   "cell_type": "code",
   "execution_count": 2,
   "metadata": {
    "collapsed": false
   },
   "outputs": [],
   "source": [
    "# Variable you want to correct\n",
    "ylist = [\"R9\", \"S4\", \"SigmaIeIe\", \"EtaWidth\", \"PhiWidth\", \"CovarianceIphiIphi\", \"SigmaRR\"]\n",
    "\n",
    "# Input variables used for the regression\n",
    "X = ['Pt', 'ScEta', 'Phi', 'rho']  # <<-- list"
   ]
  },
  {
   "cell_type": "code",
   "execution_count": 3,
   "metadata": {
    "collapsed": false
   },
   "outputs": [
    {
     "name": "stdout",
     "output_type": "stream",
     "text": [
      "Number of quantiles  9\n"
     ]
    }
   ],
   "source": [
    "# Set the quantiles \n",
    "quantiles = [ 0.1, 0.2, 0.3, 0.4, 0.5, 0.6, 0.7, 0.8, 0.9 ]\n",
    "print \"Number of quantiles \", len(quantiles)"
   ]
  },
  {
   "cell_type": "code",
   "execution_count": 4,
   "metadata": {
    "collapsed": true
   },
   "outputs": [],
   "source": [
    "# Initialize the quantile regression object for mc\n",
    "qr_mc = quantileRegression(\"mc\")"
   ]
  },
  {
   "cell_type": "code",
   "execution_count": null,
   "metadata": {
    "collapsed": false
   },
   "outputs": [
    {
     "name": "stdout",
     "output_type": "stream",
     "text": [
      "Load the mc dataframe\n",
      "NT branches: \n",
      "['rho', 'nvtx', 'leadPt', 'leadScEta', 'leadPhi', 'leadR9', 'leadS4', 'leadSigmaIeIe', 'leadEtaWidth', 'leadPhiWidth', 'leadCovarianceIphiIphi', 'leadSigmaRR', 'subleadPt', 'subleadScEta', 'subleadPhi', 'subleadR9', 'subleadS4', 'subleadSigmaIeIe', 'subleadEtaWidth', 'subleadPhiWidth', 'subleadCovarianceIphiIphi', 'subleadSigmaRR']\n",
      "Reading trees\n",
      "Number of events  \n",
      "rho                          2393830\n",
      "nvtx                         2393830\n",
      "leadPt                       2393830\n",
      "leadScEta                    2393830\n",
      "leadPhi                      2393830\n",
      "leadR9                       2393830\n",
      "leadS4                       2393830\n",
      "leadSigmaIeIe                2393830\n",
      "leadEtaWidth                 2393830\n",
      "leadPhiWidth                 2393830\n",
      "leadCovarianceIphiIphi       2393830\n",
      "leadSigmaRR                  2393830\n",
      "subleadPt                    2393830\n",
      "subleadScEta                 2393830\n",
      "subleadPhi                   2393830\n",
      "subleadR9                    2393830\n",
      "subleadS4                    2393830\n",
      "subleadSigmaIeIe             2393830\n",
      "subleadEtaWidth              2393830\n",
      "subleadPhiWidth              2393830\n",
      "subleadCovarianceIphiIphi    2393830\n",
      "subleadSigmaRR               2393830\n",
      "dtype: int64\n",
      "\u001b[92mApply basic selection\u001b[0m\n",
      " ptmin  =  20.0 \n",
      " ptmax  =  60.0  \n",
      " etamin =  -2.5  \n",
      " etamax =  2.5  \n",
      " phimin =  -3.14  \n",
      " phimax =  3.14\n",
      "\u001b[92mReshuffle events\u001b[0m rndm seed  =  12345\n",
      "\u001b[92mSelecting events \u001b[0m  [ 2000001 ,  4545316 ]  out of  4545316\n",
      "DataFrame size =  2545315\n"
     ]
    }
   ],
   "source": [
    "# This is what you want to correct\n",
    "print \"Load the mc dataframe\"\n",
    "startEvtmc = 2000001 \n",
    "stopEvtmc  = -1\n",
    "qr_mc.loadDF(\"/Users/mauro/CMS/Physics/dataMC/nt/double_ele_spring16v2_sync_v1_mc/\",\n",
    "             \"cicNoSigmaIetaIeta/trees/\",\n",
    "             [\"DYToEE_powheg_13TeV_EBHighR9\", \"DYToEE_powheg_13TeV_EBLowR9\", \"DYToEE_powheg_13TeV_EEHighR9\", \"DYToEE_powheg_13TeV_EELowR9\" ],\n",
    "             startEvtmc, stopEvtmc, 12345)"
   ]
  },
  {
   "cell_type": "code",
   "execution_count": null,
   "metadata": {
    "collapsed": false
   },
   "outputs": [
    {
     "name": "stdout",
     "output_type": "stream",
     "text": [
      "This will take a while...\n",
      "Loading mc weights for  R9\n",
      "Loading data weights for  R9\n",
      "Correcting "
     ]
    }
   ],
   "source": [
    "#print \"Get the corrected data-mc values\"\n",
    "qr_mc.correctAllY(X, ylist, quantiles )"
   ]
  },
  {
   "cell_type": "code",
   "execution_count": null,
   "metadata": {
    "collapsed": false
   },
   "outputs": [],
   "source": [
    "dfmc = qr_mc.getDF()\n",
    "# print dfmc"
   ]
  },
  {
   "cell_type": "code",
   "execution_count": null,
   "metadata": {
    "collapsed": false
   },
   "outputs": [],
   "source": [
    "# now get the data\n",
    "qr_data = quantileRegression(\"data\")\n",
    "startEvtdata = 0\n",
    "stopEvtdata   = -1\n",
    "print \"Load the data dataframe\"\n",
    "qr_data.loadDF(\"/Users/mauro/CMS/Physics/dataMC/nt/double_ele_spring16v2_sync_v1_ichep/\",\n",
    "               \"cicNoSigmaIetaIeta/trees/\",\n",
    "               [\"Data_13TeV_EBHighR9\", \"Data_13TeV_EBLowR9\", \"Data_13TeV_EEHighR9\", \"Data_13TeV_EELowR9\" ],\n",
    "               startEvtdata, stopEvtdata)"
   ]
  },
  {
   "cell_type": "code",
   "execution_count": null,
   "metadata": {
    "collapsed": true
   },
   "outputs": [],
   "source": [
    "dfdata = qr_data.getDF()\n",
    "#print dfdata"
   ]
  },
  {
   "cell_type": "code",
   "execution_count": null,
   "metadata": {
    "collapsed": false
   },
   "outputs": [],
   "source": [
    "dfmcNOcorr = dfmc[['index', 'rho', 'nvtx', 'Pt', 'ScEta', 'Phi', 'R9', 'S4', 'SigmaIeIe', 'EtaWidth', 'PhiWidth', 'CovarianceIphiIphi', 'SigmaRR']]\n",
    "dfmccorr   = dfmc[['index', 'rho', 'nvtx', 'Pt', 'ScEta', 'Phi', 'R9_corr', 'S4_corr', 'SigmaIeIe_corr', 'EtaWidth_corr', 'PhiWidth_corr', 'CovarianceIphiIphi_corr', 'SigmaRR_corr']]\n",
    "\n",
    "# It needs the same column names to compute the difference between the correlation matrices\n",
    "dfmccorr.rename(columns={'R9_corr':'R9', 'S4_corr':'S4', 'SigmaIeIe_corr':'SigmaIeIe', 'EtaWidth_corr':'EtaWidth', 'PhiWidth_corr':'PhiWidth', 'CovarianceIphiIphi_corr':'CovarianceIphiIphi', 'SigmaRR_corr':'SigmaRR'}, inplace=True)\n",
    "# print dfmccorr"
   ]
  },
  {
   "cell_type": "code",
   "execution_count": null,
   "metadata": {
    "collapsed": false
   },
   "outputs": [],
   "source": [
    "#print dfdata\n",
    "#print dfmcNOcorr\n",
    "#print dfmccorr"
   ]
  },
  {
   "cell_type": "code",
   "execution_count": null,
   "metadata": {
    "collapsed": false
   },
   "outputs": [],
   "source": [
    "correldata     = dfdata.corr()\n",
    "correlmcNOcorr = dfmcNOcorr.corr()\n",
    "correlmccorr   = dfmccorr.corr()"
   ]
  },
  {
   "cell_type": "code",
   "execution_count": null,
   "metadata": {
    "collapsed": true
   },
   "outputs": [],
   "source": [
    "import matplotlib.pyplot as plt\n",
    "%matplotlib inline\n",
    "plt.style.use('ggplot')"
   ]
  },
  {
   "cell_type": "code",
   "execution_count": null,
   "metadata": {
    "collapsed": false
   },
   "outputs": [],
   "source": [
    "#print correldata\n",
    "# 'index', 'rho', 'nvtx', 'Pt', 'ScEta', 'Phi', 'R9', 'S4', 'SigmaIeIe', 'EtaWidth', 'PhiWidth', 'CovarianceIphiIphi', 'SigmaRR'\n",
    "plt.matshow(correldata)\n",
    "plt.colorbar()"
   ]
  },
  {
   "cell_type": "code",
   "execution_count": null,
   "metadata": {
    "collapsed": false
   },
   "outputs": [],
   "source": [
    "#print correlmcNOcorr\n",
    "plt.matshow(correlmcNOcorr)\n",
    "plt.colorbar()"
   ]
  },
  {
   "cell_type": "code",
   "execution_count": null,
   "metadata": {
    "collapsed": false
   },
   "outputs": [],
   "source": [
    "#print correlmccorr\n",
    "plt.matshow(correlmcNOcorr)\n",
    "plt.colorbar()"
   ]
  },
  {
   "cell_type": "code",
   "execution_count": null,
   "metadata": {
    "collapsed": false
   },
   "outputs": [],
   "source": [
    "diffCorrelMcNOCorrData = correldata - correlmcNOcorr\n",
    "#print diffCorrelMcNOCorrData\n",
    "plt.matshow(diffCorrelMcNOCorrData)\n",
    "plt.colorbar()"
   ]
  },
  {
   "cell_type": "code",
   "execution_count": null,
   "metadata": {
    "collapsed": false
   },
   "outputs": [],
   "source": [
    "diffCorrelMcCorrData = correldata - correlmccorr\n",
    "#print diffCorrelMcCorrData\n",
    "plt.matshow(diffCorrelMcCorrData)\n",
    "plt.colorbar()"
   ]
  },
  {
   "cell_type": "code",
   "execution_count": null,
   "metadata": {
    "collapsed": false
   },
   "outputs": [],
   "source": [
    "test = diffCorrelMcNOCorrData - diffCorrelMcCorrData\n",
    "plt.matshow(test)\n",
    "plt.colorbar()"
   ]
  },
  {
   "cell_type": "markdown",
   "metadata": {},
   "source": [
    "The effect of the corrections (...as expected) has a very small impact.\n",
    "Need to go more granular\n",
    "\n",
    "Remember there is no data/mc reweighting done ! ...maybe not needed because we train on pt/eta/phi/rho\n",
    "\n",
    "\n",
    "This is global. I need more local checks in pt/eta/phi/rho:\n",
    "- [corr(mccorr)-corr(data)] vs. pt/eta/phi/rho\n",
    "    With the dataframe mccorr created above and the one on data, \n",
    "    select within the dataframe a range in pt/eta/phi/rho and compute \n",
    "    [corr(mccorr)-corr(data)] "
   ]
  },
  {
   "cell_type": "code",
   "execution_count": null,
   "metadata": {
    "collapsed": false
   },
   "outputs": [],
   "source": [
    "#plt.scatter(dfdata['ScEta'], dfdata['R9'],marker='.', c='green')\n",
    "#plt.scatter(dfmc['ScEta'], dfmc['R9'],marker='.', c='red')\n",
    "#plt.scatter(dfmc['ScEta'], dfmc['R9_corr'],marker='.', c='blue')"
   ]
  },
  {
   "cell_type": "code",
   "execution_count": null,
   "metadata": {
    "collapsed": false
   },
   "outputs": [],
   "source": [
    "#poors man profile plot\n",
    "import pandas as pd\n",
    "from pandas import Series, DataFrame\n",
    "import numpy as np\n",
    "import matplotlib.pyplot as plt\n",
    "\n",
    "def Profile(x,y,nbins,xmin,xmax,ax, color):\n",
    "    df = DataFrame({'x' : x , 'y' : y})\n",
    "    \n",
    "    binedges = xmin + ((xmax-xmin)/nbins) * np.arange(nbins+1)\n",
    "    df['bin'] = np.digitize(df['x'],binedges)\n",
    "\n",
    "    # print df\n",
    "    \n",
    "    bincenters = xmin + ((xmax-xmin)/nbins)*np.arange(nbins) + ((xmax-xmin)/(2*nbins))\n",
    "    # print bincenters\n",
    "    \n",
    "    ProfileFrame = DataFrame({'bincenters' : bincenters, 'N' : df['bin'].value_counts(sort=False)},index=range(1,nbins+1))\n",
    "    # ProfileFrame['N'] = ProfileFrame['N'].fillna(1)\n",
    "    # print ProfileFrame['N']\n",
    "\n",
    "    bins = ProfileFrame.index.values\n",
    "    for bin in bins:\n",
    "        ProfileFrame.ix[bin,'ymean']      = df.ix[df['bin']==bin,'y'].mean()\n",
    "        ProfileFrame.ix[bin,'yStandDev']  = df.ix[df['bin']==bin,'y'].std()\n",
    "        ProfileFrame.ix[bin,'yMeanError'] = ProfileFrame.ix[bin,'yStandDev'] / np.sqrt(ProfileFrame.ix[bin,'N'])\n",
    "\n",
    "    ProfileFrame['ymean']      = ProfileFrame['ymean'].fillna(0)\n",
    "    ProfileFrame['yMeanError'] = ProfileFrame['yMeanError'].fillna(0)\n",
    "    #ax.errorbar(ProfileFrame['bincenters'], ProfileFrame['ymean'], yerr=np.array(ProfileFrame['yMeanError']), c=color) #, xerr=(xmax-xmin)/(2*nbins), fmt=None) \n",
    "    ax.errorbar(ProfileFrame['bincenters'], ProfileFrame['ymean'], c=color)     \n",
    "    return ax"
   ]
  },
  {
   "cell_type": "code",
   "execution_count": null,
   "metadata": {
    "collapsed": false
   },
   "outputs": [],
   "source": [
    "import matplotlib.pyplot as plt\n",
    "%matplotlib inline\n",
    "plt.style.use('ggplot')\n",
    "# loop over all targets [\"R9\", \"S4\", \"SigmaIeIe\", \"EtaWidth\", \"PhiWidth\", \"CovarianceIphiIphi\", \"SigmaRR\"]\n",
    "ylist = [\"R9\", \"S4\", \"SigmaIeIe\", \"EtaWidth\", \"PhiWidth\", \"CovarianceIphiIphi\", \"SigmaRR\"]\n",
    "\n",
    "for yvar in ylist:\n",
    "    yvarcorr = yvar+\"_corr\"\n",
    "\n",
    "    fig = plt.figure()\n",
    "    ax = fig.add_subplot(111)\n",
    "    ax.set_ylim(0.6,1.0)\n",
    "    ax.set_xlabel('ScEta')\n",
    "    ax.set_ylabel(yvar)\n",
    "    Profile(dfmc['ScEta']  , dfmc[yvar]     ,100,-2.5,2.5,ax,'green')\n",
    "    Profile(dfdata['ScEta'], dfdata[yvar]   ,100,-2.5,2.5,ax, 'red')\n",
    "    Profile(dfmc['ScEta']  , dfmc[yvarcorr],100,-2.5,2.5,ax, 'blue')\n",
    "    fig.savefig(yvar+\"eta.pdf\")\n",
    "\n",
    "    fig = plt.figure()\n",
    "    ax = fig.add_subplot(111)\n",
    "    ax.set_ylim(0.7,0.9)\n",
    "    ax.set_xlabel('Pt')\n",
    "    ax.set_ylabel(yvar)\n",
    "    Profile(dfmc['Pt']  , dfmc[yvar]     ,100,20.,80.,ax, 'green')\n",
    "    Profile(dfdata['Pt'], dfdata[yvar]   ,100,20.,80.,ax, 'red')\n",
    "    Profile(dfmc['Pt']  , dfmc[yvarcorr],100,20.,80.,ax, 'blue')\n",
    "    fig.savefig(yvar+\"pt.pdf\")\n",
    "\n",
    "    fig = plt.figure()\n",
    "    ax = fig.add_subplot(111)\n",
    "    ax.set_ylim(0.7,0.9)\n",
    "    ax.set_xlabel('rho')\n",
    "    ax.set_ylabel(yvar)\n",
    "    Profile(dfmc['rho']  , dfmc[yvar]     ,100,0.,40.,ax, 'green')\n",
    "    Profile(dfdata['rho'], dfdata[yvar]   ,100,0.,40.,ax, 'red')\n",
    "    Profile(dfmc['rho']  , dfmc[yvarcorr],100,0.,40.,ax, 'blue')\n",
    "    fig.savefig(yvar+\"rho.pdf\")\n",
    "\n",
    "    fig = plt.figure()\n",
    "    ax = fig.add_subplot(111)\n",
    "    ax.set_ylim(0.7,0.9)\n",
    "    ax.set_xlabel('nvtx')\n",
    "    ax.set_ylabel(yvar)\n",
    "    Profile(dfmc['nvtx']  , dfmc[yvar]     ,41,0.,40.,ax, 'green')\n",
    "    Profile(dfdata['nvtx'], dfdata[yvar]   ,41,0.,40.,ax, 'red')\n",
    "    Profile(dfmc['nvtx']  , dfmc[yvarcorr],41,0.,40.,ax, 'blue')\n",
    "    fig.savefig(yvar+\"nvtx.pdf\")\n",
    "    \n",
    "    fig = plt.figure()\n",
    "    ax = fig.add_subplot(111)\n",
    "    ax.set_ylim(0.75,0.95)\n",
    "    ax.set_xlabel('Phi')\n",
    "    ax.set_ylabel(yvar)\n",
    "    Profile(dfmc['Phi']  , dfmc[yvar]     ,50,-3.14,3.14,ax, 'green')\n",
    "    Profile(dfdata['Phi'], dfdata[yvar]   ,50,-3.14,3.14,ax, 'red')\n",
    "    Profile(dfmc['Phi']  , dfmc[yvarcorr],50,-3.14,3.14,ax, 'blue')\n",
    "    fig.savefig(yvar+\"phi.pdf\")"
   ]
  },
  {
   "cell_type": "code",
   "execution_count": null,
   "metadata": {
    "collapsed": false
   },
   "outputs": [],
   "source": [
    "# Region definitions\n",
    "\n",
    "eta = ['EB','EE']\n",
    "pT  = ['37']\n",
    "rho = ['12']\n",
    "\n",
    "mcBinNames = []\n",
    "dataBinNames = []\n",
    "binFileNames = []\n",
    "plotTitles = []\n",
    "\n",
    "for ieta in eta:\n",
    "    etabin = ieta\n",
    "    etacut = ''\n",
    "    if ieta == 'EB': etacut = '(abs(ScEta) < 1.5)'\n",
    "    if ieta == 'EE': etacut = '(abs(ScEta) > 1.5)'\n",
    "    # print etabin\n",
    "\n",
    "    for ipT in range(0,len(pT)+1):\n",
    "        ptbin = ''\n",
    "        ptcut = ''\n",
    "        # print 'ipT', ipT\n",
    "        if ipT == 0:\n",
    "            ptbin = 'pTlt'+pT[ipT]\n",
    "            ptcut = '(Pt <' + pT[ipT] +')'\n",
    "        elif ipT < len(pT):\n",
    "            ptbin = 'pT'+pT[ipT-1]+pT[ipT]\n",
    "            ptcut = '('+pT[ipT-1] +' <= Pt) & ( Pt < '+pT[ipT] +')'\n",
    "        elif ipT == len(pT):\n",
    "            ptbin = 'pTgt'+pT[ipT-1]\n",
    "            ptcut = '( Pt >=' + pT[ipT-1] +')'\n",
    "        # print \"    \", ptbin\n",
    "\n",
    "        for irho in range(0,len(rho)+1):\n",
    "            rhobin = ''\n",
    "            rhocut = ''\n",
    "            # print 'irho', irho\n",
    "            if irho == 0:\n",
    "                rhobin = 'rholt'+rho[irho]\n",
    "                rhocut = '(rho <' + rho[irho] +')'\n",
    "            elif irho < len(rho):\n",
    "                rhobin = 'rho'+rho[irho-1]+rho[irho]\n",
    "                rhocut = '('+rho[irho-1] +' <= rho) & ( rho < '+rho[irho] +')'\n",
    "            elif irho == len(rho):\n",
    "                rhobin = 'rhogt'+rho[irho-1]\n",
    "                rhocut = '( rho >=' + rho[irho-1] +')'\n",
    "            # print \"        \", rhobin\n",
    "            \n",
    "            binFileNames.append('./plots/'+etabin + ptbin + rhobin)\n",
    "            mcBinNames.append('dfmc.query(\\'' + etacut + ' & ' + ptcut + ' & ' + rhocut + '\\')')\n",
    "            dataBinNames.append('dfdata.query(\\'' + etacut + ' & ' + ptcut + ' & ' + rhocut + '\\')')\n",
    "            plotTitles.append(etacut + ' & ' + ptcut + ' & ' + rhocut)\n",
    "\n",
    "#for i in mcBinNames:\n",
    "#    print i\n",
    "#for i in dataBinNames:\n",
    "#    print i\n",
    "#for i in plotTitles:\n",
    "#    print i\n",
    "#for i in binFileNames:\n",
    "#    print i\n",
    "\n"
   ]
  },
  {
   "cell_type": "code",
   "execution_count": null,
   "metadata": {
    "collapsed": false
   },
   "outputs": [],
   "source": [
    "# loop over all targets [\"R9\", \"S4\", \"SigmaIeIe\", \"EtaWidth\", \"PhiWidth\", \"CovarianceIphiIphi\", \"SigmaRR\"]\n",
    "ylist = [\"R9\", \"S4\", \"SigmaIeIe\", \"EtaWidth\", \"PhiWidth\", \"CovarianceIphiIphi\", \"SigmaRR\"]\n",
    "\n",
    "for yvar in ylist:\n",
    "    yvarcorr = yvar+\"_corr\"\n",
    "    for i in range(0,len(plotTitles)):\n",
    "        print mcBinNames[i]\n",
    "        print dataBinNames[i]\n",
    "        mcbin   = eval(mcBinNames[i])\n",
    "        databin = eval(dataBinNames[i])\n",
    "\n",
    "            fig = plt.figure()\n",
    "            ax = fig.add_subplot(111)\n",
    "            ax.set_ylim(0.6,1.0)\n",
    "            ax.set_title(plotTitles[i])\n",
    "            ax.set_xlabel('ScEta')\n",
    "            ax.set_ylabel(yvar)\n",
    "            Profile(mcbin['ScEta']  , mcbin[yvar]     ,100,-2.5,2.5,ax,'green')\n",
    "            Profile(databin['ScEta'], databin[yvar]   ,100,-2.5,2.5,ax, 'red')\n",
    "            Profile(mcbin['ScEta']  , mcbin[yvarcorr],100,-2.5,2.5,ax, 'blue')\n",
    "            fig.savefig(binFileNames[i]+'_'+yvar+\"eta.pdf\")\n",
    "\n",
    "            fig = plt.figure()\n",
    "            ax = fig.add_subplot(111)\n",
    "            ax.set_ylim(0.7,0.9)\n",
    "            ax.set_title(plotTitles[i])\n",
    "            ax.set_xlabel('Pt')\n",
    "            ax.set_ylabel(yvar)\n",
    "            Profile(mcbin['Pt']  , mcbin[yvar]     ,100,20.,80.,ax, 'green')\n",
    "            Profile(databin['Pt'], databin[yvar]   ,100,20.,80.,ax, 'red')\n",
    "            Profile(mcbin['Pt']  , mcbin[yvarcorr],100,20.,80.,ax, 'blue')\n",
    "            fig.savefig(binFileNames[i]+'_'+yvar+\"pt.pdf\")\n",
    "\n",
    "            fig = plt.figure()\n",
    "            ax = fig.add_subplot(111)\n",
    "            ax.set_ylim(0.7,0.9)\n",
    "            ax.set_title(plotTitles[i])\n",
    "            ax.set_xlabel('rho')\n",
    "            ax.set_ylabel(yvar)\n",
    "            Profile(mcbin['rho']  , mcbin[yvar]     ,100,0.,40.,ax, 'green')\n",
    "            Profile(databin['rho'], databin[yvar]   ,100,0.,40.,ax, 'red')\n",
    "            Profile(mcbin['rho']  , mcbin[yvarcorr],100,0.,40.,ax, 'blue')\n",
    "            fig.savefig(binFileNames[i]+'_'+yvar+\"rho.pdf\")\n",
    "\n",
    "            fig = plt.figure()\n",
    "            ax = fig.add_subplot(111)\n",
    "            ax.set_ylim(0.7,0.9)\n",
    "            ax.set_title(plotTitles[i])\n",
    "            ax.set_xlabel('nvtx')\n",
    "            ax.set_ylabel(yvar)\n",
    "            Profile(mcbin['nvtx']  , mcbin[yvar]     ,41,0.,40.,ax, 'green')\n",
    "            Profile(databin['nvtx'], databin[yvar]   ,41,0.,40.,ax, 'red')\n",
    "            Profile(mcbin['nvtx']  , mcbin[yvarcorr],41,0.,40.,ax, 'blue')\n",
    "            fig.savefig(binFileNames[i]+'_'+yvar+\"nvtx.pdf\")\n",
    "\n",
    "            fig = plt.figure()\n",
    "            ax = fig.add_subplot(111)\n",
    "            ax.set_ylim(0.75,0.95)\n",
    "            ax.set_title(plotTitles[i])\n",
    "            ax.set_xlabel('Phi')\n",
    "            ax.set_ylabel(yvar)\n",
    "            Profile(mcbin['Phi']  , mcbin[yvar]     ,50,-3.14,3.14,ax, 'green')\n",
    "            Profile(databin['Phi'], databin[yvar]   ,50,-3.14,3.14,ax, 'red')\n",
    "            Profile(mcbin['Phi']  , mcbin[yvarcorr],50,-3.14,3.14,ax, 'blue')\n",
    "            fig.savefig(binFileNames[i]+'_'+yvar+\"phi.pdf\")"
   ]
  },
  {
   "cell_type": "code",
   "execution_count": null,
   "metadata": {
    "collapsed": true
   },
   "outputs": [],
   "source": []
  }
 ],
 "metadata": {
  "kernelspec": {
   "display_name": "Python 2",
   "language": "python",
   "name": "python2"
  },
  "language_info": {
   "codemirror_mode": {
    "name": "ipython",
    "version": 2
   },
   "file_extension": ".py",
   "mimetype": "text/x-python",
   "name": "python",
   "nbconvert_exporter": "python",
   "pygments_lexer": "ipython2",
   "version": "2.7.12"
  }
 },
 "nbformat": 4,
 "nbformat_minor": 0
}
