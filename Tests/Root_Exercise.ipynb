{
 "cells": [
  {
   "cell_type": "code",
   "execution_count": 1,
   "metadata": {
    "collapsed": false
   },
   "outputs": [
    {
     "data": {
      "application/javascript": [
       "require(['codemirror/mode/clike/clike'], function(Clike) { console.log('ROOTaaS - C++ CodeMirror module loaded'); });"
      ]
     },
     "metadata": {},
     "output_type": "display_data"
    },
    {
     "data": {
      "application/javascript": [
       "IPython.CodeCell.config_defaults.highlight_modes['magic_text/x-c++src'] = {'reg':[/^%%cpp/]};"
      ]
     },
     "metadata": {},
     "output_type": "display_data"
    },
    {
     "name": "stdout",
     "output_type": "stream",
     "text": [
      "Welcome to ROOTaaS 6.06/08\n"
     ]
    }
   ],
   "source": [
    "from quantileRegression import quantileRegression\n",
    "import numpy as np\n",
    "import ROOT as rt\n",
    "import root_numpy as rnp\n",
    "import root_pandas as rpd\n",
    "from root_pandas import read_root\n"
   ]
  },
  {
   "cell_type": "code",
   "execution_count": 2,
   "metadata": {
    "collapsed": false
   },
   "outputs": [
    {
     "name": "stdout",
     "output_type": "stream",
     "text": [
      "Trees in the root file: \n"
     ]
    },
    {
     "data": {
      "text/plain": [
       "['gen/trees/DYJetsToLL_13TeV_EB',\n",
       " 'gen/trees/DYJetsToLL_13TeV_EE',\n",
       " 'cicNoSigmaIetaIeta/trees/DYJetsToLL_13TeV_EBHighR9',\n",
       " 'cicNoSigmaIetaIeta/trees/DYJetsToLL_13TeV_EBLowR9',\n",
       " 'cicNoSigmaIetaIeta/trees/DYJetsToLL_13TeV_EEHighR9',\n",
       " 'cicNoSigmaIetaIeta/trees/DYJetsToLL_13TeV_EELowR9']"
      ]
     },
     "execution_count": 2,
     "metadata": {},
     "output_type": "execute_result"
    }
   ],
   "source": [
    "#Examine a root file \n",
    "print \"Trees in the root file: \"\n",
    "rnp.list_trees('/mnt/t3nfs01/data01/shome/mdonega/lxplus/work/CMSSW_8_0_26_patch1/src/diphotons/Analysis/macros/double_ele_v8_moriond17_mc/output.root')"
   ]
  },
  {
   "cell_type": "code",
   "execution_count": 3,
   "metadata": {
    "collapsed": false
   },
   "outputs": [
    {
     "name": "stdout",
     "output_type": "stream",
     "text": [
      "read one of the trees and specify columns\n"
     ]
    },
    {
     "data": {
      "text/plain": [
       "Index([u'candidate_id', u'weight', u'mass', u'pt', u'rapidity', u'eta',\n",
       "       u'vertexZ', u'vertexId', u'genMass', u'leadInitialEnergy',\n",
       "       ...\n",
       "       u'nvtx', u'event', u'lumi', u'processIndex', u'run', u'npu',\n",
       "       u'puweight', u'HLT_DoublePhoton60', u'HLT_ECALHT800',\n",
       "       u'HLT_Ele27_WPTight_Gsf_v'],\n",
       "      dtype='object', length=203)"
      ]
     },
     "execution_count": 3,
     "metadata": {},
     "output_type": "execute_result"
    }
   ],
   "source": [
    "print \"read one of the trees and specify columns\"\n",
    "df = read_root('/mnt/t3nfs01/data01/shome/mdonega/lxplus/work/CMSSW_8_0_26_patch1/src/diphotons/Analysis/macros/double_ele_v8_moriond17_mc/output.root','cicNoSigmaIetaIeta/trees/DYJetsToLL_13TeV_EBHighR9')\n",
    "df.columns"
   ]
  },
  {
   "cell_type": "code",
   "execution_count": 25,
   "metadata": {
    "collapsed": false
   },
   "outputs": [
    {
     "name": "stdout",
     "output_type": "stream",
     "text": [
      "['candidate_id', 'weight', 'mass', 'pt', 'rapidity', 'eta', 'vertexZ', 'vertexId', 'genMass', 'leadInitialEnergy', 'subLeadInitialEnergy', 'leadEnergy', 'subLeadEnergy', 'lead_5x5_Energy', 'subLead_5x5_Energy', 'mass_5x5', 'leadIsSat', 'subLeadIsSat', 'leadIsWeird', 'subLeadIsWeird', 'genLeadPt', 'genSubLeadPt', 'deltaEta', 'cosDeltaPhi', 'leadPt', 'subleadPt', 'leadEta', 'subleadEta', 'leadR9', 'subleadR9', 'leadScEta', 'subleadScEta', 'leadPhi', 'subleadPhi', 'minR9', 'maxEta', 'leadChIso03', 'leadPhoIso03', 'leadChIso03worst', 'leadPhoIDMVA', 'subLeadPhoIDMVA', 'leadPhoIsoEA', 'subleadPhoIsoEA', 'leadMatchType', 'leadGenIso', 'subleadMatchType', 'subleadGenIso', 'leadChIso', 'leadPhoIso', 'leadNeutIso', 'leadHoE', 'leadSigmaIeIe', 'leadPixSeed', 'leadPassEleVeto', 'subleadChIso03', 'subleadPhoIso03', 'subleadChIso03worst', 'subleadChIso', 'subleadPhoIso', 'subleadNeutIso', 'subleadHoE', 'subleadSigmaIeIe', 'subleadPixSeed', 'subleadPassEleVeto', 'leadSigEOverE', 'subleadSigEOverE', 'leadRecoEreg', 'leadRecoSigEOverE', 'subleadRecoEreg', 'subleadRecoSigEOverE', 'leadAfterSSTrEreg', 'leadAfterSSTrSigEOverE', 'subleadAfterSSTrEreg', 'subleadAfterSSTrSigEOverE', 'leadUnsmearedSigmaEoE', 'subleadUnsmearedSigmaEoE', 'leadUncorrR9', 'leadUncorrEtaWidth', 'leadUncorrS4', 'subleadUncorrR9', 'subleadUncorrEtaWidth', 'subleadUncorrS4', 'leadUncorr_non5x5_r9', 'leadUncorr_non5x5_sigmaIetaIeta', 'leadUncorr_non5x5_sigmaIetaIphi', 'leadUncorr_non5x5_sigmaIphiIphi', 'subleadUncorr_non5x5_r9', 'subleadUncorr_non5x5_sigmaIetaIeta', 'subleadUncorr_non5x5_sigmaIetaIphi', 'subleadUncorr_non5x5_sigmaIphiIphi', 'leadScClustersSize', 'leadScEnergy', 'leadFull5x5_e1x5', 'leadFull5x5_e2x5', 'leadFull5x5_e3x3', 'leadFull5x5_e5x5', 'leadFull5x5_maxEnergyXtal', 'leadFull5x5_sigmaIetaIeta', 'leadFull5x5_r1x5', 'leadFull5x5_r2x5', 'leadFull5x5_r9', 'leadEMax', 'leadE2nd', 'leadETop', 'leadEBottom', 'leadELeft', 'leadERight', 'leadIEta', 'leadIPhi', 'leadCryEta', 'leadCryPhi', 'leadE2x5right', 'leadE2x5left', 'leadE2x5top', 'leadE2x5bottom', 'leadE2x5max', 'leadE1x3', 'leadS4', 'leadSigmaRR', 'leadCovarianceIphiIphi', 'leadCovarianceIetaIphi', 'leadEtaWidth', 'leadPhiWidth', 'leadKSaturated', 'leadKWeird', 'subleadScClustersSize', 'subleadScEnergy', 'subleadFull5x5_e1x5', 'subleadFull5x5_e2x5', 'subleadFull5x5_e3x3', 'subleadFull5x5_e5x5', 'subleadFull5x5_maxEnergyXtal', 'subleadFull5x5_sigmaIetaIeta', 'subleadFull5x5_r1x5', 'subleadFull5x5_r2x5', 'subleadFull5x5_r9', 'subleadEMax', 'subleadE2nd', 'subleadETop', 'subleadEBottom', 'subleadELeft', 'subleadERight', 'subleadIEta', 'subleadIPhi', 'subleadCryEta', 'subleadCryPhi', 'subleadE2x5right', 'subleadE2x5left', 'subleadE2x5top', 'subleadE2x5bottom', 'subleadE2x5max', 'subleadE1x3', 'subleadS4', 'subleadSigmaRR', 'subleadCovarianceIphiIphi', 'subleadCovarianceIetaIphi', 'subleadEtaWidth', 'subleadPhiWidth', 'subleadKSaturated', 'subleadKWeird', 'leadScPreshowerEnergy', 'leadScPreshowerEnergyPlane1', 'leadScPreshowerEnergyPlane2', 'subleadScPreshowerEnergy', 'subleadPreshowerEnergyPlane1', 'subleadPreshowerEnergyPlane2', 'leadHLT_DoublePhoton60Match', 'leadHLT_DoublePhoton60Dr', 'leadHLT_DoublePhoton60Pt', 'subleadHLT_DoublePhoton60Match', 'subleadHLT_DoublePhoton60Dr', 'subleadHLT_DoublePhoton60Pt', 'leadHLT_ECALHT800Match', 'leadHLT_ECALHT800Dr', 'leadHLT_ECALHT800Pt', 'subleadHLT_ECALHT800Match', 'subleadHLT_ECALHT800Dr', 'subleadHLT_ECALHT800Pt', 'leadHLT_Ele27_WPTight_Gsf_vMatch', 'leadHLT_Ele27_WPTight_Gsf_vDr', 'leadHLT_Ele27_WPTight_Gsf_vPt', 'subleadHLT_Ele27_WPTight_Gsf_vMatch', 'subleadHLT_Ele27_WPTight_Gsf_vDr', 'subleadHLT_Ele27_WPTight_Gsf_vPt', 'leadEleMatch', 'subleadEleMatch', 'leadEleIsLoose', 'subleadEleIsLoose', 'leadEleIsMedium', 'subleadEleIsMedium', 'leadEleIsTight', 'subleadEleIsTight', 'rho', 'nvtx', 'event', 'lumi', 'processIndex', 'run', 'npu', 'puweight', 'HLT_DoublePhoton60', 'HLT_ECALHT800', 'HLT_Ele27_WPTight_Gsf_v']\n",
      "['weight', 'puweight']\n"
     ]
    }
   ],
   "source": [
    "spike_cols = [col for col in df.columns if 'weight' in col]\n",
    "print(list(df.columns))\n",
    "print(spike_cols)"
   ]
  },
  {
   "cell_type": "code",
   "execution_count": 4,
   "metadata": {
    "collapsed": false
   },
   "outputs": [
    {
     "data": {
      "text/html": [
       "<div>\n",
       "<table border=\"1\" class=\"dataframe\">\n",
       "  <thead>\n",
       "    <tr style=\"text-align: right;\">\n",
       "      <th></th>\n",
       "      <th>leadR9</th>\n",
       "      <th>leadS4</th>\n",
       "      <th>leadEtaWidth</th>\n",
       "    </tr>\n",
       "  </thead>\n",
       "  <tbody>\n",
       "    <tr>\n",
       "      <th>0</th>\n",
       "      <td>0.907645</td>\n",
       "      <td>0.853457</td>\n",
       "      <td>0.008851</td>\n",
       "    </tr>\n",
       "    <tr>\n",
       "      <th>1</th>\n",
       "      <td>0.899934</td>\n",
       "      <td>0.874295</td>\n",
       "      <td>0.008050</td>\n",
       "    </tr>\n",
       "    <tr>\n",
       "      <th>2</th>\n",
       "      <td>0.947240</td>\n",
       "      <td>0.890132</td>\n",
       "      <td>0.007987</td>\n",
       "    </tr>\n",
       "    <tr>\n",
       "      <th>3</th>\n",
       "      <td>0.937493</td>\n",
       "      <td>0.883222</td>\n",
       "      <td>0.008236</td>\n",
       "    </tr>\n",
       "    <tr>\n",
       "      <th>4</th>\n",
       "      <td>0.931902</td>\n",
       "      <td>0.793517</td>\n",
       "      <td>0.010537</td>\n",
       "    </tr>\n",
       "  </tbody>\n",
       "</table>\n",
       "</div>"
      ],
      "text/plain": [
       "     leadR9    leadS4  leadEtaWidth\n",
       "0  0.907645  0.853457      0.008851\n",
       "1  0.899934  0.874295      0.008050\n",
       "2  0.947240  0.890132      0.007987\n",
       "3  0.937493  0.883222      0.008236\n",
       "4  0.931902  0.793517      0.010537"
      ]
     },
     "execution_count": 4,
     "metadata": {},
     "output_type": "execute_result"
    }
   ],
   "source": [
    "#locate corrected lead variables:\n",
    "df.loc[:,['leadR9','leadS4', 'leadEtaWidth']].head()"
   ]
  },
  {
   "cell_type": "code",
   "execution_count": 5,
   "metadata": {
    "collapsed": false
   },
   "outputs": [
    {
     "data": {
      "text/html": [
       "<div>\n",
       "<table border=\"1\" class=\"dataframe\">\n",
       "  <thead>\n",
       "    <tr style=\"text-align: right;\">\n",
       "      <th></th>\n",
       "      <th>leadUncorrR9</th>\n",
       "      <th>leadUncorrS4</th>\n",
       "      <th>leadUncorrEtaWidth</th>\n",
       "    </tr>\n",
       "  </thead>\n",
       "  <tbody>\n",
       "    <tr>\n",
       "      <th>0</th>\n",
       "      <td>0.913005</td>\n",
       "      <td>0.855589</td>\n",
       "      <td>0.008366</td>\n",
       "    </tr>\n",
       "    <tr>\n",
       "      <th>1</th>\n",
       "      <td>0.904876</td>\n",
       "      <td>0.876845</td>\n",
       "      <td>0.007629</td>\n",
       "    </tr>\n",
       "    <tr>\n",
       "      <th>2</th>\n",
       "      <td>0.953412</td>\n",
       "      <td>0.892805</td>\n",
       "      <td>0.007573</td>\n",
       "    </tr>\n",
       "    <tr>\n",
       "      <th>3</th>\n",
       "      <td>0.944000</td>\n",
       "      <td>0.885870</td>\n",
       "      <td>0.007796</td>\n",
       "    </tr>\n",
       "    <tr>\n",
       "      <th>4</th>\n",
       "      <td>0.938319</td>\n",
       "      <td>0.794334</td>\n",
       "      <td>0.010028</td>\n",
       "    </tr>\n",
       "  </tbody>\n",
       "</table>\n",
       "</div>"
      ],
      "text/plain": [
       "   leadUncorrR9  leadUncorrS4  leadUncorrEtaWidth\n",
       "0      0.913005      0.855589            0.008366\n",
       "1      0.904876      0.876845            0.007629\n",
       "2      0.953412      0.892805            0.007573\n",
       "3      0.944000      0.885870            0.007796\n",
       "4      0.938319      0.794334            0.010028"
      ]
     },
     "execution_count": 5,
     "metadata": {},
     "output_type": "execute_result"
    }
   ],
   "source": [
    "#locate uncorrected lead variables:\n",
    "df.loc[:,['leadUncorrR9', 'leadUncorrS4', 'leadUncorrEtaWidth']].head()"
   ]
  },
  {
   "cell_type": "code",
   "execution_count": 6,
   "metadata": {
    "collapsed": false
   },
   "outputs": [
    {
     "data": {
      "text/html": [
       "<div>\n",
       "<table border=\"1\" class=\"dataframe\">\n",
       "  <thead>\n",
       "    <tr style=\"text-align: right;\">\n",
       "      <th></th>\n",
       "      <th>subleadR9</th>\n",
       "      <th>subleadS4</th>\n",
       "      <th>subleadEtaWidth</th>\n",
       "    </tr>\n",
       "  </thead>\n",
       "  <tbody>\n",
       "    <tr>\n",
       "      <th>0</th>\n",
       "      <td>0.933849</td>\n",
       "      <td>0.884299</td>\n",
       "      <td>0.008669</td>\n",
       "    </tr>\n",
       "    <tr>\n",
       "      <th>1</th>\n",
       "      <td>0.955641</td>\n",
       "      <td>0.917709</td>\n",
       "      <td>0.007750</td>\n",
       "    </tr>\n",
       "    <tr>\n",
       "      <th>2</th>\n",
       "      <td>0.864398</td>\n",
       "      <td>0.760647</td>\n",
       "      <td>0.009050</td>\n",
       "    </tr>\n",
       "    <tr>\n",
       "      <th>3</th>\n",
       "      <td>0.965740</td>\n",
       "      <td>0.880255</td>\n",
       "      <td>0.008256</td>\n",
       "    </tr>\n",
       "    <tr>\n",
       "      <th>4</th>\n",
       "      <td>0.946832</td>\n",
       "      <td>0.886540</td>\n",
       "      <td>0.008055</td>\n",
       "    </tr>\n",
       "  </tbody>\n",
       "</table>\n",
       "</div>"
      ],
      "text/plain": [
       "   subleadR9  subleadS4  subleadEtaWidth\n",
       "0   0.933849   0.884299         0.008669\n",
       "1   0.955641   0.917709         0.007750\n",
       "2   0.864398   0.760647         0.009050\n",
       "3   0.965740   0.880255         0.008256\n",
       "4   0.946832   0.886540         0.008055"
      ]
     },
     "execution_count": 6,
     "metadata": {},
     "output_type": "execute_result"
    }
   ],
   "source": [
    "#locate corrected sublead variables:\n",
    "df.loc[:,['subleadR9','subleadS4', 'subleadEtaWidth']].head()"
   ]
  },
  {
   "cell_type": "code",
   "execution_count": 7,
   "metadata": {
    "collapsed": false
   },
   "outputs": [
    {
     "data": {
      "text/html": [
       "<div>\n",
       "<table border=\"1\" class=\"dataframe\">\n",
       "  <thead>\n",
       "    <tr style=\"text-align: right;\">\n",
       "      <th></th>\n",
       "      <th>subleadUncorrR9</th>\n",
       "      <th>subleadUncorrS4</th>\n",
       "      <th>subleadUncorrEtaWidth</th>\n",
       "    </tr>\n",
       "  </thead>\n",
       "  <tbody>\n",
       "    <tr>\n",
       "      <th>0</th>\n",
       "      <td>0.940325</td>\n",
       "      <td>0.886952</td>\n",
       "      <td>0.008195</td>\n",
       "    </tr>\n",
       "    <tr>\n",
       "      <th>1</th>\n",
       "      <td>0.961121</td>\n",
       "      <td>0.920297</td>\n",
       "      <td>0.007364</td>\n",
       "    </tr>\n",
       "    <tr>\n",
       "      <th>2</th>\n",
       "      <td>0.867923</td>\n",
       "      <td>0.760676</td>\n",
       "      <td>0.008559</td>\n",
       "    </tr>\n",
       "    <tr>\n",
       "      <th>3</th>\n",
       "      <td>0.970312</td>\n",
       "      <td>0.882911</td>\n",
       "      <td>0.007814</td>\n",
       "    </tr>\n",
       "    <tr>\n",
       "      <th>4</th>\n",
       "      <td>0.953036</td>\n",
       "      <td>0.889200</td>\n",
       "      <td>0.007633</td>\n",
       "    </tr>\n",
       "  </tbody>\n",
       "</table>\n",
       "</div>"
      ],
      "text/plain": [
       "   subleadUncorrR9  subleadUncorrS4  subleadUncorrEtaWidth\n",
       "0         0.940325         0.886952               0.008195\n",
       "1         0.961121         0.920297               0.007364\n",
       "2         0.867923         0.760676               0.008559\n",
       "3         0.970312         0.882911               0.007814\n",
       "4         0.953036         0.889200               0.007633"
      ]
     },
     "execution_count": 7,
     "metadata": {},
     "output_type": "execute_result"
    }
   ],
   "source": [
    "#locate uncorrected lead variables:\n",
    "df.loc[:,['subleadUncorrR9', 'subleadUncorrS4', 'subleadUncorrEtaWidth']].head()"
   ]
  },
  {
   "cell_type": "code",
   "execution_count": 8,
   "metadata": {
    "collapsed": false
   },
   "outputs": [
    {
     "data": {
      "text/plain": [
       "rho    13.936206\n",
       "dtype: float32"
      ]
     },
     "execution_count": 8,
     "metadata": {},
     "output_type": "execute_result"
    }
   ],
   "source": [
    "df.loc[:,['rho']].mean()"
   ]
  },
  {
   "cell_type": "code",
   "execution_count": 24,
   "metadata": {
    "collapsed": false
   },
   "outputs": [
    {
     "ename": "KeyError",
     "evalue": "'the label [weight*] is not in the [columns]'",
     "output_type": "error",
     "traceback": [
      "\u001b[0;31m\u001b[0m",
      "\u001b[0;31mKeyError\u001b[0mTraceback (most recent call last)",
      "\u001b[0;32m<ipython-input-24-76f7b5d5ad9b>\u001b[0m in \u001b[0;36m<module>\u001b[0;34m()\u001b[0m\n\u001b[0;32m----> 1\u001b[0;31m \u001b[0mdf\u001b[0m\u001b[0;34m.\u001b[0m\u001b[0mloc\u001b[0m\u001b[0;34m[\u001b[0m\u001b[0;34m:\u001b[0m\u001b[0;34m,\u001b[0m\u001b[0;34m'weight*'\u001b[0m\u001b[0;34m]\u001b[0m\u001b[0;34m.\u001b[0m\u001b[0mhead\u001b[0m\u001b[0;34m(\u001b[0m\u001b[0;34m)\u001b[0m\u001b[0;34m\u001b[0m\u001b[0m\n\u001b[0m\u001b[1;32m      2\u001b[0m  \u001b[0;31m#df.loc[:,'weight'].mean()\u001b[0m\u001b[0;34m\u001b[0m\u001b[0;34m\u001b[0m\u001b[0m\n\u001b[1;32m      3\u001b[0m \u001b[0;31m#df.loc[:,'weights'].std()\u001b[0m\u001b[0;34m\u001b[0m\u001b[0;34m\u001b[0m\u001b[0m\n",
      "\u001b[0;32m/swshare/anaconda/lib/python2.7/site-packages/pandas/core/indexing.py\u001b[0m in \u001b[0;36m__getitem__\u001b[0;34m(self, key)\u001b[0m\n\u001b[1;32m   1292\u001b[0m \u001b[0;34m\u001b[0m\u001b[0m\n\u001b[1;32m   1293\u001b[0m         \u001b[0;32mif\u001b[0m \u001b[0mtype\u001b[0m\u001b[0;34m(\u001b[0m\u001b[0mkey\u001b[0m\u001b[0;34m)\u001b[0m \u001b[0;32mis\u001b[0m \u001b[0mtuple\u001b[0m\u001b[0;34m:\u001b[0m\u001b[0;34m\u001b[0m\u001b[0m\n\u001b[0;32m-> 1294\u001b[0;31m             \u001b[0;32mreturn\u001b[0m \u001b[0mself\u001b[0m\u001b[0;34m.\u001b[0m\u001b[0m_getitem_tuple\u001b[0m\u001b[0;34m(\u001b[0m\u001b[0mkey\u001b[0m\u001b[0;34m)\u001b[0m\u001b[0;34m\u001b[0m\u001b[0m\n\u001b[0m\u001b[1;32m   1295\u001b[0m         \u001b[0;32melse\u001b[0m\u001b[0;34m:\u001b[0m\u001b[0;34m\u001b[0m\u001b[0m\n\u001b[1;32m   1296\u001b[0m             \u001b[0;32mreturn\u001b[0m \u001b[0mself\u001b[0m\u001b[0;34m.\u001b[0m\u001b[0m_getitem_axis\u001b[0m\u001b[0;34m(\u001b[0m\u001b[0mkey\u001b[0m\u001b[0;34m,\u001b[0m \u001b[0maxis\u001b[0m\u001b[0;34m=\u001b[0m\u001b[0;36m0\u001b[0m\u001b[0;34m)\u001b[0m\u001b[0;34m\u001b[0m\u001b[0m\n",
      "\u001b[0;32m/swshare/anaconda/lib/python2.7/site-packages/pandas/core/indexing.py\u001b[0m in \u001b[0;36m_getitem_tuple\u001b[0;34m(self, tup)\u001b[0m\n\u001b[1;32m    782\u001b[0m     \u001b[0;32mdef\u001b[0m \u001b[0m_getitem_tuple\u001b[0m\u001b[0;34m(\u001b[0m\u001b[0mself\u001b[0m\u001b[0;34m,\u001b[0m \u001b[0mtup\u001b[0m\u001b[0;34m)\u001b[0m\u001b[0;34m:\u001b[0m\u001b[0;34m\u001b[0m\u001b[0m\n\u001b[1;32m    783\u001b[0m         \u001b[0;32mtry\u001b[0m\u001b[0;34m:\u001b[0m\u001b[0;34m\u001b[0m\u001b[0m\n\u001b[0;32m--> 784\u001b[0;31m             \u001b[0;32mreturn\u001b[0m \u001b[0mself\u001b[0m\u001b[0;34m.\u001b[0m\u001b[0m_getitem_lowerdim\u001b[0m\u001b[0;34m(\u001b[0m\u001b[0mtup\u001b[0m\u001b[0;34m)\u001b[0m\u001b[0;34m\u001b[0m\u001b[0m\n\u001b[0m\u001b[1;32m    785\u001b[0m         \u001b[0;32mexcept\u001b[0m \u001b[0mIndexingError\u001b[0m\u001b[0;34m:\u001b[0m\u001b[0;34m\u001b[0m\u001b[0m\n\u001b[1;32m    786\u001b[0m             \u001b[0;32mpass\u001b[0m\u001b[0;34m\u001b[0m\u001b[0m\n",
      "\u001b[0;32m/swshare/anaconda/lib/python2.7/site-packages/pandas/core/indexing.py\u001b[0m in \u001b[0;36m_getitem_lowerdim\u001b[0;34m(self, tup)\u001b[0m\n\u001b[1;32m    906\u001b[0m         \u001b[0;32mfor\u001b[0m \u001b[0mi\u001b[0m\u001b[0;34m,\u001b[0m \u001b[0mkey\u001b[0m \u001b[0;32min\u001b[0m \u001b[0menumerate\u001b[0m\u001b[0;34m(\u001b[0m\u001b[0mtup\u001b[0m\u001b[0;34m)\u001b[0m\u001b[0;34m:\u001b[0m\u001b[0;34m\u001b[0m\u001b[0m\n\u001b[1;32m    907\u001b[0m             \u001b[0;32mif\u001b[0m \u001b[0mis_label_like\u001b[0m\u001b[0;34m(\u001b[0m\u001b[0mkey\u001b[0m\u001b[0;34m)\u001b[0m \u001b[0;32mor\u001b[0m \u001b[0misinstance\u001b[0m\u001b[0;34m(\u001b[0m\u001b[0mkey\u001b[0m\u001b[0;34m,\u001b[0m \u001b[0mtuple\u001b[0m\u001b[0;34m)\u001b[0m\u001b[0;34m:\u001b[0m\u001b[0;34m\u001b[0m\u001b[0m\n\u001b[0;32m--> 908\u001b[0;31m                 \u001b[0msection\u001b[0m \u001b[0;34m=\u001b[0m \u001b[0mself\u001b[0m\u001b[0;34m.\u001b[0m\u001b[0m_getitem_axis\u001b[0m\u001b[0;34m(\u001b[0m\u001b[0mkey\u001b[0m\u001b[0;34m,\u001b[0m \u001b[0maxis\u001b[0m\u001b[0;34m=\u001b[0m\u001b[0mi\u001b[0m\u001b[0;34m)\u001b[0m\u001b[0;34m\u001b[0m\u001b[0m\n\u001b[0m\u001b[1;32m    909\u001b[0m \u001b[0;34m\u001b[0m\u001b[0m\n\u001b[1;32m    910\u001b[0m                 \u001b[0;31m# we have yielded a scalar ?\u001b[0m\u001b[0;34m\u001b[0m\u001b[0;34m\u001b[0m\u001b[0m\n",
      "\u001b[0;32m/swshare/anaconda/lib/python2.7/site-packages/pandas/core/indexing.py\u001b[0m in \u001b[0;36m_getitem_axis\u001b[0;34m(self, key, axis)\u001b[0m\n\u001b[1;32m   1464\u001b[0m \u001b[0;34m\u001b[0m\u001b[0m\n\u001b[1;32m   1465\u001b[0m         \u001b[0;31m# fall thru to straight lookup\u001b[0m\u001b[0;34m\u001b[0m\u001b[0;34m\u001b[0m\u001b[0m\n\u001b[0;32m-> 1466\u001b[0;31m         \u001b[0mself\u001b[0m\u001b[0;34m.\u001b[0m\u001b[0m_has_valid_type\u001b[0m\u001b[0;34m(\u001b[0m\u001b[0mkey\u001b[0m\u001b[0;34m,\u001b[0m \u001b[0maxis\u001b[0m\u001b[0;34m)\u001b[0m\u001b[0;34m\u001b[0m\u001b[0m\n\u001b[0m\u001b[1;32m   1467\u001b[0m         \u001b[0;32mreturn\u001b[0m \u001b[0mself\u001b[0m\u001b[0;34m.\u001b[0m\u001b[0m_get_label\u001b[0m\u001b[0;34m(\u001b[0m\u001b[0mkey\u001b[0m\u001b[0;34m,\u001b[0m \u001b[0maxis\u001b[0m\u001b[0;34m=\u001b[0m\u001b[0maxis\u001b[0m\u001b[0;34m)\u001b[0m\u001b[0;34m\u001b[0m\u001b[0m\n\u001b[1;32m   1468\u001b[0m \u001b[0;34m\u001b[0m\u001b[0m\n",
      "\u001b[0;32m/swshare/anaconda/lib/python2.7/site-packages/pandas/core/indexing.py\u001b[0m in \u001b[0;36m_has_valid_type\u001b[0;34m(self, key, axis)\u001b[0m\n\u001b[1;32m   1401\u001b[0m                 \u001b[0;32mraise\u001b[0m\u001b[0;34m\u001b[0m\u001b[0m\n\u001b[1;32m   1402\u001b[0m             \u001b[0;32mexcept\u001b[0m\u001b[0;34m:\u001b[0m\u001b[0;34m\u001b[0m\u001b[0m\n\u001b[0;32m-> 1403\u001b[0;31m                 \u001b[0merror\u001b[0m\u001b[0;34m(\u001b[0m\u001b[0;34m)\u001b[0m\u001b[0;34m\u001b[0m\u001b[0m\n\u001b[0m\u001b[1;32m   1404\u001b[0m \u001b[0;34m\u001b[0m\u001b[0m\n\u001b[1;32m   1405\u001b[0m         \u001b[0;32mreturn\u001b[0m \u001b[0mTrue\u001b[0m\u001b[0;34m\u001b[0m\u001b[0m\n",
      "\u001b[0;32m/swshare/anaconda/lib/python2.7/site-packages/pandas/core/indexing.py\u001b[0m in \u001b[0;36merror\u001b[0;34m()\u001b[0m\n\u001b[1;32m   1388\u001b[0m                                     \"key\")\n\u001b[1;32m   1389\u001b[0m                 raise KeyError(\"the label [%s] is not in the [%s]\" %\n\u001b[0;32m-> 1390\u001b[0;31m                                (key, self.obj._get_axis_name(axis)))\n\u001b[0m\u001b[1;32m   1391\u001b[0m \u001b[0;34m\u001b[0m\u001b[0m\n\u001b[1;32m   1392\u001b[0m             \u001b[0;32mtry\u001b[0m\u001b[0;34m:\u001b[0m\u001b[0;34m\u001b[0m\u001b[0m\n",
      "\u001b[0;31mKeyError\u001b[0m: 'the label [weight*] is not in the [columns]'"
     ]
    }
   ],
   "source": [
    "df.loc[:,'weight'].head()\n",
    " #df.loc[:,'weight'].mean()\n",
    "#df.loc[:,'weights'].std()"
   ]
  },
  {
   "cell_type": "code",
   "execution_count": 10,
   "metadata": {
    "collapsed": false
   },
   "outputs": [
    {
     "data": {
      "text/plain": [
       "0     0.100804\n",
       "1     0.113754\n",
       "2     0.094869\n",
       "3     0.109552\n",
       "4     0.065201\n",
       "5     0.010085\n",
       "6     0.098260\n",
       "7     0.097975\n",
       "8    -0.109508\n",
       "9     0.097922\n",
       "10   -0.054922\n",
       "11    0.120407\n",
       "12    0.095430\n",
       "13    0.002947\n",
       "14    0.098004\n",
       "15    0.097956\n",
       "16   -0.107679\n",
       "17   -0.022670\n",
       "18    0.096561\n",
       "19    0.098843\n",
       "20    0.097019\n",
       "21    0.107018\n",
       "22    0.096795\n",
       "23    0.096248\n",
       "24    0.115487\n",
       "25    0.102407\n",
       "26   -0.094920\n",
       "27    0.098327\n",
       "28   -0.100929\n",
       "29   -0.107066\n",
       "30    0.097541\n",
       "31    0.099400\n",
       "32    0.107205\n",
       "33    0.104136\n",
       "34   -0.108962\n",
       "35    0.108209\n",
       "36    0.100036\n",
       "37    0.097008\n",
       "38    0.099112\n",
       "39    0.099968\n",
       "Name: weight, dtype: float32"
      ]
     },
     "execution_count": 10,
     "metadata": {},
     "output_type": "execute_result"
    }
   ],
   "source": [
    "df.loc[:,\"weight\"].head(40)"
   ]
  },
  {
   "cell_type": "code",
   "execution_count": 11,
   "metadata": {
    "collapsed": false
   },
   "outputs": [
    {
     "data": {
      "text/plain": [
       "0     0.100804\n",
       "1     0.113754\n",
       "2     0.094869\n",
       "3     0.109552\n",
       "4     0.065201\n",
       "5     0.010085\n",
       "6     0.098260\n",
       "7     0.097975\n",
       "8     0.109508\n",
       "9     0.097922\n",
       "10    0.054922\n",
       "11    0.120407\n",
       "12    0.095430\n",
       "13    0.002947\n",
       "14    0.098004\n",
       "15    0.097956\n",
       "16    0.107679\n",
       "17    0.022670\n",
       "18    0.096561\n",
       "19    0.098843\n",
       "20    0.097019\n",
       "21    0.107018\n",
       "22    0.096795\n",
       "23    0.096248\n",
       "24    0.115487\n",
       "25    0.102407\n",
       "26    0.094920\n",
       "27    0.098327\n",
       "28    0.100929\n",
       "29    0.107066\n",
       "30    0.097541\n",
       "31    0.099400\n",
       "32    0.107205\n",
       "33    0.104136\n",
       "34    0.108962\n",
       "35    0.108209\n",
       "36    0.100036\n",
       "37    0.097008\n",
       "38    0.099112\n",
       "39    0.099968\n",
       "Name: weight, dtype: float32"
      ]
     },
     "execution_count": 11,
     "metadata": {},
     "output_type": "execute_result"
    }
   ],
   "source": [
    "df.loc[:,\"weight\"].abs().head(40)"
   ]
  },
  {
   "cell_type": "code",
   "execution_count": 12,
   "metadata": {
    "collapsed": false
   },
   "outputs": [],
   "source": [
    " w = df.query(\"weight<0\").loc[:,\"weight\"].index"
   ]
  },
  {
   "cell_type": "code",
   "execution_count": 13,
   "metadata": {
    "collapsed": false
   },
   "outputs": [],
   "source": [
    "df.loc[df.query(\"weight<0\").index,\"weight\"]=0"
   ]
  },
  {
   "cell_type": "code",
   "execution_count": 14,
   "metadata": {
    "collapsed": false
   },
   "outputs": [
    {
     "data": {
      "text/plain": [
       "0.07742822915315628"
      ]
     },
     "execution_count": 14,
     "metadata": {},
     "output_type": "execute_result"
    }
   ],
   "source": [
    "df.loc[:,\"weight\"].abs().mean()"
   ]
  },
  {
   "cell_type": "code",
   "execution_count": 16,
   "metadata": {
    "collapsed": false
   },
   "outputs": [
    {
     "name": "stdout",
     "output_type": "stream",
     "text": [
      "Load the data dataframe\n",
      "Loading dataframe from :  /mnt/t3nfs01/data01/shome/giulioisac/dataMC/MTR/df_data_0-2000000.h5\n",
      "\u001b[92mSelecting events \u001b[0m  [ 0 ,  2000000 ]  out of  2000000\n",
      "number of events: 2000000\n"
     ]
    }
   ],
   "source": [
    "# just need to load the data for plotting \n",
    "qr_data = quantileRegression(\"data\")\n",
    "startEvt = 0\n",
    "stopEvt   = 2000000\n",
    "print \"Load the data dataframe\"\n",
    "qr_data.loadDFh5(\"/mnt/t3nfs01/data01/shome/giulioisac/dataMC/MTR/df_data_0-2000000.h5\", startEvt, stopEvt)\n",
    "dfdata = qr_data.getDF()"
   ]
  },
  {
   "cell_type": "code",
   "execution_count": 19,
   "metadata": {
    "collapsed": false
   },
   "outputs": [
    {
     "data": {
      "text/plain": [
       "0    1.0\n",
       "1    1.0\n",
       "2    1.0\n",
       "3    1.0\n",
       "4    1.0\n",
       "Name: weight, dtype: float32"
      ]
     },
     "execution_count": 19,
     "metadata": {},
     "output_type": "execute_result"
    }
   ],
   "source": [
    "dfdata.loc[:,\"weight\"].head()"
   ]
  },
  {
   "cell_type": "code",
   "execution_count": 20,
   "metadata": {
    "collapsed": false
   },
   "outputs": [
    {
     "data": {
      "image/png": "[encoded data removed]",
      "text/plain": [
       "<matplotlib.figure.Figure at 0x7f6b7c658d50>"
      ]
     },
     "metadata": {},
     "output_type": "display_data"
    }
   ],
   "source": [
    "import numpy as np\n",
    "import pylab as plt\n",
    "\n",
    "data       = np.array(np.random.rand(1000))\n",
    "y,binEdges = np.histogram(data,bins=10)\n",
    "bincenters = 0.5*(binEdges[1:]+binEdges[:-1])\n",
    "menStd     = np.sqrt(y)\n",
    "width      = 0.05\n",
    "plt.bar(bincenters, y, width=width, color='r', yerr=menStd)\n",
    "plt.show()"
   ]
  },
  {
   "cell_type": "code",
   "execution_count": null,
   "metadata": {
    "collapsed": true
   },
   "outputs": [],
   "source": []
  }
 ],
 "metadata": {
  "anaconda-cloud": {},
  "kernelspec": {
   "display_name": "Python [conda root]",
   "language": "python",
   "name": "conda-root-py"
  },
  "language_info": {
   "codemirror_mode": {
    "name": "ipython",
    "version": 2
   },
   "file_extension": ".py",
   "mimetype": "text/x-python",
   "name": "python",
   "nbconvert_exporter": "python",
   "pygments_lexer": "ipython2",
   "version": "2.7.12"
  }
 },
 "nbformat": 4,
 "nbformat_minor": 1
}
