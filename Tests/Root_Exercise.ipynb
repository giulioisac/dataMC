{
 "cells": [
  {
   "cell_type": "code",
   "execution_count": 1,
   "metadata": {
    "collapsed": false
   },
   "outputs": [
    {
     "data": {
      "application/javascript": [
       "require(['codemirror/mode/clike/clike'], function(Clike) { console.log('ROOTaaS - C++ CodeMirror module loaded'); });"
      ]
     },
     "metadata": {},
     "output_type": "display_data"
    },
    {
     "data": {
      "application/javascript": [
       "IPython.CodeCell.config_defaults.highlight_modes['magic_text/x-c++src'] = {'reg':[/^%%cpp/]};"
      ]
     },
     "metadata": {},
     "output_type": "display_data"
    },
    {
     "name": "stdout",
     "output_type": "stream",
     "text": [
      "Welcome to ROOTaaS 6.06/08\n"
     ]
    }
   ],
   "source": [
    "import numpy as np\n",
    "import ROOT as rt\n",
    "import root_numpy as rnp\n",
    "import root_pandas as rpd\n",
    "from root_pandas import read_root"
   ]
  },
  {
   "cell_type": "code",
   "execution_count": 2,
   "metadata": {
    "collapsed": false
   },
   "outputs": [
    {
     "name": "stdout",
     "output_type": "stream",
     "text": [
      "Trees in the root file: \n"
     ]
    },
    {
     "data": {
      "text/plain": [
       "['gen/trees/DYJetsToLL_13TeV_EB',\n",
       " 'gen/trees/DYJetsToLL_13TeV_EE',\n",
       " 'cicNoSigmaIetaIeta/trees/DYJetsToLL_13TeV_EBHighR9',\n",
       " 'cicNoSigmaIetaIeta/trees/DYJetsToLL_13TeV_EBLowR9',\n",
       " 'cicNoSigmaIetaIeta/trees/DYJetsToLL_13TeV_EEHighR9',\n",
       " 'cicNoSigmaIetaIeta/trees/DYJetsToLL_13TeV_EELowR9']"
      ]
     },
     "execution_count": 2,
     "metadata": {},
     "output_type": "execute_result"
    }
   ],
   "source": [
    "#Examine a root file \n",
    "print \"Trees in the root file: \"\n",
    "rnp.list_trees('/mnt/t3nfs01/data01/shome/mdonega/lxplus/work/CMSSW_8_0_26_patch1/src/diphotons/Analysis/macros/double_ele_v8_moriond17_mc/output.root')"
   ]
  },
  {
   "cell_type": "code",
   "execution_count": 3,
   "metadata": {
    "collapsed": false
   },
   "outputs": [
    {
     "name": "stdout",
     "output_type": "stream",
     "text": [
      "read one of the trees and specify columns\n"
     ]
    },
    {
     "data": {
      "text/plain": [
       "Index([u'candidate_id', u'weight', u'mass', u'pt', u'rapidity', u'eta',\n",
       "       u'vertexZ', u'vertexId', u'genMass', u'leadInitialEnergy',\n",
       "       ...\n",
       "       u'nvtx', u'event', u'lumi', u'processIndex', u'run', u'npu',\n",
       "       u'puweight', u'HLT_DoublePhoton60', u'HLT_ECALHT800',\n",
       "       u'HLT_Ele27_WPTight_Gsf_v'],\n",
       "      dtype='object', length=203)"
      ]
     },
     "execution_count": 3,
     "metadata": {},
     "output_type": "execute_result"
    }
   ],
   "source": [
    "print \"read one of the trees and specify columns\"\n",
    "df = read_root('/mnt/t3nfs01/data01/shome/mdonega/lxplus/work/CMSSW_8_0_26_patch1/src/diphotons/Analysis/macros/double_ele_v8_moriond17_mc/output.root','cicNoSigmaIetaIeta/trees/DYJetsToLL_13TeV_EBHighR9')\n",
    "df.columns"
   ]
  },
  {
   "cell_type": "code",
   "execution_count": 4,
   "metadata": {
    "collapsed": false
   },
   "outputs": [
    {
     "data": {
      "text/html": [
       "<div>\n",
       "<table border=\"1\" class=\"dataframe\">\n",
       "  <thead>\n",
       "    <tr style=\"text-align: right;\">\n",
       "      <th></th>\n",
       "      <th>leadR9</th>\n",
       "      <th>leadS4</th>\n",
       "      <th>leadEtaWidth</th>\n",
       "    </tr>\n",
       "  </thead>\n",
       "  <tbody>\n",
       "    <tr>\n",
       "      <th>0</th>\n",
       "      <td>0.907645</td>\n",
       "      <td>0.853457</td>\n",
       "      <td>0.008851</td>\n",
       "    </tr>\n",
       "    <tr>\n",
       "      <th>1</th>\n",
       "      <td>0.899934</td>\n",
       "      <td>0.874295</td>\n",
       "      <td>0.008050</td>\n",
       "    </tr>\n",
       "    <tr>\n",
       "      <th>2</th>\n",
       "      <td>0.947240</td>\n",
       "      <td>0.890132</td>\n",
       "      <td>0.007987</td>\n",
       "    </tr>\n",
       "    <tr>\n",
       "      <th>3</th>\n",
       "      <td>0.937493</td>\n",
       "      <td>0.883222</td>\n",
       "      <td>0.008236</td>\n",
       "    </tr>\n",
       "    <tr>\n",
       "      <th>4</th>\n",
       "      <td>0.931902</td>\n",
       "      <td>0.793517</td>\n",
       "      <td>0.010537</td>\n",
       "    </tr>\n",
       "  </tbody>\n",
       "</table>\n",
       "</div>"
      ],
      "text/plain": [
       "     leadR9    leadS4  leadEtaWidth\n",
       "0  0.907645  0.853457      0.008851\n",
       "1  0.899934  0.874295      0.008050\n",
       "2  0.947240  0.890132      0.007987\n",
       "3  0.937493  0.883222      0.008236\n",
       "4  0.931902  0.793517      0.010537"
      ]
     },
     "execution_count": 4,
     "metadata": {},
     "output_type": "execute_result"
    }
   ],
   "source": [
    "#locate corrected lead variables:\n",
    "df.loc[:,['leadR9','leadS4', 'leadEtaWidth']].head()"
   ]
  },
  {
   "cell_type": "code",
   "execution_count": 5,
   "metadata": {
    "collapsed": false
   },
   "outputs": [
    {
     "data": {
      "text/html": [
       "<div>\n",
       "<table border=\"1\" class=\"dataframe\">\n",
       "  <thead>\n",
       "    <tr style=\"text-align: right;\">\n",
       "      <th></th>\n",
       "      <th>leadUncorrR9</th>\n",
       "      <th>leadUncorrS4</th>\n",
       "      <th>leadUncorrEtaWidth</th>\n",
       "    </tr>\n",
       "  </thead>\n",
       "  <tbody>\n",
       "    <tr>\n",
       "      <th>0</th>\n",
       "      <td>0.913005</td>\n",
       "      <td>0.855589</td>\n",
       "      <td>0.008366</td>\n",
       "    </tr>\n",
       "    <tr>\n",
       "      <th>1</th>\n",
       "      <td>0.904876</td>\n",
       "      <td>0.876845</td>\n",
       "      <td>0.007629</td>\n",
       "    </tr>\n",
       "    <tr>\n",
       "      <th>2</th>\n",
       "      <td>0.953412</td>\n",
       "      <td>0.892805</td>\n",
       "      <td>0.007573</td>\n",
       "    </tr>\n",
       "    <tr>\n",
       "      <th>3</th>\n",
       "      <td>0.944000</td>\n",
       "      <td>0.885870</td>\n",
       "      <td>0.007796</td>\n",
       "    </tr>\n",
       "    <tr>\n",
       "      <th>4</th>\n",
       "      <td>0.938319</td>\n",
       "      <td>0.794334</td>\n",
       "      <td>0.010028</td>\n",
       "    </tr>\n",
       "  </tbody>\n",
       "</table>\n",
       "</div>"
      ],
      "text/plain": [
       "   leadUncorrR9  leadUncorrS4  leadUncorrEtaWidth\n",
       "0      0.913005      0.855589            0.008366\n",
       "1      0.904876      0.876845            0.007629\n",
       "2      0.953412      0.892805            0.007573\n",
       "3      0.944000      0.885870            0.007796\n",
       "4      0.938319      0.794334            0.010028"
      ]
     },
     "execution_count": 5,
     "metadata": {},
     "output_type": "execute_result"
    }
   ],
   "source": [
    "#locate uncorrected lead variables:\n",
    "df.loc[:,['leadUncorrR9', 'leadUncorrS4', 'leadUncorrEtaWidth']].head()"
   ]
  },
  {
   "cell_type": "code",
   "execution_count": 6,
   "metadata": {
    "collapsed": false
   },
   "outputs": [
    {
     "data": {
      "text/html": [
       "<div>\n",
       "<table border=\"1\" class=\"dataframe\">\n",
       "  <thead>\n",
       "    <tr style=\"text-align: right;\">\n",
       "      <th></th>\n",
       "      <th>subleadR9</th>\n",
       "      <th>subleadS4</th>\n",
       "      <th>subleadEtaWidth</th>\n",
       "    </tr>\n",
       "  </thead>\n",
       "  <tbody>\n",
       "    <tr>\n",
       "      <th>0</th>\n",
       "      <td>0.933849</td>\n",
       "      <td>0.884299</td>\n",
       "      <td>0.008669</td>\n",
       "    </tr>\n",
       "    <tr>\n",
       "      <th>1</th>\n",
       "      <td>0.955641</td>\n",
       "      <td>0.917709</td>\n",
       "      <td>0.007750</td>\n",
       "    </tr>\n",
       "    <tr>\n",
       "      <th>2</th>\n",
       "      <td>0.864398</td>\n",
       "      <td>0.760647</td>\n",
       "      <td>0.009050</td>\n",
       "    </tr>\n",
       "    <tr>\n",
       "      <th>3</th>\n",
       "      <td>0.965740</td>\n",
       "      <td>0.880255</td>\n",
       "      <td>0.008256</td>\n",
       "    </tr>\n",
       "    <tr>\n",
       "      <th>4</th>\n",
       "      <td>0.946832</td>\n",
       "      <td>0.886540</td>\n",
       "      <td>0.008055</td>\n",
       "    </tr>\n",
       "  </tbody>\n",
       "</table>\n",
       "</div>"
      ],
      "text/plain": [
       "   subleadR9  subleadS4  subleadEtaWidth\n",
       "0   0.933849   0.884299         0.008669\n",
       "1   0.955641   0.917709         0.007750\n",
       "2   0.864398   0.760647         0.009050\n",
       "3   0.965740   0.880255         0.008256\n",
       "4   0.946832   0.886540         0.008055"
      ]
     },
     "execution_count": 6,
     "metadata": {},
     "output_type": "execute_result"
    }
   ],
   "source": [
    "#locate corrected sublead variables:\n",
    "df.loc[:,['subleadR9','subleadS4', 'subleadEtaWidth']].head()"
   ]
  },
  {
   "cell_type": "code",
   "execution_count": 7,
   "metadata": {
    "collapsed": false
   },
   "outputs": [
    {
     "data": {
      "text/html": [
       "<div>\n",
       "<table border=\"1\" class=\"dataframe\">\n",
       "  <thead>\n",
       "    <tr style=\"text-align: right;\">\n",
       "      <th></th>\n",
       "      <th>subleadUncorrR9</th>\n",
       "      <th>subleadUncorrS4</th>\n",
       "      <th>subleadUncorrEtaWidth</th>\n",
       "    </tr>\n",
       "  </thead>\n",
       "  <tbody>\n",
       "    <tr>\n",
       "      <th>0</th>\n",
       "      <td>0.940325</td>\n",
       "      <td>0.886952</td>\n",
       "      <td>0.008195</td>\n",
       "    </tr>\n",
       "    <tr>\n",
       "      <th>1</th>\n",
       "      <td>0.961121</td>\n",
       "      <td>0.920297</td>\n",
       "      <td>0.007364</td>\n",
       "    </tr>\n",
       "    <tr>\n",
       "      <th>2</th>\n",
       "      <td>0.867923</td>\n",
       "      <td>0.760676</td>\n",
       "      <td>0.008559</td>\n",
       "    </tr>\n",
       "    <tr>\n",
       "      <th>3</th>\n",
       "      <td>0.970312</td>\n",
       "      <td>0.882911</td>\n",
       "      <td>0.007814</td>\n",
       "    </tr>\n",
       "    <tr>\n",
       "      <th>4</th>\n",
       "      <td>0.953036</td>\n",
       "      <td>0.889200</td>\n",
       "      <td>0.007633</td>\n",
       "    </tr>\n",
       "  </tbody>\n",
       "</table>\n",
       "</div>"
      ],
      "text/plain": [
       "   subleadUncorrR9  subleadUncorrS4  subleadUncorrEtaWidth\n",
       "0         0.940325         0.886952               0.008195\n",
       "1         0.961121         0.920297               0.007364\n",
       "2         0.867923         0.760676               0.008559\n",
       "3         0.970312         0.882911               0.007814\n",
       "4         0.953036         0.889200               0.007633"
      ]
     },
     "execution_count": 7,
     "metadata": {},
     "output_type": "execute_result"
    }
   ],
   "source": [
    "#locate uncorrected lead variables:\n",
    "df.loc[:,['subleadUncorrR9', 'subleadUncorrS4', 'subleadUncorrEtaWidth']].head()"
   ]
  },
  {
   "cell_type": "code",
   "execution_count": 8,
   "metadata": {
    "collapsed": false
   },
   "outputs": [
    {
     "data": {
      "text/plain": [
       "rho    13.936206\n",
       "dtype: float32"
      ]
     },
     "execution_count": 8,
     "metadata": {},
     "output_type": "execute_result"
    }
   ],
   "source": [
    "df.loc[:,['rho']].mean()"
   ]
  },
  {
   "cell_type": "code",
   "execution_count": 11,
   "metadata": {
    "collapsed": false
   },
   "outputs": [
    {
     "data": {
      "text/plain": [
       "0    0.100804\n",
       "1    0.113754\n",
       "2    0.094869\n",
       "3    0.109552\n",
       "4    0.065201\n",
       "Name: weight, dtype: float32"
      ]
     },
     "execution_count": 11,
     "metadata": {},
     "output_type": "execute_result"
    }
   ],
   "source": [
    "df.loc[:,'weight'].head()\n",
    " #df.loc[:,'weight'].mean()\n",
    "#df.loc[:,'weights'].std()"
   ]
  },
  {
   "cell_type": "code",
   "execution_count": 16,
   "metadata": {
    "collapsed": false
   },
   "outputs": [
    {
     "data": {
      "text/plain": [
       "0     0.100804\n",
       "1     0.113754\n",
       "2     0.094869\n",
       "3     0.109552\n",
       "4     0.065201\n",
       "5     0.010085\n",
       "6     0.098260\n",
       "7     0.097975\n",
       "8    -0.109508\n",
       "9     0.097922\n",
       "10   -0.054922\n",
       "11    0.120407\n",
       "12    0.095430\n",
       "13    0.002947\n",
       "14    0.098004\n",
       "15    0.097956\n",
       "16   -0.107679\n",
       "17   -0.022670\n",
       "18    0.096561\n",
       "19    0.098843\n",
       "20    0.097019\n",
       "21    0.107018\n",
       "22    0.096795\n",
       "23    0.096248\n",
       "24    0.115487\n",
       "25    0.102407\n",
       "26   -0.094920\n",
       "27    0.098327\n",
       "28   -0.100929\n",
       "29   -0.107066\n",
       "30    0.097541\n",
       "31    0.099400\n",
       "32    0.107205\n",
       "33    0.104136\n",
       "34   -0.108962\n",
       "35    0.108209\n",
       "36    0.100036\n",
       "37    0.097008\n",
       "38    0.099112\n",
       "39    0.099968\n",
       "Name: weight, dtype: float32"
      ]
     },
     "execution_count": 16,
     "metadata": {},
     "output_type": "execute_result"
    }
   ],
   "source": [
    "df.loc[:,\"weight\"].head(40)"
   ]
  },
  {
   "cell_type": "code",
   "execution_count": 17,
   "metadata": {
    "collapsed": false
   },
   "outputs": [
    {
     "data": {
      "text/plain": [
       "0     0.100804\n",
       "1     0.113754\n",
       "2     0.094869\n",
       "3     0.109552\n",
       "4     0.065201\n",
       "5     0.010085\n",
       "6     0.098260\n",
       "7     0.097975\n",
       "8     0.109508\n",
       "9     0.097922\n",
       "10    0.054922\n",
       "11    0.120407\n",
       "12    0.095430\n",
       "13    0.002947\n",
       "14    0.098004\n",
       "15    0.097956\n",
       "16    0.107679\n",
       "17    0.022670\n",
       "18    0.096561\n",
       "19    0.098843\n",
       "20    0.097019\n",
       "21    0.107018\n",
       "22    0.096795\n",
       "23    0.096248\n",
       "24    0.115487\n",
       "25    0.102407\n",
       "26    0.094920\n",
       "27    0.098327\n",
       "28    0.100929\n",
       "29    0.107066\n",
       "30    0.097541\n",
       "31    0.099400\n",
       "32    0.107205\n",
       "33    0.104136\n",
       "34    0.108962\n",
       "35    0.108209\n",
       "36    0.100036\n",
       "37    0.097008\n",
       "38    0.099112\n",
       "39    0.099968\n",
       "Name: weight, dtype: float32"
      ]
     },
     "execution_count": 17,
     "metadata": {},
     "output_type": "execute_result"
    }
   ],
   "source": [
    "df.loc[:,\"weight\"].abs().head(40)"
   ]
  },
  {
   "cell_type": "code",
   "execution_count": 64,
   "metadata": {
    "collapsed": false
   },
   "outputs": [],
   "source": [
    " w = df.query(\"weight<0\").loc[:,\"weight\"].index"
   ]
  },
  {
   "cell_type": "code",
   "execution_count": 83,
   "metadata": {
    "collapsed": false
   },
   "outputs": [],
   "source": [
    "df.loc[df.query(\"weight<0\").index,\"weight\"]=0"
   ]
  },
  {
   "cell_type": "code",
   "execution_count": 84,
   "metadata": {
    "collapsed": false
   },
   "outputs": [
    {
     "data": {
      "text/plain": [
       "0          0.100804\n",
       "1          0.113754\n",
       "2          0.094869\n",
       "3          0.109552\n",
       "4          0.065201\n",
       "5          0.010085\n",
       "6          0.098260\n",
       "7          0.097975\n",
       "8          0.092551\n",
       "9          0.097922\n",
       "10         0.092551\n",
       "11         0.120407\n",
       "12         0.095430\n",
       "13         0.002947\n",
       "14         0.098004\n",
       "15         0.097956\n",
       "16         0.092551\n",
       "17         0.092551\n",
       "18         0.096561\n",
       "19         0.098843\n",
       "20         0.097019\n",
       "21         0.107018\n",
       "22         0.096795\n",
       "23         0.096248\n",
       "24         0.115487\n",
       "25         0.102407\n",
       "26         0.092551\n",
       "27         0.098327\n",
       "28         0.092551\n",
       "29         0.092551\n",
       "             ...   \n",
       "1957467    0.097177\n",
       "1957468    0.081735\n",
       "1957469    0.095388\n",
       "1957470    0.098784\n",
       "1957471    0.098761\n",
       "1957472    0.092551\n",
       "1957473    0.092551\n",
       "1957474    0.094222\n",
       "1957475    0.096001\n",
       "1957476    0.109520\n",
       "1957477    0.095631\n",
       "1957478    0.117350\n",
       "1957479    0.092551\n",
       "1957480    0.092551\n",
       "1957481    0.110315\n",
       "1957482    0.101290\n",
       "1957483    0.093998\n",
       "1957484    0.105483\n",
       "1957485    0.099467\n",
       "1957486    0.094406\n",
       "1957487    0.108074\n",
       "1957488    0.100226\n",
       "1957489    0.098079\n",
       "1957490    0.099333\n",
       "1957491    0.075944\n",
       "1957492    0.104783\n",
       "1957493    0.098215\n",
       "1957494    0.016767\n",
       "1957495    0.111218\n",
       "1957496    0.096226\n",
       "Name: weight, dtype: float32"
      ]
     },
     "execution_count": 84,
     "metadata": {},
     "output_type": "execute_result"
    }
   ],
   "source": [
    "df.loc[:,\"weight\"]"
   ]
  },
  {
   "cell_type": "code",
   "execution_count": null,
   "metadata": {
    "collapsed": true
   },
   "outputs": [],
   "source": []
  }
 ],
 "metadata": {
  "anaconda-cloud": {},
  "kernelspec": {
   "display_name": "Python [conda root]",
   "language": "python",
   "name": "conda-root-py"
  },
  "language_info": {
   "codemirror_mode": {
    "name": "ipython",
    "version": 2
   },
   "file_extension": ".py",
   "mimetype": "text/x-python",
   "name": "python",
   "nbconvert_exporter": "python",
   "pygments_lexer": "ipython2",
   "version": "2.7.12"
  }
 },
 "nbformat": 4,
 "nbformat_minor": 1
}
