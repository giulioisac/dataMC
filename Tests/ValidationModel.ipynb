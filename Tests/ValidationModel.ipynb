{
 "cells": [
  {
   "cell_type": "code",
   "execution_count": 1,
   "metadata": {
    "collapsed": false
   },
   "outputs": [
    {
     "data": {
      "application/javascript": [
       "require(['codemirror/mode/clike/clike'], function(Clike) { console.log('ROOTaaS - C++ CodeMirror module loaded'); });"
      ]
     },
     "metadata": {},
     "output_type": "display_data"
    },
    {
     "data": {
      "application/javascript": [
       "IPython.CodeCell.config_defaults.highlight_modes['magic_text/x-c++src'] = {'reg':[/^%%cpp/]};"
      ]
     },
     "metadata": {},
     "output_type": "display_data"
    },
    {
     "name": "stdout",
     "output_type": "stream",
     "text": [
      "Welcome to ROOTaaS 6.06/08\n"
     ]
    }
   ],
   "source": [
    "from quantileRegression import quantileRegression\n",
    "import numpy as np\n",
    "import runNumbers as rn\n"
   ]
  },
  {
   "cell_type": "code",
   "execution_count": 2,
   "metadata": {
    "collapsed": true
   },
   "outputs": [],
   "source": [
    "\n",
    "#---------------------------------------------------------------------\n",
    "#Cross validation of our model and understand \n",
    "#---------------------------------------------------------------------\n"
   ]
  },
  {
   "cell_type": "code",
   "execution_count": 3,
   "metadata": {
    "collapsed": false
   },
   "outputs": [],
   "source": [
    "# Variable you want to correct\n",
    "ylist = [\"R9\"]#, \"S4\", \"SigmaIeIe\", \"EtaWidth\", \"PhiWidth\", \"CovarianceIphiIphi\", \"SigmaRR\", 'CovarianceIetaIphi', 'PhoIso03', 'ChIso03', 'ChIso03worst']\n",
    "# Input variables used for the regression\n",
    "X = ['Pt', 'ScEta', 'Phi', 'rho']  # <<-- list\n",
    "# Set the quantiles \n",
    "quantiles = [ 0.1, 0.2, 0.3, 0.4, 0.5, 0.6, 0.7, 0.8, 0.9 ]"
   ]
  },
  {
   "cell_type": "code",
   "execution_count": 6,
   "metadata": {
    "collapsed": false,
    "scrolled": false
   },
   "outputs": [
    {
     "name": "stdout",
     "output_type": "stream",
     "text": [
      "Load the mc dataframe\n",
      "Load the mc dataframe\n",
      "Loading dataframe from :  /mnt/t3nfs01/data01/shome/giulioisac/dataMC/Tests/df_mc_0-2000000.h5\n",
      "\u001b[92mSelecting events \u001b[0m  [ 0 ,  2000000 ]  out of  2000000\n",
      "number of events: 2000000\n"
     ]
    }
   ],
   "source": [
    "# Initialize the quantile regression object for mc\n",
    "qr_mc= quantileRegression(\"mc\")\n",
    "\n",
    "print \"Load the mc dataframe\"\n",
    "startEvt = 0\n",
    "stopEvt   = 2000000\n",
    "print \"Load the mc dataframe\"\n",
    "qr_mc.loadDFh5(\"/mnt/t3nfs01/data01/shome/giulioisac/dataMC/Tests/df_mc_0-2000000.h5\", startEvt, stopEvt)\n",
    "df_mc= qr_mc.getDF()"
   ]
  },
  {
   "cell_type": "code",
   "execution_count": 7,
   "metadata": {
    "collapsed": false
   },
   "outputs": [
    {
     "name": "stdout",
     "output_type": "stream",
     "text": [
      "Load the data dataframe\n",
      "Loading dataframe from :  /mnt/t3nfs01/data01/shome/giulioisac/dataMC/Tests/df_data_0-2000000.h5\n",
      "\u001b[92mSelecting events \u001b[0m  [ 0 ,  2000000 ]  out of  2000000\n",
      "number of events: 2000000\n"
     ]
    }
   ],
   "source": [
    "# just need to load the data for plotting \n",
    "qr_data = quantileRegression(\"data\")\n",
    "startEvt = 0\n",
    "stopEvt   = 2000000\n",
    "print \"Load the data dataframe\"\n",
    "qr_data.loadDFh5(\"/mnt/t3nfs01/data01/shome/giulioisac/dataMC/Tests/df_data_0-2000000.h5\", startEvt, stopEvt)\n",
    "dfdata = qr_data.getDF()"
   ]
  },
  {
   "cell_type": "code",
   "execution_count": 10,
   "metadata": {
    "collapsed": false
   },
   "outputs": [],
   "source": [
    "# quantile regressions features\n",
    "X = df_mc.loc[:,['Pt', 'ScEta', 'Phi', 'rho']]\n",
    "# target\n",
    "Y = df_mc[\"R9\"]\n",
    "#event weight\n",
    "w = df_mc['weight']"
   ]
  },
  {
   "cell_type": "code",
   "execution_count": null,
   "metadata": {
    "collapsed": false
   },
   "outputs": [],
   "source": [
    "from sklearn.model_selection import KFold, cross_val_score\n",
    "from sklearn.ensemble import GradientBoostingRegressor\n",
    "alpha= 0.5\n",
    "maxDepth=3\n",
    "minLeaf=9\n",
    "clf = GradientBoostingRegressor(loss='quantile', alpha=alpha,\n",
    "                                      n_estimators=250, max_depth=maxDepth,\n",
    "                                      learning_rate=.1, min_samples_leaf=minLeaf,\n",
    "                                      min_samples_split=minLeaf)\n",
    "k_fold = KFold(n_splits=3)\n",
    "cross_val_score(clf, X, Y, cv=k_fold, n_jobs=-1)\n",
    "\n",
    "#t0 = time.time()\n",
    "#if (useWeights) :\n",
    "#    clf.fit(X, Y, w)\n",
    "#else:\n",
    "#    clf.fit(X, Y)         \n",
    "#t1 = time.time()"
   ]
  },
  {
   "cell_type": "code",
   "execution_count": null,
   "metadata": {
    "collapsed": true
   },
   "outputs": [],
   "source": []
  }
 ],
 "metadata": {
  "anaconda-cloud": {},
  "kernelspec": {
   "display_name": "Python [default]",
   "language": "python",
   "name": "python2"
  },
  "language_info": {
   "codemirror_mode": {
    "name": "ipython",
    "version": 2
   },
   "file_extension": ".py",
   "mimetype": "text/x-python",
   "name": "python",
   "nbconvert_exporter": "python",
   "pygments_lexer": "ipython2",
   "version": "2.7.12"
  }
 },
 "nbformat": 4,
 "nbformat_minor": 0
}
