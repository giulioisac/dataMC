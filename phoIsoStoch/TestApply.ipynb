{
 "cells": [
  {
   "cell_type": "code",
   "execution_count": 1,
   "metadata": {
    "collapsed": false
   },
   "outputs": [
    {
     "data": {
      "application/javascript": [
       "require(['codemirror/mode/clike/clike'], function(Clike) { console.log('ROOTaaS - C++ CodeMirror module loaded'); });"
      ]
     },
     "metadata": {},
     "output_type": "display_data"
    },
    {
     "data": {
      "application/javascript": [
       "IPython.CodeCell.config_defaults.highlight_modes['magic_text/x-c++src'] = {'reg':[/^%%cpp/]};"
      ]
     },
     "metadata": {},
     "output_type": "display_data"
    },
    {
     "name": "stdout",
     "output_type": "stream",
     "text": [
      "Welcome to ROOTaaS 6.06/08\n"
     ]
    }
   ],
   "source": [
    "import ROOT as RT"
   ]
  },
  {
   "cell_type": "code",
   "execution_count": 2,
   "metadata": {
    "collapsed": false
   },
   "outputs": [
    {
     "data": {
      "text/plain": [
       "0"
      ]
     },
     "execution_count": 2,
     "metadata": {},
     "output_type": "execute_result"
    },
    {
     "name": "stderr",
     "output_type": "stream",
     "text": [
      "Info in <TUnixSystem::ACLiC>: creating shared library /mnt/t3nfs01/data01/shome/musella/Analysis/jupyter/dataMC/phoIsoStoch/./IsolationCorrection_C.so\r\n"
     ]
    }
   ],
   "source": [
    "RT.gROOT.LoadMacro(\"IsolationCorrection.C++\")"
   ]
  },
  {
   "cell_type": "code",
   "execution_count": 3,
   "metadata": {
    "collapsed": false
   },
   "outputs": [],
   "source": [
    "isoCorr = RT.IsolationCorrection(\"corrections.root\")"
   ]
  },
  {
   "cell_type": "code",
   "execution_count": 4,
   "metadata": {
    "collapsed": false
   },
   "outputs": [],
   "source": [
    "#RT.getIsoCorrection(\"corrections.root\")"
   ]
  },
  {
   "cell_type": "code",
   "execution_count": 5,
   "metadata": {
    "collapsed": false
   },
   "outputs": [
    {
     "data": {
      "text/plain": [
       "288L"
      ]
     },
     "execution_count": 5,
     "metadata": {},
     "output_type": "execute_result"
    }
   ],
   "source": [
    "isoCorr.histograms_.size()"
   ]
  },
  {
   "cell_type": "code",
   "execution_count": 6,
   "metadata": {
    "collapsed": false
   },
   "outputs": [
    {
     "name": "stdout",
     "output_type": "stream",
     "text": [
      "1 1 1\r\n",
      "1 1 0.999742 1\r\n",
      "1 1 1\r\n",
      "1 1 0.282618 1\r\n",
      "1 1 1\r\n",
      "1 1 0.231657 1\r\n",
      "1 1 1\r\n",
      "1 1 0.957477 1\r\n",
      "1 1 1\r\n",
      "1 1 0.540044 1\r\n",
      "1 1 1\r\n",
      "1 1 0.759944 1\r\n",
      "1 1 1\r\n",
      "1 1 0.315638 1\r\n",
      "1 1 1\r\n",
      "1 1 0.519672 1\r\n",
      "1 1 1\r\n",
      "1 1 0.47553 1\r\n",
      "1 1 1\r\n",
      "1 1 0.221668 1\r\n",
      "1 1 1\r\n",
      "1 1 0.0303352 1\r\n",
      "1 1 1\r\n",
      "1 1 0.194149 1\r\n",
      "1 1 1\r\n",
      "1 1 0.579932 1\r\n",
      "1 1 1\r\n",
      "1 1 0.665564 1\r\n",
      "1 1 1\r\n",
      "1 1 0.560628 1\r\n",
      "1 1 1\r\n",
      "1 1 0.296526 1\r\n",
      "1 1 1\r\n",
      "1 1 0.0629177 1\r\n",
      "1 1 1\r\n",
      "1 1 0.725419 1\r\n",
      "1 1 1\r\n",
      "1 1 0.713885 1\r\n",
      "1 1 1\r\n",
      "1 1 0.699267 1\r\n",
      "1 1 1\r\n",
      "1 1 0.129243 1\r\n",
      "1 1 1\r\n",
      "1 1 0.20778 1\r\n",
      "1 1 1\r\n",
      "1 1 0.0831748 1\r\n",
      "1 1 1\r\n",
      "1 1 0.547371 1\r\n",
      "1 1 1\r\n",
      "1 1 0.292141 1\r\n",
      "1 1 1\r\n",
      "1 1 0.227118 1\r\n",
      "1 1 1\r\n",
      "1 1 0.140733 1\r\n",
      "1 1 1\r\n",
      "1 1 0.686947 1\r\n",
      "1 1 1\r\n",
      "1 1 0.440821 1\r\n",
      "1 1 1\r\n",
      "1 1 0.311296 1\r\n",
      "1 1 1\r\n",
      "1 1 0.182411 1\r\n",
      "1 1 1\r\n",
      "1 1 0.740788 1\r\n",
      "1 1 1\r\n",
      "1 1 0.160809 1\r\n",
      "1 1 1\r\n",
      "1 1 0.627836 1\r\n",
      "1 1 1\r\n",
      "1 1 0.698197 1\r\n",
      "1 1 1\r\n",
      "1 1 0.0901076 1\r\n",
      "1 1 1\r\n",
      "1 1 0.0952138 1\r\n",
      "1 1 1\r\n",
      "1 1 0.474673 1\r\n",
      "1 1 1\r\n",
      "1 1 0.777537 1\r\n",
      "1 1 1\r\n",
      "1 1 0.980437 1\r\n",
      "1 1 1\r\n",
      "1 1 0.830813 1\r\n",
      "1 1 1\r\n",
      "1 1 0.744085 1\r\n",
      "1 1 1\r\n",
      "1 1 0.391104 1\r\n",
      "1 1 1\r\n",
      "1 1 0.346699 1\r\n",
      "1 1 1\r\n",
      "1 1 0.613066 1\r\n",
      "1 1 1\r\n",
      "1 1 0.498894 1\r\n",
      "1 1 1\r\n",
      "1 1 0.144551 1\r\n",
      "1 1 1\r\n",
      "1 1 0.310787 1\r\n",
      "1 1 1\r\n",
      "1 1 0.24207 1\r\n",
      "1 1 1\r\n",
      "1 1 0.440129 1\r\n",
      "1 1 1\r\n",
      "1 1 0.644575 1\r\n",
      "1 1 1\r\n",
      "1 1 0.555968 1\r\n",
      "1 1 1\r\n",
      "1 1 0.642363 1\r\n",
      "1 1 1\r\n",
      "1 1 0.0961581 1\r\n",
      "1 1 1\r\n",
      "1 1 0.0569974 1\r\n",
      "1 1 1\r\n",
      "1 1 0.125539 1\r\n",
      "1 1 1\r\n",
      "1 1 0.180567 1\r\n",
      "1 1 1\r\n",
      "1 1 0.66443 1\r\n",
      "1 1 1\r\n",
      "1 1 0.191002 1\r\n",
      "1 1 1\r\n",
      "1 1 0.964459 1\r\n",
      "1 1 1\r\n",
      "1 1 0.13088 1\r\n",
      "1 1 1\r\n",
      "1 1 0.374654 1\r\n",
      "1 1 1\r\n",
      "1 1 0.178657 1\r\n",
      "1 1 1\r\n",
      "1 1 0.622874 1\r\n",
      "1 1 1\r\n",
      "1 1 0.440715 1\r\n",
      "1 1 1\r\n",
      "1 1 0.994845 1\r\n",
      "1 1 1\r\n",
      "1 1 0.255905 1\r\n",
      "1 1 1\r\n",
      "1 1 0.57591 1\r\n",
      "1 1 1\r\n",
      "1 1 0.191593 1\r\n",
      "1 1 1\r\n",
      "1 1 0.149267 1\r\n",
      "1 1 1\r\n",
      "1 1 0.121762 1\r\n",
      "1 1 1\r\n",
      "1 1 0.0277951 1\r\n",
      "1 1 1\r\n",
      "1 1 0.827913 1\r\n",
      "1 1 1\r\n",
      "1 1 0.610204 1\r\n",
      "1 1 1\r\n",
      "1 1 0.410821 1\r\n",
      "1 1 1\r\n",
      "1 1 0.847127 1\r\n",
      "1 1 1\r\n",
      "1 1 0.0813827 1\r\n",
      "1 1 1\r\n",
      "1 1 0.479199 1\r\n",
      "1 1 1\r\n",
      "1 1 0.471978 1\r\n",
      "1 1 1\r\n",
      "1 1 0.980801 1\r\n",
      "1 1 1\r\n",
      "1 1 0.202668 1\r\n",
      "1 1 1\r\n",
      "1 1 0.653544 1\r\n",
      "1 1 1\r\n",
      "1 1 0.609936 1\r\n",
      "1 1 1\r\n",
      "1 1 0.766255 1\r\n",
      "1 1 1\r\n",
      "1 1 0.241139 1\r\n",
      "1 1 1\r\n",
      "1 1 0.96087 1\r\n",
      "1 1 1\r\n",
      "1 1 0.336058 1\r\n",
      "1 1 1\r\n",
      "1 1 0.868841 1\r\n",
      "1 1 1\r\n",
      "1 1 0.165846 1\r\n",
      "1 1 1\r\n",
      "1 1 0.606455 1\r\n",
      "1 1 1\r\n",
      "1 1 0.613825 1\r\n",
      "1 1 1\r\n",
      "1 1 0.497098 1\r\n",
      "1 1 1\r\n",
      "1 1 0.461608 1\r\n",
      "1 1 1\r\n",
      "1 1 0.57996 1\r\n",
      "1 1 1\r\n",
      "1 1 0.953921 1\r\n",
      "1 1 1\r\n",
      "1 1 0.28011 1\r\n",
      "1 1 1\r\n",
      "1 1 0.299333 1\r\n",
      "1 1 1\r\n",
      "1 1 0.300952 1\r\n",
      "1 1 1\r\n",
      "1 1 0.848127 1\r\n",
      "1 1 1\r\n",
      "1 1 0.538244 1\r\n"
     ]
    },
    {
     "data": {
      "image/png": "[encoded data removed]",
      "text/plain": [
       "<matplotlib.figure.Figure at 0x7f604d514c50>"
      ]
     },
     "metadata": {},
     "output_type": "display_data"
    }
   ],
   "source": [
    "import numpy as np \n",
    "import matplotlib.pyplot as plt \n",
    "%matplotlib inline\n",
    "\n",
    "plt.hist(np.array(map(lambda x: isoCorr.getExtra(1.,100.,1), xrange(100))),100);"
   ]
  },
  {
   "cell_type": "code",
   "execution_count": null,
   "metadata": {
    "collapsed": true
   },
   "outputs": [],
   "source": []
  },
  {
   "cell_type": "code",
   "execution_count": null,
   "metadata": {
    "collapsed": true
   },
   "outputs": [],
   "source": []
  }
 ],
 "metadata": {
  "kernelspec": {
   "display_name": "Python 2",
   "language": "python",
   "name": "python2"
  },
  "language_info": {
   "codemirror_mode": {
    "name": "ipython",
    "version": 2
   },
   "file_extension": ".py",
   "mimetype": "text/x-python",
   "name": "python",
   "nbconvert_exporter": "python",
   "pygments_lexer": "ipython2",
   "version": "2.7.12"
  }
 },
 "nbformat": 4,
 "nbformat_minor": 1
}
